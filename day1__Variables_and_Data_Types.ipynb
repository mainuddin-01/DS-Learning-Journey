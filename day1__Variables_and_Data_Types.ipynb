{
  "nbformat": 4,
  "nbformat_minor": 0,
  "metadata": {
    "colab": {
      "provenance": []
    },
    "kernelspec": {
      "name": "python3",
      "display_name": "Python 3"
    },
    "language_info": {
      "name": "python"
    }
  },
  "cells": [
    {
      "cell_type": "markdown",
      "source": [
        "# Day 1: Variables and Data Types"
      ],
      "metadata": {
        "id": "GtqjhCe-uHOV"
      }
    },
    {
      "cell_type": "markdown",
      "source": [
        "# Variables:\n",
        "- A variable is like a container or name tag that stores a value.\n",
        "\n",
        "📦 Example:\n",
        "If you have a box labeled fruit = \"apple\" —\n",
        "The box is the variable, and the value inside is \"apple\"."
      ],
      "metadata": {
        "id": "v88gtfOxHkeu"
      }
    },
    {
      "cell_type": "markdown",
      "source": [
        "# 🤔 Why Do We Use Variables?\n",
        "We use variables to:\n",
        "\n",
        "Store values (like numbers, text, etc.)\n",
        "\n",
        "Use them again later in the program\n",
        "\n",
        "Make our code easier to read and update"
      ],
      "metadata": {
        "id": "GEx_iFmQIwlI"
      }
    },
    {
      "cell_type": "code",
      "execution_count": null,
      "metadata": {
        "id": "avyl6-fVtj0l",
        "colab": {
          "base_uri": "https://localhost:8080/"
        },
        "outputId": "4c7238bb-d63d-4f79-bbf2-becb70b4bf28"
      },
      "outputs": [
        {
          "output_type": "stream",
          "name": "stdout",
          "text": [
            "30\n"
          ]
        }
      ],
      "source": [
        "#Without Variables:\n",
        "print(10+20)"
      ]
    },
    {
      "cell_type": "code",
      "source": [
        "#With Variables:\n",
        "a=10\n",
        "b=20\n",
        "print(a+b)"
      ],
      "metadata": {
        "id": "7xrNElBKuwYj",
        "colab": {
          "base_uri": "https://localhost:8080/"
        },
        "outputId": "426199f1-24b7-4343-818e-41a75a087f4e"
      },
      "execution_count": null,
      "outputs": [
        {
          "output_type": "stream",
          "name": "stdout",
          "text": [
            "30\n"
          ]
        }
      ]
    },
    {
      "cell_type": "markdown",
      "source": [
        "# 🛠️ How to Use Variables in Python?\n",
        "Very simple!\n",
        "Just write the variable name, then =, then the value.\n",
        "# ✨Syntax:\n",
        "variable_name= value"
      ],
      "metadata": {
        "id": "VlF8qAQnJg0l"
      }
    },
    {
      "cell_type": "code",
      "source": [
        "# Store a number\n",
        "age=23\n",
        "\n",
        "# Store a text\n",
        "name=\"Mainuddin\"\n",
        "\n",
        "# Store result of calculation\n",
        "total=3+10+2+3\n",
        "\n",
        "# Print Values\n",
        "print(age)\n",
        "print(name)\n",
        "print(total)"
      ],
      "metadata": {
        "colab": {
          "base_uri": "https://localhost:8080/"
        },
        "id": "yBzLGP4SJLxm",
        "outputId": "0283343f-5eea-4133-d028-395038afd5e8"
      },
      "execution_count": null,
      "outputs": [
        {
          "output_type": "stream",
          "name": "stdout",
          "text": [
            "23\n",
            "Mainuddin\n",
            "18\n"
          ]
        }
      ]
    },
    {
      "cell_type": "markdown",
      "source": [
        "# 📌 Rules for Variable Names\n",
        "Start with a letter or underscore (_)\n",
        "\n",
        "Can have letters, numbers, underscores\n",
        "\n",
        "No spaces (use _ if needed)\n",
        "\n",
        "Don’t use Python keywords like if, print, while\n"
      ],
      "metadata": {
        "id": "1nCTBY4PK5Y2"
      }
    },
    {
      "cell_type": "markdown",
      "source": [
        "# 🎯 Mini Task for You\n",
        "Can you create a variable to store your:\n",
        "\n",
        "Name?\n",
        "\n",
        "Age?\n",
        "\n",
        "Favorite color?"
      ],
      "metadata": {
        "id": "yXQxg97JLEjs"
      }
    },
    {
      "cell_type": "code",
      "source": [
        "# Name\n",
        "my_name=\"Mainuddin\"\n",
        "\n",
        "# Age?\n",
        "my_age=23\n",
        "\n",
        "# Favorite color?\n",
        "favorite_color=\"Light-Green\"\n",
        "\n",
        "# Print\n",
        "print(my_name)\n",
        "print(my_age)\n",
        "print(favorite_color)"
      ],
      "metadata": {
        "colab": {
          "base_uri": "https://localhost:8080/"
        },
        "id": "0ajHxP5AK1sZ",
        "outputId": "435fc82c-0c37-416d-cbb7-ed7bd8c74b5f"
      },
      "execution_count": null,
      "outputs": [
        {
          "output_type": "stream",
          "name": "stdout",
          "text": [
            "Mainuddin\n",
            "23\n",
            "Light-Green\n"
          ]
        }
      ]
    },
    {
      "cell_type": "code",
      "source": [],
      "metadata": {
        "id": "i0gIs2RmLlgD"
      },
      "execution_count": null,
      "outputs": []
    },
    {
      "cell_type": "markdown",
      "source": [
        "# Data Types:\n"
      ],
      "metadata": {
        "id": "k-IT5Z57MJg0"
      }
    },
    {
      "cell_type": "markdown",
      "source": [
        "# 🧠 What are Data Types in Python?\n",
        "Data types tell Python what kind of data a variable holds.\n",
        "\n",
        "📦 Think of it like different types of containers:\n",
        "\n",
        "Water bottle (holds liquid = float)\n",
        "\n",
        "Box of pens (holds objects = list)\n",
        "\n",
        "Jar with label = \"Hello\" (text = string)"
      ],
      "metadata": {
        "id": "4VOjtUGPMcB0"
      }
    },
    {
      "cell_type": "markdown",
      "source": [
        "# 🤔 Why Are Data Types Important?\n",
        "We need data types to:\n",
        "\n",
        "Use data correctly (e.g., add numbers, not mix with text)\n",
        "\n",
        "Avoid errors (like trying to multiply text with text)\n",
        "\n",
        "Help Python understand what to do with the data"
      ],
      "metadata": {
        "id": "nVV8F0v9M3_i"
      }
    },
    {
      "cell_type": "code",
      "source": [
        "a=\"5\"\n",
        "b=5\n",
        "print(a+b)  #TypeError: can only concatenate str (not \"int\") to str"
      ],
      "metadata": {
        "colab": {
          "base_uri": "https://localhost:8080/",
          "height": 176
        },
        "id": "wVB9t_OEMbG8",
        "outputId": "b882c3d2-5067-442c-f53e-714db7c1788b"
      },
      "execution_count": null,
      "outputs": [
        {
          "output_type": "error",
          "ename": "TypeError",
          "evalue": "can only concatenate str (not \"int\") to str",
          "traceback": [
            "\u001b[0;31m---------------------------------------------------------------------------\u001b[0m",
            "\u001b[0;31mTypeError\u001b[0m                                 Traceback (most recent call last)",
            "\u001b[0;32m/tmp/ipython-input-326833354.py\u001b[0m in \u001b[0;36m<cell line: 0>\u001b[0;34m()\u001b[0m\n\u001b[1;32m      1\u001b[0m \u001b[0ma\u001b[0m\u001b[0;34m=\u001b[0m\u001b[0;34m\"5\"\u001b[0m\u001b[0;34m\u001b[0m\u001b[0;34m\u001b[0m\u001b[0m\n\u001b[1;32m      2\u001b[0m \u001b[0mb\u001b[0m\u001b[0;34m=\u001b[0m\u001b[0;36m5\u001b[0m\u001b[0;34m\u001b[0m\u001b[0;34m\u001b[0m\u001b[0m\n\u001b[0;32m----> 3\u001b[0;31m \u001b[0mprint\u001b[0m\u001b[0;34m(\u001b[0m\u001b[0ma\u001b[0m\u001b[0;34m+\u001b[0m\u001b[0mb\u001b[0m\u001b[0;34m)\u001b[0m\u001b[0;34m\u001b[0m\u001b[0;34m\u001b[0m\u001b[0m\n\u001b[0m",
            "\u001b[0;31mTypeError\u001b[0m: can only concatenate str (not \"int\") to str"
          ]
        }
      ]
    },
    {
      "cell_type": "markdown",
      "source": [
        "# 🛠️ How to Use Data Types in Python?\n",
        "Python figures out the data type automatically when you assign a value.\n",
        "\n",
        "🔹 Common Python Data Types:\n",
        "Data Type\t  Used For\t              Example\n",
        "int\t        Whole numbers\t          age = 20\n",
        "float\t      Decimal numbers\t        price = 99.99\n",
        "str\t        Text (string)\t          name = \"Momin\"\n",
        "bool\t      True/False values\t      is_online = True\n",
        "list\t      Collection of items\t    fruits = [\"apple\", \"banana\"]\n",
        "tuple\t      Fixed collection\t      coordinates = (10, 20)\n",
        "dict\t      Key-value pairs\t        student = {\"name\": \"Momin\", \"age\": 20}\n",
        "set\t        Unique unordered items\tcolors = {\"red\", \"green\"}\n",
        "\n",
        "#Double-Click to understand better"
      ],
      "metadata": {
        "id": "F55wwGiuNStA"
      }
    },
    {
      "cell_type": "code",
      "source": [
        "# Integer\n",
        "x = 10           # int\n",
        "\n",
        "# Float\n",
        "pi = 3.14        # float\n",
        "\n",
        "# String\n",
        "name = \"Sara\"    # str\n",
        "\n",
        "# Boolean\n",
        "is_happy = True  # bool\n",
        "\n",
        "# List\n",
        "colors = [\"red\", \"blue\"]  # list\n",
        "\n",
        "# Tuple\n",
        "location = (12, 45)        # tuple\n",
        "\n",
        "# Dictionary\n",
        "person = {\"name\": \"Ali\", \"age\": 21}  # dict\n",
        "\n",
        "# Set\n",
        "unique_numbers = {1, 2, 3}  # set\n"
      ],
      "metadata": {
        "id": "glwdgl4gNE0U"
      },
      "execution_count": null,
      "outputs": []
    },
    {
      "cell_type": "markdown",
      "source": [
        "# 🔍 Bonus: How to Check a Variable’s Type\n"
      ],
      "metadata": {
        "id": "4qq5OG46OR6i"
      }
    },
    {
      "cell_type": "code",
      "source": [
        "# Use the type() function:\n",
        "a=10\n",
        "print(type(a))"
      ],
      "metadata": {
        "colab": {
          "base_uri": "https://localhost:8080/"
        },
        "id": "6hIusV4SOUm1",
        "outputId": "902755e2-da4d-4ead-ab37-1425d4e3d06f"
      },
      "execution_count": null,
      "outputs": [
        {
          "output_type": "stream",
          "name": "stdout",
          "text": [
            "<class 'int'>\n"
          ]
        }
      ]
    },
    {
      "cell_type": "markdown",
      "source": [
        "# 🎯 Practice Task for You\n",
        "Can you create:\n",
        "\n",
        "An int variable for your age?\n",
        "\n",
        "A float for your height?\n",
        "\n",
        "A str for your city name?\n",
        "\n",
        "A list of 3 favorite foods?\n",
        "\n"
      ],
      "metadata": {
        "id": "2kGoHn6JOjWU"
      }
    },
    {
      "cell_type": "code",
      "source": [
        "#An int variable for your age?\n",
        "age = 23    #int\n",
        "\n",
        "# A float for your height?\n",
        "height= 5.65    #float\n",
        "\n",
        "# A str for your city name?\n",
        "city_name=\"Kerala\"\n",
        "\n",
        "# A list of 3 favorite foods?\n",
        "favorite_foods=[\"Aloo-Matar\",\"Biryani\",\"Chinese\"]\n"
      ],
      "metadata": {
        "id": "WLnLnRzlOflC"
      },
      "execution_count": null,
      "outputs": []
    },
    {
      "cell_type": "markdown",
      "source": [
        "#  🧩 2. Solve 5 Beginner-Level Problems"
      ],
      "metadata": {
        "id": "Od5gLrSYehYU"
      }
    },
    {
      "cell_type": "code",
      "source": [
        "#🐍 Problem 1: Declare and print variables\n",
        "name=\"Momin\"\n",
        "age= 23\n",
        "print(\"Name: \",name)\n",
        "print(\"Age: \",age)\n"
      ],
      "metadata": {
        "id": "2ygkREUPPO7P",
        "colab": {
          "base_uri": "https://localhost:8080/"
        },
        "outputId": "3175bf1c-c2c0-4f84-c23d-541e36f2463d"
      },
      "execution_count": 1,
      "outputs": [
        {
          "output_type": "stream",
          "name": "stdout",
          "text": [
            "Name:  Momin\n",
            "Age:  23\n"
          ]
        }
      ]
    },
    {
      "cell_type": "code",
      "source": [
        "#🐍 Problem 2: Identify data types\n",
        "a = 10\n",
        "b = 3.14\n",
        "c = \"Python\"\n",
        "d = True\n",
        "\n",
        "# Print types of each variables:\n",
        "print(type(a))\n",
        "print(type(b))\n",
        "print(type(c))\n",
        "print(type(d))"
      ],
      "metadata": {
        "colab": {
          "base_uri": "https://localhost:8080/"
        },
        "id": "8HqDAzUBeyB9",
        "outputId": "85f6dcc9-c45d-49e9-b84e-0da91fb18d96"
      },
      "execution_count": 2,
      "outputs": [
        {
          "output_type": "stream",
          "name": "stdout",
          "text": [
            "<class 'int'>\n",
            "<class 'float'>\n",
            "<class 'str'>\n",
            "<class 'bool'>\n"
          ]
        }
      ]
    },
    {
      "cell_type": "code",
      "source": [
        "#🐍 Problem 3: Type casting\n",
        "x=\"100\"\n",
        "y=int(x)\n",
        "\n",
        "print(x, type(x))   #string\n",
        "print(y, type(y))   #int"
      ],
      "metadata": {
        "colab": {
          "base_uri": "https://localhost:8080/"
        },
        "id": "yGqXIx5-fDTr",
        "outputId": "bcbb40e3-cd77-4e05-c3f2-f873ed35556b"
      },
      "execution_count": 4,
      "outputs": [
        {
          "output_type": "stream",
          "name": "stdout",
          "text": [
            "100 <class 'str'>\n",
            "100 <class 'int'>\n"
          ]
        }
      ]
    },
    {
      "cell_type": "code",
      "source": [
        "#🐍 Problem 4: Swap two variables\n",
        "a=10\n",
        "b=20\n",
        "\n",
        "a,b = b,a   # Pythonic way to swap variable\n",
        "\n",
        "print(\"Value of a: \",a)\n",
        "print(\"Value of b: \",b)"
      ],
      "metadata": {
        "colab": {
          "base_uri": "https://localhost:8080/"
        },
        "id": "dCs1py-SfZzh",
        "outputId": "fa68f22c-1ea6-400a-9ad7-ea86ee911242"
      },
      "execution_count": 6,
      "outputs": [
        {
          "output_type": "stream",
          "name": "stdout",
          "text": [
            "Value of a:  20\n",
            "Value of b:  10\n"
          ]
        }
      ]
    },
    {
      "cell_type": "code",
      "source": [
        "#🐍 Problem 5: Create and print a dictionary\n",
        "\n",
        "student= {\n",
        "    \"name\" : \"Momin\",\n",
        "    \"age\" : 23,\n",
        "    \"city\" : \"Kashmir\",\n",
        "    \"course\" : \"Data-Science\",\n",
        "    \"is_online\" : True\n",
        "}\n",
        "#When creating a dictionary, the keys should typically be strings (enclosed in quotes) or other immutable data types, not undefined variables.\n",
        "\n",
        "print(student)\n",
        "print(type(student))\n",
        "print(student[\"name\"])\n",
        "print(student[\"age\"])\n",
        "print(student[\"city\"])\n",
        "print(student[\"course\"])\n",
        "print(student[\"is_online\"])"
      ],
      "metadata": {
        "colab": {
          "base_uri": "https://localhost:8080/"
        },
        "id": "xIMwtxKtf3pH",
        "outputId": "a73d59e6-3b20-497d-f104-a68fb1a94748"
      },
      "execution_count": 11,
      "outputs": [
        {
          "output_type": "stream",
          "name": "stdout",
          "text": [
            "{'name': 'Momin', 'age': 23, 'city': 'Kashmir', 'course': 'Data-Science', 'is_online': True}\n",
            "<class 'dict'>\n",
            "Momin\n",
            "23\n",
            "Kashmir\n",
            "Data-Science\n",
            "True\n"
          ]
        }
      ]
    },
    {
      "cell_type": "markdown",
      "source": [
        "# 🧩 3. Solve 3 Intermediate-Level Problems"
      ],
      "metadata": {
        "id": "j0ktx_yHiNn4"
      }
    },
    {
      "cell_type": "code",
      "source": [
        "#🧠 Problem 1: Count data types in a list\n",
        "\n",
        "mixed_list = [1, \"hello\", 3.5, True, \"world\", False]\n",
        "\n",
        "int_count=float_count= str_count= bool_count=0\n",
        "\n",
        "for item in mixed_list:\n",
        "  if type(item) == int:\n",
        "    int_count+=1\n",
        "  elif type(item) == float:\n",
        "    float_count+=1\n",
        "  elif type(item) == str:\n",
        "    str_count+=1\n",
        "  elif type(item) == bool:\n",
        "    bool_count+=1\n",
        "\n",
        "print(\"Integers: \",int_count)\n",
        "print(\"Floats: \",float_count)\n",
        "print(\"Strings: \",str_count)\n",
        "print(\"Booleans: \",bool_count)"
      ],
      "metadata": {
        "colab": {
          "base_uri": "https://localhost:8080/"
        },
        "id": "vHYv1FEVgwlL",
        "outputId": "ffbf147e-d5a3-49a8-f88e-73907703b202"
      },
      "execution_count": 12,
      "outputs": [
        {
          "output_type": "stream",
          "name": "stdout",
          "text": [
            "Integers:  1\n",
            "Floats:  1\n",
            "Strings:  2\n",
            "Booleans:  2\n"
          ]
        }
      ]
    },
    {
      "cell_type": "code",
      "source": [
        "#🧠 Problem 2: Convert all data types to string\n",
        "data = [1, 3.14, True, {\"key\": \"value\"}]\n",
        "string_data=[str(item) for item in data]\n",
        "print(string_data)\n",
        "\"\"\"\n",
        "for item in data:\n",
        "  print(str(item))\n",
        "  #print(type(str(item)))\n",
        "print(string_data)\n",
        "\"\"\""
      ],
      "metadata": {
        "colab": {
          "base_uri": "https://localhost:8080/"
        },
        "id": "XkazYTQJjY3G",
        "outputId": "59add9cd-351a-46e8-803a-6914021e04da"
      },
      "execution_count": 18,
      "outputs": [
        {
          "output_type": "stream",
          "name": "stdout",
          "text": [
            "1\n",
            "3.14\n",
            "True\n",
            "{'key': 'value'}\n",
            "{'key': 'value'}\n"
          ]
        }
      ]
    },
    {
      "cell_type": "code",
      "source": [
        "#(OPTIONAL: IF YOU WANT TO TRY, TRY IT...)\n",
        "#🧠 Problem 3: Create a summary dictionary of variable types\n",
        "variables = {\n",
        "    \"name\": \"Momin\",\n",
        "    \"age\": 25,\n",
        "    \"height\": 5.9,\n",
        "    \"is_student\": True\n",
        "}\n",
        "\n",
        "summary = {key: type(value).__name__ for key, value in variables.items()}\n",
        "print(summary)\n"
      ],
      "metadata": {
        "id": "FBBATV_Yj848"
      },
      "execution_count": null,
      "outputs": []
    },
    {
      "cell_type": "markdown",
      "source": [
        "# 🧼 4. Best Practices for Variables and Data Types\n",
        "✅ Naming conventions\n",
        "Use meaningful names: user_age instead of x\n",
        "\n",
        "Follow snake_case for variables: total_score\n",
        "\n",
        "✅ Type safety\n",
        "Use type() to check type if unsure\n",
        "\n",
        "Use type casting to avoid errors\n",
        "\n",
        "✅ Commenting\n",
        "Add comments to explain variables and logic"
      ],
      "metadata": {
        "id": "hQSIXqtml_y6"
      }
    },
    {
      "cell_type": "code",
      "source": [
        "#✅ Avoid magic values\n",
        "# Bad\n",
        "discounted_price = 100 - 20\n",
        "\n",
        "# Good\n",
        "DISCOUNT = 20\n",
        "original_price = 100\n",
        "discounted_price = original_price - DISCOUNT\n",
        "\n",
        "print(discounted_price)"
      ],
      "metadata": {
        "colab": {
          "base_uri": "https://localhost:8080/"
        },
        "id": "VMbfywOymCK0",
        "outputId": "1af9566a-4192-4bc8-a901-fe727384245b"
      },
      "execution_count": 20,
      "outputs": [
        {
          "output_type": "stream",
          "name": "stdout",
          "text": [
            "80\n"
          ]
        }
      ]
    },
    {
      "cell_type": "markdown",
      "source": [
        "# HackerRank Programs"
      ],
      "metadata": {
        "id": "IcQpw5SLuCoh"
      }
    },
    {
      "cell_type": "code",
      "source": [
        "# 1. Hello, World!\n",
        "if __name__ == '__main__':\n",
        "    my_string=\"Hello, World!\"\n",
        "    print(my_string)\n"
      ],
      "metadata": {
        "colab": {
          "base_uri": "https://localhost:8080/"
        },
        "id": "BDDOEc8PsHAo",
        "outputId": "238529df-6b76-446b-c033-3dda3f0f8bd9"
      },
      "execution_count": 21,
      "outputs": [
        {
          "output_type": "stream",
          "name": "stdout",
          "text": [
            "Hello, World!\n"
          ]
        }
      ]
    },
    {
      "cell_type": "code",
      "source": [
        "# 2. Python If-Else\n",
        "#!/bin/python3\n",
        "\n",
        "import math\n",
        "import os\n",
        "import random\n",
        "import re\n",
        "import sys\n",
        "\n",
        "\n",
        "if __name__ == '__main__':\n",
        "    n = int(input().strip())\n",
        "\n",
        "if n%2 == 1:\n",
        "    print(\"Weird\")\n",
        "\n",
        "elif n % 2 == 0 and n in range(2,6):\n",
        "    print(\"Not Weird\")\n",
        "\n",
        "elif n % 2 == 0 and n in range(6,21):     # 21 because range upper bound is exclusive.\n",
        "    print(\"Weird\")\n",
        "\n",
        "elif n % 2 == 0 and n > 20:\n",
        "    print(\"Not Weird\")\n"
      ],
      "metadata": {
        "colab": {
          "base_uri": "https://localhost:8080/"
        },
        "id": "zjc1AbdWuPaS",
        "outputId": "b451a40c-467c-4d75-ffa6-966e6b740ba5"
      },
      "execution_count": 22,
      "outputs": [
        {
          "output_type": "stream",
          "name": "stdout",
          "text": [
            "23\n",
            "Weird\n"
          ]
        }
      ]
    },
    {
      "cell_type": "code",
      "source": [
        "# 3. Arithmetic Operators\n",
        "if __name__ == '__main__':\n",
        "    a = int(input())\n",
        "    b = int(input())\n",
        "    print(a+b)\n",
        "    print(a-b)\n",
        "    print(a*b)\n",
        ""
      ],
      "metadata": {
        "colab": {
          "base_uri": "https://localhost:8080/"
        },
        "id": "fGbMB9LAzLP0",
        "outputId": "18b3e3e7-aa2f-4f69-9a5b-afdb1585aeab"
      },
      "execution_count": 23,
      "outputs": [
        {
          "output_type": "stream",
          "name": "stdout",
          "text": [
            "2\n",
            "3\n",
            "5\n",
            "-1\n",
            "6\n"
          ]
        }
      ]
    },
    {
      "cell_type": "code",
      "source": [
        "# 4. Python: Division\n",
        "if __name__ == '__main__':\n",
        "    a = int(input())\n",
        "    b = int(input())\n",
        "    print(a//b)\n",
        "    print(a/b)\n"
      ],
      "metadata": {
        "colab": {
          "base_uri": "https://localhost:8080/"
        },
        "id": "cjyq-LRBz9yA",
        "outputId": "ff864c52-156f-4153-f514-bb00d5317343"
      },
      "execution_count": 24,
      "outputs": [
        {
          "output_type": "stream",
          "name": "stdout",
          "text": [
            "3\n",
            "4\n",
            "0\n",
            "0.75\n"
          ]
        }
      ]
    },
    {
      "cell_type": "code",
      "source": [
        "#Day 1: Data Types\n",
        "i = 4\n",
        "d = 4.0\n",
        "s = 'HackerRank '\n",
        "\n",
        "# Declare second integer, double, and String variables.\n",
        "j = 12\n",
        "e = 4.0\n",
        "t = 'is the best place to learn and practice coding!'\n",
        "\n",
        "# Read and save an integer, double, and String to your variables.\n",
        "j=int(input())\n",
        "e=float(input())\n",
        "t=str(input())\n",
        "# Print the sum of both integer variables on a new line.\n",
        "print(i+j)\n",
        "\n",
        "# Print the sum of the double variables on a new line.\n",
        "print(d+e)\n",
        "\n",
        "# Concatenate and print the String variables on a new line\n",
        "# The 's' variable above should be printed first.\n",
        "print(s+t)"
      ],
      "metadata": {
        "id": "2jNkcl1hsGxT"
      },
      "execution_count": null,
      "outputs": []
    }
  ]
}