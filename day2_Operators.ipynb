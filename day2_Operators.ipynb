{
  "nbformat": 4,
  "nbformat_minor": 0,
  "metadata": {
    "colab": {
      "provenance": []
    },
    "kernelspec": {
      "name": "python3",
      "display_name": "Python 3"
    },
    "language_info": {
      "name": "python"
    }
  },
  "cells": [
    {
      "cell_type": "markdown",
      "source": [
        "# Operators in Python"
      ],
      "metadata": {
        "id": "0ia6uC_tO-Mw"
      }
    },
    {
      "cell_type": "markdown",
      "source": [
        "# ✅ 1. What are Operators?\n",
        "🔍 What:\n",
        "Operators are special symbols used to perform operations on variables and values."
      ],
      "metadata": {
        "id": "bKTmNkQSPdKS"
      }
    },
    {
      "cell_type": "markdown",
      "source": [
        "🎯 Why:\n",
        "They help in performing arithmetic, comparison, logic, assignment, and more in your code."
      ],
      "metadata": {
        "id": "Xos4lQ7xP0l2"
      }
    },
    {
      "cell_type": "markdown",
      "source": [
        "#🧠 2. Basic Logic to Understand\n",
        "Arithmetic: Used in calculations.\n",
        "\n",
        "Comparison: Used in decision making (if statements).\n",
        "\n",
        "Assignment: Used to update or define variables.\n",
        "\n",
        "Logical: Used when combining conditions (especially with if/while).\n",
        "\n",
        "Membership/Identity: Used in data structure operations and OOP.\n",
        "\n"
      ],
      "metadata": {
        "id": "G-BMR_IhQbGD"
      }
    },
    {
      "cell_type": "markdown",
      "source": [
        "# 🧪 3. Beginner-Level Problems\n"
      ],
      "metadata": {
        "id": "bUlvDCJvS_6P"
      }
    },
    {
      "cell_type": "code",
      "source": [
        "# 🔹 Problem 1: Basic Arithmetic\n",
        "\n",
        "x = 15\n",
        "y = 4\n",
        "\n",
        "print('x + y =',x+y)  # Addition Operator--> +\n",
        "\n",
        "print('x - y =',x-y)  # Subtraction Operator--> -\n",
        "\n",
        "print('x * y =',x*y)  # Multiplication Operator--> *\n",
        "\n",
        "print('x / y =',x/y)  # Division Operator--> /\n",
        "\n",
        "print('x % y =',x%y)  # Modulus Operator--> %\n",
        "\n",
        "print('x // y =',x//y)  # Floor Division Operator--> //\n",
        "\n",
        "print('x ** y =',x**y)  # Exponent Operator--> **\n"
      ],
      "metadata": {
        "colab": {
          "base_uri": "https://localhost:8080/"
        },
        "id": "-_WnaqsWPLiC",
        "outputId": "0b4a9bd8-3f7c-42de-ce47-0a044128426e"
      },
      "execution_count": null,
      "outputs": [
        {
          "output_type": "stream",
          "name": "stdout",
          "text": [
            "x + y = 19\n",
            "x - y = 11\n",
            "x * y = 60\n",
            "x / y = 3.75\n",
            "x % y = 3\n",
            "x // y = 3\n",
            "x ** y = 50625\n"
          ]
        }
      ]
    },
    {
      "cell_type": "code",
      "source": [
        "# Take input from user:\n",
        "x = int(input('Enter the value of x: '))\n",
        "y = int(input('Enter the value of y: '))\n",
        "\n",
        "#✅ Explanation: Shows usage of all arithmetic operators\n",
        "z = x + y\n",
        "print(\"Sum is: \", z)\n",
        "\n",
        "z = x - y\n",
        "print(\"Difference is: \", z)\n",
        "\n",
        "z = x * y\n",
        "print(\"Product is: \", z)\n",
        "\n",
        "z = x / y\n",
        "print(\"Quotient is: \", z)\n",
        "\n",
        "z = x % y\n",
        "print(\"Remainder is: \", z)\n",
        "\n",
        "z = x // y\n",
        "print(\"Floor Division is: \", z)\n",
        "\n",
        "z = x ** y\n",
        "print(\"Exponent is: \", z)\n"
      ],
      "metadata": {
        "colab": {
          "base_uri": "https://localhost:8080/"
        },
        "id": "I-DnVH0CRwzz",
        "outputId": "8b9c68b0-df98-4d7e-ed71-5e8f4dd665b5"
      },
      "execution_count": null,
      "outputs": [
        {
          "output_type": "stream",
          "name": "stdout",
          "text": [
            "Enter the value of x: 15\n",
            "Enter the value of y: 4\n",
            "Sum is:  19\n",
            "Difference is:  11\n",
            "Product is:  60\n",
            "Quotient is:  3.75\n",
            "Remainder is:  3\n",
            "Floor Division is:  3\n",
            "Exponent is:  50625\n"
          ]
        }
      ]
    },
    {
      "cell_type": "markdown",
      "source": [
        "🔹 Problem 2: Comparison Of values."
      ],
      "metadata": {
        "id": "wdP9OAHKSehj"
      }
    },
    {
      "cell_type": "code",
      "source": [
        "# Example:\n",
        "A = 1\n",
        "B = 2\n",
        "\n",
        "#✅ Explanation: Shows usage of all comparison operators\n",
        "\n",
        "# == \t\tEqual to - True if both operands are equal \t\t\tA == B\n",
        "print(A == B)\n",
        "\n",
        "# != \t\tNot equal to - True if operands are not equal \t\t\t\t\tx != y\n",
        "print(A != B)\n",
        "\n",
        "# > \t\tGreater that - True if left operand is greater than the right x > y\n",
        "print(A > B)\n",
        "\n",
        "# < \t\tLess that - True if left operand is less than the right \t\t\tx < y\n",
        "print(A < B)\n",
        "\n",
        "# >= \t\tTrue if left operand is greater than or equal to the right \t\tx >= y\n",
        "print(A >= B)\n",
        "\n",
        "# <= \t\tTrue if left operand is less than or equal to the right \t\t\tx <= y\n",
        "print(A <= B)"
      ],
      "metadata": {
        "colab": {
          "base_uri": "https://localhost:8080/"
        },
        "id": "27VkgaPFSYf4",
        "outputId": "37a7897a-bd83-4618-dafe-09a9d42d4ed7"
      },
      "execution_count": 9,
      "outputs": [
        {
          "output_type": "stream",
          "name": "stdout",
          "text": [
            "False\n",
            "True\n",
            "False\n",
            "True\n",
            "False\n",
            "True\n"
          ]
        }
      ]
    },
    {
      "cell_type": "markdown",
      "source": [
        "Problem 3: Python Assignment Problem.\n"
      ],
      "metadata": {
        "id": "mAauVhspVg6x"
      }
    },
    {
      "cell_type": "code",
      "source": [
        "a = 21\n",
        "b = 10\n",
        "c = 0\n",
        "\n",
        "#✅ Explanation: Shows usage of all assignment operators\n",
        "c = a + b\n",
        "print(f\"c = {a} + {b} is\", c)\n",
        "\n",
        "c += a\n",
        "print(f\"c = {a}+={b} is\", c)\n",
        "\n",
        "c *= a\n",
        "print(f\"c = {a} *= {b} is\", c)\n",
        "\n",
        "c /= a\n",
        "print(f\"c = {a} /= {b} is\", c)\n",
        "\n",
        "c  = 2\n",
        "c %= a\n",
        "print(f\"c = {c}  %= {a} is\", c)\n",
        "\n",
        "c **= a\n",
        "print(f\"c = {c} **= {a} is\", c)\n",
        "\n",
        "c //= a\n",
        "print(f\"c = {c} //=  {a} is\", c)\n"
      ],
      "metadata": {
        "colab": {
          "base_uri": "https://localhost:8080/"
        },
        "id": "z0xuZSKkUOeW",
        "outputId": "df46a49b-d61c-498d-f4e3-0069af95b253"
      },
      "execution_count": 10,
      "outputs": [
        {
          "output_type": "stream",
          "name": "stdout",
          "text": [
            "c = 21 + 10 is 31\n",
            "c = 21+=10 is 52\n",
            "c = 21 *= 10 is 1092\n",
            "c = 21 /= 10 is 52.0\n",
            "c = 2  %= 21 is 2\n",
            "c = 2097152 **= 21 is 2097152\n",
            "c = 99864 //=  21 is 99864\n"
          ]
        }
      ]
    },
    {
      "cell_type": "markdown",
      "source": [
        "🔹 Problem 4: Even or Odd"
      ],
      "metadata": {
        "id": "j8SkbVKKpXOG"
      }
    },
    {
      "cell_type": "code",
      "source": [
        "number= int(input(\"Enter any number: \"))\n",
        "\n",
        "#✅ Uses modulus operator % to check if a number is divisible by 2\n",
        "if number % 2 == 0:\n",
        "  print(f\"{number} is even\")\n",
        "else:\n",
        "  print(f\"{number} is odd\")"
      ],
      "metadata": {
        "id": "RX0otLMEVvCT",
        "colab": {
          "base_uri": "https://localhost:8080/"
        },
        "outputId": "fe9356b3-0e57-4916-9b08-6791302a35db"
      },
      "execution_count": 8,
      "outputs": [
        {
          "output_type": "stream",
          "name": "stdout",
          "text": [
            "Enter any number: 21\n",
            "21 is odd\n"
          ]
        }
      ]
    },
    {
      "cell_type": "markdown",
      "source": [
        "🔹 Problem 5: Compare Two Numbers\n",
        "\n",
        "\n",
        "\n"
      ],
      "metadata": {
        "id": "2ucFD7IMqT3B"
      }
    },
    {
      "cell_type": "code",
      "source": [
        "#✅ Demonstrates comparison operators: >, <, ==\n",
        "aslam = (int(input(\"Enter age of aslam: \")))\n",
        "ali = (int(input(\"Enter age of ali: \")))\n",
        "\n",
        "if aslam > ali:\n",
        "  print(\"Aslam is elder\")\n",
        "elif ali > aslam:\n",
        "  print(\"Ali is elder\")\n",
        "else:\n",
        "  print(\"They are of same age \")"
      ],
      "metadata": {
        "colab": {
          "base_uri": "https://localhost:8080/"
        },
        "id": "QsCvrxXSpvUA",
        "outputId": "61793d42-9820-4935-ac5c-4ea184f1c4e4"
      },
      "execution_count": 11,
      "outputs": [
        {
          "output_type": "stream",
          "name": "stdout",
          "text": [
            "Enter age of aslam: 21\n",
            "Enter age of ali: 20\n",
            "Aslam is elder\n"
          ]
        }
      ]
    },
    {
      "cell_type": "markdown",
      "source": [
        "🔹 Problem 6: Check Age Group"
      ],
      "metadata": {
        "id": "uOEnZWM4rSVJ"
      }
    },
    {
      "cell_type": "code",
      "source": [
        "#✅ Combines conditions using logical operator and.\n",
        "age = int(input(\"Enter your age: \"))\n",
        "\n",
        "if age >= 18 and age <= 60:\n",
        "  print(\"You are Adult\")\n",
        "else:\n",
        "  print(\"You are not Adult\")"
      ],
      "metadata": {
        "colab": {
          "base_uri": "https://localhost:8080/"
        },
        "id": "9L65pTLsrCc2",
        "outputId": "0008c42c-47db-46d2-d6b4-d5ba3db2c380"
      },
      "execution_count": 12,
      "outputs": [
        {
          "output_type": "stream",
          "name": "stdout",
          "text": [
            "Enter your age: 23\n",
            "You are Adult\n"
          ]
        }
      ]
    },
    {
      "cell_type": "markdown",
      "source": [
        "🔹 Problem 7: Check if a Character is in a String"
      ],
      "metadata": {
        "id": "7ACVmZQwsGyx"
      }
    },
    {
      "cell_type": "code",
      "source": [
        "text = \"Python\"\n",
        "char = input(\"Enter a character: \")\n",
        "\n",
        "if char in text:\n",
        "  print(f\"{char} is in the word\")\n",
        "else:\n",
        "  print(f\"{char} is not in the word\")\n",
        "\n",
        "#✅ Shows use of in operator (membership operator)."
      ],
      "metadata": {
        "colab": {
          "base_uri": "https://localhost:8080/"
        },
        "id": "G1ww3KTDr0zh",
        "outputId": "ff1b4578-db8b-42ee-cc67-3282b13271e1"
      },
      "execution_count": 15,
      "outputs": [
        {
          "output_type": "stream",
          "name": "stdout",
          "text": [
            "Enter a character: y\n",
            "y is in the word\n"
          ]
        }
      ]
    },
    {
      "cell_type": "markdown",
      "source": [
        "# 🔁 4. Intermediate-Level Problems\n"
      ],
      "metadata": {
        "id": "Ot96BRO_swP3"
      }
    },
    {
      "cell_type": "markdown",
      "source": [
        "# 🔸 Problem 1: Create a Calculator Using Operators\n",
        "- Qn. Create a calculator capable of performing addition, substraction, multiplication, and division operation of two numbers. Your program should format the output in a readable format."
      ],
      "metadata": {
        "id": "1L6GlBlBtI42"
      }
    },
    {
      "cell_type": "code",
      "source": [
        "a = float(input(\"Enter first number: \"))\n",
        "b = float(input(\"Enter second number: \"))\n",
        "operator = input(\"Enter operator between (+, -, *, /, %, ** ): \")\n",
        "\n",
        "if operator == '+':\n",
        "  print(f\"{a} + {b} = {a+b}\")\n",
        "elif operator == '-':\n",
        "  print(f\"{a} - {b} = {a-b}\")\n",
        "elif operator == '*':\n",
        "  print(f\"{a} * {b} = {a*b}\")\n",
        "elif operator == '/':\n",
        "  print(f\"{a} / {b} = {a/b}\")\n",
        "elif operator == '%':\n",
        "  print(f\"{a} % {b} = {a%b}\")\n",
        "elif operator == '**':\n",
        "  print(f\"{a} ** {b} = {a**b}\")\n",
        "else:\n",
        "  print(\"Invalid operator\")\n",
        "\n",
        "#🧠 Combines user input with arithmetic and conditional logic"
      ],
      "metadata": {
        "colab": {
          "base_uri": "https://localhost:8080/"
        },
        "id": "NrdvtXI7sepL",
        "outputId": "c70a3838-7048-4d64-d428-6c5797f0c56b"
      },
      "execution_count": 17,
      "outputs": [
        {
          "output_type": "stream",
          "name": "stdout",
          "text": [
            "Enter first number: 2\n",
            "Enter second number: 5\n",
            "Enter operator between (+, -, *, /, %, ** ): /\n",
            "2.0 / 5.0 = 0.4\n"
          ]
        }
      ]
    },
    {
      "cell_type": "markdown",
      "source": [
        "🔸 Problem 2: Check if a Number Lies Within a Range"
      ],
      "metadata": {
        "id": "NN35N-ZmyJq1"
      }
    },
    {
      "cell_type": "code",
      "source": [
        "number = int(input(\"Enter a number: \"))\n",
        "\n",
        "if number >= 10 and number <= 20:\n",
        "  print(f\"{number} lies between 10 and 20\")\n",
        "else:\n",
        "  print(f\"{number} not lies between 10 and 20\")\n",
        "\n",
        "  #✅ Uses logical operators (and) and comparison"
      ],
      "metadata": {
        "colab": {
          "base_uri": "https://localhost:8080/"
        },
        "id": "J9ua3tlnuAQ4",
        "outputId": "814e6c24-92ff-4dda-bae1-c1783cb3677f"
      },
      "execution_count": 19,
      "outputs": [
        {
          "output_type": "stream",
          "name": "stdout",
          "text": [
            "Enter a number: 10\n",
            "10 lies between 10 and 20\n"
          ]
        }
      ]
    },
    {
      "cell_type": "markdown",
      "source": [
        "🔸 Problem 3: Identity Operator Practice"
      ],
      "metadata": {
        "id": "6vnmD5EvzNIV"
      }
    },
    {
      "cell_type": "code",
      "source": [
        "a=[1, 2, 3]\n",
        "b=a\n",
        "c=[1, 2, 3]\n",
        "\n",
        "print(a is b)\n",
        "print(a is c)\n",
        "#the 'is' operator checks if two variables refer to the exact same object in memory.\n",
        "\n",
        "print(a == b)\n",
        "#The == operator, It checks if the values of two objects are equal\n",
        "print(a == c)"
      ],
      "metadata": {
        "colab": {
          "base_uri": "https://localhost:8080/"
        },
        "id": "KL0aDCKgytfd",
        "outputId": "6d513282-3098-4fb6-f690-e658e1cca922"
      },
      "execution_count": 21,
      "outputs": [
        {
          "output_type": "stream",
          "name": "stdout",
          "text": [
            "True\n",
            "False\n",
            "True\n",
            "True\n"
          ]
        }
      ]
    },
    {
      "cell_type": "markdown",
      "source": [
        "# 💡 5. Best Practices\n"
      ],
      "metadata": {
        "id": "iPfYQSnx0cF9"
      }
    },
    {
      "cell_type": "markdown",
      "source": [
        "✅ Use Descriptive Variable Names:"
      ],
      "metadata": {
        "id": "PukyM4_v0fqt"
      }
    },
    {
      "cell_type": "code",
      "source": [
        "age = 25  # ✅ Good\n",
        "a = 25    # ❌ Avoid if possible"
      ],
      "metadata": {
        "id": "c9YtIOHhzi7K"
      },
      "execution_count": 22,
      "outputs": []
    },
    {
      "cell_type": "markdown",
      "source": [
        "✅ Comment Your Code:"
      ],
      "metadata": {
        "id": "_7bdcvmY0mIX"
      }
    },
    {
      "cell_type": "code",
      "source": [
        "# Check if number is even\n",
        "if number % 2 == 0:\n",
        "    print(\"Even\")"
      ],
      "metadata": {
        "colab": {
          "base_uri": "https://localhost:8080/"
        },
        "id": "zdm-tnMz0jHO",
        "outputId": "177a6321-1f8e-41b8-8f03-1a8b775f428d"
      },
      "execution_count": 23,
      "outputs": [
        {
          "output_type": "stream",
          "name": "stdout",
          "text": [
            "Even\n"
          ]
        }
      ]
    },
    {
      "cell_type": "markdown",
      "source": [
        "✅ Group Conditions Logically:"
      ],
      "metadata": {
        "id": "kVyVEKv30sew"
      }
    },
    {
      "cell_type": "code",
      "source": [
        "#Use parentheses to make complex logic clear.\n",
        "if (age >= 18 and age <= 60) or is_student:\n",
        "    print(\"Valid\")"
      ],
      "metadata": {
        "colab": {
          "base_uri": "https://localhost:8080/"
        },
        "id": "9UjHs8-S0pzh",
        "outputId": "a77e6b3e-6d9d-4fa5-9dcf-be39bf5c813f"
      },
      "execution_count": 24,
      "outputs": [
        {
          "output_type": "stream",
          "name": "stdout",
          "text": [
            "Valid\n"
          ]
        }
      ]
    },
    {
      "cell_type": "markdown",
      "source": [
        "✅ Avoid Magic Numbers:\n",
        "Use constants or variables for better readability."
      ],
      "metadata": {
        "id": "cvF97Xrb049X"
      }
    },
    {
      "cell_type": "markdown",
      "source": [
        "# HackerRank:\n",
        "✅Day 2: Operators of 30Days."
      ],
      "metadata": {
        "id": "mM1zgJNW2IZZ"
      }
    },
    {
      "cell_type": "code",
      "source": [
        "#!/bin/python3\n",
        "\n",
        "import math\n",
        "import os\n",
        "import random\n",
        "import re\n",
        "import sys\n",
        "\n",
        "#\n",
        "# Complete the 'solve' function below.\n",
        "#\n",
        "# The function accepts following parameters:\n",
        "#  1. DOUBLE meal_cost\n",
        "#  2. INTEGER tip_percent\n",
        "#  3. INTEGER tax_percent\n",
        "#\n",
        "\n",
        "def solve(meal_cost, tip_percent, tax_percent):\n",
        "    # Write your code here\n",
        "    tip = meal_cost * tip_percent / 100\n",
        "    tax = meal_cost * tax_percent / 100\n",
        "    total_cost = meal_cost + tip + tax\n",
        "    print(round(total_cost))  # ✅ Print instead of return\n",
        "\n",
        "if __name__ == '__main__':\n",
        "    meal_cost = float(input().strip())\n",
        "    tip_percent = int(input().strip())\n",
        "    tax_percent = int(input().strip())\n",
        "    solve(meal_cost, tip_percent, tax_percent)\n"
      ],
      "metadata": {
        "id": "5POAL9Pr02xm"
      },
      "execution_count": null,
      "outputs": []
    }
  ]
}