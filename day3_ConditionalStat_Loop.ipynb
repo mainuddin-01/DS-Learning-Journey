{
  "nbformat": 4,
  "nbformat_minor": 0,
  "metadata": {
    "colab": {
      "provenance": [],
      "authorship_tag": "ABX9TyN+b9FuOYS5KkNkRUSvLWO0",
      "include_colab_link": true
    },
    "kernelspec": {
      "name": "python3",
      "display_name": "Python 3"
    },
    "language_info": {
      "name": "python"
    }
  },
  "cells": [
    {
      "cell_type": "markdown",
      "metadata": {
        "id": "view-in-github",
        "colab_type": "text"
      },
      "source": [
        "<a href=\"https://colab.research.google.com/github/mainuddin-01/Python-Learning-Journey/blob/main/day3_ConditionalStat_Loop.ipynb\" target=\"_parent\"><img src=\"https://colab.research.google.com/assets/colab-badge.svg\" alt=\"Open In Colab\"/></a>"
      ]
    },
    {
      "cell_type": "markdown",
      "source": [
        "# Python Control Structures:\n",
        "In PYTHON Programming, Control Structures are classified into:\n",
        "1. Sequential Control Structures\n",
        "2. Selection Control Structures\n",
        "3. Iterative Control Structures"
      ],
      "metadata": {
        "id": "6I-fufoOUXak"
      }
    },
    {
      "cell_type": "markdown",
      "source": [
        "1. Sequential Control Structures:\n",
        "It executes the lines of code in sequential order.\n",
        "\n",
        "\n"
      ],
      "metadata": {
        "id": "2PdhEADYXy6F"
      }
    },
    {
      "cell_type": "code",
      "execution_count": 1,
      "metadata": {
        "colab": {
          "base_uri": "https://localhost:8080/"
        },
        "id": "tZXm3nZ9UORV",
        "outputId": "81a70849-dd61-4df1-d50a-71c4ba10d5fb"
      },
      "outputs": [
        {
          "output_type": "stream",
          "name": "stdout",
          "text": [
            "First Line\n",
            "Second Line\n",
            "Third Line\n",
            "First Line\n",
            "Second Line\n",
            "Third Line\n"
          ]
        }
      ],
      "source": [
        "#Example:\n",
        "print(\"First Line\")\n",
        "print(\"Second Line\")\n",
        "print(\"Third Line\")\n",
        "\n",
        "#Example:\n",
        "print(\"First Line\");print(\"Second Line\");print(\"Third Line\")"
      ]
    },
    {
      "cell_type": "markdown",
      "source": [
        "2. Selection Control Structures: (Conditional Control Statements)\n",
        "- 1 if statement (One-Way Decisions)\n",
        "- 2 if .. else statement (Two-Way Decisions)\n",
        "- 3 if .. elif .. else statement (Multi-Way Decisions)\n",
        "- 4 Nested if .. else (inner Decisions)\n",
        "- 5 Negative Conditions (Using Member-Ship Operators)"
      ],
      "metadata": {
        "id": "lhubbMPKX_Q4"
      }
    },
    {
      "cell_type": "markdown",
      "source": [
        "In Conditions, the following Comparison or Relational Operators Commonly Using:\n",
        "- 1 >   greater than\n",
        "- 2 >= greater than equalto\n",
        "- 3 <   less than\n",
        "- 4 <= less than equalto\n",
        "- 5 == equal\n",
        "- 6 !=  not equal\n"
      ],
      "metadata": {
        "id": "fjOy8RmvYNcd"
      }
    },
    {
      "cell_type": "markdown",
      "source": [
        "- 'if' statement: Execute If condition is \"True\".\n",
        "- elif statement: Execute same as if, If previous condition is \"False\".\n",
        "- else statement: Execute if all previous conditions are \"False\"."
      ],
      "metadata": {
        "id": "tj90XtnhYnkv"
      }
    },
    {
      "cell_type": "markdown",
      "source": [
        "# 🧠 1. Understanding the Basic Concepts\n",
        "✅ if, if-else, if-elif-else"
      ],
      "metadata": {
        "id": "iL6NOS8dZ5uV"
      }
    },
    {
      "cell_type": "code",
      "source": [
        "# These control how your program behaves based on conditions:\n",
        "age = 18\n",
        "print(\" You can vote\") if age >= 18 else print(\"You cannot vote\")"
      ],
      "metadata": {
        "colab": {
          "base_uri": "https://localhost:8080/"
        },
        "id": "qG3iMyaiX8cN",
        "outputId": "6a8cfa80-0c5d-48f8-9533-f13cdfe8343d"
      },
      "execution_count": 2,
      "outputs": [
        {
          "output_type": "stream",
          "name": "stdout",
          "text": [
            " You can vote\n"
          ]
        }
      ]
    },
    {
      "cell_type": "code",
      "source": [
        "first = 72\n",
        "second = 42\n",
        "third = 21\n",
        "\n",
        "if first > second and first > third:\n",
        "  print(\"First is greater\")\n",
        "elif second > first and second > third:\n",
        "  print(\"Second is greater\")\n",
        "else:\n",
        "  print(\"Third is greater\")"
      ],
      "metadata": {
        "colab": {
          "base_uri": "https://localhost:8080/"
        },
        "id": "uhRVZNI5brYZ",
        "outputId": "eb60255f-b196-4feb-fe36-a950890a42c5"
      },
      "execution_count": 5,
      "outputs": [
        {
          "output_type": "stream",
          "name": "stdout",
          "text": [
            "First is greater\n"
          ]
        }
      ]
    },
    {
      "cell_type": "markdown",
      "source": [
        "✅ Nested if .. else statement:\n",
        "- used to check more than one condition\n",
        "- execute top to bottom\n",
        "- Check each condition whether it is true or false."
      ],
      "metadata": {
        "id": "A0I4C6oTcTKp"
      }
    },
    {
      "cell_type": "code",
      "source": [
        "# An if statement inside another:\n",
        "x = 24\n",
        "if x > 5:\n",
        "  if x < 20:\n",
        "    print(\"x is between 5 and 20\")\n",
        "  else:\n",
        "    print(\"x is greater than 20\")\n",
        "else:\n",
        "  print(\"x is less than 5\")"
      ],
      "metadata": {
        "colab": {
          "base_uri": "https://localhost:8080/"
        },
        "id": "nrJfgF85cJYy",
        "outputId": "e2516f97-148c-4787-9885-0ef1d5a0be86"
      },
      "execution_count": 6,
      "outputs": [
        {
          "output_type": "stream",
          "name": "stdout",
          "text": [
            "x is greater than 20\n"
          ]
        }
      ]
    },
    {
      "cell_type": "code",
      "source": [
        "grade=int(input(\"Enter Your Marks: \"))\n",
        "if grade >= 90:\n",
        "    print(\"Your Grade is A+\")\n",
        "else:\n",
        "    if grade >=80:\n",
        "        print(\"Your Grade is A\")\n",
        "    else:\n",
        "            if grade >=70:\n",
        "                print(\"Your Grade is B+\")\n",
        "            else:\n",
        "                    if grade >=60:\n",
        "                        print(\"Your Grade is B\")\n",
        "                    else:\n",
        "                            if grade >=50:\n",
        "                                print(\"You are Pass\")\n",
        "                            else:\n",
        "                                    print(\"Sorry You Failed\")\n"
      ],
      "metadata": {
        "colab": {
          "base_uri": "https://localhost:8080/"
        },
        "id": "NTfDH8AKdLKJ",
        "outputId": "f09fc464-a61c-4dd1-a79e-9dcacfc2a58e"
      },
      "execution_count": 7,
      "outputs": [
        {
          "output_type": "stream",
          "name": "stdout",
          "text": [
            "Enter Your Marks: 41\n",
            "Sorry You Failed\n"
          ]
        }
      ]
    },
    {
      "cell_type": "markdown",
      "source": [
        "# 🧩 2. Beginner-Level Problems"
      ],
      "metadata": {
        "id": "tJiGbgf8do_c"
      }
    },
    {
      "cell_type": "markdown",
      "source": [
        "🔹 Problem 1: Check if a number is positive"
      ],
      "metadata": {
        "id": "QXYN5CtFd7Ps"
      }
    },
    {
      "cell_type": "code",
      "source": [
        "num = int(input(\"Enter a number: \"))\n",
        "if num > 0:\n",
        "  print(f\"{num} is Positive\")\n",
        "else:\n",
        "  print(f\"{num} is Negative\")"
      ],
      "metadata": {
        "colab": {
          "base_uri": "https://localhost:8080/"
        },
        "id": "zHSDeZE1dgwj",
        "outputId": "d63b59e4-982e-4d23-ee9e-d07f6dc8df0e"
      },
      "execution_count": 8,
      "outputs": [
        {
          "output_type": "stream",
          "name": "stdout",
          "text": [
            "Enter a number: 45\n",
            "45 is Positive\n"
          ]
        }
      ]
    },
    {
      "cell_type": "markdown",
      "source": [
        "🔹 Problem 2: Determine if a number is even or odd"
      ],
      "metadata": {
        "id": "cepq8fRCecbF"
      }
    },
    {
      "cell_type": "code",
      "source": [
        "number = int(input(\"Enter a number: \"))\n",
        "if number % 2 == 0:\n",
        "  print(f\"{number} is Even\")\n",
        "else:\n",
        "  print(f\"{number} is Odd\")"
      ],
      "metadata": {
        "colab": {
          "base_uri": "https://localhost:8080/"
        },
        "id": "ic_NPfBUeUfV",
        "outputId": "d921c002-0ef9-477a-9652-ddf58041173e"
      },
      "execution_count": 9,
      "outputs": [
        {
          "output_type": "stream",
          "name": "stdout",
          "text": [
            "Enter a number: 45\n",
            "45 is Odd\n"
          ]
        }
      ]
    },
    {
      "cell_type": "markdown",
      "source": [
        "🔹 Problem 3: Check if a number is in range [10, 50]"
      ],
      "metadata": {
        "id": "8ZiBu5W9en5b"
      }
    },
    {
      "cell_type": "code",
      "source": [
        "num = int(input(\"Enter a number: \"))\n",
        "\n",
        "# and operator: Execute only if both the conditions are \"True\".\n",
        "if num >= 10 and num <= 50:\n",
        "  print(f\"{num} is in range [10, 50]\")\n",
        "else:\n",
        "  print(f\"{num} is not in range [10, 50]\")"
      ],
      "metadata": {
        "colab": {
          "base_uri": "https://localhost:8080/"
        },
        "id": "bFlgwmJBekYs",
        "outputId": "25b7fd96-9b58-40dd-b4b0-29152f77f466"
      },
      "execution_count": 10,
      "outputs": [
        {
          "output_type": "stream",
          "name": "stdout",
          "text": [
            "Enter a number: 71\n",
            "71 is not in range [10, 50]\n"
          ]
        }
      ]
    },
    {
      "cell_type": "markdown",
      "source": [
        "🔹 Problem 4: Assign grade based on marks"
      ],
      "metadata": {
        "id": "TIzTN2C_fpQZ"
      }
    },
    {
      "cell_type": "code",
      "source": [
        "marks = int(input(\"Enter your marks: \"))\n",
        "if marks >= 90:\n",
        "    print(\"Grade A\")\n",
        "elif marks >= 70:\n",
        "    print(\"Grade B\")\n",
        "elif marks >= 50:\n",
        "    print(\"Grade C\")\n",
        "else:\n",
        "    print(\"Grade D\")\n"
      ],
      "metadata": {
        "id": "q51MMASQe_jX"
      },
      "execution_count": null,
      "outputs": []
    },
    {
      "cell_type": "markdown",
      "source": [
        "🔹 Problem 5: Age category using if-elif-else"
      ],
      "metadata": {
        "id": "XNvc3mD-f6No"
      }
    },
    {
      "cell_type": "code",
      "source": [
        "age = int(input(\"Enter your age: \"))\n",
        "if age <= 13:\n",
        "  print(\"child\")\n",
        "elif age < 20:\n",
        "  print(\"Teen\")\n",
        "else:\n",
        "  print(\"Adult\")\n"
      ],
      "metadata": {
        "colab": {
          "base_uri": "https://localhost:8080/"
        },
        "id": "nS_-1TMuf64-",
        "outputId": "9913e671-905b-42f0-a85b-9922b7e8a04d"
      },
      "execution_count": 11,
      "outputs": [
        {
          "output_type": "stream",
          "name": "stdout",
          "text": [
            "Enter your age: 23\n",
            "Adult\n"
          ]
        }
      ]
    },
    {
      "cell_type": "markdown",
      "source": [
        "# 🔧 3. Intermediate-Level Problems"
      ],
      "metadata": {
        "id": "d7WxA9jUg2t5"
      }
    },
    {
      "cell_type": "markdown",
      "source": [
        "🔸 Problem 1: Leap Year Checker"
      ],
      "metadata": {
        "id": "nQ5TSsm75qU9"
      }
    },
    {
      "cell_type": "code",
      "source": [
        "year = int(input(\"Enter a year: \"))\n",
        "if (year % 4 == 0 and year % 100 != 0) or (year % 400 == 0):\n",
        "  print(f\"{year} is leap year\")\n",
        "else:\n",
        "  print(f\"{year} is not leap year\")\n"
      ],
      "metadata": {
        "colab": {
          "base_uri": "https://localhost:8080/"
        },
        "id": "_Yl3WstK8Tg1",
        "outputId": "81e341a9-c67a-4d36-aec3-685f63d1535d"
      },
      "execution_count": 2,
      "outputs": [
        {
          "output_type": "stream",
          "name": "stdout",
          "text": [
            "Enter a year: 2002\n",
            "2002 is not leap year\n"
          ]
        }
      ]
    },
    {
      "cell_type": "markdown",
      "source": [
        "🔸 Problem 2: Largest of 3 numbers (Nested if"
      ],
      "metadata": {
        "id": "E0fYPbSq97AT"
      }
    },
    {
      "cell_type": "code",
      "source": [
        "a = 21\n",
        "b = 23\n",
        "c = 42\n",
        "\n",
        "if a > b:\n",
        "  if a > c:\n",
        "    print(f\"{a} is largest\")\n",
        "  else:\n",
        "    print(f\"{c} is largest\")\n",
        "else:\n",
        "  if b > c:\n",
        "    print(f\"{b} is largest\")\n",
        "  else:\n",
        "    print(f\"{c} is largest\")\n",
        "\n",
        "# Check Serially, from top to bottom."
      ],
      "metadata": {
        "colab": {
          "base_uri": "https://localhost:8080/"
        },
        "id": "iqFhOoQb8sAP",
        "outputId": "0d94b71e-63b2-4f3c-9c22-c48de1a9b98a"
      },
      "execution_count": 3,
      "outputs": [
        {
          "output_type": "stream",
          "name": "stdout",
          "text": [
            "42 is largest\n"
          ]
        }
      ]
    },
    {
      "cell_type": "markdown",
      "source": [
        "✅Negative Conditions in PYTHON:\n",
        "- If a condition is true the not operator is used to reverse the logical state, then logical not operator will make it false."
      ],
      "metadata": {
        "id": "y6p3QtxG_baL"
      }
    },
    {
      "cell_type": "code",
      "source": [
        "x = int(input(\"Enter Any Number: \"))\n",
        "print(x)\n",
        "if not x == 50:\n",
        "    print('the value of x different from 50')\n",
        "else:\n",
        "    print('the value of x is equal to 50')"
      ],
      "metadata": {
        "colab": {
          "base_uri": "https://localhost:8080/"
        },
        "id": "wet99Xk7_wdx",
        "outputId": "a1e83ba6-d857-4031-bfad-f54d17fe081e"
      },
      "execution_count": 4,
      "outputs": [
        {
          "output_type": "stream",
          "name": "stdout",
          "text": [
            "Enter Any Number: 44\n",
            "44\n",
            "the value of x different from 50\n"
          ]
        }
      ]
    },
    {
      "cell_type": "markdown",
      "source": [
        "# ✅ 4. Best Practices for Clean Control Flow Code\n",
        "- Use meaningful variable names (e.g., marks instead of m)\n",
        "\n",
        "- Avoid deep nesting — refactor if you have too many if inside if\n",
        "\n",
        "- Use elif instead of multiple if when checking exclusive conditions\n",
        "\n",
        "- Use match-case for clear multi-condition checks (Python 3.10+)\n",
        "\n",
        "- Always use an else to catch unexpected cases"
      ],
      "metadata": {
        "id": "9vkjjOdW_Kom"
      }
    }
  ]
}