{
  "nbformat": 4,
  "nbformat_minor": 0,
  "metadata": {
    "colab": {
      "provenance": []
    },
    "kernelspec": {
      "name": "python3",
      "display_name": "Python 3"
    },
    "language_info": {
      "name": "python"
    }
  },
  "cells": [
    {
      "cell_type": "markdown",
      "source": [
        "# Day 9 — Strings"
      ],
      "metadata": {
        "id": "Xurlj5p4euAn"
      }
    },
    {
      "cell_type": "markdown",
      "source": [
        "# 1️⃣ Topic of the Day — Strings (short, beginner-friendly)"
      ],
      "metadata": {
        "id": "fjQYVfCge2fa"
      }
    },
    {
      "cell_type": "markdown",
      "source": [
        "What:\n",
        "- Strings are sequences of characters (text).\n",
        "- They’re immutable — you can’t change a character in-place, but you can create new strings from old ones."
      ],
      "metadata": {
        "id": "OB8kYHv4e9jO"
      }
    },
    {
      "cell_type": "markdown",
      "source": [
        "When to use:\n",
        "- Whenever you handle names, messages, CSV lines, file paths, input parsing, formatting output, etc."
      ],
      "metadata": {
        "id": "_y4SQ7msfXza"
      }
    },
    {
      "cell_type": "markdown",
      "source": [
        "Common methods:\n",
        "- .strip(),\n",
        "- .lower(),\n",
        "- .upper(),\n",
        "- .split(),\n",
        "- .join(),\n",
        "- .replace(),\n",
        "- .find(),\n",
        "- .count(),\n",
        "- .format() / f-strings — use these to clean, parse and format text. (Python documentation)"
      ],
      "metadata": {
        "id": "QxuRDnpKfgKB"
      }
    },
    {
      "cell_type": "markdown",
      "source": [
        "Syntax snippets:"
      ],
      "metadata": {
        "id": "nm0w8ZNKf21_"
      }
    },
    {
      "cell_type": "code",
      "execution_count": null,
      "metadata": {
        "colab": {
          "base_uri": "https://localhost:8080/"
        },
        "id": "0G3vHNpMeOsG",
        "outputId": "2811d416-77e1-473f-dcd8-3185626225c6"
      },
      "outputs": [
        {
          "output_type": "stream",
          "name": "stdout",
          "text": [
            "Hello, World!\n",
            "  hello, world!  \n",
            "  HELLO, WORLD!  \n",
            "['Hello,', 'World!']\n",
            " - -H-e-l-l-o-,- -W-o-r-l-d-!- - \n",
            "6\n",
            "2\n",
            "Hello, World! in Python Programming\n"
          ]
        }
      ],
      "source": [
        "s = \"  Hello, World!  \"\n",
        "print(s.strip())  # Remove spaces from beginning and from end\n",
        "print(s.lower())  # Convert uppercase to lowercase\n",
        "print(s.upper())  # Convert lowercase to uppercase\n",
        "print(s.split())  # Convert into list and separate the strings\n",
        "print(\"-\".join(s))  # Joins the each character with separator\n",
        "print(s.find('o'))  # Returns the first occurrance of charater\n",
        "print(s.count(\"o\")) # Count the character occurrance\n",
        "print(f\"{ s.strip()} in Python Programming\")"
      ]
    },
    {
      "cell_type": "markdown",
      "source": [
        "# 2️⃣ Code Examples (2–3 practical, commented)"
      ],
      "metadata": {
        "id": "5J_CzIGCiMmj"
      }
    },
    {
      "cell_type": "markdown",
      "source": [
        "Example 1 — clean & normalize a name"
      ],
      "metadata": {
        "id": "P5Ck4oeRiZv3"
      }
    },
    {
      "cell_type": "code",
      "source": [
        "name = \"   joHN   doE  \"\n",
        "clean = name.strip().title()  # Remove space(strip()) + first character capital(title())\n",
        "print(clean)"
      ],
      "metadata": {
        "colab": {
          "base_uri": "https://localhost:8080/"
        },
        "id": "-i8MscRYgOMS",
        "outputId": "3dbee5a8-52ac-4ddd-97c2-a9c90a421e62"
      },
      "execution_count": null,
      "outputs": [
        {
          "output_type": "stream",
          "name": "stdout",
          "text": [
            "John   Doe\n"
          ]
        }
      ]
    },
    {
      "cell_type": "markdown",
      "source": [
        "Example 2 — parse comma-separated subjects"
      ],
      "metadata": {
        "id": "FzVJRat3jn7g"
      }
    },
    {
      "cell_type": "code",
      "source": [
        "s = \"math, science, english\"\n",
        "new_list = []\n",
        "for sub in s.split(\",\"):\n",
        "  subjects =  sub.strip().title()\n",
        "  new_list.append(subjects)\n",
        "print(new_list)\n",
        "\n",
        "subjects = [sub.strip().title() for sub in s.split(\",\")]\n",
        "# strip(): Remove space, title(): Capital first letter,\n",
        "# split(): It splits a string into a list.\n",
        "print(subjects)"
      ],
      "metadata": {
        "colab": {
          "base_uri": "https://localhost:8080/"
        },
        "id": "tQbP5OZliqGp",
        "outputId": "bd6480f4-f1c0-4cb4-f436-eed58195747f"
      },
      "execution_count": null,
      "outputs": [
        {
          "output_type": "stream",
          "name": "stdout",
          "text": [
            "['Math', 'Science', 'English']\n",
            "['Math', 'Science', 'English']\n"
          ]
        }
      ]
    },
    {
      "cell_type": "markdown",
      "source": [
        "Example 3 — count vowels & check palindrome"
      ],
      "metadata": {
        "id": "r-RGOivSpCas"
      }
    },
    {
      "cell_type": "code",
      "source": [
        "# Vowels count\n",
        "def count_vowels(s):\n",
        "  s = s.lower() # mainuddin\n",
        "  return sum(1 for ch in s if ch in \"aeiou\")\n",
        "\n",
        "print(count_vowels(\"Mainuddin\"))\n",
        "\n",
        "# Palindrome = same from forward and backward\n",
        "def is_pal(s):\n",
        "  s =s.lower().replace(\" \", \"\")\n",
        "  # s = \"\".join(ch for ch in s if ch.isalnum())\n",
        "  return s == s[::-1]\n",
        "\n",
        "print(is_pal(\"A man, a plan, a canal: Panama\"))"
      ],
      "metadata": {
        "colab": {
          "base_uri": "https://localhost:8080/"
        },
        "id": "1Hi5vufNkCOx",
        "outputId": "88635a4a-0b59-4a8f-cc62-38803ded6dd0"
      },
      "execution_count": null,
      "outputs": [
        {
          "output_type": "stream",
          "name": "stdout",
          "text": [
            "4\n",
            "False\n"
          ]
        }
      ]
    },
    {
      "cell_type": "markdown",
      "source": [
        "# 3️⃣ Practice Exercises (easy → slight challenge):\n",
        "- Write and run these with multiple test cases:"
      ],
      "metadata": {
        "id": "KTsQQUv7xMDo"
      }
    },
    {
      "cell_type": "markdown",
      "source": [
        "1.\tPrint first and last character of a string."
      ],
      "metadata": {
        "id": "_RDSER3DxSxf"
      }
    },
    {
      "cell_type": "code",
      "source": [
        "s = \"Hello, World!\"\n",
        "print(\"First Character: \",s[0],\"\\nLast Character: \",s[-1])\n",
        "# Return First and last character."
      ],
      "metadata": {
        "colab": {
          "base_uri": "https://localhost:8080/"
        },
        "id": "iHhN2372pk7K",
        "outputId": "356cef16-6c78-4dc6-d4b6-294d0b77b86f"
      },
      "execution_count": null,
      "outputs": [
        {
          "output_type": "stream",
          "name": "stdout",
          "text": [
            "First Character:  H \n",
            "Last Character:  !\n"
          ]
        }
      ]
    },
    {
      "cell_type": "markdown",
      "source": [
        "2.\tReverse a string (s[::-1])."
      ],
      "metadata": {
        "id": "Q5lYSc3CyB72"
      }
    },
    {
      "cell_type": "code",
      "source": [
        "s = \"Hello, World!\"\n",
        "print(s[::-1])\n",
        "# Return reverse string"
      ],
      "metadata": {
        "colab": {
          "base_uri": "https://localhost:8080/"
        },
        "id": "I1iSAonYxmm6",
        "outputId": "582da8d6-5c6b-4620-da67-fd6a2890e04c"
      },
      "execution_count": null,
      "outputs": [
        {
          "output_type": "stream",
          "name": "stdout",
          "text": [
            "!dlroW ,olleH\n"
          ]
        }
      ]
    },
    {
      "cell_type": "markdown",
      "source": [
        "3.\tCount vowels in a sentence (case-insensitive)."
      ],
      "metadata": {
        "id": "AT9Y3SFYyjaf"
      }
    },
    {
      "cell_type": "code",
      "source": [
        "sentence_ =\"A curious owl sees a unique area of oasis.\"\n",
        "Sum = 0\n",
        "for ch in sentence_:\n",
        "  if ch in \"aeiouAEIOU\":\n",
        "    Sum += 1\n",
        "print(f\"Count of vowels in sentence: {Sum}\")"
      ],
      "metadata": {
        "colab": {
          "base_uri": "https://localhost:8080/"
        },
        "id": "Bpnc2ZyHyHYI",
        "outputId": "5b6db87d-cdd2-491d-f60c-1c003cf38d73"
      },
      "execution_count": null,
      "outputs": [
        {
          "output_type": "stream",
          "name": "stdout",
          "text": [
            "Count of vowels in sentence: 20\n"
          ]
        }
      ]
    },
    {
      "cell_type": "markdown",
      "source": [
        "4.\tCheck palindrome ignoring spaces & punctuation."
      ],
      "metadata": {
        "id": "oDoEEWQV0Bst"
      }
    },
    {
      "cell_type": "code",
      "source": [
        "def is_pal(s):\n",
        "  s = s.lower().replace(\" \",'')\n",
        "  return s == s[::-1]\n",
        "s = input(\"Enter a string: \")\n",
        "print(is_pal(s))"
      ],
      "metadata": {
        "colab": {
          "base_uri": "https://localhost:8080/"
        },
        "id": "UGaDM_USzWDv",
        "outputId": "666efec9-9515-4e22-d62d-2abe932a94b9"
      },
      "execution_count": null,
      "outputs": [
        {
          "output_type": "stream",
          "name": "stdout",
          "text": [
            "Enter a string: madam\n",
            "True\n"
          ]
        }
      ]
    },
    {
      "cell_type": "markdown",
      "source": [
        "5.\tReplace all occurrences of \"Java\" with \"Python\" in a sentence."
      ],
      "metadata": {
        "id": "MoYsJ_aw1kB8"
      }
    },
    {
      "cell_type": "code",
      "source": [
        "sentence = \"Java is fun because Java helps Java developers learn Java while drinking Java coffee in a Java café.\"\n",
        "replaced_sentence = sentence.replace(\"Java\", \"Python\")\n",
        "print(replaced_sentence)"
      ],
      "metadata": {
        "colab": {
          "base_uri": "https://localhost:8080/"
        },
        "id": "4yf_JDQg1aDx",
        "outputId": "ba9b7a29-d209-496e-d64c-51b40be1943f"
      },
      "execution_count": null,
      "outputs": [
        {
          "output_type": "stream",
          "name": "stdout",
          "text": [
            "Python is fun because Python helps Python developers learn Python while drinking Python coffee in a Python café.\n"
          ]
        }
      ]
    },
    {
      "cell_type": "markdown",
      "source": [
        "6.\tGiven \"apple,banana,grape\", split into list then join with spaces."
      ],
      "metadata": {
        "id": "fc2dUFoB2EVN"
      }
    },
    {
      "cell_type": "code",
      "source": [
        "def split_join(s):\n",
        "  split_list = s.split(\",\")\n",
        "  result = \" \".join(split_list)\n",
        "  return result\n",
        "\n",
        "s = input(\"Enter a string: \")\n",
        "print(split_join(s))"
      ],
      "metadata": {
        "colab": {
          "base_uri": "https://localhost:8080/"
        },
        "id": "8oY890mh146F",
        "outputId": "5ffbf169-4289-4c3a-c883-97f03801ae1f"
      },
      "execution_count": null,
      "outputs": [
        {
          "output_type": "stream",
          "name": "stdout",
          "text": [
            "Enter a string: apple,banana,grape\n",
            "apple banana grape\n"
          ]
        }
      ]
    },
    {
      "cell_type": "markdown",
      "source": [
        "# Solve Remaining Examples after ZOhr"
      ],
      "metadata": {
        "id": "53you_ra5mNZ"
      }
    },
    {
      "cell_type": "code",
      "source": [],
      "metadata": {
        "id": "9Qhh2iWn2nkH"
      },
      "execution_count": null,
      "outputs": []
    }
  ]
}