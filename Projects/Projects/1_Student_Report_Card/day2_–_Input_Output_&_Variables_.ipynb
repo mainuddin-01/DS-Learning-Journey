{
  "nbformat": 4,
  "nbformat_minor": 0,
  "metadata": {
    "colab": {
      "provenance": []
    },
    "kernelspec": {
      "name": "python3",
      "display_name": "Python 3"
    },
    "language_info": {
      "name": "python"
    }
  },
  "cells": [
    {
      "cell_type": "markdown",
      "source": [
        "# Day 2 – Input/Output & Variables\t- Single-Subject Pass/Fail Calculator\n",
        "- Goal: Input student name and one subject mark, determine Pass/Fail.\n",
        "- Requirements:\n",
        "  - Take name and marks from user.\n",
        "  -  Show “Pass” if marks ≥ 40, otherwise “Fail”.\n",
        "  -  Print report like: John — Marks: 65, Result: Pass.\n",
        "- Stretch additions: Add option to enter marks for another student in same run. - Why: Uses variables, input(), and print() — core Day 2 concepts."
      ],
      "metadata": {
        "id": "FFTt76BpRPPR"
      }
    },
    {
      "cell_type": "code",
      "execution_count": 4,
      "metadata": {
        "colab": {
          "base_uri": "https://localhost:8080/"
        },
        "id": "czfUXJeZQA0E",
        "outputId": "930a7974-727e-43b5-a32f-fb3a1487e508"
      },
      "outputs": [
        {
          "output_type": "stream",
          "name": "stdout",
          "text": [
            "========================================================\n",
            "     === Welcome to Student Report Card CLI ===\n",
            "========================================================\n",
            "Enter student name: Moin\n",
            "Enter English mark: 75\n",
            "Enter Math mark: 68\n",
            "Enter Science mark: 45\n",
            "Enter History mark: 68\n",
            "Enter Geography mark: 32\n",
            "Moin - Marks: 57.599999999999994, Result: Pass\n"
          ]
        }
      ],
      "source": [
        "# Welcome Message\n",
        "print(\"========================================================\")\n",
        "print(\"     === Welcome to Student Report Card CLI ===\")\n",
        "print(\"========================================================\")\n",
        "\n",
        "# THis program will help you calculate grades\n",
        "\n",
        "# Take input from user: Student Name and one subject mark\n",
        "student_name = input(\"Enter student name: \")\n",
        "\n",
        "english = int(input(\"Enter English mark: \"))\n",
        "math = int(input(\"Enter Math mark: \"))\n",
        "science = int(input(\"Enter Science mark: \"))\n",
        "history = int(input(\"Enter History mark: \"))\n",
        "geography = int(input(\"Enter Geography mark: \"))\n",
        "\n",
        "# Calculate Total Marks\n",
        "total_marks = english + math + science + history + geography\n",
        "\n",
        "# Calculate Percentage\n",
        "percentage = (total_marks / 500) * 100\n",
        "\n",
        "# Check user is pass or fail\n",
        "if percentage >= 40:\n",
        "    print(f\"{student_name} - Marks: {percentage}, Result: Pass\")\n",
        "else:\n",
        "    print(f\"{student_name} - Marks: {percentage}, Result: Fail\")"
      ]
    },
    {
      "cell_type": "code",
      "source": [],
      "metadata": {
        "id": "DkibM7TwS5g8"
      },
      "execution_count": null,
      "outputs": []
    }
  ]
}