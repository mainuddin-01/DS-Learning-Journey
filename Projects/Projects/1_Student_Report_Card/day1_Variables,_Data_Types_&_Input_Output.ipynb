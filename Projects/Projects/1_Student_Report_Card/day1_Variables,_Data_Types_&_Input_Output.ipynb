{
  "nbformat": 4,
  "nbformat_minor": 0,
  "metadata": {
    "colab": {
      "provenance": []
    },
    "kernelspec": {
      "name": "python3",
      "display_name": "Python 3"
    },
    "language_info": {
      "name": "python"
    }
  },
  "cells": [
    {
      "cell_type": "markdown",
      "source": [
        "📅 Day 1 — Variables, Data Types & Input/Output\n",
        "\n",
        "🎯 Goal for Day 1:\n",
        "- Learn how to store data in variables, get input from the user, and display output.\n",
        "\n",
        "4️⃣ Mini Project — Student Report Card (Day 1 Version)\n",
        "\n",
        "- On Day 1, we’ll just collect the student name and marks for 5 subjects and display them back to the user.\n",
        "- No calculations yet — just input and output to get comfortable with Python basics."
      ],
      "metadata": {
        "id": "Dq4EFXBIBdGF"
      }
    },
    {
      "cell_type": "code",
      "execution_count": null,
      "metadata": {
        "colab": {
          "base_uri": "https://localhost:8080/"
        },
        "id": "FEtfW_v8A3so",
        "outputId": "718d17e0-71a9-4eae-b568-88a0e44b8b70"
      },
      "outputs": [
        {
          "output_type": "stream",
          "name": "stdout",
          "text": [
            "----- Student Report Card -----\n",
            "Enter Student Name: moin\n",
            "Enter marks for 5 subjects (0-100):\n",
            "Math: 54\n",
            "Science: 84\n",
            "English: 95\n",
            "Social: 57\n",
            "Computer: 85\n",
            "\n",
            "----- Student Report -----\n",
            "Name: moin\n",
            "Math: 54\n",
            "Science: 84\n",
            "English: 95\n",
            "Social: 57\n",
            "Computer: 85\n"
          ]
        }
      ],
      "source": [
        "# Student Report Card - Day 1 Version\n",
        "print(\"----- Student Report Card -----\")\n",
        "\n",
        "# 1. Take input from user\n",
        "name = input(\"Enter Student Name: \")\n",
        "\n",
        "print(\"Enter marks for 5 subjects (0-100):\")\n",
        "math = int(input(\"Math: \"))\n",
        "science = int(input(\"Science: \"))\n",
        "english = int(input(\"English: \"))\n",
        "social = int(input(\"Social: \"))\n",
        "computer = int(input(\"Computer: \"))\n",
        "\n",
        "# 2. Display the data back to user\n",
        "print(\"\\n----- Student Report -----\")\n",
        "print(\"Name:\", name)\n",
        "print(\"Math:\", math)\n",
        "print(\"Science:\", science)\n",
        "print(\"English:\", english)\n",
        "print(\"Social:\", social)\n",
        "print(\"Computer:\", computer)"
      ]
    },
    {
      "cell_type": "markdown",
      "source": [
        "🔑 Key Concepts Covered\n",
        "\n",
        "Variables → Store data like name, math, science.\n",
        "\n",
        "Input Function → input() to get user data.\n",
        "\n",
        "Type Conversion → int() to convert input to numbers.\n",
        "\n",
        "Printing Output → print() to display results."
      ],
      "metadata": {
        "id": "wriyNzquCG2M"
      }
    },
    {
      "cell_type": "markdown",
      "source": [
        "✅ Your Learning Outcome\n",
        "\n",
        "By the end of Day 1, you will:\n",
        "\n",
        "Be able to take multiple inputs from the user.\n",
        "\n",
        "Understand how variables store data.\n",
        "\n",
        "See how your program prints the entered data neatly."
      ],
      "metadata": {
        "id": "flwouxiWCtzy"
      }
    }
  ]
}