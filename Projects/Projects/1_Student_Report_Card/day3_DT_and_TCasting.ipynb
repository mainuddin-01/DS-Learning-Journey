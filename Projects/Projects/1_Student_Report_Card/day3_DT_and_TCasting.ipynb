{
  "nbformat": 4,
  "nbformat_minor": 0,
  "metadata": {
    "colab": {
      "provenance": []
    },
    "kernelspec": {
      "name": "python3",
      "display_name": "Python 3"
    },
    "language_info": {
      "name": "python"
    }
  },
  "cells": [
    {
      "cell_type": "markdown",
      "source": [
        "# Day 3 – Data Types & Type Conversion\tBasic Total & Average Calculator\n",
        "- Goal: Input student name and three subject marks. Compute total, average, and show result.\n",
        "- Requirements:\n",
        "  -  Take marks for 3 subjects as integers.\n",
        "  -  Compute total = m1+m2+m3 and average = total/3.\n",
        "  -  Print report: \"Alice — Total: 250, Average: 83.33\".\n",
        "- Stretch additions: Round average to 2 decimal places.\n",
        "-  Why: Practices type conversion (int/float) and arithmetic operators."
      ],
      "metadata": {
        "id": "-yEZep-aVBZ0"
      }
    },
    {
      "cell_type": "code",
      "execution_count": 4,
      "metadata": {
        "colab": {
          "base_uri": "https://localhost:8080/"
        },
        "id": "v9dLL2ZjU6Hx",
        "outputId": "48e8974e-0033-4877-bee5-5de13f07ff66"
      },
      "outputs": [
        {
          "output_type": "stream",
          "name": "stdout",
          "text": [
            "========================================================\n",
            "     === Welcome to Student Report Card CLI ===\n",
            "========================================================\n",
            "Enter student name: m\n",
            "Enter marks for each subject(0-100):\n",
            "Enter English mark: 65\n",
            "Enter Math mark: 75\n",
            "Enter Science mark: 75\n",
            "Enter History mark: 94\n",
            "Enter Geography mark: 75\n",
            "m - Total: 384, Average: 76.8\n"
          ]
        }
      ],
      "source": [
        "# Welcome Message\n",
        "print(\"========================================================\")\n",
        "print(\"     === Welcome to Student Report Card CLI ===\")\n",
        "print(\"========================================================\")\n",
        "\n",
        "# THis program will help you calculate grades\n",
        "\n",
        "# Take input from user: Student Name\n",
        "student_name = input(\"Enter student name: \")\n",
        "\n",
        "# Take input for subject marks\n",
        "print(\"Enter marks for each subject(0-100):\")\n",
        "english = int(input(\"Enter English mark: \"))\n",
        "math = int(input(\"Enter Math mark: \"))\n",
        "science = int(input(\"Enter Science mark: \"))\n",
        "history = int(input(\"Enter History mark: \"))\n",
        "geography = int(input(\"Enter Geography mark: \"))\n",
        "\n",
        "# Calculate Total Marks\n",
        "total_marks = english + math + science + history + geography\n",
        "\n",
        "# Calculate Percentage\n",
        "average = (total_marks / 5)\n",
        "rounded_average = round(average, 2)\n",
        "\n",
        "# Print Report\n",
        "print(f\"{student_name} - Total: {total_marks}, Average: {rounded_average}\")\n"
      ]
    },
    {
      "cell_type": "code",
      "source": [],
      "metadata": {
        "id": "zpBWaVZiWd7G"
      },
      "execution_count": null,
      "outputs": []
    }
  ]
}