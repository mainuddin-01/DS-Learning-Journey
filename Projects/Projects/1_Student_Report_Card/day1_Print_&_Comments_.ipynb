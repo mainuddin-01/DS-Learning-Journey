{
  "nbformat": 4,
  "nbformat_minor": 0,
  "metadata": {
    "colab": {
      "provenance": []
    },
    "kernelspec": {
      "name": "python3",
      "display_name": "Python 3"
    },
    "language_info": {
      "name": "python"
    }
  },
  "cells": [
    {
      "cell_type": "markdown",
      "source": [
        "# Day 1 – Print & Comments\n",
        "- Goal: Display a simple welcome message and explain steps with comments.\n",
        "- Requirements:\n",
        "  - Print: \"=== Welcome to Student Report Card CLI ===\".\n",
        "  - Add comments to explain purpose of each print statement.\n",
        "  - Show one static message like \"This program will help you calculate grades.\"\n",
        "  - Stretch additions: Print decorative borders (like =====) above and below for a nicer look.\n",
        "- Why: Practices print() and commenting — first step to structured programs\n",
        "\n"
      ],
      "metadata": {
        "id": "kC5s2eg3MuhL"
      }
    },
    {
      "cell_type": "code",
      "execution_count": 3,
      "metadata": {
        "colab": {
          "base_uri": "https://localhost:8080/"
        },
        "id": "Rbw4RTduMXwv",
        "outputId": "06425915-f1b1-4adb-b7f8-63e3405c3f01"
      },
      "outputs": [
        {
          "output_type": "stream",
          "name": "stdout",
          "text": [
            "========================================================\n",
            "     === Welcome to Student Report Card CLI ===\n",
            "========================================================\n"
          ]
        }
      ],
      "source": [
        "# Welcome Message\n",
        "print(\"========================================================\")\n",
        "print(\"     === Welcome to Student Report Card CLI ===\")\n",
        "print(\"========================================================\")\n",
        "\n",
        "# THis program will help you calculate grades"
      ]
    },
    {
      "cell_type": "code",
      "source": [],
      "metadata": {
        "id": "9TlA_8ztOGZh"
      },
      "execution_count": null,
      "outputs": []
    }
  ]
}