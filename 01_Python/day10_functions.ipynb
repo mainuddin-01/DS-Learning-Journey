{
  "nbformat": 4,
  "nbformat_minor": 0,
  "metadata": {
    "colab": {
      "provenance": []
    },
    "kernelspec": {
      "name": "python3",
      "display_name": "Python 3"
    },
    "language_info": {
      "name": "python"
    }
  },
  "cells": [
    {
      "cell_type": "markdown",
      "source": [
        "# Day 10 — Functions (clear, practical, beginner-friendly)"
      ],
      "metadata": {
        "id": "SPlKdVl_Y8Gw"
      }
    },
    {
      "cell_type": "markdown",
      "source": [
        "# Functions\n",
        "- Means Code Reusability.\n",
        "- It performs a specific task\n",
        "\n",
        "Use\n",
        "- def to define a function.\n",
        "- return to send a result back.\n",
        "\n",
        "When to use:\n",
        "- when you want to organize, reuse, test, or isolate logic (e.g., a grade calculator, a parser, a data-cleaning step).\n",
        "\n",
        "Key concepts:\n",
        "- parameters (inputs), return value (output), default parameters, *args / **kwargs, docstrings, scope (local vs global).\n"
      ],
      "metadata": {
        "id": "p5mwQyNycJUP"
      }
    },
    {
      "cell_type": "markdown",
      "source": [
        "# Types of Functions :\n",
        "Basically functions are two types\n",
        "\n",
        "- 1. Built-in functions:\n",
        "Functions that are built into Python like:\n",
        "  - all(), any(), bin(), bool(), bytes(), callable(), chr(), print(), file(),len(), input()...etc.!\n",
        "\n",
        "- 2. User-defined functions (Building our Own Functions)\n",
        "  - Functions defined by the users themselves as per client or business requirements..!!\n"
      ],
      "metadata": {
        "id": "vaYxGQ2_c1mN"
      }
    },
    {
      "cell_type": "markdown",
      "source": [
        "# Simple rules to define a function in Python:\n",
        "- 1 Function blocks begin with the keyword 'def', the function name & parentheses ( ).\n",
        "- 2 Any input parameters or arguments should be placed within these parentheses.\n",
        "- 3 The first statement of a function can be an optional; it is a docstring.\n",
        "- 4 The code block within every function starts with a colon (:) and is indented.\n",
        "- 5 A return statement with no arguments is the same as return None.\n"
      ],
      "metadata": {
        "id": "-x9PZx9PdPjO"
      }
    },
    {
      "cell_type": "markdown",
      "source": [
        "# Syntax (basic)\n",
        "\n"
      ],
      "metadata": {
        "id": "ARoowhsodnp9"
      }
    },
    {
      "cell_type": "code",
      "execution_count": null,
      "metadata": {
        "colab": {
          "base_uri": "https://localhost:8080/",
          "height": 193
        },
        "collapsed": true,
        "id": "kD0UwS6oNTar",
        "outputId": "5e1a2e2c-c2b7-4829-c8ee-09cfc5e726a3"
      },
      "outputs": [
        {
          "output_type": "error",
          "ename": "NameError",
          "evalue": "name 'default_value' is not defined",
          "traceback": [
            "\u001b[0;31m---------------------------------------------------------------------------\u001b[0m",
            "\u001b[0;31mNameError\u001b[0m                                 Traceback (most recent call last)",
            "\u001b[0;32m/tmp/ipython-input-3031279763.py\u001b[0m in \u001b[0;36m<cell line: 0>\u001b[0;34m()\u001b[0m\n\u001b[0;32m----> 1\u001b[0;31m \u001b[0;32mdef\u001b[0m \u001b[0mfunction_name\u001b[0m\u001b[0;34m(\u001b[0m\u001b[0mparam1\u001b[0m\u001b[0;34m,\u001b[0m \u001b[0mparam2\u001b[0m\u001b[0;34m=\u001b[0m\u001b[0mdefault_value\u001b[0m\u001b[0;34m)\u001b[0m\u001b[0;34m:\u001b[0m\u001b[0;34m\u001b[0m\u001b[0;34m\u001b[0m\u001b[0m\n\u001b[0m\u001b[1;32m      2\u001b[0m     \u001b[0;34m\"\"\"Optional docstring explaining the function.\"\"\"\u001b[0m\u001b[0;34m\u001b[0m\u001b[0;34m\u001b[0m\u001b[0m\n\u001b[1;32m      3\u001b[0m     \u001b[0;31m# do something\u001b[0m\u001b[0;34m\u001b[0m\u001b[0;34m\u001b[0m\u001b[0m\n\u001b[1;32m      4\u001b[0m     \u001b[0;32mreturn\u001b[0m \u001b[0mresult\u001b[0m\u001b[0;34m\u001b[0m\u001b[0;34m\u001b[0m\u001b[0m\n",
            "\u001b[0;31mNameError\u001b[0m: name 'default_value' is not defined"
          ]
        }
      ],
      "source": [
        "def function_name(param1, param2=default_value):\n",
        "    \"\"\"Optional docstring explaining the function.\"\"\"\n",
        "    # do something\n",
        "    return result"
      ]
    },
    {
      "cell_type": "markdown",
      "source": [
        "# 2️⃣ Code Examples (2–3 practical, commented in simple language)"
      ],
      "metadata": {
        "id": "azLMONzMd20t"
      }
    },
    {
      "cell_type": "markdown",
      "source": [
        "Example 1 — simple add function"
      ],
      "metadata": {
        "id": "XhBiLX2Nd4sl"
      }
    },
    {
      "cell_type": "code",
      "source": [
        "def add(a,b):       # Called function\n",
        "  \"\"\" Addition of two numbers\"\"\"\n",
        "  total = a + b\n",
        "  return total\n",
        "\n",
        "addition = add(3,5) # Calling function\n",
        "\n",
        "# Printing the output\n",
        "print(addition)\n",
        "print(add(10, 20))"
      ],
      "metadata": {
        "colab": {
          "base_uri": "https://localhost:8080/"
        },
        "id": "jSZIoycxdrsH",
        "outputId": "054c0dfa-2563-4ecd-e7af-3db347abe0e0"
      },
      "execution_count": null,
      "outputs": [
        {
          "output_type": "stream",
          "name": "stdout",
          "text": [
            "8\n",
            "30\n"
          ]
        }
      ]
    },
    {
      "cell_type": "markdown",
      "source": [
        "Example 2 — average of a list (safe for empty lists)"
      ],
      "metadata": {
        "id": "ZwHA-dWNfo4G"
      }
    },
    {
      "cell_type": "code",
      "source": [
        "# Create a function\n",
        "def average(numbers):\n",
        "  \"\"\"This function is for finding a average of given numbers\"\"\"\n",
        "  if not numbers:\n",
        "    return None\n",
        "  total = sum(numbers)\n",
        "  length = len(numbers)\n",
        "  return total / length\n",
        "\n",
        "print(average([12, 13, 14]))\n",
        "print(average([]))"
      ],
      "metadata": {
        "colab": {
          "base_uri": "https://localhost:8080/"
        },
        "id": "hJ3Re0OhepEY",
        "outputId": "a0664634-d782-4dd9-8d45-b7e4782953ab"
      },
      "execution_count": null,
      "outputs": [
        {
          "output_type": "stream",
          "name": "stdout",
          "text": [
            "13.0\n",
            "None\n"
          ]
        }
      ]
    },
    {
      "cell_type": "markdown",
      "source": [
        "\n",
        "# Various Forms of Function Arguments:[Input()]\n",
        "- You can call a function by using the following types of formal arguments:\n",
        "  - 1 Required Arguments or Positional Arguments\n",
        "  - 2 Keyword Arguments\n",
        "  - 3 Default Arguments\n",
        "  - 4 Variable-Length/Arbitrary Arguments\n"
      ],
      "metadata": {
        "id": "ozrm_g0hiJsJ"
      }
    },
    {
      "cell_type": "markdown",
      "source": [
        "1. Positional Arguments\n",
        "- Arguments passed must match the function parameter from  left to right\n"
      ],
      "metadata": {
        "id": "o05v77WCix-W"
      }
    },
    {
      "cell_type": "code",
      "source": [
        "def greet(name, greetings):\n",
        "  \"\"\"Return a friendly message\"\"\"\n",
        "  return f\"{greetings}, {name}\"\n",
        "\n",
        "print(greet(\"Momin\", \"Hello\"))\n",
        "\n",
        "# NOTE:TypeError: printMy() missing 1 required positional argument: 'str'"
      ],
      "metadata": {
        "colab": {
          "base_uri": "https://localhost:8080/"
        },
        "id": "DmGOz36zi6ZW",
        "outputId": "1c6ba25c-f534-4520-88a3-d7379b58c027"
      },
      "execution_count": null,
      "outputs": [
        {
          "output_type": "stream",
          "name": "stdout",
          "text": [
            "Hello, Momin\n"
          ]
        }
      ]
    },
    {
      "cell_type": "markdown",
      "source": [
        "2. Keyword Arguments(Parameters)\n",
        "- We can call a function  by specifying the keyword argument in the form argument name= value\n"
      ],
      "metadata": {
        "id": "0arkOCyokEPs"
      }
    },
    {
      "cell_type": "code",
      "source": [
        "def greet(name, greetings):\n",
        "  \"\"\"Return friendly message\"\"\"\n",
        "  return f\"{greetings}, {name}\"\n",
        "\n",
        "print(greet(greetings=\"Hello\", name=\"Momin\"))"
      ],
      "metadata": {
        "colab": {
          "base_uri": "https://localhost:8080/"
        },
        "id": "XvKC9eeikS3i",
        "outputId": "911421f0-5381-4e3e-b604-70c135311c13"
      },
      "execution_count": null,
      "outputs": [
        {
          "output_type": "stream",
          "name": "stdout",
          "text": [
            "Hello, Momin\n"
          ]
        }
      ]
    },
    {
      "cell_type": "markdown",
      "source": [
        "3. Default Argument Values\n",
        "- We can assign default value for arguments to receive if the call passes too few values\n",
        "\n",
        "OR\n",
        "- A default value can be written in the format \"argument1 = value\", therefore we will have the option to declare or not declare a value for those arguments.\n"
      ],
      "metadata": {
        "id": "_YFIedEdlDp7"
      }
    },
    {
      "cell_type": "code",
      "source": [
        "def greet(name, greetings=\"Hello\"):\n",
        "  \"\"\"Return friendly message\"\"\"\n",
        "  return f\"{greetings}, {name}\"\n",
        "\n",
        "print(greet(\"Momin\"))\n",
        "print(greet(\"Momin\", \"Hi\"))\n"
      ],
      "metadata": {
        "colab": {
          "base_uri": "https://localhost:8080/"
        },
        "id": "mcIaAYSWlMqg",
        "outputId": "33bf4c18-6d58-42c5-9b8f-f0cae51bcc69"
      },
      "execution_count": null,
      "outputs": [
        {
          "output_type": "stream",
          "name": "stdout",
          "text": [
            "Hello, Momin\n",
            "Hi, Momin\n"
          ]
        }
      ]
    },
    {
      "cell_type": "markdown",
      "source": [
        "4. Arbitrary Argument lists  or Variable-length arguments\n",
        "- Add an arbitary argument in the function definition  start the variable name with  *\n"
      ],
      "metadata": {
        "id": "B9oyFi71lenm"
      }
    },
    {
      "cell_type": "code",
      "source": [
        "def shopping_bill(*items):\n",
        "  print(\"Total purchased:\", items)\n",
        "  print(\"Total items:\", len(items))\n",
        "\n",
        "shopping_bill(\"apple\", \"banana\", \"cherry\")"
      ],
      "metadata": {
        "colab": {
          "base_uri": "https://localhost:8080/"
        },
        "id": "KOlmgMt3lohg",
        "outputId": "da4b30b5-4a40-4bb0-c061-43a0fcfd980e"
      },
      "execution_count": null,
      "outputs": [
        {
          "output_type": "stream",
          "name": "stdout",
          "text": [
            "Total purchased: ('apple', 'banana', 'cherry')\n",
            "Total items: 3\n"
          ]
        }
      ]
    },
    {
      "cell_type": "markdown",
      "source": [
        "Great 👍 Let’s go step by step.\n",
        "\n",
        "---\n",
        "\n",
        "## 🔹 `*args` vs `**kwargs`\n",
        "\n",
        "### 1. `*args`\n",
        "\n",
        "* Collects **positional arguments** (just values, no names).\n",
        "* Stored as a **tuple**.\n",
        "\n",
        "✅ Example:\n",
        "\n",
        "```python\n",
        "def fun(*args):\n",
        "    print(args)\n",
        "\n",
        "fun(10, 20, 30)\n",
        "```\n",
        "\n",
        "🖥 Output:\n",
        "\n",
        "```\n",
        "(10, 20, 30)\n",
        "```\n",
        "\n",
        "---\n",
        "\n",
        "### 2. `**kwargs`\n",
        "\n",
        "* Collects **keyword arguments** (values with names, like `name=\"Momin\"`).\n",
        "* Stored as a **dictionary** (`key:value`).\n",
        "\n",
        "✅ Example:\n",
        "\n",
        "```python\n",
        "def fun(**kwargs):\n",
        "    print(kwargs)\n",
        "\n",
        "fun(name=\"Momin\", age=23, city=\"Delhi\")\n",
        "```\n",
        "\n",
        "🖥 Output:\n",
        "\n",
        "```\n",
        "{'name': 'Momin', 'age': 23, 'city': 'Delhi'}\n",
        "```\n",
        "\n",
        "---\n",
        "\n",
        "### 3. Using Both Together\n",
        "\n",
        "You can even use `*args` and `**kwargs` in the **same function**:\n",
        "\n",
        "```python\n",
        "def introduce(*args, **kwargs):\n",
        "    print(\"Positional args:\", args)\n",
        "    print(\"Keyword args:\", kwargs)\n",
        "\n",
        "introduce(\"Python\", \"Data Science\", name=\"Momin\", age=23)\n",
        "```\n",
        "\n",
        "🖥 Output:\n",
        "\n",
        "```\n",
        "Positional args: ('Python', 'Data Science')\n",
        "Keyword args: {'name': 'Momin', 'age': 23}\n",
        "```\n",
        "\n",
        "---\n",
        "\n",
        "### ⚡ When to Use?\n",
        "\n",
        "* Use `*args` → when you don’t know **how many values** will be passed.\n",
        "* Use `**kwargs` → when you don’t know **how many named values** will be passed.\n",
        "\n",
        "---\n",
        "\n",
        "👉 Think like this:\n",
        "\n",
        "* `*args` = a bag of values (1,2,3,4).\n",
        "* `**kwargs` = a labeled bag (name=Ali, age=20).\n",
        "\n",
        "---\n",
        "\n",
        "Do you want me to make a **real-life project-like example** where both `*args` and `**kwargs` are used together?\n"
      ],
      "metadata": {
        "id": "zkY1AFxMnrAw"
      }
    },
    {
      "cell_type": "markdown",
      "source": [
        "Example 3 — default argument + *args"
      ],
      "metadata": {
        "id": "sjn6jXYkheYl"
      }
    },
    {
      "cell_type": "code",
      "source": [
        "# Example 3: greeting with optional extra words\n",
        "def greet(name, greeting=\"Hello\", *extras):\n",
        "    \"\"\"Return a friendly message. extras are optional extra words.\"\"\"\n",
        "    extra_text = \" \".join(extras)            # join extra words if present\n",
        "    message = f\"{greeting}, {name}!\"\n",
        "    if extra_text:\n",
        "        message += \" \" + extra_text\n",
        "    return message\n",
        "\n",
        "print(greet(\"Momin\"))                       # -> Hello, Momin!\n",
        "print(greet(\"Momin\", \"Hi\", \"Welcome\", \"🙂\"))# -> Hi, Momin! Welcome 🙂\n"
      ],
      "metadata": {
        "colab": {
          "base_uri": "https://localhost:8080/"
        },
        "id": "r7VgoP1vgn-h",
        "outputId": "79c65774-631f-4081-9731-e7f51d70417e"
      },
      "execution_count": null,
      "outputs": [
        {
          "output_type": "stream",
          "name": "stdout",
          "text": [
            "Hello, Momin!\n",
            "Hi, Momin! Welcome 🙂\n"
          ]
        }
      ]
    },
    {
      "cell_type": "markdown",
      "source": [
        "Got it 👍 Let’s keep it super short and simple:\n",
        "\n",
        "---\n",
        "\n",
        "## 🔹 Local Variable\n",
        "\n",
        "* Defined **inside a function**.\n",
        "* Can be used **only inside that function**.\n",
        "* Created when function starts, destroyed when function ends.\n",
        "\n",
        "✅ Example:\n",
        "\n",
        "```python\n",
        "def fun():\n",
        "    x = 10   # local variable\n",
        "    print(\"Inside:\", x)\n",
        "\n",
        "fun()\n",
        "# print(x)  # ❌ Error: x not accessible outside\n",
        "```\n",
        "\n",
        "---\n",
        "\n",
        "## 🔹 Global Variable\n",
        "\n",
        "* Defined **outside all functions**.\n",
        "* Can be used **anywhere in the program** (inside or outside functions).\n",
        "\n",
        "✅ Example:\n",
        "\n",
        "```python\n",
        "x = 50   # global variable\n",
        "\n",
        "def fun():\n",
        "    print(\"Inside:\", x)\n",
        "\n",
        "fun()\n",
        "print(\"Outside:\", x)\n",
        "```\n",
        "\n",
        "---\n",
        "\n",
        "## 🔹 If You Want to Modify Global Variable Inside a Function\n",
        "\n",
        "Use `global` keyword:\n",
        "\n",
        "```python\n",
        "x = 100\n",
        "\n",
        "def fun():\n",
        "    global x\n",
        "    x = 200   # modifies global x\n",
        "    print(\"Inside:\", x)\n",
        "\n",
        "fun()\n",
        "print(\"Outside:\", x)\n",
        "```\n",
        "\n",
        "🖥 Output:\n",
        "\n",
        "```\n",
        "Inside: 200\n",
        "Outside: 200\n",
        "```\n",
        "\n",
        "---\n",
        "\n",
        "👉 In short:\n",
        "\n",
        "* **Local variable** → lives only inside a function.\n",
        "* **Global variable** → lives everywhere.\n",
        "\n",
        "Do you want me to also explain with a **real-life analogy** (like school/classroom example)?\n"
      ],
      "metadata": {
        "id": "j5P3-YiroPJg"
      }
    },
    {
      "cell_type": "markdown",
      "source": [
        "# 3️⃣ Practice Exercises (start easy → slightly harder)\n",
        "Try to write, run, and test each with several inputs.\n"
      ],
      "metadata": {
        "id": "Q4yeIBzIqqeq"
      }
    },
    {
      "cell_type": "markdown",
      "source": [
        "1.\tWrite add(a, b) — returns a + b."
      ],
      "metadata": {
        "id": "9pngRSzaqv3Z"
      }
    },
    {
      "cell_type": "code",
      "source": [
        "def add(a, b):\n",
        "  \"\"\"Addition of two numbers\"\"\"\n",
        "  total = a + b\n",
        "  return total\n",
        "\n",
        "addition = add(3,5)\n",
        "print(addition)"
      ],
      "metadata": {
        "colab": {
          "base_uri": "https://localhost:8080/"
        },
        "id": "R7tTHmOjh-SQ",
        "outputId": "69ca7705-0b1c-4d08-9c6e-70c3e8fc1f8c"
      },
      "execution_count": null,
      "outputs": [
        {
          "output_type": "stream",
          "name": "stdout",
          "text": [
            "8\n"
          ]
        }
      ]
    },
    {
      "cell_type": "markdown",
      "source": [
        "2.\tWrite is_even(n) — returns True if n is even, else False."
      ],
      "metadata": {
        "id": "kraOLqkjq6cb"
      }
    },
    {
      "cell_type": "code",
      "source": [
        "def is_even(n):\n",
        "  \"\"\"Return True if n is even, else False\"\"\"\n",
        "  return True if n % 2 == 0 else False\n",
        "\n",
        "print(is_even(2))\n",
        "print(is_even(3))"
      ],
      "metadata": {
        "colab": {
          "base_uri": "https://localhost:8080/"
        },
        "id": "SgdAIgCeq3I6",
        "outputId": "51db5008-3793-4102-b529-6da662128d22"
      },
      "execution_count": null,
      "outputs": [
        {
          "output_type": "stream",
          "name": "stdout",
          "text": [
            "True\n",
            "False\n"
          ]
        }
      ]
    },
    {
      "cell_type": "markdown",
      "source": [
        "3.\tWrite factorial(n) (iterative) — return n!. Test for 0, 1, 5."
      ],
      "metadata": {
        "id": "n7U3Mh-VrrDY"
      }
    },
    {
      "cell_type": "code",
      "source": [
        "def factorial(n):\n",
        "  \"\"\"Return n!\"\"\"\n",
        "  result = 1\n",
        "  for i in range(1, n + 1):\n",
        "    result *= i\n",
        "    print(result, end=\" \")\n",
        "  return result\n",
        "\n",
        "print(factorial(0))\n",
        "print(factorial(1))\n",
        "print(factorial(5))\n",
        "# Return factorial of numbers"
      ],
      "metadata": {
        "colab": {
          "base_uri": "https://localhost:8080/"
        },
        "id": "iblCISlTrjjL",
        "outputId": "bcf4e031-0cd4-4500-afa0-d43217badb7f"
      },
      "execution_count": null,
      "outputs": [
        {
          "output_type": "stream",
          "name": "stdout",
          "text": [
            "1\n",
            "1 1\n",
            "1 2 6 24 120 120\n"
          ]
        }
      ]
    },
    {
      "cell_type": "markdown",
      "source": [
        "4.\tWrite fibonacci(n) — return first n Fibonacci numbers as a list.\n",
        "- The Fibonacci sequence is a series of numbers where each number is the sum of the two preceding ones, usually starting with 0 and 1. So the sequence goes:\n",
        "\n",
        "  - 0, 1, 1, 2, 3, 5, 8, 13, 21, and so on"
      ],
      "metadata": {
        "id": "1qMS3j8vtm2c"
      }
    },
    {
      "cell_type": "code",
      "source": [
        "def fibonacci(n):\n",
        "  \"\"\"Return first n Fibonacci numbers as a list\"\"\"\n",
        "  fib = [0, 1]\n",
        "  for i in range(2, n):\n",
        "    fib.append(fib[i-1] + fib[i-2])\n",
        "  return fib\n",
        "\n",
        "print(fibonacci(10))\n"
      ],
      "metadata": {
        "id": "nGbHGOqQtQuG",
        "colab": {
          "base_uri": "https://localhost:8080/"
        },
        "outputId": "e6a7cbf2-04b0-4fda-bb38-401ce8703324"
      },
      "execution_count": null,
      "outputs": [
        {
          "output_type": "stream",
          "name": "stdout",
          "text": [
            "[0, 1, 1, 2, 3, 5, 8, 13, 21, 34]\n"
          ]
        }
      ]
    },
    {
      "cell_type": "markdown",
      "source": [
        "5.\tWrite count_vowels(s) — return number of vowels in string s."
      ],
      "metadata": {
        "id": "VH9YuzJduuMn"
      }
    },
    {
      "cell_type": "code",
      "source": [
        "def count_vowels(s):\n",
        "  \"\"\"Return number of vowels in string s.\"\"\"\n",
        "  vowels = \"aeiouAEIOU\"\n",
        "  count = 0\n",
        "  for char in s:\n",
        "    if char in vowels:\n",
        "      count += 1\n",
        "  return count\n",
        "\n",
        "print(count_vowels(\"Hello World\"))\n",
        "print(count_vowels(\"Python Programming\"))\n",
        "print(count_vowels(\"AEIOUaeiou\"))\n",
        "print(count_vowels(\"Rhythm\"))"
      ],
      "metadata": {
        "id": "g0D6r-NnuXDL"
      },
      "execution_count": null,
      "outputs": []
    },
    {
      "cell_type": "markdown",
      "source": [
        "6.\tWrite palindrome(s) — return True if s is palindrome (ignore case/spaces)."
      ],
      "metadata": {
        "id": "miU6-O7ovRpw"
      }
    },
    {
      "cell_type": "code",
      "source": [
        "def palindrome(s):\n",
        "  \"\"\"Return True if s is palindrome (ignore case/spaces).\"\"\"\n",
        "  # Remove spaces and convert to lowercase\n",
        "  cleaned_s = \"\".join(s.split()).lower()\n",
        "  # Check if the cleaned string is equal to its reverse\n",
        "  return cleaned_s == cleaned_s[::-1]\n",
        "\n",
        "print(palindrome(\"Racecar\"))\n",
        "print(palindrome(\"hello\"))\n",
        "print(palindrome(\"A man a plan a canal Panama\"))\n",
        "print(palindrome(\"No 'peep' show for the public.\"))"
      ],
      "metadata": {
        "id": "dYO-5NTYvSJb"
      },
      "execution_count": null,
      "outputs": []
    },
    {
      "cell_type": "markdown",
      "source": [
        "7.\tWrite max_two(nums) — return the two largest numbers from a list (handle lists <2 elements)."
      ],
      "metadata": {
        "id": "xFkdst1IvnMk"
      }
    },
    {
      "cell_type": "code",
      "source": [
        "def max_two(nums):\n",
        "  \"\"\"Return the two largest numbers from a list (handle lists <2 elements).\"\"\"\n",
        "  if len(nums) < 2:\n",
        "    return nums  # Return the list as is if it has less than 2 elements\n",
        "  sorted_nums = sorted(nums, reverse=True)\n",
        "  return sorted_nums[:2]\n",
        "\n",
        "print(max_two([1, 5, 2, 8, 3, 9]))\n",
        "print(max_two([10]))\n",
        "print(max_two([]))\n",
        "print(max_two([7, 7, 7, 7]))"
      ],
      "metadata": {
        "colab": {
          "base_uri": "https://localhost:8080/"
        },
        "id": "Zu4la7Kgvnu8",
        "outputId": "3a72e38f-5330-4805-b79b-6e7f1f8491d9"
      },
      "execution_count": null,
      "outputs": [
        {
          "output_type": "stream",
          "name": "stdout",
          "text": [
            "[9, 8]\n",
            "[10]\n",
            "[]\n",
            "[7, 7]\n"
          ]
        }
      ]
    },
    {
      "cell_type": "markdown",
      "source": [
        "8.\tCombine: write grade_student(marks_list) — returns percentage and grade (use if/elif inside function)."
      ],
      "metadata": {
        "id": "kmmyb9Acvz4Y"
      }
    },
    {
      "cell_type": "code",
      "source": [
        "def grade_student(marks_list):\n",
        "  \"\"\"Returns percentage and grade based on a list of marks.\"\"\"\n",
        "  if not marks_list:\n",
        "    return 0, \"N/A\"  # Handle empty list case\n",
        "\n",
        "  total_marks = sum(marks_list)\n",
        "  percentage = (total_marks / len(marks_list))\n",
        "\n",
        "  if percentage >= 90:\n",
        "    grade = \"A+\"\n",
        "  elif percentage >= 80:\n",
        "    grade = \"A\"\n",
        "  elif percentage >= 70:\n",
        "    grade = \"B\"\n",
        "  elif percentage >= 60:\n",
        "    grade = \"C\"\n",
        "  elif percentage >= 50:\n",
        "    grade = \"D\"\n",
        "  else:\n",
        "    grade = \"F\"\n",
        "\n",
        "  return percentage, grade\n",
        "\n",
        "# Example usage:\n",
        "marks1 = [85, 90, 78, 92, 88]\n",
        "percentage1, grade1 = grade_student(marks1)\n",
        "print(f\"Marks: {marks1}, Percentage: {percentage1:.2f}%, Grade: {grade1}\")\n",
        "\n",
        "marks2 = [45, 55, 60, 48]\n",
        "percentage2, grade2 = grade_student(marks2)\n",
        "print(f\"Marks: {marks2}, Percentage: {percentage2:.2f}%, Grade: {grade2}\")\n",
        "\n",
        "marks3 = []\n",
        "percentage3, grade3 = grade_student(marks3)\n",
        "print(f\"Marks: {marks3}, Percentage: {percentage3:.2f}%, Grade: {grade3}\")"
      ],
      "metadata": {
        "id": "m4oQoFxlvyIF"
      },
      "execution_count": null,
      "outputs": []
    }
  ]
}