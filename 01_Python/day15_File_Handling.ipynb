{
  "nbformat": 4,
  "nbformat_minor": 0,
  "metadata": {
    "colab": {
      "provenance": []
    },
    "kernelspec": {
      "name": "python3",
      "display_name": "Python 3"
    },
    "language_info": {
      "name": "python"
    }
  },
  "cells": [
    {
      "cell_type": "markdown",
      "source": [
        "# 🧠 1️⃣ Topic of the Day: Working with Files in Python\n",
        "\n",
        "🔍 What Are Files?\n",
        "- A file is a collection of data stored on a disk. Python allows you to read, write, append, and manage files using built-in functions and methods.\n",
        "\n",
        "🧩 Key Operations\n",
        "- 1.\tOpen a file – with open()\n",
        "- 2.\tRead/Write – using .read(), .write(), etc.\n",
        "- 3.\tAppend – add new data without deleting old content\n",
        "- 4.\tClose – free resources with .close()\n",
        "\n",
        "🧠 Syntax:\n",
        "file_object = open(filename, mode, encoding)\n",
        "\n",
        "Common Modes:\n",
        "Mode\tDescription\n",
        "- 'r':\tRead (default)\n",
        "- 'w':\tWrite (overwrites file)\n",
        "- 'a':\tAppend (adds to end)\n",
        "- 'x':\tCreate new file\n",
        "- 'r+':\tRead + Write\n",
        "- 'b':\tBinary mode\n",
        "- 't':\tText mode (default)\n",
        "\n",
        "💡 Best Practice: Use with open() to automatically close the file after use.\n"
      ],
      "metadata": {
        "id": "OVyb3mRWpsD-"
      }
    },
    {
      "cell_type": "markdown",
      "source": [
        "# 💻 2️⃣ Code Examples"
      ],
      "metadata": {
        "id": "fmzL7BDcotow"
      }
    },
    {
      "cell_type": "markdown",
      "source": [
        "✅ Example 1 — Writing and Reading a File"
      ],
      "metadata": {
        "id": "NtdBbkedoy28"
      }
    },
    {
      "cell_type": "code",
      "execution_count": null,
      "metadata": {
        "id": "21TCF0FJQcRX"
      },
      "outputs": [],
      "source": [
        "# Write data into a file\n",
        "with open(\"demo.txt\",\"w\",encoding=\"utf-8\") as f:\n",
        "    f.write(\"Welcome to Python File Handling\\n\")\n",
        "    f.write(\"This file containg text data.\\n\")"
      ]
    },
    {
      "cell_type": "code",
      "source": [
        "# Read the file content\n",
        "with open(\"demo.txt\", \"r\", encoding=\"utf-8\") as m:\n",
        "  data = m.read()\n",
        "  print(\"File Content:\\n\",data)\n",
        "\n",
        "# Here, with open() ensures automatic closing of the file."
      ],
      "metadata": {
        "colab": {
          "base_uri": "https://localhost:8080/"
        },
        "id": "NUSfqYLioWBU",
        "outputId": "fc6a8889-6bb4-44b4-8ae0-d6673abba926"
      },
      "execution_count": null,
      "outputs": [
        {
          "output_type": "stream",
          "name": "stdout",
          "text": [
            "File Content:\n",
            " Welcome to Python File Handling\n",
            "This file containg text data.\n",
            "\n"
          ]
        }
      ]
    },
    {
      "cell_type": "markdown",
      "source": [
        "✅ Example 2 — Counting Lines, Words, and Characters"
      ],
      "metadata": {
        "id": "MYLYg_uHpfE_"
      }
    },
    {
      "cell_type": "code",
      "source": [
        "with open(\"demo.txt\",\"r\",encoding=\"utf-8\") as m:\n",
        "  lines = m.readlines()\n",
        "  # word_count = 0\n",
        "  # char_count = 0\n",
        "  # for line in lines:\n",
        "  #   words = line.split()\n",
        "  #   word_count += len(words)\n",
        "  #   char_count += len(line)\n",
        "  word_count = sum(len(line.split()) for line in lines)\n",
        "  char_count = sum(len(line) for line in lines)\n",
        "\n",
        "print(lines)\n",
        "print(\"Line Count:\",len(lines))\n",
        "print(\"Word Count:\",word_count)\n",
        "print(\"Character Count:\",char_count)"
      ],
      "metadata": {
        "colab": {
          "base_uri": "https://localhost:8080/"
        },
        "id": "eodgccChpUAc",
        "outputId": "3d3dce3d-718a-48a4-a18d-03ef1c1c84bb"
      },
      "execution_count": null,
      "outputs": [
        {
          "output_type": "stream",
          "name": "stdout",
          "text": [
            "['Welcome to Python File Handling\\n', 'This file containg text data.\\n']\n",
            "Line Count: 2\n",
            "Word Count: 10\n",
            "Character Count: 62\n"
          ]
        }
      ]
    },
    {
      "cell_type": "markdown",
      "source": [
        "✅ Example 3 — Real-world Data Appending"
      ],
      "metadata": {
        "id": "AW_8gveWsR5C"
      }
    },
    {
      "cell_type": "code",
      "source": [
        "# Add new customer data to the log file.\n",
        "with open(\"customer_log.txt\",\"w\",encoding=\"utf-8\") as log:\n",
        "    log.write(\"Customer ID: 101 | Status: Active\\n\")\n",
        "    log.write(\"Customer ID: 102 | Status: Inactive\\n\")\n",
        "print(\"Customer log updated successfully.\")\n",
        "# 💡 Appending is useful for logging or continuous data collection\n",
        "\n"
      ],
      "metadata": {
        "colab": {
          "base_uri": "https://localhost:8080/"
        },
        "id": "9f4vinDxqrdQ",
        "outputId": "8e0342c2-c356-4926-de62-a4e8c04822dc"
      },
      "execution_count": null,
      "outputs": [
        {
          "output_type": "stream",
          "name": "stdout",
          "text": [
            "Customer log updated successfully.\n"
          ]
        }
      ]
    },
    {
      "cell_type": "code",
      "source": [
        "# Read the file content\n",
        "with open(\"customer_log.txt\", \"r\", encoding=\"utf-8\") as m:\n",
        "  data = m.read()\n",
        "  print(\"File Content:\\n\",data)"
      ],
      "metadata": {
        "colab": {
          "base_uri": "https://localhost:8080/"
        },
        "id": "sFhYYmR2tPP8",
        "outputId": "1f652c98-fa62-4996-80f7-cb28dc8dc362"
      },
      "execution_count": null,
      "outputs": [
        {
          "output_type": "stream",
          "name": "stdout",
          "text": [
            "File Content:\n",
            " Customer ID: 101 | Status: Active\n",
            "Customer ID: 102 | Status: Inactive\n",
            "\n"
          ]
        }
      ]
    },
    {
      "cell_type": "code",
      "source": [],
      "metadata": {
        "id": "K1zY1TdotZiE"
      },
      "execution_count": null,
      "outputs": []
    }
  ]
}