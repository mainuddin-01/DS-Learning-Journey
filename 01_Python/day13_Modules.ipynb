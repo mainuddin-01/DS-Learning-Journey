{
  "nbformat": 4,
  "nbformat_minor": 0,
  "metadata": {
    "colab": {
      "provenance": []
    },
    "kernelspec": {
      "name": "python3",
      "display_name": "Python 3"
    },
    "language_info": {
      "name": "python"
    }
  },
  "cells": [
    {
      "cell_type": "markdown",
      "source": [
        "# Day 15: Working with Python Modules\n"
      ],
      "metadata": {
        "id": "BkxfPHTrOePA"
      }
    },
    {
      "cell_type": "markdown",
      "source": [
        "# 🧠 1️⃣ Topic of the Day: Python Modules"
      ],
      "metadata": {
        "id": "FsDPjz4BOn-T"
      }
    },
    {
      "cell_type": "markdown",
      "source": [
        "**Definition & Explanation:**\n",
        "- A **module** is a file containing Python code (functions, classes, variables) that can be reused in other Python programs.\n",
        "- Modules help **organize code, avoid repetition, and scale projects**.\n",
        "- Python has **built-in modules** (like math, random, os) and you can also create **your own modules**.\n"
      ],
      "metadata": {
        "id": "dFAl7mXDOwtD"
      }
    },
    {
      "cell_type": "markdown",
      "source": [
        "**Key Points / Notes for Notebook:**\n",
        "- Importing a module: import module_name\n",
        "- Using a module’s function: module_name.function_name()\n",
        "- Import specific functions: from module_name import function_name\n",
        "- Alias a module: import module_name as alias\n",
        "- Custom modules: save Python code in .py file and import it elsewhere.\n"
      ],
      "metadata": {
        "id": "1qbl15XynsfB"
      }
    },
    {
      "cell_type": "markdown",
      "source": [
        "**Syntax Examples:**"
      ],
      "metadata": {
        "id": "pYkd1yIaoKsN"
      }
    },
    {
      "cell_type": "code",
      "execution_count": null,
      "metadata": {
        "id": "Jwfvj_Vozrz_"
      },
      "outputs": [],
      "source": [
        "import math # import entire module\n",
        "from math import sqrt # Import specific function\n",
        "import math as m # Import module with alias"
      ]
    },
    {
      "cell_type": "markdown",
      "source": [
        "**When & Why to Use:**\n",
        "- Reuse code across multiple projects.\n",
        "- Access standard functions without rewriting logic.\n",
        "- Organize large programs into multiple files.\n"
      ],
      "metadata": {
        "id": "dJzwV7_jpCm5"
      }
    },
    {
      "cell_type": "markdown",
      "source": [
        "# 🧩2️⃣ PDF Notes"
      ],
      "metadata": {
        "id": "OJrATDpw6vYi"
      }
    },
    {
      "cell_type": "markdown",
      "source": [
        "Perfect 🔥 — here’s a **clean, beginner-friendly notebook summary** of all **major points** from your text on **Python Built-in Modules**, **Math**, **Random**, **Operator**, **Decimal**, **String**, and **Packages** 👇\n",
        "\n",
        "---\n",
        "\n",
        "## 🧠 PYTHON BUILT-IN MODULES — MAJOR POINTS (NOTES FOR NOTEBOOK)\n",
        "\n",
        "### 🔹 What are Modules?\n",
        "\n",
        "* A **module** is a Python file containing code (functions, variables, classes).\n",
        "* It helps in **code reusability**, **organization**, and **modularity**.\n",
        "* To use a module → `import module_name`\n",
        "\n",
        "---\n",
        "\n",
        "### 📦 Common Built-in Modules & Their Purpose\n",
        "\n",
        "| Module       | Description                                           |\n",
        "| ------------ | ----------------------------------------------------- |\n",
        "| **math**     | Performs mathematical operations.                     |\n",
        "| **random**   | Generates random numbers.                             |\n",
        "| **operator** | Provides predefined operator functions.               |\n",
        "| **decimal**  | For precise decimal arithmetic (better than float).   |\n",
        "| **string**   | Provides constants and functions for string handling. |\n",
        "\n",
        "---\n",
        "\n",
        "## 🧮 MATH MODULE — Key Functions\n",
        "\n",
        "| Function              | Description                                    | Example                      |\n",
        "| --------------------- | ---------------------------------------------- | ---------------------------- |\n",
        "| `abs(x)`              | Returns absolute value of `x`.                 | `abs(-45)` → `45`            |\n",
        "| `math.ceil(x)`        | Rounds number **upward** to nearest integer.   | `math.ceil(4.3)` → `5`       |\n",
        "| `math.floor(x)`       | Rounds number **downward** to nearest integer. | `math.floor(4.9)` → `4`      |\n",
        "| `math.fabs(x)`        | Returns absolute (positive) value as float.    | `math.fabs(-10.9)` → `10.9`  |\n",
        "| `math.factorial(x)`   | Returns factorial of x.                        | `math.factorial(5)` → `120`  |\n",
        "| `math.fsum(iterable)` | Returns precise sum of iterable values.        | `math.fsum([1,2,3])` → `6.0` |\n",
        "| `math.pow(x, y)`      | x raised to power y.                           | `math.pow(2,3)` → `8.0`      |\n",
        "| `round(x, n)`         | Rounds number `x` to `n` decimal places.       | `round(10.234,2)` → `10.23`  |\n",
        "| `math.sqrt(x)`        | Returns square root of x.                      | `math.sqrt(9)` → `3.0`       |\n",
        "\n",
        "✅ **Tip:** Always `import math` before using these.\n",
        "\n",
        "---\n",
        "\n",
        "## 🎲 RANDOM MODULE — Key Functions\n",
        "\n",
        "| Function                 | Description                                      | Example                  |\n",
        "| ------------------------ | ------------------------------------------------ | ------------------------ |\n",
        "| `random.random()`        | Random float between 0.0 and 1.0.                | `0.3542`                 |\n",
        "| `random.randint(x, y)`   | Random integer between x and y (inclusive).      | `random.randint(1,10)`   |\n",
        "| `random.randrange(x, y)` | Random integer between x and y (exclusive of y). | `random.randrange(1,10)` |\n",
        "| `random.uniform(x, y)`   | Random float between x and y.                    | `random.uniform(1,20)`   |\n",
        "| `random.choice(seq)`     | Randomly pick one element from a list/tuple.     | `random.choice([1,2,3])` |\n",
        "| `random.shuffle(seq)`    | Randomly reorder elements in a list.             | `random.shuffle(items)`  |\n",
        "| `random.sample(seq, k)`  | Picks k unique random elements from list.        | `random.sample(items,3)` |\n",
        "\n",
        "---\n",
        "\n",
        "## ⚙️ OPERATOR MODULE — Key Functions\n",
        "\n",
        "| Operation      | Expression             | Equivalent Function                   |                      |\n",
        "| -------------- | ---------------------- | ------------------------------------- | -------------------- |\n",
        "| Addition       | `a + b`                | `operator.add(a, b)`                  |                      |\n",
        "| Concatenation  | `seq1 + seq2`          | `operator.concat(seq1, seq2)`         |                      |\n",
        "| Contains Test  | `x in seq`             | `operator.contains(seq, x)`           |                      |\n",
        "| True Division  | `a / b`                | `operator.truediv(a, b)`              |                      |\n",
        "| Floor Division | `a // b`               | `operator.floordiv(a, b)`             |                      |\n",
        "| Bitwise AND    | `a & b`                | `operator.and_(a, b)`                 |                      |\n",
        "| Bitwise XOR    | `a ^ b`                | `operator.xor(a, b)`                  |                      |\n",
        "| Bitwise OR     | `a                     | b`                                    | `operator.or_(a, b)` |\n",
        "| Bitwise NOT    | `~a`                   | `operator.invert(a)`                  |                      |\n",
        "| Power          | `a ** b`               | `operator.pow(a, b)`                  |                      |\n",
        "| Comparison     | `<, <=, ==, !=, >=, >` | `operator.lt()`, `le()`, `eq()`, etc. |                      |\n",
        "\n",
        "✅ **Usage Example:**\n",
        "\n",
        "```python\n",
        "import operator\n",
        "a, b = 5, 10\n",
        "print(operator.lt(a, b))  # True\n",
        "print(operator.add(a, b)) # 15\n",
        "```\n",
        "\n",
        "---\n",
        "\n",
        "## 💰 DECIMAL MODULE — Accurate Decimal Arithmetic\n",
        "\n",
        "**Why use it?**\n",
        "\n",
        "* Avoid floating-point precision errors (useful in financial apps).\n",
        "\n",
        "**Syntax:**\n",
        "\n",
        "```python\n",
        "from decimal import Decimal\n",
        "\n",
        "x = Decimal('0.1') + Decimal('0.1') + Decimal('0.1')\n",
        "print(x == Decimal('0.3'))  # True\n",
        "```\n",
        "\n",
        "✅ **Tip:** Always wrap numbers as `Decimal('value')`, not float.\n",
        "\n",
        "---\n",
        "\n",
        "## 🔠 STRING MODULE — Constants & Utilities\n",
        "\n",
        "| Constant                 | Description                        |\n",
        "| ------------------------ | ---------------------------------- |\n",
        "| `string.ascii_letters`   | All ASCII letters (A–Z, a–z)       |\n",
        "| `string.ascii_lowercase` | Lowercase letters                  |\n",
        "| `string.ascii_uppercase` | Uppercase letters                  |\n",
        "| `string.digits`          | 0–9                                |\n",
        "| `string.hexdigits`       | Hexadecimal digits (0–9, a–f, A–F) |\n",
        "| `string.punctuation`     | All punctuation characters         |\n",
        "\n",
        "✅ **Usage Example:**\n",
        "\n",
        "```python\n",
        "import string\n",
        "print(string.ascii_letters)\n",
        "print(string.digits)\n",
        "```\n",
        "\n",
        "---\n",
        "\n",
        "## 📦 PACKAGES IN PYTHON — (Collection of Modules)\n",
        "\n",
        "### 🔹 What is a Package?\n",
        "\n",
        "* A **package** is a folder containing multiple Python modules.\n",
        "* It **must contain** a file named `__init__.py` (even if empty).\n",
        "* You can import modules using dot notation:\n",
        "\n",
        "  ```python\n",
        "  import PackageName.ModuleName\n",
        "  from PackageName.ModuleName import FunctionName\n",
        "  ```\n",
        "\n",
        "### 🔹 Steps to Create a Package\n",
        "\n",
        "1. Create a folder (e.g., `MyPackage`)\n",
        "2. Inside it, create an empty file `__init__.py`\n",
        "3. Add a Python file (e.g., `MyDemo.py`)\n",
        "4. Write your functions inside `MyDemo.py`\n",
        "5. Import and use:\n",
        "\n",
        "   ```python\n",
        "   import MyPackage.MyDemo\n",
        "   MyPackage.MyDemo.MyFun()\n",
        "   ```\n",
        "\n",
        "### 🔹 Creating a Subpackage\n",
        "\n",
        "* Folder inside a package with its own `__init__.py`.\n",
        "* Import with full path:\n",
        "\n",
        "  ```python\n",
        "  import MyPackage.SubPackage.MyDemo\n",
        "  MyPackage.SubPackage.MyDemo.MyFun()\n",
        "  ```\n",
        "\n",
        "### 🌟 Popular Python Packages\n",
        "\n",
        "* **requests** – for HTTP requests\n",
        "* **BeautifulSoup** – for web scraping\n",
        "* **boto3** – for AWS automation\n",
        "* **Pillow (PIL)** – image processing\n",
        "* **Pytest** – testing framework\n",
        "* **Pendulum** – better date & time handling\n",
        "\n",
        "---\n",
        "\n",
        "## 🧾 QUICK RECAP\n",
        "\n",
        "- ✅ **Built-in Modules** – ready to use (`math`, `random`, `string`, etc.)\n",
        "- ✅ **Math Module** – numeric operations\n",
        "- ✅ **Random Module** – random number generation\n",
        "- ✅ **Operator Module** – functional forms of operators\n",
        "- ✅ **Decimal Module** – accurate arithmetic\n",
        "- ✅ **String Module** – constants & text tools\n",
        "- ✅ **Packages** – folder collections of reusable modules\n",
        "\n",
        "---"
      ],
      "metadata": {
        "id": "joiSNua81k89"
      }
    },
    {
      "cell_type": "markdown",
      "source": [
        "# 💻 3️⃣ Code Examples"
      ],
      "metadata": {
        "id": "gmEyvsMyqVLQ"
      }
    },
    {
      "cell_type": "markdown",
      "source": [
        "Example 1: Using a Built-in Module"
      ],
      "metadata": {
        "id": "aN7fDA0ZqXXf"
      }
    },
    {
      "cell_type": "code",
      "source": [
        "import math # Import math module\n",
        "\n",
        "# Using sqrt() function to calculate square root\n",
        "print(math.sqrt(16))  # output: 4.0\n",
        "\n",
        "# Using pi constant from math\n",
        "print(math.pi)  # Output: 3.141592653589793"
      ],
      "metadata": {
        "colab": {
          "base_uri": "https://localhost:8080/"
        },
        "id": "M6sMajsgo31T",
        "outputId": "44651318-c3b7-4012-9a02-ee0f609287e4"
      },
      "execution_count": null,
      "outputs": [
        {
          "output_type": "stream",
          "name": "stdout",
          "text": [
            "4.0\n",
            "3.141592653589793\n"
          ]
        }
      ]
    },
    {
      "cell_type": "markdown",
      "source": [
        "Example 2: Import Specific Function"
      ],
      "metadata": {
        "id": "ffBGD5FbrCvv"
      }
    },
    {
      "cell_type": "code",
      "source": [
        "from random import randint  # Import only randint\n",
        "\n",
        "# Generate a random number between 1 to 10\n",
        "print(randint(1, 10))"
      ],
      "metadata": {
        "colab": {
          "base_uri": "https://localhost:8080/"
        },
        "id": "TAQT2uAqqxk4",
        "outputId": "5c2ab887-f449-4341-ad0f-ff999f40bf34"
      },
      "execution_count": null,
      "outputs": [
        {
          "output_type": "stream",
          "name": "stdout",
          "text": [
            "1\n"
          ]
        }
      ]
    },
    {
      "cell_type": "code",
      "source": [
        "!pip install my_module\n",
        "import my_module\n",
        "def greet(name):\n",
        "  print(f\"Hello, {name}!\")"
      ],
      "metadata": {
        "colab": {
          "base_uri": "https://localhost:8080/"
        },
        "id": "1BpOe5XDsw-9",
        "outputId": "0a234124-30a8-43cf-cd10-5a83e2ece07c"
      },
      "execution_count": null,
      "outputs": [
        {
          "output_type": "stream",
          "name": "stdout",
          "text": [
            "Requirement already satisfied: my_module in /usr/local/lib/python3.12/dist-packages (1.6.2)\n"
          ]
        }
      ]
    },
    {
      "cell_type": "markdown",
      "source": [
        "Example 3: Creating and Using a Custom Module"
      ],
      "metadata": {
        "id": "PyO2i7mdrtaZ"
      }
    },
    {
      "cell_type": "code",
      "source": [
        "# # 1. Create a file called my_module.py:\n",
        "def greet(name):\n",
        "  print(f\"Hello, {name}!\")\n",
        "\n",
        "# 2. In another file\n",
        "# import my_module # No longer needed\n",
        "print(greet(\"Suresh\")) # Call the function directly"
      ],
      "metadata": {
        "colab": {
          "base_uri": "https://localhost:8080/"
        },
        "id": "Lm-rYhAdrjlb",
        "outputId": "5ea30bfd-80bf-4049-d966-cabf5ac58793"
      },
      "execution_count": null,
      "outputs": [
        {
          "output_type": "stream",
          "name": "stdout",
          "text": [
            "Hello, Suresh!\n",
            "None\n"
          ]
        }
      ]
    },
    {
      "cell_type": "markdown",
      "source": [
        "# 🧩 4️⃣ Practice Exercises"
      ],
      "metadata": {
        "id": "hKrbh0dYtmsJ"
      }
    },
    {
      "cell_type": "markdown",
      "source": [
        "**1.\tImport the math module and calculate the factorial of 5**"
      ],
      "metadata": {
        "id": "0OjvMq-ntqUg"
      }
    },
    {
      "cell_type": "code",
      "source": [
        "import math\n",
        "print(math.factorial(5))"
      ],
      "metadata": {
        "colab": {
          "base_uri": "https://localhost:8080/"
        },
        "id": "1AlgkYzssZLh",
        "outputId": "e9b2b70d-84d3-4caa-aa48-ad187de209ed"
      },
      "execution_count": null,
      "outputs": [
        {
          "output_type": "stream",
          "name": "stdout",
          "text": [
            "120\n"
          ]
        }
      ]
    },
    {
      "cell_type": "markdown",
      "source": [
        "**2.\tUse random module to generate a list of 5 random numbers.**"
      ],
      "metadata": {
        "id": "ShFxqTUxt3Ee"
      }
    },
    {
      "cell_type": "code",
      "source": [
        "import random\n",
        "print(random.sample(range(10), 5))"
      ],
      "metadata": {
        "colab": {
          "base_uri": "https://localhost:8080/"
        },
        "id": "SYv7kng1tyIq",
        "outputId": "cdaf6118-fb00-4a23-bd63-3a55965b6846"
      },
      "execution_count": null,
      "outputs": [
        {
          "output_type": "stream",
          "name": "stdout",
          "text": [
            "[0, 4, 9, 1, 3]\n"
          ]
        }
      ]
    },
    {
      "cell_type": "markdown",
      "source": [
        "**3.\tImport datetime module and print today’s date**"
      ],
      "metadata": {
        "id": "5A-1ga2ruOcR"
      }
    },
    {
      "cell_type": "code",
      "source": [
        "import datetime as dt\n",
        "print(dt.date.today())"
      ],
      "metadata": {
        "colab": {
          "base_uri": "https://localhost:8080/"
        },
        "id": "eUdEwDizuD63",
        "outputId": "6a13b746-b6f1-4c6b-fffa-5fa8b8cbe0c0"
      },
      "execution_count": null,
      "outputs": [
        {
          "output_type": "stream",
          "name": "stdout",
          "text": [
            "2025-10-05\n"
          ]
        }
      ]
    },
    {
      "cell_type": "markdown",
      "source": [
        "**4.\tCreate a custom module with a function that adds two numbers and use it.**"
      ],
      "metadata": {
        "id": "T-1LAvRRu1da"
      }
    },
    {
      "cell_type": "code",
      "source": [],
      "metadata": {
        "id": "6oSkZaJuudiz"
      },
      "execution_count": null,
      "outputs": []
    },
    {
      "cell_type": "code",
      "metadata": {
        "colab": {
          "base_uri": "https://localhost:8080/"
        },
        "id": "4f7c203b",
        "outputId": "f7b60e6b-1994-4843-e9bc-fb66d53dd349"
      },
      "source": [
        "# Create a file named my_custom_module.py and write some code into it.\n",
        "%%writefile my_custom_module.py\n",
        "\n",
        "def add_numbers(a, b):\n",
        "  \"\"\"This function adds two numbers.\"\"\"\n",
        "  return a + b\n",
        "\n",
        "def multiply_numbers(a, b):\n",
        "  \"\"\"This function multiplies two numbers.\"\"\"\n",
        "  return a * b\n",
        "\n",
        "def divide_numbers(a, b):\n",
        "  \"\"\" This function divides two numbers.\"\"\"\n",
        "  return a / b"
      ],
      "execution_count": null,
      "outputs": [
        {
          "output_type": "stream",
          "name": "stdout",
          "text": [
            "Overwriting my_custom_module.py\n"
          ]
        }
      ]
    },
    {
      "cell_type": "markdown",
      "metadata": {
        "id": "ee657e67"
      },
      "source": [
        "Now you can import and use your custom module:"
      ]
    },
    {
      "cell_type": "code",
      "metadata": {
        "colab": {
          "base_uri": "https://localhost:8080/"
        },
        "id": "b82c6ada",
        "outputId": "05e0619d-beb0-491f-8b4f-4b75f640a895"
      },
      "source": [
        "import my_custom_module as mm\n",
        "import importlib\n",
        "\n",
        "# Use the functions from your module\n",
        "sum_result = mm.add_numbers(5, 3)\n",
        "print(f\"The sum is: {sum_result}\")\n",
        "\n",
        "product_result = mm.multiply_numbers(5, 3)\n",
        "print(f\"The product is: {product_result}\")\n"
      ],
      "execution_count": null,
      "outputs": [
        {
          "output_type": "stream",
          "name": "stdout",
          "text": [
            "The sum is: 8\n",
            "The product is: 15\n"
          ]
        }
      ]
    },
    {
      "cell_type": "markdown",
      "source": [
        "**5.\tImport os module and print the current working directory.**"
      ],
      "metadata": {
        "id": "_nNzqKYIxS8H"
      }
    },
    {
      "cell_type": "code",
      "source": [
        "import os\n",
        "print(os.getcwd())"
      ],
      "metadata": {
        "id": "0cZM17KxvXDR",
        "colab": {
          "base_uri": "https://localhost:8080/"
        },
        "outputId": "85a557bd-94ec-4e9e-e80e-f01006dea867"
      },
      "execution_count": null,
      "outputs": [
        {
          "output_type": "stream",
          "name": "stdout",
          "text": [
            "/content\n"
          ]
        }
      ]
    },
    {
      "cell_type": "markdown",
      "source": [
        "**6.\tImport math module as alias m and calculate cos(0).**"
      ],
      "metadata": {
        "id": "_gvDKjxHxghB"
      }
    },
    {
      "cell_type": "code",
      "source": [
        "import math as m\n",
        "print(m.cos(0))"
      ],
      "metadata": {
        "colab": {
          "base_uri": "https://localhost:8080/"
        },
        "id": "1ly6q_hfxaPS",
        "outputId": "d1ed976e-c322-446e-d167-aaadbe4fa956"
      },
      "execution_count": null,
      "outputs": [
        {
          "output_type": "stream",
          "name": "stdout",
          "text": [
            "1.0\n"
          ]
        }
      ]
    },
    {
      "cell_type": "markdown",
      "source": [
        "**8.\tUse math module to calculate the area of a circle given the radius.**"
      ],
      "metadata": {
        "id": "y0as1oz_xvYJ"
      }
    },
    {
      "cell_type": "code",
      "source": [
        "import math as m\n",
        "\n",
        "# Define the radius\n",
        "radius = 5\n",
        "\n",
        "# Calculate the area of the circle\n",
        "area = m.pi * (radius ** 2)\n",
        "\n",
        "# Print the result\n",
        "print(f\"The area of the circle with radius {radius} is: {area}\")"
      ],
      "metadata": {
        "colab": {
          "base_uri": "https://localhost:8080/"
        },
        "id": "BwYbufqKxtLd",
        "outputId": "1e4bc857-5da4-4be2-f88f-a34a61cdc7f9"
      },
      "execution_count": null,
      "outputs": [
        {
          "output_type": "stream",
          "name": "stdout",
          "text": [
            "The area of the circle with radius 5 is: 78.53981633974483\n"
          ]
        }
      ]
    },
    {
      "cell_type": "markdown",
      "source": [
        "# 🔥 5️⃣  Mini Project / Real-world Task"
      ],
      "metadata": {
        "id": "djrKiFfE1MwC"
      }
    },
    {
      "cell_type": "markdown",
      "source": [
        "Project Idea:\n",
        "Build a Simple Calculator using Modules:\n",
        "- Create a module calculator.py with functions: add(), subtract(), multiply(), divide().\n",
        "- In main program, import your module and perform calculations based on user input.\n",
        "- Extend later: integrate error handling and advanced functions (square root, exponent).\n"
      ],
      "metadata": {
        "id": "BC22EKxR7Y4k"
      }
    },
    {
      "cell_type": "markdown",
      "source": [
        "# 🔥 6️⃣ Topic-wise HackerRank Problems"
      ],
      "metadata": {
        "id": "ADGx05Ki7hKL"
      }
    },
    {
      "cell_type": "markdown",
      "source": [
        "1\tPython Modules\tLink\n",
        "Easy\tImporting and using built-in modules\n"
      ],
      "metadata": {
        "id": "-Kq-VyKe7sXd"
      }
    },
    {
      "cell_type": "code",
      "source": [],
      "metadata": {
        "id": "0-CcrKye0Q_1"
      },
      "execution_count": null,
      "outputs": []
    }
  ]
}