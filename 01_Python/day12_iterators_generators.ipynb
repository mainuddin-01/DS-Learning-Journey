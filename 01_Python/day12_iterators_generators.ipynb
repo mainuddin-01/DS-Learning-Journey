{
  "nbformat": 4,
  "nbformat_minor": 0,
  "metadata": {
    "colab": {
      "provenance": []
    },
    "kernelspec": {
      "name": "python3",
      "display_name": "Python 3"
    },
    "language_info": {
      "name": "python"
    }
  },
  "cells": [
    {
      "cell_type": "markdown",
      "source": [
        "# 📅 Day 12 – Python Iterators, Generators, Decorators, and Namespaces"
      ],
      "metadata": {
        "id": "3HSvBJD4gPB5"
      }
    },
    {
      "cell_type": "markdown",
      "source": [
        "Here are the **main points** summarized for you:\n",
        "\n",
        "---\n",
        "\n",
        "## 🔑 Main Points from the Notes\n",
        "\n",
        "### 1. **Iterators**\n",
        "\n",
        "* An **iterator** is an object that implements the **iterator protocol** (`__iter__()` and `__next__()`).\n",
        "* **Iterable vs Iterator**:\n",
        "\n",
        "  * Iterable → list, tuple, dict, set, string (can get iterator using `iter()`).\n",
        "  * Iterator → produced by `iter()` or defined by custom class.\n",
        "* Iteration:\n",
        "\n",
        "  * Can use `for` loop or `next()` to move through elements.\n",
        "* Custom Iterators:\n",
        "\n",
        "  * Use a class with `__iter__()` (returns self) and `__next__()` (returns next value).\n",
        "* **StopIteration**: raised when no more items are left.\n",
        "\n",
        "---\n",
        "\n",
        "### 2. **Generators**\n",
        "\n",
        "* Special functions using **`yield`** instead of `return`.\n",
        "* Return an **iterator object** directly.\n",
        "* **Advantages**:\n",
        "\n",
        "  * Easy to implement.\n",
        "  * Memory-efficient.\n",
        "  * Useful for large datasets, streaming, web scraping.\n",
        "* **Yield vs Return**:\n",
        "\n",
        "  * `yield` pauses & resumes function.\n",
        "  * `return` exits completely.\n",
        "* Examples: number sequences, Fibonacci, random numbers, infinite sequence.\n",
        "* **Generator Expression**: `(x**2 for x in range(10))` (similar to list comprehension but memory efficient).\n",
        "\n",
        "---\n",
        "\n",
        "### 3. **Closures**\n",
        "\n",
        "* A **closure** is a function that remembers values from its enclosing scope, even if the outer function has finished executing.\n",
        "* Requirements:\n",
        "\n",
        "  1. Nested function.\n",
        "  2. Inner function uses enclosing scope values.\n",
        "  3. Outer function returns the inner function.\n",
        "* Uses:\n",
        "\n",
        "  * Avoid global variables.\n",
        "  * Data hiding.\n",
        "  * Implement decorators.\n",
        "\n",
        "---\n",
        "\n",
        "### 4. **Decorators**\n",
        "\n",
        "* A function that **takes another function** and extends its behavior **without modifying it**.\n",
        "* Syntax: `@decorator_name` above function definition.\n",
        "* Can stack multiple decorators.\n",
        "* Used for:\n",
        "\n",
        "  * Adding functionality (e.g., logging, authentication, validation).\n",
        "  * Handling errors (`ZeroDivisionError` example).\n",
        "* Pattern:\n",
        "\n",
        "  ```python\n",
        "  def decorator(func):\n",
        "      def wrapper():\n",
        "          # extra functionality\n",
        "          func()\n",
        "      return wrapper\n",
        "  ```\n",
        "\n",
        "---\n",
        "\n",
        "### 5. **Namespaces & Scope (LEGB Rule)**\n",
        "\n",
        "* **Namespace** = system that assigns unique names to objects.\n",
        "* **Scopes**:\n",
        "\n",
        "  1. **Local** – inside function.\n",
        "  2. **Enclosed** – in nested functions.\n",
        "  3. **Global** – at script/module level.\n",
        "  4. **Built-in** – Python built-in names (e.g., `len`, `range`).\n",
        "* Modifying variables:\n",
        "\n",
        "  * `global` → to modify global variable inside function.\n",
        "  * `nonlocal` → to modify enclosing variable inside nested function.\n",
        "* Python searches in **LEGB order**.\n",
        "\n",
        "---\n",
        "\n",
        "### 6. **Interview Insights**\n",
        "\n",
        "* Functions are **first-class citizens** (can be assigned, passed, returned).\n",
        "* Example closure interview question:\n",
        "\n",
        "  ```python\n",
        "  def Cal(n):\n",
        "      def Mult(x): return x*n\n",
        "      return Mult\n",
        "  a=Cal(5)\n",
        "  b=Cal(5)\n",
        "  print(a(b(2))) # → 50\n",
        "  ```\n",
        "\n",
        "---\n",
        "\n"
      ],
      "metadata": {
        "id": "ekiGZAb0gjJ1"
      }
    },
    {
      "cell_type": "markdown",
      "source": [
        "### **1. Iterators**\n",
        "\n",
        "* An **iterator** is an object that implements the **iterator protocol** (`__iter__()` and `__next__()`).\n",
        "* **Iterable vs Iterator**:\n",
        "\n",
        "  * Iterable → list, tuple, dict, set, string (can get iterator using `iter()`).\n",
        "  * Iterator → produced by `iter()` or defined by custom class.\n",
        "* Iteration:\n",
        "\n",
        "  * Can use `for` loop or `next()` to move through elements.\n",
        "* Custom Iterators:\n",
        "\n",
        "  * Use a class with `__iter__()` (returns self) and `__next__()` (returns next value).\n",
        "* **StopIteration**: raised when no more items are left.\n",
        "\n",
        "---"
      ],
      "metadata": {
        "id": "dFtPTFHwhZJi"
      }
    },
    {
      "cell_type": "code",
      "execution_count": null,
      "metadata": {
        "colab": {
          "base_uri": "https://localhost:8080/"
        },
        "id": "XxBomDuUCaU_",
        "outputId": "9f46a964-3a33-4010-db8d-35c3da98e5d0"
      },
      "outputs": [
        {
          "output_type": "stream",
          "name": "stdout",
          "text": [
            "0\n",
            "1\n",
            "2\n",
            "3\n",
            "4\n"
          ]
        }
      ],
      "source": [
        "# Example\n",
        "for x in range(5):\n",
        "  print(x)"
      ]
    },
    {
      "cell_type": "markdown",
      "source": [
        "\n",
        "Looping Through an Iterator\n",
        "- We can also use a for loop to iterate through an iterable object:\n"
      ],
      "metadata": {
        "id": "3adKhS9IiOg4"
      }
    },
    {
      "cell_type": "code",
      "source": [
        "# By using for loop\n",
        "PyTuple = (\"Apple\", \"Banana\", \"Cherry\")\n",
        "for fruit in PyTuple:\n",
        "  print(fruit)"
      ],
      "metadata": {
        "colab": {
          "base_uri": "https://localhost:8080/"
        },
        "id": "pySi88ruhqu1",
        "outputId": "e4f3aceb-62b2-4c83-9e2d-8f607167b0f7"
      },
      "execution_count": null,
      "outputs": [
        {
          "output_type": "stream",
          "name": "stdout",
          "text": [
            "Apple\n",
            "Banana\n",
            "Cherry\n"
          ]
        }
      ]
    },
    {
      "cell_type": "code",
      "source": [
        "# By using iter() and next()\n",
        "PyTuple = (\"Apple\", \"Banana\", \"Cherry\")\n",
        "x = iter(PyTuple)\n",
        "print(x)  # Returns the memory location\n",
        "print(next(x))  # Travel one by one element using next()\n",
        "print(next(x))\n",
        "print(next(x))"
      ],
      "metadata": {
        "colab": {
          "base_uri": "https://localhost:8080/"
        },
        "id": "Vb-FxREeiaSi",
        "outputId": "105f8aca-1ce4-4dc9-ed16-8cf468afa4f3"
      },
      "execution_count": null,
      "outputs": [
        {
          "output_type": "stream",
          "name": "stdout",
          "text": [
            "<tuple_iterator object at 0x7bfb1b16be80>\n",
            "Apple\n",
            "Banana\n",
            "Cherry\n"
          ]
        }
      ]
    },
    {
      "cell_type": "code",
      "source": [
        "PyList=[1,2,3,4]\n",
        "x = PyList.__iter__()\n",
        "print(x)\n",
        "print(x.__next__())\n",
        "print(x.__next__())\n",
        "print(x.__next__())"
      ],
      "metadata": {
        "colab": {
          "base_uri": "https://localhost:8080/"
        },
        "id": "2JaznKq_iyz2",
        "outputId": "33a26791-276e-459e-ea9c-f43c6fb6bdb4"
      },
      "execution_count": null,
      "outputs": [
        {
          "output_type": "stream",
          "name": "stdout",
          "text": [
            "<list_iterator object at 0x7bfb19cfe890>\n",
            "1\n",
            "2\n",
            "3\n"
          ]
        }
      ]
    },
    {
      "cell_type": "markdown",
      "source": [
        "\n",
        "\n",
        "In Python, **iterators** are built using two main things:\n",
        "\n",
        "* `__iter__()`\n",
        "* `__next__()`\n",
        "\n",
        "And the built-in functions **`iter()`** and **`next()`** are just **user-friendly shortcuts** that call those methods under the hood.\n",
        "\n",
        "---\n",
        "\n",
        "## 🔑 Difference Explained\n",
        "\n",
        "### 1. `iter()` vs `__iter__()`\n",
        "\n",
        "* `iter(obj)` → Built-in function.\n",
        "* Internally, it calls `obj.__iter__()`.\n",
        "* Returns an **iterator object**.\n",
        "\n",
        "✅ Example:\n",
        "\n",
        "```python\n",
        "nums = [1, 2, 3]\n",
        "\n",
        "it = iter(nums)           # calls nums.__iter__()\n",
        "print(it)                 # <list_iterator object ...>\n",
        "```\n",
        "\n",
        "---\n",
        "\n",
        "### 2. `next()` vs `__next__()`\n",
        "\n",
        "* `next(iterator)` → Built-in function.\n",
        "* Internally, it calls `iterator.__next__()`.\n",
        "* Returns the **next item**, or raises `StopIteration` if no more items.\n",
        "\n",
        "✅ Example:\n",
        "\n",
        "```python\n",
        "nums = [1, 2, 3]\n",
        "it = iter(nums)\n",
        "\n",
        "print(next(it))           # calls it.__next__() → 1\n",
        "print(next(it))           # 2\n",
        "print(next(it))           # 3\n",
        "# next(it) → StopIteration\n",
        "```\n",
        "\n",
        "---\n",
        "\n",
        "## 📝 Summary Table\n",
        "\n",
        "| Function/Method  | Who Uses It?            | What It Does                                   |\n",
        "| ---------------- | ----------------------- | ---------------------------------------------- |\n",
        "| `iter(obj)`      | You (user)              | Calls `obj.__iter__()`, returns an iterator    |\n",
        "| `__iter__()`     | Python (under the hood) | Makes object iterable                          |\n",
        "| `next(iterator)` | You (user)              | Calls `iterator.__next__()`, gets next element |\n",
        "| `__next__()`     | Python (under the hood) | Actually returns the next element              |\n",
        "\n",
        "---\n",
        "\n",
        "✅ So as a beginner:\n",
        "\n",
        "* **You use `iter()` and `next()`**.\n",
        "* **Python uses `__iter__()` and `__next__()` internally**.\n",
        "\n",
        "---\n",
        "\n"
      ],
      "metadata": {
        "id": "eYOpfntskekF"
      }
    },
    {
      "cell_type": "markdown",
      "source": [
        "Strings are also iterable objects, containing a sequence of characters"
      ],
      "metadata": {
        "id": "pC6klY1SkuZU"
      }
    },
    {
      "cell_type": "code",
      "source": [
        "PyStr = \"Banana\"\n",
        "x = iter(PyStr)\n",
        "print(x)\n",
        "print(next(x))\n",
        "print(next(x))\n",
        "print(next(x))\n",
        "print(next(x))\n",
        "print(next(x))\n",
        "print(next(x))"
      ],
      "metadata": {
        "colab": {
          "base_uri": "https://localhost:8080/"
        },
        "id": "m66nKc1ynBtw",
        "outputId": "cf107b42-76df-4ac3-dfe5-abf236a5c547"
      },
      "execution_count": null,
      "outputs": [
        {
          "output_type": "stream",
          "name": "stdout",
          "text": [
            "<str_ascii_iterator object at 0x7bfb12694370>\n",
            "B\n",
            "a\n",
            "n\n",
            "a\n",
            "n\n",
            "a\n"
          ]
        }
      ]
    },
    {
      "cell_type": "markdown",
      "source": [
        "**Create an Iterator**\n",
        "- The __iter__() method must always return the iterator object itself.\n",
        "- The __next__() method also allows you to do operations, and must return the next item in the sequence.\n"
      ],
      "metadata": {
        "id": "Fd5mNuHelu-p"
      }
    },
    {
      "cell_type": "code",
      "source": [
        "# Process behind the above program\n",
        "class MyNumbers:\n",
        "  def __iter__(self):\n",
        "    self.a = 1\n",
        "    return self\n",
        "\n",
        "  def __next__(self):\n",
        "    x = self.a\n",
        "    self.a += 1\n",
        "    return x\n",
        "\n",
        "myclass = MyNumbers()\n",
        "myiter = iter(myclass)\n",
        "\n",
        "print(next(myiter))\n",
        "print(next(myiter))\n",
        "print(next(myiter))\n",
        "print(next(myiter))\n",
        "print(next(myiter))"
      ],
      "metadata": {
        "colab": {
          "base_uri": "https://localhost:8080/"
        },
        "id": "3-tX45vxk62B",
        "outputId": "2e0d7ecc-5c72-4d14-b9ab-e0626bb64f92"
      },
      "execution_count": null,
      "outputs": [
        {
          "output_type": "stream",
          "name": "stdout",
          "text": [
            "1\n",
            "2\n",
            "3\n",
            "4\n",
            "5\n"
          ]
        }
      ]
    },
    {
      "cell_type": "markdown",
      "source": [
        "**StopIteration**\n",
        "- The example above would continue forever if you had enough next() statements, or if it were used in a for loop.\n",
        "- To prevent the iteration from going on forever, we can use the **StopIteration statement**.\n",
        "\n",
        "- In the __next__() method, we can add a terminating condition to raise an error if the iteration is done a specified number of times:\n"
      ],
      "metadata": {
        "id": "hl3gIIJ-okHK"
      }
    },
    {
      "cell_type": "code",
      "source": [
        "class MyNumbers:\n",
        "  def __iter__(self):\n",
        "    self.a = 1\n",
        "    return self\n",
        "\n",
        "  def __next__(self):\n",
        "    if self.a <= 10:\n",
        "      x = self.a\n",
        "      self.a += 1\n",
        "      return x\n",
        "    else:\n",
        "      raise StopIteration\n",
        "\n",
        "myclass = MyNumbers()\n",
        "myiter = iter(myclass)\n",
        "\n",
        "for x in myiter:\n",
        "  print(x)"
      ],
      "metadata": {
        "colab": {
          "base_uri": "https://localhost:8080/"
        },
        "id": "n-YH4uaVmRUB",
        "outputId": "b2ec8dd2-3378-4916-b4e3-f3ac999c9b40"
      },
      "execution_count": null,
      "outputs": [
        {
          "output_type": "stream",
          "name": "stdout",
          "text": [
            "1\n",
            "2\n",
            "3\n",
            "4\n",
            "5\n",
            "6\n",
            "7\n",
            "8\n",
            "9\n",
            "10\n"
          ]
        }
      ]
    },
    {
      "cell_type": "markdown",
      "source": [
        "---\n",
        "\n",
        "### 🔄 Program Flow Explained\n",
        "\n",
        "#### 1. Define the class\n",
        "\n",
        "```python\n",
        "class MyNumbers:\n",
        "  def __iter__(self):\n",
        "    self.a = 1   # starting number\n",
        "    return self  # return the object itself as an iterator\n",
        "\n",
        "  def __next__(self):\n",
        "    if self.a <= 10:\n",
        "      x = self.a\n",
        "      self.a += 1   # move to next number\n",
        "      return x\n",
        "    else:\n",
        "      raise StopIteration  # stop when numbers are finished\n",
        "```\n",
        "\n",
        "* `__iter__()` → runs when we call `iter(obj)`. It sets the starting point (`a = 1`).\n",
        "* `__next__()` → runs each time Python wants the next value. If numbers are left, return them; otherwise stop.\n",
        "\n",
        "---\n",
        "\n",
        "#### 2. Create an object\n",
        "\n",
        "```python\n",
        "myclass = MyNumbers()\n",
        "```\n",
        "\n",
        "* `myclass` is now an object of `MyNumbers`.\n",
        "\n",
        "---\n",
        "\n",
        "#### 3. Get an iterator\n",
        "\n",
        "```python\n",
        "myiter = iter(myclass)   # calls myclass.__iter__()\n",
        "```\n",
        "\n",
        "* This initializes `a = 1`.\n",
        "* `myiter` now knows where to start.\n",
        "\n",
        "---\n",
        "\n",
        "#### 4. For loop starts\n",
        "\n",
        "```python\n",
        "for x in myiter:\n",
        "  print(x)\n",
        "```\n",
        "\n",
        "👉 Here’s what happens inside the loop:\n",
        "\n",
        "* Python calls `myiter.__next__()` again and again.\n",
        "* First call → `a = 1` → returns `1`, then `a` becomes `2`.\n",
        "* Second call → `a = 2` → returns `2`, then `a` becomes `3`.\n",
        "* … continues until `a = 10`.\n",
        "* When `a = 11`, the condition `self.a <= 10` fails.\n",
        "* Then it raises `StopIteration`, which tells Python **“I’m done”**, so the loop ends.\n",
        "\n",
        "---\n",
        "\n",
        "### 📝 Output\n",
        "\n",
        "```\n",
        "1\n",
        "2\n",
        "3\n",
        "4\n",
        "5\n",
        "6\n",
        "7\n",
        "8\n",
        "9\n",
        "10\n",
        "```\n",
        "\n",
        "---\n",
        "\n",
        "✅ Easy way to think:\n",
        "\n",
        "* `__iter__()` → sets the starting line.\n",
        "* `__next__()` → decides **next step** until finished.\n",
        "* `for` loop keeps calling `next()` automatically until it’s done.\n",
        "---"
      ],
      "metadata": {
        "id": "HenVeDjFuXaK"
      }
    },
    {
      "cell_type": "markdown",
      "source": [
        "**Implementing Own Iterator Class**:\n",
        "- Implementing Remote Control class that allows you to press next button to go to next channel.\n"
      ],
      "metadata": {
        "id": "WdxONDnku_cB"
      }
    },
    {
      "cell_type": "markdown",
      "source": [
        "Perfect 🚀 Let’s upgrade your `RemoteControl` class so that you can directly use indexing like `r[2]`.\n",
        "\n",
        "For this, we add a **special method** called `__getitem__()`."
      ],
      "metadata": {
        "id": "XtIxexdT0WPv"
      }
    },
    {
      "cell_type": "code",
      "source": [
        "### 🔧 Modified Code\n",
        "class RemoteControl():\n",
        "    def __init__(self):\n",
        "        self.channels = [\"HBO\", \"cnn\", \"abc\", \"espn\"]\n",
        "        self.index = -1\n",
        "\n",
        "    def __iter__(self):\n",
        "        return self\n",
        "\n",
        "    def __next__(self):\n",
        "        self.index += 1\n",
        "        if self.index == len(self.channels):\n",
        "            raise StopIteration\n",
        "        else:\n",
        "            return self.channels[self.index]\n",
        "\n",
        "    # NEW: Allow indexing\n",
        "    def __getitem__(self, index):\n",
        "        return self.channels[index]\n",
        "\n",
        "\n",
        "r = RemoteControl()\n",
        "\n",
        "# Using iterator\n",
        "itr = iter(r)\n",
        "print(next(itr))   # HBO\n",
        "print(next(itr))   # cnn\n",
        "\n",
        "# Using indexing directly\n",
        "print(r[2])   # abc (3rd element)\n",
        "print(r[3])   # espn (4th element)"
      ],
      "metadata": {
        "colab": {
          "base_uri": "https://localhost:8080/"
        },
        "id": "57E_V-jE0cv8",
        "outputId": "a710f52f-4808-4cd2-e40e-712852c7028a"
      },
      "execution_count": null,
      "outputs": [
        {
          "output_type": "stream",
          "name": "stdout",
          "text": [
            "HBO\n",
            "cnn\n",
            "abc\n",
            "espn\n"
          ]
        }
      ]
    },
    {
      "cell_type": "markdown",
      "source": [
        "---\n",
        "\n",
        "### 📝 How It Works\n",
        "\n",
        "* `__getitem__(self, index)` is called whenever you do `r[index]`.\n",
        "* It simply returns `self.channels[index]`.\n",
        "* Now your object `r` behaves **both like an iterator and like a list**.\n",
        "\n",
        "---\n",
        "\n",
        "### ✅ Output\n",
        "\n",
        "```\n",
        "HBO\n",
        "cnn\n",
        "abc\n",
        "espn\n",
        "```\n",
        "\n",
        "---\n",
        "\n",
        "👉 Would you like me to also show you how to add **slicing support** (like `r[1:3] → ['cnn', 'abc']`) in the same class?\n"
      ],
      "metadata": {
        "id": "hxND_ILNz2z9"
      }
    },
    {
      "cell_type": "markdown",
      "source": [
        "Great question 👌 Let’s keep it **super simple**.\n",
        "\n",
        "---\n",
        "\n",
        "## 🔑 What is `__init__(self)`?\n",
        "\n",
        "* `__init__` is a **special method in Python classes**.\n",
        "* It **runs automatically** when you create a new object.\n",
        "* Its main job is to **initialize (set up)** the object with some data.\n",
        "* Think of it as a **constructor** (like in other programming languages).\n",
        "\n",
        "---\n",
        "\n",
        "### 📝 Example without `__init__`\n",
        "\n",
        "```python\n",
        "class Student:\n",
        "    def display(self):\n",
        "        print(\"I am a student\")\n",
        "\n",
        "s1 = Student()\n",
        "s1.display()\n",
        "```\n",
        "\n",
        "* Here, nothing happens when the object is created (`s1 = Student()`) except memory allocation.\n",
        "\n",
        "---\n",
        "\n",
        "### 📝 Example with `__init__`\n",
        "\n",
        "```python\n",
        "class Student:\n",
        "    def __init__(self, name, age):\n",
        "        self.name = name   # store name inside object\n",
        "        self.age = age     # store age inside object\n",
        "\n",
        "    def display(self):\n",
        "        print(f\"My name is {self.name} and I am {self.age} years old\")\n",
        "\n",
        "s1 = Student(\"Alice\", 20)   # __init__ runs here\n",
        "s1.display()\n",
        "```\n",
        "\n",
        "🔎 Flow:\n",
        "\n",
        "1. `s1 = Student(\"Alice\", 20)` → Python **calls `__init__`** automatically.\n",
        "2. Inside `__init__`, it stores `\"Alice\"` in `self.name` and `20` in `self.age`.\n",
        "3. Now `s1` object has its own data.\n",
        "\n",
        "✅ Output:\n",
        "\n",
        "```\n",
        "My name is Alice and I am 20 years old\n",
        "```\n",
        "\n",
        "---\n",
        "\n",
        "### ✨ Easy Way to Remember\n",
        "\n",
        "* `__init__` = “**initialize** the object with values when it is born.”\n",
        "* `self` = “the object itself” (so each object keeps its own data).\n",
        "\n",
        "---\n",
        "\n",
        "Do you want me to also explain **the difference between `__init__` and `__iter__`**\n"
      ],
      "metadata": {
        "id": "0BDJsYv0xJfU"
      }
    },
    {
      "cell_type": "markdown",
      "source": [
        "###  **2.Generators**\n",
        "\n",
        "* Special functions using **`yield`** instead of `return`.\n",
        "* Return an **iterator object** directly.\n",
        "* **Advantages**:\n",
        "\n",
        "  * Easy to implement.\n",
        "  * Memory-efficient.\n",
        "  * Useful for large datasets, streaming, web scraping.\n",
        "* **Yield vs Return**:\n",
        "\n",
        "  * `yield` pauses & resumes function.\n",
        "  * `return` exits completely.\n",
        "* Examples: number sequences, Fibonacci, random numbers, infinite sequence.\n",
        "* **Generator Expression**: `(x**2 for x in range(10))` (similar to list comprehension but memory efficient).\n"
      ],
      "metadata": {
        "id": "3Ep823VrMEhc"
      }
    },
    {
      "cell_type": "markdown",
      "source": [
        "Differences between the Generator function and a Normal function\n",
        "- 1. Generator function contains one or more yield statements.\n",
        "-\t2. Compared with class-level iterators, generators are very easy to use\n",
        "-\t3. Improves memory utilization and performance.\n",
        "-\t4. Generators are best suitable for reading data from a large number of large files.\n",
        "-\t5. Generators work great for web scraping and crawling.\n",
        "\n",
        "Yield vs. Return\n",
        "- The Yield statement is responsible for controlling the flow of the generator function.\n",
        "-\tThe Return statement returns a value and terminates the whole function.\n"
      ],
      "metadata": {
        "id": "fQJqNu_fMywj"
      }
    },
    {
      "cell_type": "code",
      "source": [
        "def MulitipleYeild():\n",
        "  str1 = \"First String\"\n",
        "  yield str1\n",
        "  str2 = \"Second string\"\n",
        "  yield str2\n",
        "  str3 = \"Third string\"\n",
        "  yield str3\n",
        "\n",
        "obj = MulitipleYeild()\n",
        "print(next(obj))\n",
        "print(next(obj))\n",
        "print(next(obj))\n",
        "#"
      ],
      "metadata": {
        "id": "YxmFKQWQxQV8",
        "colab": {
          "base_uri": "https://localhost:8080/"
        },
        "outputId": "4f2a564f-60ce-4a88-9b44-6aeb79dc924c"
      },
      "execution_count": null,
      "outputs": [
        {
          "output_type": "stream",
          "name": "stdout",
          "text": [
            "First String\n",
            "Second string\n",
            "Third string\n"
          ]
        }
      ]
    },
    {
      "cell_type": "code",
      "source": [
        "def MultipleYield():\n",
        "    str1 = \"First String\"\n",
        "    yield str1\n",
        "    str2 = \"Second string\"\n",
        "    yield str2\n",
        "    str3 = \"Third String\"\n",
        "    yield str3\n",
        "Obj= MultipleYield()\n",
        "print(next(Obj))\n",
        "print(next(Obj))\n",
        "print(next(Obj))"
      ],
      "metadata": {
        "colab": {
          "base_uri": "https://localhost:8080/"
        },
        "id": "HQCc0WrWNtjC",
        "outputId": "6dc78f1f-7e31-4bed-9152-65dab53dd8b1"
      },
      "execution_count": null,
      "outputs": [
        {
          "output_type": "stream",
          "name": "stdout",
          "text": [
            "First String\n",
            "Second string\n",
            "Third String\n"
          ]
        }
      ]
    },
    {
      "cell_type": "code",
      "source": [
        "# By using return\n",
        "def Cube():\n",
        "  n = 1\n",
        "  while n <= 10:\n",
        "    total = n**3\n",
        "    n += 1\n",
        "    return total\n",
        "x = Cube()\n",
        "print(x)"
      ],
      "metadata": {
        "colab": {
          "base_uri": "https://localhost:8080/"
        },
        "id": "jdn1z0WjOxO7",
        "outputId": "8cf56c28-fdd2-4667-ec6f-82acf35ae870"
      },
      "execution_count": null,
      "outputs": [
        {
          "output_type": "stream",
          "name": "stdout",
          "text": [
            "1\n"
          ]
        }
      ]
    },
    {
      "cell_type": "code",
      "source": [
        "def Cube():\n",
        "  n = 1\n",
        "  while n <= 10:\n",
        "    total = n**3\n",
        "    n += 1\n",
        "    yield total\n",
        "x = Cube()\n",
        "print(x)\n",
        "for i in x:\n",
        "  print(i)\n",
        "\n"
      ],
      "metadata": {
        "colab": {
          "base_uri": "https://localhost:8080/"
        },
        "id": "fubBUgV4P-Kb",
        "outputId": "be3b7214-b6c7-4ca9-9501-3084d0ab8b8a"
      },
      "execution_count": null,
      "outputs": [
        {
          "output_type": "stream",
          "name": "stdout",
          "text": [
            "<generator object Cube at 0x793b7764d0c0>\n",
            "1\n",
            "8\n",
            "27\n",
            "64\n",
            "125\n",
            "216\n",
            "343\n",
            "512\n",
            "729\n",
            "1000\n"
          ]
        }
      ]
    },
    {
      "cell_type": "markdown",
      "source": [
        "### **3. List Comprehension vs Generators Expression in Python**\n",
        "List Comprehension\n",
        "- It is one of the best ways of creating a list in one line of Python code.\n",
        "-\tIt is used to save a lot of time in creating the list.\n",
        "-\tExample:\n",
        "o\tprint([j**2 for j in range(1,11)])\n",
        "Generator Expression\n",
        "-\tIt is one of the best ways to use less memory for solving the same problem that takes more memory in the list compression.\n"
      ],
      "metadata": {
        "id": "HBg1foAIRLLd"
      }
    },
    {
      "cell_type": "code",
      "source": [
        "# Using list comprehensions\n",
        "print([j**2 for j in range(1,11)])"
      ],
      "metadata": {
        "colab": {
          "base_uri": "https://localhost:8080/"
        },
        "id": "N5S85mENQRoO",
        "outputId": "1b1a64c2-8a1d-4319-83ef-93ed24bb418d"
      },
      "execution_count": null,
      "outputs": [
        {
          "output_type": "stream",
          "name": "stdout",
          "text": [
            "[1, 4, 9, 16, 25, 36, 49, 64, 81, 100]\n"
          ]
        }
      ]
    },
    {
      "cell_type": "code",
      "source": [
        "# Using generator expressions\n",
        "PyGe=(j**2 for j in range(1,11))\n",
        "for j in PyGe:\n",
        "    print(j, end=' ')\n"
      ],
      "metadata": {
        "colab": {
          "base_uri": "https://localhost:8080/"
        },
        "id": "GrdGt1eIRxbE",
        "outputId": "a67f5727-4fa5-4d20-afe0-6e71363be2a2"
      },
      "execution_count": null,
      "outputs": [
        {
          "output_type": "stream",
          "name": "stdout",
          "text": [
            "1 4 9 16 25 36 49 64 81 100 "
          ]
        }
      ]
    },
    {
      "cell_type": "markdown",
      "source": [
        "###  **4. Closures**\n",
        "\n",
        "* A **closure** is a function that remembers values from its enclosing scope, even if the outer function has finished executing.\n",
        "* Requirements:\n",
        "\n",
        "  1. Nested function.\n",
        "  2. Inner function uses enclosing scope values.\n",
        "  3. Outer function returns the inner function.\n",
        "* Uses:\n",
        "\n",
        "  * Avoid global variables.\n",
        "  * Data hiding.\n",
        "  * Implement decorators.\n",
        "\n"
      ],
      "metadata": {
        "id": "1GFmgbDmSofJ"
      }
    },
    {
      "cell_type": "code",
      "source": [
        "def OuterFun():\n",
        "    x=10\n",
        "    def InnerFun():\n",
        "        print(x)\n",
        "    InnerFun()\n",
        "OuterFun()\n"
      ],
      "metadata": {
        "id": "c3ajM91TSxzk",
        "colab": {
          "base_uri": "https://localhost:8080/"
        },
        "outputId": "e261fad8-97c0-4c89-9b45-85f4d8f9505e"
      },
      "execution_count": null,
      "outputs": [
        {
          "output_type": "stream",
          "name": "stdout",
          "text": [
            "10\n"
          ]
        }
      ]
    },
    {
      "cell_type": "code",
      "source": [
        "def OuterFun():\n",
        "    x=10\n",
        "    def InnerFun():\n",
        "        print(x)\n",
        "InnerFun()\n",
        "OuterFun()\n"
      ],
      "metadata": {
        "colab": {
          "base_uri": "https://localhost:8080/",
          "height": 193
        },
        "id": "fTSzxYHbsjcE",
        "outputId": "8840d8db-a529-43af-e810-51e438c5369e"
      },
      "execution_count": null,
      "outputs": [
        {
          "output_type": "error",
          "ename": "NameError",
          "evalue": "name 'InnerFun' is not defined",
          "traceback": [
            "\u001b[0;31m---------------------------------------------------------------------------\u001b[0m",
            "\u001b[0;31mNameError\u001b[0m                                 Traceback (most recent call last)",
            "\u001b[0;32m/tmp/ipython-input-2896922128.py\u001b[0m in \u001b[0;36m<cell line: 0>\u001b[0;34m()\u001b[0m\n\u001b[1;32m      3\u001b[0m     \u001b[0;32mdef\u001b[0m \u001b[0mInnerFun\u001b[0m\u001b[0;34m(\u001b[0m\u001b[0;34m)\u001b[0m\u001b[0;34m:\u001b[0m\u001b[0;34m\u001b[0m\u001b[0;34m\u001b[0m\u001b[0m\n\u001b[1;32m      4\u001b[0m         \u001b[0mprint\u001b[0m\u001b[0;34m(\u001b[0m\u001b[0mx\u001b[0m\u001b[0;34m)\u001b[0m\u001b[0;34m\u001b[0m\u001b[0;34m\u001b[0m\u001b[0m\n\u001b[0;32m----> 5\u001b[0;31m \u001b[0mInnerFun\u001b[0m\u001b[0;34m(\u001b[0m\u001b[0;34m)\u001b[0m\u001b[0;34m\u001b[0m\u001b[0;34m\u001b[0m\u001b[0m\n\u001b[0m\u001b[1;32m      6\u001b[0m \u001b[0mOuterFun\u001b[0m\u001b[0;34m(\u001b[0m\u001b[0;34m)\u001b[0m\u001b[0;34m\u001b[0m\u001b[0;34m\u001b[0m\u001b[0m\n",
            "\u001b[0;31mNameError\u001b[0m: name 'InnerFun' is not defined"
          ]
        }
      ]
    },
    {
      "cell_type": "code",
      "source": [
        "def OuterFun():\n",
        "    x=10\n",
        "    def InnerFun():\n",
        "        print(x)\n",
        "    return InnerFun()\n",
        "\n",
        "OO=OuterFun()\n",
        "print(OO)\n"
      ],
      "metadata": {
        "colab": {
          "base_uri": "https://localhost:8080/"
        },
        "id": "xgY4kkfOsrAW",
        "outputId": "1fbc0a71-9e18-4db3-a4b7-6581d810d5d3"
      },
      "execution_count": null,
      "outputs": [
        {
          "output_type": "stream",
          "name": "stdout",
          "text": [
            "10\n",
            "None\n"
          ]
        }
      ]
    },
    {
      "cell_type": "markdown",
      "source": [
        "### **4. Decorators**\n",
        "\n",
        "* A function that **takes another function** and extends its behavior **without modifying it**.\n",
        "* Syntax: `@decorator_name` above function definition.\n",
        "* Can stack multiple decorators.\n",
        "* Used for:\n",
        "\n",
        "  * Adding functionality (e.g., logging, authentication, validation).\n",
        "  * Handling errors (`ZeroDivisionError` example).\n",
        "* Pattern:\n",
        "\n",
        "  ```python\n",
        "  def decorator(func):\n",
        "      def wrapper():\n",
        "          # extra functionality\n",
        "          func()\n",
        "      return wrapper\n",
        "  ```\n",
        "\n",
        "  OUTLINE:\n",
        "-\tINPUT FUNCTION ==> DECORATOR FUNCTION ==> OUTPUT FUNCTION with Extended Functionality\n"
      ],
      "metadata": {
        "id": "B3yZqqbwtObe"
      }
    },
    {
      "cell_type": "code",
      "source": [
        "def NorFun():\n",
        "    print(\"Feature-1\")\n",
        "NorFun()\n"
      ],
      "metadata": {
        "colab": {
          "base_uri": "https://localhost:8080/"
        },
        "id": "qj2OlsDNs1u_",
        "outputId": "cb4a6e00-fdd5-4daf-f0c2-8e830ede6238"
      },
      "execution_count": null,
      "outputs": [
        {
          "output_type": "stream",
          "name": "stdout",
          "text": [
            "Feature-1\n"
          ]
        }
      ]
    },
    {
      "cell_type": "code",
      "source": [
        "def DecFun(func):\n",
        "    def Addon():\n",
        "        func()\n",
        "        print(\"Feature-2\")\n",
        "        print(\"Feature-3\")\n",
        "    return Addon\n",
        "\n",
        "def NorFun():\n",
        "    print(\"Feature-1\")\n",
        "NorFun=DecFun(NorFun) #=> Best for Debug\n",
        "NorFun()\n"
      ],
      "metadata": {
        "colab": {
          "base_uri": "https://localhost:8080/"
        },
        "id": "5IWsAVbVtsrZ",
        "outputId": "ae54a2f2-ff91-42b9-832c-29d75ce21991"
      },
      "execution_count": null,
      "outputs": [
        {
          "output_type": "stream",
          "name": "stdout",
          "text": [
            "Feature-1\n",
            "Feature-2\n",
            "Feature-3\n"
          ]
        }
      ]
    },
    {
      "cell_type": "code",
      "source": [
        "def DecFun(func):\n",
        "  def addon():\n",
        "    func()\n",
        "    print(\"Feature-2\")\n",
        "    print(\"Feature-3\")\n",
        "  return addon\n",
        "\n",
        "@DecFun\n",
        "def NorFun():\n",
        "  print(\"Feature-1\")\n",
        "NorFun()\n"
      ],
      "metadata": {
        "colab": {
          "base_uri": "https://localhost:8080/"
        },
        "id": "1pSXtiawuSDf",
        "outputId": "012bb4c8-a406-4b89-f767-5457c5ce68fb"
      },
      "execution_count": null,
      "outputs": [
        {
          "output_type": "stream",
          "name": "stdout",
          "text": [
            "Feature-1\n",
            "Feature-2\n",
            "Feature-3\n"
          ]
        }
      ]
    },
    {
      "cell_type": "markdown",
      "source": [
        "Perfect 👌 Let’s take the **cleaner way with `@`** example and explain **step by step** why each part exists.\n",
        "\n",
        "---\n",
        "\n",
        "### 📌 Code:\n",
        "\n",
        "```python\n",
        "def my_decorator(func):\n",
        "    def wrapper():\n",
        "        print(\"Before\")\n",
        "        func()\n",
        "        print(\"After\")\n",
        "    return wrapper\n",
        "\n",
        "@my_decorator\n",
        "def greet():\n",
        "    print(\"Hello, world!\")\n",
        "\n",
        "greet()\n",
        "```\n",
        "\n",
        "---\n",
        "\n",
        "### 🔎 Step-by-Step Explanation\n",
        "\n",
        "#### 1. Define the decorator\n",
        "\n",
        "```python\n",
        "def my_decorator(func):\n",
        "    def wrapper():\n",
        "        print(\"Before\")\n",
        "        func()          # call the original function\n",
        "        print(\"After\")\n",
        "    return wrapper\n",
        "```\n",
        "\n",
        "* `my_decorator` is just a **normal function**.\n",
        "* It accepts another function (`func`) as an argument.\n",
        "* Inside, it defines `wrapper()` → this is the new function that adds extra behavior.\n",
        "* Finally, it **returns** `wrapper` (so Python replaces the old function with this new wrapped version).\n",
        "\n",
        "👉 **Why used?**\n",
        "To add extra code (`Before`, `After`) **around** the original function.\n",
        "\n",
        "---\n",
        "\n",
        "#### 2. Use `@my_decorator`\n",
        "\n",
        "```python\n",
        "@my_decorator\n",
        "def greet():\n",
        "    print(\"Hello, world!\")\n",
        "```\n",
        "\n",
        "* The `@my_decorator` line is the same as writing:\n",
        "\n",
        "  ```python\n",
        "  greet = my_decorator(greet)\n",
        "  ```\n",
        "* So when Python sees `@my_decorator`, it **passes `greet` into `my_decorator`** and replaces it with `wrapper`.\n",
        "\n",
        "👉 **Why used?**\n",
        "This is just a **shortcut / cleaner syntax** so you don’t have to wrap functions manually.\n",
        "\n",
        "---\n",
        "\n",
        "#### 3. Call the decorated function\n",
        "\n",
        "```python\n",
        "greet()\n",
        "```\n",
        "\n",
        "* But now, `greet` is no longer the original function.\n",
        "* It has been replaced with the `wrapper` function from the decorator.\n",
        "* So when you call `greet()`, Python actually runs `wrapper()`:\n",
        "\n",
        "  1. Prints `\"Before\"`\n",
        "  2. Calls the original `greet` (`Hello, world!`)\n",
        "  3. Prints `\"After\"`\n",
        "\n",
        "👉 **Why used?**\n",
        "So the function now has **extra features** without changing its code.\n",
        "\n",
        "---\n",
        "\n",
        "### ✅ Output:\n",
        "\n",
        "```\n",
        "Before\n",
        "Hello, world!\n",
        "After\n",
        "```\n",
        "\n",
        "---\n",
        "\n",
        "### ✨ Easy Analogy\n",
        "\n",
        "* Imagine you ordered a pizza 🍕 (original function).\n",
        "* The delivery guy puts it in a nice box 📦 with branding (decorator).\n",
        "* When you open it, you still get your pizza, **plus extra packaging**.\n",
        "\n",
        "---\n"
      ],
      "metadata": {
        "id": "3kfyUpUpylNw"
      }
    },
    {
      "cell_type": "code",
      "source": [
        "def MyUpdatedFunction(func):\n",
        "  def tal():\n",
        "    print(\"Tal lagaya\")\n",
        "    func()\n",
        "    print(\"Mirchi lagaya\")\n",
        "  return tal\n",
        "\n",
        "@MyUpdatedFunction\n",
        "def MyOriginal():\n",
        "  print(\"Original Function\")\n",
        "\n",
        "MyOriginal()"
      ],
      "metadata": {
        "colab": {
          "base_uri": "https://localhost:8080/"
        },
        "id": "gKQskxHNum77",
        "outputId": "3283c623-12b2-47d7-cf3b-27cc5d0161e2"
      },
      "execution_count": null,
      "outputs": [
        {
          "output_type": "stream",
          "name": "stdout",
          "text": [
            "Tal lagaya\n",
            "Original Function\n",
            "Mirchi lagaya\n"
          ]
        }
      ]
    },
    {
      "cell_type": "code",
      "source": [
        "def MyEducation(func):\n",
        "  def MySports():\n",
        "    print(\"Player in Kabbadi\")\n",
        "    func()\n",
        "    print(\"Player in Cricket\")\n",
        "  return MySports\n",
        "\n",
        "@MyEducation\n",
        "def MyLife():\n",
        "  print(\"Lived in Mumbai\")\n",
        "MyLife()\n"
      ],
      "metadata": {
        "colab": {
          "base_uri": "https://localhost:8080/"
        },
        "id": "2U3oIqB0wn9N",
        "outputId": "f4482e43-9f16-41f4-8746-dc0df54fb671"
      },
      "execution_count": null,
      "outputs": [
        {
          "output_type": "stream",
          "name": "stdout",
          "text": [
            "Player in Kabbadi\n",
            "Lived in Mumbai\n",
            "Player in Cricket\n"
          ]
        }
      ]
    },
    {
      "cell_type": "code",
      "source": [
        "def Success(func):\n",
        "    def Study():\n",
        "        print(\"Prepare Well\")\n",
        "        func()\n",
        "        print(\"Congratulations..!!\")\n",
        "    return Study\n",
        "\n",
        "@Success\n",
        "def MyFun():\n",
        "    print(\"Say Hey You are PASS\")\n",
        "MyFun()\n"
      ],
      "metadata": {
        "colab": {
          "base_uri": "https://localhost:8080/"
        },
        "id": "ty9q-kU305It",
        "outputId": "adfa579d-ea67-49df-c934-457320f7bd57"
      },
      "execution_count": null,
      "outputs": [
        {
          "output_type": "stream",
          "name": "stdout",
          "text": [
            "Prepare Well\n",
            "Say Hey You are PASS\n",
            "Congratulations..!!\n"
          ]
        }
      ]
    },
    {
      "cell_type": "markdown",
      "source": [
        "### **5. Namespaces & Scope (LEGB Rule)**\n",
        "\n",
        "* **Namespace** = system that assigns unique names to objects.\n",
        "* **Scopes**:\n",
        "\n",
        "  1. **Local** – inside function.\n",
        "  2. **Enclosed** – in nested functions.\n",
        "  3. **Global** – at script/module level.\n",
        "  4. **Built-in** – Python built-in names (e.g., `len`, `range`).\n",
        "* Modifying variables:\n",
        "\n",
        "  * `global` → to modify global variable inside function.\n",
        "  * `nonlocal` → to modify enclosing variable inside nested function.\n",
        "* Python searches in **LEGB order**.\n"
      ],
      "metadata": {
        "id": "P1KMzb3r17LX"
      }
    },
    {
      "cell_type": "code",
      "source": [],
      "metadata": {
        "id": "cTmhxVBN1mZ-"
      },
      "execution_count": null,
      "outputs": []
    }
  ]
}