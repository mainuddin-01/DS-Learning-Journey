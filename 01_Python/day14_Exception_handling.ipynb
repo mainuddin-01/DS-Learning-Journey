{
  "nbformat": 4,
  "nbformat_minor": 0,
  "metadata": {
    "colab": {
      "provenance": []
    },
    "kernelspec": {
      "name": "python3",
      "display_name": "Python 3"
    },
    "language_info": {
      "name": "python"
    }
  },
  "cells": [
    {
      "cell_type": "markdown",
      "source": [
        "# 🧠 Day 16 — Python Exceptions"
      ],
      "metadata": {
        "id": "n47x2569KGcK"
      }
    },
    {
      "cell_type": "markdown",
      "source": [
        "# 🧩 1️⃣ Topic of the Day: Exception Handling in Python"
      ],
      "metadata": {
        "id": "V0vFzdEqKP1O"
      }
    },
    {
      "cell_type": "markdown",
      "source": [
        "🔍 Definition:\n",
        "- An **exception** is an event that disrupts the normal flow of a program’s execution.\n",
        "- It usually happens when something unexpected occurs — like dividing by zero, invalid input, or missing files.\n"
      ],
      "metadata": {
        "id": "KLxbI9fXKWe8"
      }
    },
    {
      "cell_type": "markdown",
      "source": [
        "⚙️ Why Use Exception Handling?\n",
        "- Prevents program crashes\n",
        "- Handles unexpected inputs gracefully\n",
        "- Makes code reliable and professional\n"
      ],
      "metadata": {
        "id": "GoJYkE7TKuSC"
      }
    },
    {
      "cell_type": "markdown",
      "source": [
        "🧠 Types of Errors in Python\n",
        "\n",
        "1.\tSyntax Errors: Mistakes in code structure (e.g., missing quotes or brackets)\n",
        "\n",
        "2.\tLogical Errors: Code runs but produces wrong results\n",
        "\n",
        "3.\tRuntime Errors: Occur during execution (e.g., dividing by zero)\n"
      ],
      "metadata": {
        "id": "pHzHDIrvK_X4"
      }
    },
    {
      "cell_type": "markdown",
      "source": [
        "🧱 Basic Syntax\n",
        "\n",
        "try:\n",
        "-  Code that might cause an error\n",
        "\n",
        "except:\n",
        "- Code that runs if the error occurs"
      ],
      "metadata": {
        "id": "_E1e7ElLLdYz"
      }
    },
    {
      "cell_type": "markdown",
      "source": [
        "**Common RunTime Errors in PYTHON:**\n",
        "\n",
        "In PYTHON The following are common\n",
        "Runtime Errors:\n",
        "- 1 NameError\n",
        "- 2 TypeError\n",
        "- 3 KeyError\n",
        "- 4 AttributeError\n",
        "- 5 IndexError\n",
        "\n",
        "**Abnormal termination:**\n",
        "- The concept of terminating the program or script in the middle of its execution without executing last statement(s) of the program is known as abnormal termination.\n"
      ],
      "metadata": {
        "id": "I7xGi_P4c2Mm"
      }
    },
    {
      "cell_type": "markdown",
      "source": [
        "---\n",
        "**Types of Exceptions:**\n",
        "\n",
        "In Python, there are 2 types of exceptions are possible.\n",
        "- 1.\tPredefined Exceptions\n",
        "- 2.\tUser Defined Exceptions\n",
        "---\n",
        "\n",
        "### 🧠 **Python Exception Handling**\n",
        "Python provides **two important features** to handle unexpected errors in programs:\n",
        "\n",
        "1️⃣ **Exception Handling** → Used to **catch and handle** runtime errors using `try`, `except`, `else`, `finally`.\n",
        "\n",
        "2️⃣ **Assertions** → Used to **detect logical errors automatically** during development using the `assert` keyword.\n",
        "\n",
        "---\n",
        "\n",
        "💡 **In short:**\n",
        "\n",
        "* Use **Exception Handling** when you expect an error and want to recover gracefully.\n",
        "* Use **Assertions** to verify assumptions while developing (helps find bugs early).\n",
        "\n",
        "---\n",
        "\n",
        "💡 3️⃣ Why We Need Try–Except\n",
        "- ✅ To prevent program from stopping abruptly\n",
        "- ✅ To show custom error messages\n",
        "- ✅ To keep user experience smooth\n",
        "\n",
        "---\n",
        "🔍 4️⃣ Common Built-in Exceptions\n",
        "Exception\tDescription\n",
        "- ZeroDivisionError:\tDividing by zero\n",
        "- ValueError:\tWrong data type (e.g., converting letters to int)\n",
        "- TypeError:\tInvalid operation between types\n",
        "- KeyError:\tAccessing missing key in dict\n",
        "- IndexError:\tAccessing missing index in list\n",
        "- FileNotFoundError:\tFile doesn’t exist\n",
        "- NameError:\tUsing variable before defining it\n",
        "- IOError:\tFile read/write problem\n",
        "---\n",
        "\n"
      ],
      "metadata": {
        "id": "IfL1Fh7dkRbD"
      }
    },
    {
      "cell_type": "markdown",
      "source": [
        "🔄 5️⃣ try–except–else–finally\n",
        "Block\tPurpose\n",
        "- try:\tCode that may raise error\n",
        "- except:\tHandles the error\n",
        "- else:\tRuns if no error occurs\n",
        "- finally\tAlways runs (cleanup, closing files etc.)\n",
        "Example:\n",
        "\n",
        "________________________________________\n"
      ],
      "metadata": {
        "id": "Szfobz7-GL4n"
      }
    },
    {
      "cell_type": "code",
      "source": [
        "try:\n",
        "    a = 10 / 0\n",
        "except ZeroDivisionError:\n",
        "    print(\"You can’t divide by zero!\")\n",
        "else:\n",
        "    print(\"No errors found.\")\n",
        "finally:\n",
        "    print(\"End of program.\")"
      ],
      "metadata": {
        "id": "KSM2b5LTqDaH"
      },
      "execution_count": null,
      "outputs": []
    },
    {
      "cell_type": "markdown",
      "source": [
        "🧩 6️⃣ Multiple Except Blocks\n",
        "You can handle different error types separately.\n",
        "\n",
        "________________________________________\n"
      ],
      "metadata": {
        "id": "CYrdNnd0GZpk"
      }
    },
    {
      "cell_type": "code",
      "source": [
        "try:\n",
        "    a = int(input(\"Enter number: \"))\n",
        "    b = int(input(\"Enter number: \"))\n",
        "    print(a / b)\n",
        "except ValueError:\n",
        "    print(\"Enter only numbers!\")\n",
        "except ZeroDivisionError:\n",
        "    print(\"Cannot divide by zero!\")"
      ],
      "metadata": {
        "id": "EnSnqhyKGeoq"
      },
      "execution_count": null,
      "outputs": []
    },
    {
      "cell_type": "markdown",
      "source": [
        "🚫 7️⃣ Default Except Block\n",
        "If you don’t know which error may occur:\n",
        "___\n"
      ],
      "metadata": {
        "id": "Ag47RkZsGlBF"
      }
    },
    {
      "cell_type": "code",
      "source": [
        "try:\n",
        "    code_here()\n",
        "except:\n",
        "    print(\"Something went wrong!\")"
      ],
      "metadata": {
        "id": "gkBy-a1ZGo3S"
      },
      "execution_count": null,
      "outputs": []
    },
    {
      "cell_type": "markdown",
      "source": [
        "🔐 8️⃣ The raise Keyword (User-Defined Exceptions)\n",
        "- •\tUsed to raise exceptions manually when certain conditions fail.\n",
        "\n",
        "________________________________________\n"
      ],
      "metadata": {
        "id": "rA6FKjjsGvuh"
      }
    },
    {
      "cell_type": "code",
      "source": [
        "x = int(input(\"Enter a number: \"))\n",
        "if x < 0:\n",
        "    raise ValueError(\"Number must be positive\")"
      ],
      "metadata": {
        "colab": {
          "base_uri": "https://localhost:8080/",
          "height": 193
        },
        "id": "8AkJDFu8GzuP",
        "outputId": "4d72c626-1be8-4cad-bbba-004d6f5e81f0"
      },
      "execution_count": null,
      "outputs": [
        {
          "name": "stdout",
          "output_type": "stream",
          "text": [
            "Enter a number: -7\n"
          ]
        },
        {
          "output_type": "error",
          "ename": "ValueError",
          "evalue": "Number must be positive",
          "traceback": [
            "\u001b[0;31m---------------------------------------------------------------------------\u001b[0m",
            "\u001b[0;31mValueError\u001b[0m                                Traceback (most recent call last)",
            "\u001b[0;32m/tmp/ipython-input-161968600.py\u001b[0m in \u001b[0;36m<cell line: 0>\u001b[0;34m()\u001b[0m\n\u001b[1;32m      1\u001b[0m \u001b[0mx\u001b[0m \u001b[0;34m=\u001b[0m \u001b[0mint\u001b[0m\u001b[0;34m(\u001b[0m\u001b[0minput\u001b[0m\u001b[0;34m(\u001b[0m\u001b[0;34m\"Enter a number: \"\u001b[0m\u001b[0;34m)\u001b[0m\u001b[0;34m)\u001b[0m\u001b[0;34m\u001b[0m\u001b[0;34m\u001b[0m\u001b[0m\n\u001b[1;32m      2\u001b[0m \u001b[0;32mif\u001b[0m \u001b[0mx\u001b[0m \u001b[0;34m<\u001b[0m \u001b[0;36m0\u001b[0m\u001b[0;34m:\u001b[0m\u001b[0;34m\u001b[0m\u001b[0;34m\u001b[0m\u001b[0m\n\u001b[0;32m----> 3\u001b[0;31m     \u001b[0;32mraise\u001b[0m \u001b[0mValueError\u001b[0m\u001b[0;34m(\u001b[0m\u001b[0;34m\"Number must be positive\"\u001b[0m\u001b[0;34m)\u001b[0m\u001b[0;34m\u001b[0m\u001b[0;34m\u001b[0m\u001b[0m\n\u001b[0m",
            "\u001b[0;31mValueError\u001b[0m: Number must be positive"
          ]
        }
      ]
    },
    {
      "cell_type": "markdown",
      "source": [
        "🧠 9️⃣ Assertions (Automatic Error Checking)\n",
        "- •\tassert checks a condition; if False, raises an AssertionError.\n",
        "- •\tUsed in debugging and testing.\n",
        "  - assert 2 + 2 == 4\n",
        "  - assert 2 + 2 == 3, \"That can’t be right.\"\n",
        "________________________________________\n",
        "🧱 🔟 Nested Try–Except–Finally\n",
        "•\tYou can use try blocks inside another try for complex situations.\n",
        "\n",
        "________________________________________\n"
      ],
      "metadata": {
        "id": "_-PO-BQgG6XZ"
      }
    },
    {
      "cell_type": "code",
      "source": [
        "try:\n",
        "    print(\"Outer try\")\n",
        "    try:\n",
        "        print(\"Inner try\")\n",
        "    finally:\n",
        "        print(\"Inner finally\")\n",
        "finally:\n",
        "    print(\"Outer finally\")"
      ],
      "metadata": {
        "id": "ll4QyrwlG5ez"
      },
      "execution_count": null,
      "outputs": []
    },
    {
      "cell_type": "markdown",
      "source": [
        "🧩 11️⃣ Ignoring Errors Using pass\n",
        "•\tSometimes you may want to ignore errors and continue program execution.\n",
        "\n",
        "________________________________________\n"
      ],
      "metadata": {
        "id": "X-tEcetTHFBp"
      }
    },
    {
      "cell_type": "code",
      "source": [
        "try:\n",
        "    x = int(input(\"Enter: \"))\n",
        "except:\n",
        "    pass  # ignore error"
      ],
      "metadata": {
        "id": "J1CdpTqgHH6m"
      },
      "execution_count": null,
      "outputs": []
    },
    {
      "cell_type": "markdown",
      "source": [
        "🔢 12️⃣ Real-life Examples\n",
        "•\tRestricting user input to integers only\n",
        "•\tAllowing only specific gender input (“Male” / “Female”)\n",
        "•\tValidating file existence before reading\n",
        "•\tConverting binary, octal, or hex numbers safely\n",
        "Example:\n",
        "\n",
        "________________________________________\n"
      ],
      "metadata": {
        "id": "DJ3zOwzMHNQx"
      }
    },
    {
      "cell_type": "code",
      "source": [
        "while True:\n",
        "    try:\n",
        "        num = int(input(\"Enter integer: \"))\n",
        "        break\n",
        "    except ValueError:\n",
        "        print(\"Please enter integer only.\")"
      ],
      "metadata": {
        "colab": {
          "base_uri": "https://localhost:8080/"
        },
        "id": "RzqAvfLmHPw3",
        "outputId": "d58726b9-955e-42fd-d945-a1626af11125"
      },
      "execution_count": null,
      "outputs": [
        {
          "name": "stdout",
          "output_type": "stream",
          "text": [
            "Enter integer: k\n",
            "Please enter integer only.\n",
            "Enter integer: n\n",
            "Please enter integer only.\n",
            "Enter integer: 4\n"
          ]
        }
      ]
    },
    {
      "cell_type": "markdown",
      "source": [
        "🔎 13️⃣ Two Categories of Exceptions\n",
        "- 1.\tPredefined Exceptions → Built-in in Python\n",
        "- 2.\tUser Defined Exceptions → Created by programmer using raise\n",
        "________________________________________\n",
        "💡 14️⃣ Assertion vs Try–Except\n",
        "- Feature-------------------assert--------------------try–except\n",
        "- Use Case---------Logical validation--------------Error handling\n",
        "- Recovery---------------Not possible-----------------Possible\n",
        "- Use When---Developer wants to detect bugs--Program wants to continue running\n",
        "________________________________________\n",
        "🧰 15️⃣ Practical Use Cases\n",
        "- •\tFile reading or writing\n",
        "- •\tData validation in forms or APIs\n",
        "- •\tDatabase connections\n",
        "- •\tNetwork or I/O operations\n",
        "- •\tInput validation (user input safety)\n",
        "________________________________________\n",
        "🧩 16️⃣ Golden Rules for Beginners\n",
        "- ✅ Always handle specific exceptions first.\n",
        "- ✅ Use finally to close files or connections.\n",
        "- ✅ Avoid empty except: (unless for learning purpose).\n",
        "- ✅ Use raise for meaningful error messages.\n",
        "- ✅ Use assert for internal logic checking.\n",
        "- ✅ Practice different exception types through small projects.\n",
        "________________________________________\n",
        "✨ Summary for Notebook\n",
        "Write these 6 key formulas/concepts clearly:\n",
        "- 1.\ttry–except = Handle runtime errors\n",
        "- 2.\telse = Runs if no error occurs\n",
        "- 3.\tfinally = Always executes (cleanup)\n",
        "- 4.\traise = Manually throw an error\n",
        "- 5.\tassert = Auto-check a condition\n",
        "- 6.\tpass = Ignore an error silently\n"
      ],
      "metadata": {
        "id": "23X_GyPdHTTQ"
      }
    },
    {
      "cell_type": "markdown",
      "source": [
        "# 💻 2️⃣ Code Examples"
      ],
      "metadata": {
        "id": "_LxsFxRjL-77"
      }
    },
    {
      "cell_type": "markdown",
      "source": [
        "✅ Example 1: Basic Exception Handling"
      ],
      "metadata": {
        "id": "G7Hys3TgMENG"
      }
    },
    {
      "cell_type": "code",
      "execution_count": null,
      "metadata": {
        "colab": {
          "base_uri": "https://localhost:8080/"
        },
        "id": "ITweGpTe7aZf",
        "outputId": "a1e18aac-96da-488f-ffdf-466c7044434f"
      },
      "outputs": [
        {
          "output_type": "stream",
          "name": "stdout",
          "text": [
            "Enter a number: o\n",
            "Invalid input. Please enter a valid number.\n"
          ]
        }
      ],
      "source": [
        "try:\n",
        "  number = int(input(\"Enter a number: \"))\n",
        "  print(\"You entered: \", number)\n",
        "except ValueError:\n",
        "  print(\"Invalid input. Please enter a valid number.\")\n",
        "\n",
        "# Explanation:\n",
        "# •\tIf you enter a non-numeric value, Python raises a ValueError, and the except block runs.\n"
      ]
    },
    {
      "cell_type": "markdown",
      "source": [
        "✅ Example 2: Multiple Exception Blocks"
      ],
      "metadata": {
        "id": "8_haeDtyNB6x"
      }
    },
    {
      "cell_type": "code",
      "source": [
        "try:\n",
        "  num1 =int(input(\"Enter the first number: \"))\n",
        "  num2 = int(input(\"Enter the second number:\"))\n",
        "  result = num1/num2\n",
        "  print(result)\n",
        "except ValueError:\n",
        "  print(\"Invalid input. Please enter valid numbers.\")\n",
        "except ZeroDivisionError:\n",
        "  print(\"Cannot divide by zero.\")\n",
        "\n",
        "# Explanation:\n",
        "# Different exceptions are caught separately for more precise handling\n"
      ],
      "metadata": {
        "colab": {
          "base_uri": "https://localhost:8080/"
        },
        "id": "JFLO-zHcMjjc",
        "outputId": "d40b4178-b88b-41e2-bab1-e37c9d6cd6ee"
      },
      "execution_count": null,
      "outputs": [
        {
          "output_type": "stream",
          "name": "stdout",
          "text": [
            "Enter the first number: 32\n",
            "Enter the second number:d\n",
            "Invalid input. Please enter valid numbers.\n"
          ]
        }
      ]
    },
    {
      "cell_type": "markdown",
      "source": [
        " 5️⃣ try–except–else–finally\n",
        "\n",
        "Block   --> Purpose\n",
        "- try     --> Code that may raise error\n",
        "- except\t--> Handles the error\n",
        "- else\t\t--> Runs if no error occurs\n",
        "- finally\t--> Always runs (cleanup, closing files etc.)\n"
      ],
      "metadata": {
        "id": "UxyjwSSlOVY4"
      }
    },
    {
      "cell_type": "code",
      "source": [
        "try:\n",
        "   # Code that may raise an error\n",
        "  file = open(\"data.txt\",\"r\")\n",
        "  content = file.read()\n",
        "\n",
        "except FileNotFoundError:\n",
        "  # Handles the error\n",
        "  print(\"File not found, Please create the file\")\n",
        "\n",
        "else:\n",
        "  # Run if no errors occurs\n",
        "  print(\"File read successfully\")\n",
        "\n",
        "finally:\n",
        "  # Always runs(cleanup, closing files etc)\n",
        "  print(\"Operation completed, file opened or not\")"
      ],
      "metadata": {
        "colab": {
          "base_uri": "https://localhost:8080/"
        },
        "id": "VThxkX2bNvEx",
        "outputId": "7038ffb3-7ed4-4adb-a32d-6c0580ed58ae"
      },
      "execution_count": null,
      "outputs": [
        {
          "output_type": "stream",
          "name": "stdout",
          "text": [
            "File not found, Please create the file\n",
            "Operation completed, file opened or not\n"
          ]
        }
      ]
    },
    {
      "cell_type": "markdown",
      "source": [
        "# 🧩 3️⃣ Practice Exercises"
      ],
      "metadata": {
        "id": "eOjUnDFWQZH1"
      }
    },
    {
      "cell_type": "markdown",
      "source": [
        "Try writing these yourself 👇"
      ],
      "metadata": {
        "id": "zpFe9Fz6Qcs6"
      }
    },
    {
      "cell_type": "markdown",
      "source": [
        "1\tCreate a program that divides two numbers safely\n",
        "- Handle ZeroDivisionError"
      ],
      "metadata": {
        "id": "4iL8TP10Qg-n"
      }
    },
    {
      "cell_type": "code",
      "source": [
        "try:\n",
        "  num1 = int(input(\"Ener the first number: \"))\n",
        "  num2 = int(input(\"Enter the second number: \"))\n",
        "  result = num1 / num2\n",
        "except ZeroDivisionError:\n",
        "  print(\"Cannot be divided by 0\")"
      ],
      "metadata": {
        "colab": {
          "base_uri": "https://localhost:8080/"
        },
        "id": "5UpCsegXQTz1",
        "outputId": "0f2f5b0d-1830-4bdd-e159-e018fb3dd422"
      },
      "execution_count": null,
      "outputs": [
        {
          "output_type": "stream",
          "name": "stdout",
          "text": [
            "Ener the first number: 93\n",
            "Enter the second number: 0\n",
            "Cannot be divided by 0\n"
          ]
        }
      ]
    },
    {
      "cell_type": "markdown",
      "source": [
        "2\tAsk for user input and ensure it’s an integer\n",
        "- Handle ValueError"
      ],
      "metadata": {
        "id": "1lt3Nj3NlZoN"
      }
    },
    {
      "cell_type": "code",
      "source": [
        "try:\n",
        "  user_input = int(input(\"Enter a integer: \"))\n",
        "  print(\"Value entered: \", type(user_input))\n",
        "except ValueError:\n",
        "  print(\"Invalid input, Please enter a valid input\")"
      ],
      "metadata": {
        "colab": {
          "base_uri": "https://localhost:8080/"
        },
        "id": "-JdSXctMlN-E",
        "outputId": "be4c7153-1296-4111-dc56-5d7ac587b41c"
      },
      "execution_count": null,
      "outputs": [
        {
          "output_type": "stream",
          "name": "stdout",
          "text": [
            "Enter a integer: fla\n",
            "Invalid input, Please enter a valid input\n"
          ]
        }
      ]
    },
    {
      "cell_type": "markdown",
      "source": [
        "3\tOpen a file that might not exist\n",
        "- Handle FileNotFoundError"
      ],
      "metadata": {
        "id": "YlXkhZmimMBB"
      }
    },
    {
      "cell_type": "code",
      "source": [
        "try:\n",
        "  file = open(\"data.txt\")\n",
        "except FileNotFoundError:\n",
        "  print(\"Files not found, Please create!\")"
      ],
      "metadata": {
        "colab": {
          "base_uri": "https://localhost:8080/"
        },
        "id": "OKJ5eA67mEDu",
        "outputId": "d57bda90-01df-4d9c-fd4e-af636386816e"
      },
      "execution_count": null,
      "outputs": [
        {
          "output_type": "stream",
          "name": "stdout",
          "text": [
            "Files not found, Please create!\n"
          ]
        }
      ]
    },
    {
      "cell_type": "markdown",
      "source": [
        "4\tUse finally to print “Program Ended” regardless of outcome\n",
        "- Combine try-except-finally"
      ],
      "metadata": {
        "id": "4fOT4hEQnBVj"
      }
    },
    {
      "cell_type": "code",
      "source": [
        "try:\n",
        "  outcome = input(\"Enter something: \")\n",
        "except FileExistsError:\n",
        "  print(\"File exist\")\n",
        "finally:\n",
        "  print(\"Program Ended\")"
      ],
      "metadata": {
        "colab": {
          "base_uri": "https://localhost:8080/"
        },
        "id": "S98cjVcqm9h1",
        "outputId": "804cd872-c945-4695-95db-10e8045acedc"
      },
      "execution_count": null,
      "outputs": [
        {
          "output_type": "stream",
          "name": "stdout",
          "text": [
            "Enter something: sfd\n",
            "Program Ended\n"
          ]
        }
      ]
    },
    {
      "cell_type": "markdown",
      "source": [
        "5\tRaise an exception if input < 0\n",
        "- Use raise ValueError"
      ],
      "metadata": {
        "id": "3FTMOVJwoJfs"
      }
    },
    {
      "cell_type": "code",
      "source": [
        "try:\n",
        "  input = int(input(\"Enter a number: \"))\n",
        "  if input < 0:\n",
        "    raise ValueError(\"Number is negative\")\n",
        "except Exception as e:\n",
        "  print(e)\n",
        "else:\n",
        "  print(\"Number is positive\")\n",
        "finally:\n",
        "  print(\"Program Ended\")"
      ],
      "metadata": {
        "colab": {
          "base_uri": "https://localhost:8080/"
        },
        "id": "N7yhmmELn-Ti",
        "outputId": "cd6155e5-c78a-412b-fed1-db2a2bfede07"
      },
      "execution_count": null,
      "outputs": [
        {
          "output_type": "stream",
          "name": "stdout",
          "text": [
            "'int' object is not callable\n",
            "Program Ended\n"
          ]
        }
      ]
    },
    {
      "cell_type": "markdown",
      "source": [
        "What is an Exception?\n",
        "-\tAn exception is an error that happens during execution of a program.\n",
        "-\tWhen that error occurs, Python generate an exception that can be handled, which avoids your program to crash.\n",
        "\n",
        "# Common  Exception  Errors\n",
        "1.\texcept IOError:\n",
        "- print('An error occurred trying to read the file.')\n",
        "\n",
        "2.\texcept ValueError:\n",
        "- print('Non-numeric data found in the file.')\n",
        "\n",
        "3.\texcept ImportError:\n",
        "- print(\"NO module found\")\n",
        "\n",
        "4.\texcept EOFError:\n",
        "- print('End Of File No Data')\n",
        "\n",
        "5.\texcept KeyboardInterrupt:\n",
        "- print('You cancelled the operation.')\n",
        "\n",
        "6.\texcept:\n",
        "- print('An error occurred.')\n"
      ],
      "metadata": {
        "id": "lxbqSDRwXGHu"
      }
    },
    {
      "cell_type": "code",
      "source": [
        "# Take integer number from user\n",
        "try:\n",
        "  num = int(input(\"Enter a integer number: \"))\n",
        "  print(\"Your entered number: \",num)\n",
        "except ValueError:\n",
        "  print(\"Invalid input, Please enter a valid number\")\n",
        "\n",
        "#Note:\n",
        "# The above script get executed perfectly as long as the user enters a number, If not It terminates, then we should develop exception logic.\n"
      ],
      "metadata": {
        "id": "iwaoqvh1pTHW",
        "colab": {
          "base_uri": "https://localhost:8080/"
        },
        "outputId": "d1f4fd49-5cdc-4293-a326-f99832a19dab"
      },
      "execution_count": null,
      "outputs": [
        {
          "output_type": "stream",
          "name": "stdout",
          "text": [
            "Enter a integer number: wd\n",
            "Invalid input, Please enter a valid number\n"
          ]
        }
      ]
    },
    {
      "cell_type": "code",
      "source": [
        "try:\n",
        "    a=int(input(\"Enter any Number: \"))\n",
        "    b=int(input(\"Enter any Number: \"))\n",
        "    c=a/b\n",
        "    print(\"The Value is: \" ,c)\n",
        "except ValueError:\n",
        "    print(\"SooryInvalidInput\")\n"
      ],
      "metadata": {
        "colab": {
          "base_uri": "https://localhost:8080/"
        },
        "id": "F0h1Yss4Xuyu",
        "outputId": "d5c22fcb-370a-4322-8b3e-b3b6504b89af"
      },
      "execution_count": null,
      "outputs": [
        {
          "output_type": "stream",
          "name": "stdout",
          "text": [
            "Enter any Number: 4\n",
            "Enter any Number: l\n",
            "SooryInvalidInput\n"
          ]
        }
      ]
    },
    {
      "cell_type": "code",
      "source": [
        "try:\n",
        "    a=int(input(\"Enter any Number: \"))\n",
        "    b=int(input(\"Enter any Number: \"))\n",
        "    c=a/b\n",
        "    print(\"The Value is: \" ,c)\n",
        "except ValueError:\n",
        "    print(\"SooryInvalidInput\")\n",
        "except ZeroDivisionError:\n",
        "    print(\"Cannot divided by 0\")"
      ],
      "metadata": {
        "colab": {
          "base_uri": "https://localhost:8080/"
        },
        "id": "NuRqNqyeYTXB",
        "outputId": "d698054e-ad9d-49fb-81ab-0edc65883130"
      },
      "execution_count": null,
      "outputs": [
        {
          "output_type": "stream",
          "name": "stdout",
          "text": [
            "Enter any Number: 5\n",
            "Enter any Number: 0\n",
            "Cannot divided by 0\n"
          ]
        }
      ]
    },
    {
      "cell_type": "code",
      "source": [
        "try:\n",
        "    a=int(input(\"Enter any Number: \"))\n",
        "    b=int(input(\"Enter any Number: \"))\n",
        "    c=a/b\n",
        "    print(\"The Value is: \" ,c)\n",
        "except Exception as e:\n",
        "  print(\"Something went wrong\")\n",
        "  print(\"Error: \",e)"
      ],
      "metadata": {
        "colab": {
          "base_uri": "https://localhost:8080/"
        },
        "id": "NRrbTVP4Yenn",
        "outputId": "4889c1ef-478c-4db9-da5c-f0a9ac3d2352"
      },
      "execution_count": null,
      "outputs": [
        {
          "output_type": "stream",
          "name": "stdout",
          "text": [
            "Enter any Number: 4\n",
            "Enter any Number: 0\n",
            "Something went wrong\n",
            "Error:  division by zero\n"
          ]
        }
      ]
    },
    {
      "cell_type": "code",
      "source": [
        "try:\n",
        "    p=int(input(\"Enter Any Number: \"))\n",
        "    q=int(input(\"Enter Any Number: \"))\n",
        "    r=p/q\n",
        "    print(\"The Value is: \",int(r))\n",
        "    print(\"TryBlockIsExecuted:\")\n",
        "except ValueError:\n",
        "    print(\"ExceptBlock\")\n",
        "    print(\"Sorry User Numbers Only Valid\")\n",
        "except Exception as arg:\n",
        "    print(\"You can't divide by zero.\")\n",
        "    print('Error: ', arg)\n"
      ],
      "metadata": {
        "colab": {
          "base_uri": "https://localhost:8080/"
        },
        "id": "TgWmH8uPY25x",
        "outputId": "bb76e31a-4171-41e1-aa85-b77456bd77f8"
      },
      "execution_count": null,
      "outputs": [
        {
          "output_type": "stream",
          "name": "stdout",
          "text": [
            "Enter Any Number: 12\n",
            "Enter Any Number: h\n",
            "ExceptBlock\n",
            "Sorry User Numbers Only Valid\n"
          ]
        }
      ]
    },
    {
      "cell_type": "code",
      "source": [
        "try:\n",
        "    fi=open(\"Hai1.txt\",'r')\n",
        "    print(fi.read(6))\n",
        "except IOError:\n",
        "    print(\"File Not Existed Please Create\")\n",
        "else:\n",
        "    print(\"ContentReadSuccessfully\")\n",
        "    fi.close()\n"
      ],
      "metadata": {
        "colab": {
          "base_uri": "https://localhost:8080/"
        },
        "id": "ggsoW2GtZQYY",
        "outputId": "a40649e7-96ab-414f-b828-c7a60f8086a4"
      },
      "execution_count": null,
      "outputs": [
        {
          "output_type": "stream",
          "name": "stdout",
          "text": [
            "File Not Existed Please Create\n"
          ]
        }
      ]
    },
    {
      "cell_type": "code",
      "source": [
        "try:\n",
        "    x=int(input(\"Enter Any Input: \"))\n",
        "    y=int(input(\"Enter Any Input: \"))\n",
        "    z=x/y\n",
        "    print(z)\n",
        "except ValueError:\n",
        "    print(\"SorryAlphabetsUnableToCompute\")\n",
        "    print(\"Special Chars Also Not Accepted\")\n",
        "except Exception as arg:\n",
        "    print(\"Error: \",arg)\n",
        "else:\n",
        "    print(\"Welcome to Else Block\")\n",
        "    print(\"Else Block Successfully Executed\")\n",
        "    print(\"Welcome to More Computations\")\n",
        "    print(x+y)\n",
        "    print(x-y)\n",
        "    print(x*y)\n"
      ],
      "metadata": {
        "colab": {
          "base_uri": "https://localhost:8080/"
        },
        "id": "O0bvTckfZmZ5",
        "outputId": "455d86f3-1cac-404c-86da-dfd2df9c39e5"
      },
      "execution_count": null,
      "outputs": [
        {
          "output_type": "stream",
          "name": "stdout",
          "text": [
            "Enter Any Input: 10\n",
            "Enter Any Input: 54\n",
            "0.18518518518518517\n",
            "Welcome to Else Block\n",
            "Else Block Successfully Executed\n",
            "Welcome to More Computations\n",
            "64\n",
            "-44\n",
            "540\n"
          ]
        }
      ]
    },
    {
      "cell_type": "code",
      "source": [
        "try:\n",
        "  x=int(input(\"Enter Required Number: \"))\n",
        "  y=int(input(\"Enter Required Number: \"))\n",
        "  print(\"The Result is: \",int(x/y))\n",
        "except Exception as e:\n",
        "    print(\"Arithmetic Exception Raised.\")\n",
        "    print(\"Error: \",e)\n",
        "else:\n",
        "    print(\"SuccessfullyDone\")\n"
      ],
      "metadata": {
        "colab": {
          "base_uri": "https://localhost:8080/"
        },
        "id": "EZ5zK-FZZufo",
        "outputId": "ecee8573-049a-4580-95ed-95608e8b0302"
      },
      "execution_count": null,
      "outputs": [
        {
          "output_type": "stream",
          "name": "stdout",
          "text": [
            "Enter Required Number: 41\n",
            "Enter Required Number: jk\n",
            "Arithmetic Exception Raised.\n",
            "Error:  invalid literal for int() with base 10: 'jk'\n"
          ]
        }
      ]
    },
    {
      "cell_type": "code",
      "source": [
        "try:\n",
        "    print(\"try block\")\n",
        "except:\n",
        "    print(\"except block\") # Executes if error occurs\n",
        "finally:\n",
        "    print(\"finally block\")\n"
      ],
      "metadata": {
        "colab": {
          "base_uri": "https://localhost:8080/"
        },
        "id": "TUVkinOWZ8Nn",
        "outputId": "ecfeaf4c-d500-444a-e8c8-d280ea9e459d"
      },
      "execution_count": null,
      "outputs": [
        {
          "output_type": "stream",
          "name": "stdout",
          "text": [
            "try block\n",
            "finally block\n"
          ]
        }
      ]
    },
    {
      "cell_type": "code",
      "source": [
        "try:\n",
        "    print(\"OuterTryBlock--\")\n",
        "    try:\n",
        "        print(\"InnerTryBlock--\")\n",
        "    except ZeroDivisionError:\n",
        "        print(\"InnerExceptBlock\")\n",
        "    finally:\n",
        "        print(\"InnerFinallyBlock--\")\n",
        "except:\n",
        "    print(\"OuterExceptBlock\")\n",
        "finally:\n",
        "    print(\"OuterFinallyBlock--\")\n"
      ],
      "metadata": {
        "colab": {
          "base_uri": "https://localhost:8080/"
        },
        "id": "d74X4BqbaKUO",
        "outputId": "21a160d9-cd37-40a8-faf2-5fefa0a107c7"
      },
      "execution_count": null,
      "outputs": [
        {
          "output_type": "stream",
          "name": "stdout",
          "text": [
            "OuterTryBlock--\n",
            "InnerTryBlock--\n",
            "InnerFinallyBlock--\n",
            "OuterFinallyBlock--\n"
          ]
        }
      ]
    },
    {
      "cell_type": "code",
      "source": [
        "x=int(input(\"Enter Any Number: \"))\n",
        "if x<=10:\n",
        "    raise ValueError('x should not be less than 10!')\n",
        "else:\n",
        "    print(\"Great Value\")\n"
      ],
      "metadata": {
        "colab": {
          "base_uri": "https://localhost:8080/",
          "height": 228
        },
        "id": "zStIJCK0aZPi",
        "outputId": "a9ee6db0-a808-4784-9369-57c2d95845e5"
      },
      "execution_count": null,
      "outputs": [
        {
          "name": "stdout",
          "output_type": "stream",
          "text": [
            "Enter Any Number: 0\n"
          ]
        },
        {
          "output_type": "error",
          "ename": "ValueError",
          "evalue": "x should not be less than 10!",
          "traceback": [
            "\u001b[0;31m---------------------------------------------------------------------------\u001b[0m",
            "\u001b[0;31mValueError\u001b[0m                                Traceback (most recent call last)",
            "\u001b[0;32m/tmp/ipython-input-3003670512.py\u001b[0m in \u001b[0;36m<cell line: 0>\u001b[0;34m()\u001b[0m\n\u001b[1;32m      1\u001b[0m \u001b[0mx\u001b[0m\u001b[0;34m=\u001b[0m\u001b[0mint\u001b[0m\u001b[0;34m(\u001b[0m\u001b[0minput\u001b[0m\u001b[0;34m(\u001b[0m\u001b[0;34m\"Enter Any Number: \"\u001b[0m\u001b[0;34m)\u001b[0m\u001b[0;34m)\u001b[0m\u001b[0;34m\u001b[0m\u001b[0;34m\u001b[0m\u001b[0m\n\u001b[1;32m      2\u001b[0m \u001b[0;32mif\u001b[0m \u001b[0mx\u001b[0m\u001b[0;34m<=\u001b[0m\u001b[0;36m10\u001b[0m\u001b[0;34m:\u001b[0m\u001b[0;34m\u001b[0m\u001b[0;34m\u001b[0m\u001b[0m\n\u001b[0;32m----> 3\u001b[0;31m     \u001b[0;32mraise\u001b[0m \u001b[0mValueError\u001b[0m\u001b[0;34m(\u001b[0m\u001b[0;34m'x should not be less than 10!'\u001b[0m\u001b[0;34m)\u001b[0m\u001b[0;34m\u001b[0m\u001b[0;34m\u001b[0m\u001b[0m\n\u001b[0m\u001b[1;32m      4\u001b[0m \u001b[0;32melse\u001b[0m\u001b[0;34m:\u001b[0m\u001b[0;34m\u001b[0m\u001b[0;34m\u001b[0m\u001b[0m\n\u001b[1;32m      5\u001b[0m     \u001b[0mprint\u001b[0m\u001b[0;34m(\u001b[0m\u001b[0;34m\"Great Value\"\u001b[0m\u001b[0;34m)\u001b[0m\u001b[0;34m\u001b[0m\u001b[0;34m\u001b[0m\u001b[0m\n",
            "\u001b[0;31mValueError\u001b[0m: x should not be less than 10!"
          ]
        }
      ]
    },
    {
      "cell_type": "markdown",
      "source": [
        "Assertion"
      ],
      "metadata": {
        "id": "lq-2pjtNbRiN"
      }
    },
    {
      "cell_type": "code",
      "source": [
        "def power(x, y):\n",
        "  assert x>0, \"X must be positive number, not{0}\"\n",
        "  assert y>0, \"Y must be positive number, not{0}\"\n",
        "  return x**y\n",
        "print(power(4, 6))"
      ],
      "metadata": {
        "colab": {
          "base_uri": "https://localhost:8080/"
        },
        "id": "z7Udma-WaoFa",
        "outputId": "3612d876-d56f-4a45-c967-dc364cd4fafa"
      },
      "execution_count": null,
      "outputs": [
        {
          "output_type": "stream",
          "name": "stdout",
          "text": [
            "4096\n"
          ]
        }
      ]
    },
    {
      "cell_type": "code",
      "source": [
        "def GetAge(age):\n",
        "    assert age>18,\"Age Must not Be less than 18Years\"\n",
        "    print(\"You are Allow to Access: \",age)\n",
        "GetAge(16)\n"
      ],
      "metadata": {
        "colab": {
          "base_uri": "https://localhost:8080/",
          "height": 280
        },
        "id": "LhfPrV1ibrIU",
        "outputId": "a3bc3629-04f4-48a6-8c63-b15b4a1180e4"
      },
      "execution_count": null,
      "outputs": [
        {
          "output_type": "error",
          "ename": "AssertionError",
          "evalue": "Age Must not Be less than 18Years",
          "traceback": [
            "\u001b[0;31m---------------------------------------------------------------------------\u001b[0m",
            "\u001b[0;31mAssertionError\u001b[0m                            Traceback (most recent call last)",
            "\u001b[0;32m/tmp/ipython-input-1552987233.py\u001b[0m in \u001b[0;36m<cell line: 0>\u001b[0;34m()\u001b[0m\n\u001b[1;32m      2\u001b[0m     \u001b[0;32massert\u001b[0m \u001b[0mage\u001b[0m\u001b[0;34m>\u001b[0m\u001b[0;36m18\u001b[0m\u001b[0;34m,\u001b[0m\u001b[0;34m\"Age Must not Be less than 18Years\"\u001b[0m\u001b[0;34m\u001b[0m\u001b[0;34m\u001b[0m\u001b[0m\n\u001b[1;32m      3\u001b[0m     \u001b[0mprint\u001b[0m\u001b[0;34m(\u001b[0m\u001b[0;34m\"You are Allow to Access: \"\u001b[0m\u001b[0;34m,\u001b[0m\u001b[0mage\u001b[0m\u001b[0;34m)\u001b[0m\u001b[0;34m\u001b[0m\u001b[0;34m\u001b[0m\u001b[0m\n\u001b[0;32m----> 4\u001b[0;31m \u001b[0mGetAge\u001b[0m\u001b[0;34m(\u001b[0m\u001b[0;36m16\u001b[0m\u001b[0;34m)\u001b[0m\u001b[0;34m\u001b[0m\u001b[0;34m\u001b[0m\u001b[0m\n\u001b[0m",
            "\u001b[0;32m/tmp/ipython-input-1552987233.py\u001b[0m in \u001b[0;36mGetAge\u001b[0;34m(age)\u001b[0m\n\u001b[1;32m      1\u001b[0m \u001b[0;32mdef\u001b[0m \u001b[0mGetAge\u001b[0m\u001b[0;34m(\u001b[0m\u001b[0mage\u001b[0m\u001b[0;34m)\u001b[0m\u001b[0;34m:\u001b[0m\u001b[0;34m\u001b[0m\u001b[0;34m\u001b[0m\u001b[0m\n\u001b[0;32m----> 2\u001b[0;31m     \u001b[0;32massert\u001b[0m \u001b[0mage\u001b[0m\u001b[0;34m>\u001b[0m\u001b[0;36m18\u001b[0m\u001b[0;34m,\u001b[0m\u001b[0;34m\"Age Must not Be less than 18Years\"\u001b[0m\u001b[0;34m\u001b[0m\u001b[0;34m\u001b[0m\u001b[0m\n\u001b[0m\u001b[1;32m      3\u001b[0m     \u001b[0mprint\u001b[0m\u001b[0;34m(\u001b[0m\u001b[0;34m\"You are Allow to Access: \"\u001b[0m\u001b[0;34m,\u001b[0m\u001b[0mage\u001b[0m\u001b[0;34m)\u001b[0m\u001b[0;34m\u001b[0m\u001b[0;34m\u001b[0m\u001b[0m\n\u001b[1;32m      4\u001b[0m \u001b[0mGetAge\u001b[0m\u001b[0;34m(\u001b[0m\u001b[0;36m16\u001b[0m\u001b[0;34m)\u001b[0m\u001b[0;34m\u001b[0m\u001b[0;34m\u001b[0m\u001b[0m\n",
            "\u001b[0;31mAssertionError\u001b[0m: Age Must not Be less than 18Years"
          ]
        }
      ]
    },
    {
      "cell_type": "code",
      "source": [
        "try:\n",
        "    data=\"Something_that_Can_go_wrong\"\n",
        "except:\n",
        "    print()\n"
      ],
      "metadata": {
        "id": "e9l3VrKZb6PG"
      },
      "execution_count": null,
      "outputs": []
    },
    {
      "cell_type": "code",
      "source": [
        "try:\n",
        "  x=int(input(\"Enter Required Number: \"))\n",
        "  y=int(input(\"Enter Required Number: \"))\n",
        "  print(\"The Result is: \",int(x/y))\n",
        "except:\n",
        "    pass\n",
        "    print(\"Error: Arithmetic Operation Ignored. Pass Block\")\n",
        "else:\n",
        "    print(\"SuccessfullyDone\")\n"
      ],
      "metadata": {
        "colab": {
          "base_uri": "https://localhost:8080/"
        },
        "id": "mtrqqxJVcOyc",
        "outputId": "a746911f-5240-400f-df1b-a1da156fca9e"
      },
      "execution_count": null,
      "outputs": [
        {
          "output_type": "stream",
          "name": "stdout",
          "text": [
            "Enter Required Number: 4\n",
            "Enter Required Number: f\n",
            "Error: Arithmetic Operation Ignored. Pass Block\n"
          ]
        }
      ]
    },
    {
      "cell_type": "code",
      "source": [
        "try:\n",
        "  num = int(input(\"Input binary value: \"), 2)\n",
        "  print(\"num (decimal format):\", num)\n",
        "  print(\"num (binary format):\", bin(num))\n",
        "except ValueError:\n",
        "  print(\"Please input only binary value...\")\n",
        "\n"
      ],
      "metadata": {
        "colab": {
          "base_uri": "https://localhost:8080/"
        },
        "id": "5yM2jQYycbEl",
        "outputId": "b5c9ffc3-9644-4956-e23e-621e4c8b3547"
      },
      "execution_count": null,
      "outputs": [
        {
          "output_type": "stream",
          "name": "stdout",
          "text": [
            "Input binary value: 01010001\n",
            "num (decimal format): 81\n",
            "num (binary format): 0b1010001\n"
          ]
        }
      ]
    },
    {
      "cell_type": "code",
      "source": [
        "try:\n",
        "  num = int(input(\"Input hexadecimal value: \"), 16)\n",
        "  print(\"num (decimal format):\", num)\n",
        "  print(\"num (hexadecimal format):\", hex(num))\n",
        "except ValueError:\n",
        "  print(\"Please input only hexadecimal value...\")\n"
      ],
      "metadata": {
        "colab": {
          "base_uri": "https://localhost:8080/"
        },
        "id": "zuGixwLucs-d",
        "outputId": "a42f2258-95de-41ec-fa2e-7c68088df8d7"
      },
      "execution_count": null,
      "outputs": [
        {
          "output_type": "stream",
          "name": "stdout",
          "text": [
            "Input hexadecimal value: a4215\n",
            "num (decimal format): 672277\n",
            "num (hexadecimal format): 0xa4215\n"
          ]
        }
      ]
    },
    {
      "cell_type": "code",
      "source": [
        "try:\n",
        "  num = int(input(\"Input octal value: \"), 8)\n",
        "  print(\"num (decimal format):\", num)\n",
        "  print(\"num (octal format):\", oct(num))\n",
        "except ValueError:\n",
        "  print(\"Please input only octal value...\")\n"
      ],
      "metadata": {
        "colab": {
          "base_uri": "https://localhost:8080/"
        },
        "id": "4H_WcI_Yc6Te",
        "outputId": "e75f9c5d-8754-4300-fa1b-d66cf1ae8826"
      },
      "execution_count": null,
      "outputs": [
        {
          "output_type": "stream",
          "name": "stdout",
          "text": [
            "Input octal value: 545\n",
            "num (decimal format): 357\n",
            "num (octal format): 0o545\n"
          ]
        }
      ]
    },
    {
      "cell_type": "code",
      "source": [],
      "metadata": {
        "id": "voIdn157dDkp"
      },
      "execution_count": null,
      "outputs": []
    }
  ]
}