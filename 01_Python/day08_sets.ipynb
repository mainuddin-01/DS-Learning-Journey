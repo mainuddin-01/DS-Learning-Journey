{
  "nbformat": 4,
  "nbformat_minor": 0,
  "metadata": {
    "colab": {
      "provenance": [],
      "authorship_tag": "ABX9TyOoqK16+nGCB58qUYb9caBM",
      "include_colab_link": true
    },
    "kernelspec": {
      "name": "python3",
      "display_name": "Python 3"
    },
    "language_info": {
      "name": "python"
    }
  },
  "cells": [
    {
      "cell_type": "markdown",
      "metadata": {
        "id": "view-in-github",
        "colab_type": "text"
      },
      "source": [
        "<a href=\"https://colab.research.google.com/github/mainuddin-01/DS-Learning-Journey/blob/main/1_Python/day8_sets.ipynb\" target=\"_parent\"><img src=\"https://colab.research.google.com/assets/colab-badge.svg\" alt=\"Open In Colab\"/></a>"
      ]
    },
    {
      "cell_type": "markdown",
      "source": [
        "# 1️⃣ Topic of the Day — Python Sets"
      ],
      "metadata": {
        "id": "xWoWCduRzmgJ"
      }
    },
    {
      "cell_type": "markdown",
      "source": [
        "Key Points:\n",
        "- A set is an unordered, mutable collection of unique items.\n",
        "- Duplicate values are automatically removed.\n",
        "- Set --> Unhashable --> Mutable --> Read and Write\n",
        "- Useful for:\n",
        "  - Removing duplicates from a list\n",
        "  - Fast membership tests (x in set)\n",
        "  - Mathematical set operations: union, intersection, difference\n"
      ],
      "metadata": {
        "id": "yWvrAbCU0E6i"
      }
    },
    {
      "cell_type": "markdown",
      "source": [
        "Syntax:"
      ],
      "metadata": {
        "id": "x12XiohO1HnR"
      }
    },
    {
      "cell_type": "code",
      "execution_count": 9,
      "metadata": {
        "colab": {
          "base_uri": "https://localhost:8080/"
        },
        "id": "9K0qSsV8zAga",
        "outputId": "48dd8bde-81c5-4cfc-8a86-0379054ed76f"
      },
      "outputs": [
        {
          "output_type": "stream",
          "name": "stdout",
          "text": [
            "set()\n",
            "{1, 2, 3, 4}\n",
            "{1, 3, 4}\n",
            "{1, 2, 3, 5, 6}\n",
            "{1, 2, 3, 5, 6}\n",
            "{1, 2, 3, 5, 6}\n",
            "{1, 2, 3, 5, 6}\n"
          ]
        }
      ],
      "source": [
        "# Create a set:\n",
        "my_set = {1, 2, 3}\n",
        "\n",
        "# Empty set must use set()\n",
        "empty_set = set() # empty set use set() o.w error occur: invalid syntax set{}\n",
        "print(empty_set)\n",
        "\n",
        "# Add element\n",
        "my_set.add(4)\n",
        "print(my_set)\n",
        "\n",
        "# Remove element\n",
        "my_set.remove(2)\n",
        "print(my_set)\n",
        "\n",
        "# Duplicate values are removed automatically\n",
        "my_set = {1, 1, 2, 3, 5, 6, 5, 6}\n",
        "print(my_set)\n",
        "\n",
        "my_set.add(2)\n",
        "print(my_set)\n",
        "\n",
        "my_set.add(2)\n",
        "print(my_set)\n",
        "\n",
        "my_set.discard(4)\n",
        "print(my_set)"
      ]
    },
    {
      "cell_type": "markdown",
      "source": [
        "# 2️⃣ Code Examples (with explanations)"
      ],
      "metadata": {
        "id": "nRiQZhcq6znJ"
      }
    },
    {
      "cell_type": "markdown",
      "source": [
        "# Example 1: Create a set (automatically duplicate removed)"
      ],
      "metadata": {
        "id": "ENjfusgG7gLd"
      }
    },
    {
      "cell_type": "code",
      "source": [
        "# Create a set (automatically duplicate removed)\n",
        "fruits = {\"Apple\", \"Apple\", \"Banana\", \"carrot\", \"carrot\"}\n",
        "print(fruits)"
      ],
      "metadata": {
        "colab": {
          "base_uri": "https://localhost:8080/"
        },
        "id": "ufF8hEWl1s2Y",
        "outputId": "cf88c422-a678-484c-94ec-54a38ea02bc2"
      },
      "execution_count": 10,
      "outputs": [
        {
          "output_type": "stream",
          "name": "stdout",
          "text": [
            "{'Apple', 'Banana', 'carrot'}\n"
          ]
        }
      ]
    },
    {
      "cell_type": "markdown",
      "source": [
        "Add new items"
      ],
      "metadata": {
        "id": "iH1e-MSf7k6f"
      }
    },
    {
      "cell_type": "code",
      "source": [
        "fruits.add(\"Cherry\")\n",
        "print(fruits)"
      ],
      "metadata": {
        "colab": {
          "base_uri": "https://localhost:8080/"
        },
        "id": "6SsaqL7S7Ko2",
        "outputId": "e826a8c5-36a5-4e07-e2c7-b78949729568"
      },
      "execution_count": 11,
      "outputs": [
        {
          "output_type": "stream",
          "name": "stdout",
          "text": [
            "{'Apple', 'Banana', 'Cherry', 'carrot'}\n"
          ]
        }
      ]
    },
    {
      "cell_type": "markdown",
      "source": [
        "Check Membership"
      ],
      "metadata": {
        "id": "Td4OPu7T7wTE"
      }
    },
    {
      "cell_type": "code",
      "source": [
        "if \"Carrot\" in fruits:\n",
        "    print(\"Carrot is in the set\")\n",
        "else:\n",
        "    print(\"Carrot is not in the set\")"
      ],
      "metadata": {
        "colab": {
          "base_uri": "https://localhost:8080/"
        },
        "id": "sEwfGyMr7ty8",
        "outputId": "495c16d8-8b37-45d3-c7f7-6857d9c6b3eb"
      },
      "execution_count": 13,
      "outputs": [
        {
          "output_type": "stream",
          "name": "stdout",
          "text": [
            "Carrot is not in the set\n"
          ]
        }
      ]
    },
    {
      "cell_type": "markdown",
      "source": [
        "# Example B — Set Operations"
      ],
      "metadata": {
        "id": "6hvrSJo28ZBk"
      }
    },
    {
      "cell_type": "code",
      "source": [
        "a = {1, 2, 3, 4, 5}\n",
        "b = {4, 5, 6, 7, 8}\n",
        "\n",
        "# Mathematical operations\n",
        "print(a | b)  # Union\n",
        "print(a & b)  # Intersection\n",
        "print(a - b)  # Difference\n",
        "print(a ^ b)  # Symmetric Difference"
      ],
      "metadata": {
        "colab": {
          "base_uri": "https://localhost:8080/"
        },
        "id": "QusVRZ0M8EO2",
        "outputId": "5ac001c8-50d6-489a-9347-b2900b0dae31"
      },
      "execution_count": 14,
      "outputs": [
        {
          "output_type": "stream",
          "name": "stdout",
          "text": [
            "{1, 2, 3, 4, 5, 6, 7, 8}\n",
            "{4, 5}\n",
            "{1, 2, 3}\n",
            "{1, 2, 3, 6, 7, 8}\n"
          ]
        }
      ]
    },
    {
      "cell_type": "markdown",
      "source": [
        "# Example C — Remove Duplicates from List"
      ],
      "metadata": {
        "id": "EnpWy2zo9fzD"
      }
    },
    {
      "cell_type": "code",
      "source": [
        "my_list = [1, 1, 2, 2, 3, 3, 4, 4, 5, 5]\n",
        "unique_list = list(set(my_list))  # Duplicats removed\n",
        "print(unique_list)  # # Order may change because sets are unordered"
      ],
      "metadata": {
        "colab": {
          "base_uri": "https://localhost:8080/"
        },
        "id": "wpOcbP-k8y7G",
        "outputId": "3951ac5c-d426-4e0a-b75a-8b0ac27c5da8"
      },
      "execution_count": 17,
      "outputs": [
        {
          "output_type": "stream",
          "name": "stdout",
          "text": [
            "[1, 2, 3, 4, 5]\n"
          ]
        }
      ]
    },
    {
      "cell_type": "markdown",
      "source": [
        "# 3️⃣ Practice Exercises"
      ],
      "metadata": {
        "id": "CDEcDoZ9-EHB"
      }
    },
    {
      "cell_type": "markdown",
      "source": [
        "1, create a set of numbers 1 to 5, add 6, and remove 3. Print final set."
      ],
      "metadata": {
        "id": "Mx-Ekt1k-IJ6"
      }
    },
    {
      "cell_type": "code",
      "source": [
        "# Set of numbers\n",
        "num = {1, 2, 3, 4, 5}\n",
        "print(num)\n",
        "\n",
        "# Add 6\n",
        "num.add(6)\n",
        "print(num)\n",
        "\n",
        "# Remove 3\n",
        "num.remove(3)\n",
        "print(num)\n",
        "#"
      ],
      "metadata": {
        "colab": {
          "base_uri": "https://localhost:8080/"
        },
        "id": "SARWD2D39ntC",
        "outputId": "8622d31c-fdd4-482b-f469-b4554aa6e58a"
      },
      "execution_count": 18,
      "outputs": [
        {
          "output_type": "stream",
          "name": "stdout",
          "text": [
            "{1, 2, 3, 4, 5}\n",
            "{1, 2, 3, 4, 5, 6}\n",
            "{1, 2, 4, 5, 6}\n"
          ]
        }
      ]
    },
    {
      "cell_type": "markdown",
      "source": [
        "2.\tWrite a program that takes a list with duplicates and returns a list with unique items (hint: use set())."
      ],
      "metadata": {
        "id": "RcgyR8-H-dwx"
      }
    },
    {
      "cell_type": "code",
      "source": [
        "dup_list = [1, 1, 2, 3, 7, 7, 8, 8, 5, 5]\n",
        "unique_list = list(set(dup_list))\n",
        "print(unique_list)"
      ],
      "metadata": {
        "colab": {
          "base_uri": "https://localhost:8080/"
        },
        "id": "irM2tiA1-VZm",
        "outputId": "9f8fe4b6-288d-4bbe-a6a5-6adebba2b684"
      },
      "execution_count": 19,
      "outputs": [
        {
          "output_type": "stream",
          "name": "stdout",
          "text": [
            "[1, 2, 3, 5, 7, 8]\n"
          ]
        }
      ]
    },
    {
      "cell_type": "markdown",
      "source": [
        "3.\tGiven two sets A and B, find:\n",
        "- Union, Intersection, Difference, Symmetric Difference\n",
        "- Test with multiple data sets\n"
      ],
      "metadata": {
        "id": "2iVLn9Ao_Id5"
      }
    },
    {
      "cell_type": "code",
      "source": [
        "A = {5, 4, 3, 2, 1}\n",
        "B = {1, 2, 3, 4, 5}\n",
        "\n",
        "# Union\n",
        "print(A | B)\n",
        "\n",
        "# Intersection\n",
        "print(A & B)\n",
        "\n",
        "# Difference\n",
        "print(A - B)\n",
        "\n",
        "# Symmetric difference\n",
        "print(A ^ B)"
      ],
      "metadata": {
        "colab": {
          "base_uri": "https://localhost:8080/"
        },
        "id": "upJsCUJy-0Y9",
        "outputId": "e6a48b9c-13ba-472d-a3c7-b9227f62e0c7"
      },
      "execution_count": 20,
      "outputs": [
        {
          "output_type": "stream",
          "name": "stdout",
          "text": [
            "{1, 2, 3, 4, 5}\n",
            "{1, 2, 3, 4, 5}\n",
            "set()\n",
            "set()\n"
          ]
        }
      ]
    },
    {
      "cell_type": "markdown",
      "source": [
        "4.\tWrite a program to check if two sets are disjoint (no common elements)."
      ],
      "metadata": {
        "id": "2zIFa2HmAVnp"
      }
    },
    {
      "cell_type": "code",
      "source": [
        "A = {5, 4, 3, 2, 1}\n",
        "B = {1, 2, 3, 4, 5}\n",
        "\n",
        "print(A.isdisjoint(B))"
      ],
      "metadata": {
        "colab": {
          "base_uri": "https://localhost:8080/"
        },
        "id": "NVnnd9a8_uG1",
        "outputId": "5ba12feb-db58-47b4-fe1f-7fd7c9f54b08"
      },
      "execution_count": 23,
      "outputs": [
        {
          "output_type": "stream",
          "name": "stdout",
          "text": [
            "False\n"
          ]
        }
      ]
    },
    {
      "cell_type": "code",
      "source": [],
      "metadata": {
        "id": "Ur_KIXWpAdPh"
      },
      "execution_count": null,
      "outputs": []
    }
  ]
}
