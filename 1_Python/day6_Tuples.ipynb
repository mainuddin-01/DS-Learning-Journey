{
  "cells": [
    {
      "cell_type": "markdown",
      "metadata": {
        "id": "view-in-github",
        "colab_type": "text"
      },
      "source": [
        "<a href=\"https://colab.research.google.com/github/mainuddin-01/DS-Learning-Journey/blob/main/day6_Tuples.ipynb\" target=\"_parent\"><img src=\"https://colab.research.google.com/assets/colab-badge.svg\" alt=\"Open In Colab\"/></a>"
      ]
    },
    {
      "cell_type": "markdown",
      "metadata": {
        "id": "rWbHXhvVTqMy"
      },
      "source": [
        "# 1️⃣ Topic of the Day — Tuples"
      ]
    },
    {
      "cell_type": "markdown",
      "metadata": {
        "id": "BVBZ3n3bTtC2"
      },
      "source": [
        "# What are Tuples?\n",
        "- Tuples are ordered collections like lists, but immutable (cannot be changed after creation).\n",
        "- They are written using parentheses ( ) instead of square brackets [ ].\n",
        "- They are faster than lists and are often used for fixed data (like coordinates, RGB colors, database rows).\n",
        "- Tuple --> Hashable --> immutable --> Read only"
      ]
    },
    {
      "cell_type": "markdown",
      "metadata": {
        "id": "jILWMbfYUKeG"
      },
      "source": [
        "# Key Points\n",
        "- Can store mixed data types (int, float, string, list inside tuple, etc.).\n",
        "- Support indexing, slicing, iteration, just like lists.\n",
        "- You cannot add, remove, or change elements once created.\n"
      ]
    },
    {
      "cell_type": "markdown",
      "metadata": {
        "id": "sd9A-fAAUsfT"
      },
      "source": [
        "# Syntax"
      ]
    },
    {
      "cell_type": "markdown",
      "metadata": {
        "id": "DJWhZk_5U22f"
      },
      "source": [
        "- 1. Creating a Tuple.\n"
      ]
    },
    {
      "cell_type": "code",
      "execution_count": null,
      "metadata": {
        "id": "0Ed9gwlASul9"
      },
      "outputs": [],
      "source": [
        "MyTuple = (1, 2, 3)\n",
        "single_tuple = (\"a\", )  # Important: For single tuple comma is needed"
      ]
    },
    {
      "cell_type": "markdown",
      "metadata": {
        "id": "PlFkA2FJVWQN"
      },
      "source": [
        "- 2. Accessing elements"
      ]
    },
    {
      "cell_type": "code",
      "execution_count": null,
      "metadata": {
        "colab": {
          "base_uri": "https://localhost:8080/"
        },
        "id": "zOnAKY4NVXzt",
        "outputId": "08b79905-2f52-4be5-a871-75d7d694a9a6"
      },
      "outputs": [
        {
          "name": "stdout",
          "output_type": "stream",
          "text": [
            "(1, 2, 3)\n",
            "('a',)\n"
          ]
        }
      ],
      "source": [
        "MyTuple = (1, 2, 3)\n",
        "print(MyTuple)\n",
        "\n",
        "single_tuple = (\"a\", )   # Important: For single tuple comma is needed\n",
        "print(single_tuple)"
      ]
    },
    {
      "cell_type": "markdown",
      "metadata": {
        "id": "wxWBbsowV9ic"
      },
      "source": [
        "- 3. Tuple Unpacking"
      ]
    },
    {
      "cell_type": "code",
      "execution_count": null,
      "metadata": {
        "colab": {
          "base_uri": "https://localhost:8080/"
        },
        "id": "g7kRQ5TvVawn",
        "outputId": "7c2fe28e-2fa3-4514-a5b5-19d9761952f1"
      },
      "outputs": [
        {
          "name": "stdout",
          "output_type": "stream",
          "text": [
            "1 2 3\n"
          ]
        }
      ],
      "source": [
        "MyTuple = (1, 2, 3)\n",
        "x, y, z = MyTuple # Tuple unpacking.\n",
        "print(x, y, z)"
      ]
    },
    {
      "cell_type": "markdown",
      "metadata": {
        "id": "C_7vvecbWf-I"
      },
      "source": [
        "# 2️⃣ Code Examples"
      ]
    },
    {
      "cell_type": "markdown",
      "metadata": {
        "id": "URfx6Kk2WuPv"
      },
      "source": [
        "Example 1 — Creating and Accessing"
      ]
    },
    {
      "cell_type": "code",
      "execution_count": null,
      "metadata": {
        "colab": {
          "background_save": true
        },
        "id": "UudtL1vSWMCv",
        "outputId": "fffcd592-7257-4666-cb9b-122e6de7b0f9"
      },
      "outputs": [
        {
          "name": "stdout",
          "output_type": "stream",
          "text": [
            "True\n",
            "True\n"
          ]
        }
      ],
      "source": [
        "my_tuple = (\"Moin\", 1, -1, True)\n",
        "print(my_tuple[-1])\n",
        "print(my_tuple[3])"
      ]
    },
    {
      "cell_type": "markdown",
      "source": [
        "Example 2 — Tuple Unpacking\n",
        "- Tuple unpacking (assign to variables)\n"
      ],
      "metadata": {
        "id": "_bIOnmO9Gxpy"
      }
    },
    {
      "cell_type": "code",
      "execution_count": null,
      "metadata": {
        "id": "rSV-9qTpW8KI",
        "colab": {
          "base_uri": "https://localhost:8080/"
        },
        "outputId": "92e93729-7e19-463d-a7d9-726e52670050"
      },
      "outputs": [
        {
          "output_type": "stream",
          "name": "stdout",
          "text": [
            "Moin\n",
            "[1, -1, True]\n"
          ]
        }
      ],
      "source": [
        "my_tuple = (\"Moin\", 1, -1, True)\n",
        "name, *other = my_tuple\n",
        "print(name)\n",
        "print(other)"
      ]
    },
    {
      "cell_type": "code",
      "source": [
        "point = (10, 20)\n",
        "x, y = point\n",
        "print(f\"x = {x}, y = {y}\")  # x = 10, y = 20"
      ],
      "metadata": {
        "colab": {
          "base_uri": "https://localhost:8080/"
        },
        "id": "A_Ojbl2VG6K7",
        "outputId": "8296675b-66b0-40b1-e002-3147381f1ac5"
      },
      "execution_count": null,
      "outputs": [
        {
          "output_type": "stream",
          "name": "stdout",
          "text": [
            "x = 10, y = 20\n"
          ]
        }
      ]
    },
    {
      "cell_type": "markdown",
      "source": [
        "Example 3 — Using Tuples in a Function\n",
        "- Function returning a tuple\n"
      ],
      "metadata": {
        "id": "ry-g-09tHWHo"
      }
    },
    {
      "cell_type": "code",
      "source": [
        "def min_max(MyTuple):\n",
        "  return min(MyTuple), max(MyTuple)\n",
        "\n",
        "MyTuple = (212, 32, 53, 52, 42)\n",
        "smallest, largest = min_max(MyTuple)\n",
        "print(smallest)\n",
        "print(largest)"
      ],
      "metadata": {
        "colab": {
          "base_uri": "https://localhost:8080/"
        },
        "id": "J5xU0vWkHQWw",
        "outputId": "f5a4ed0a-7f75-4591-d264-8bd05ac583a4"
      },
      "execution_count": null,
      "outputs": [
        {
          "output_type": "stream",
          "name": "stdout",
          "text": [
            "32\n",
            "212\n"
          ]
        }
      ]
    },
    {
      "cell_type": "markdown",
      "source": [
        "# 3️⃣ Practice Exercises"
      ],
      "metadata": {
        "id": "SaC-DoUcIGVB"
      }
    },
    {
      "cell_type": "markdown",
      "source": [
        "\n",
        "1.\tCreate a tuple with numbers 1, 2, 3, 4, 5 and print the second element.\n"
      ],
      "metadata": {
        "id": "pU1Rb9KBIPgT"
      }
    },
    {
      "cell_type": "code",
      "source": [
        "MyTuple = (1, 2, 3, 4, 5)\n",
        "print(MyTuple[1])"
      ],
      "metadata": {
        "colab": {
          "base_uri": "https://localhost:8080/"
        },
        "id": "yjPkBRXzH86I",
        "outputId": "bfc45ab4-1714-412c-f893-7da6dba44a6c"
      },
      "execution_count": null,
      "outputs": [
        {
          "output_type": "stream",
          "name": "stdout",
          "text": [
            "2\n"
          ]
        }
      ]
    },
    {
      "cell_type": "markdown",
      "source": [
        "2.\tCreate a tuple with mixed data types (int, string, float) and print each using a loop.\n"
      ],
      "metadata": {
        "id": "WeXHJ7bTIvl7"
      }
    },
    {
      "cell_type": "code",
      "source": [
        "MixedTuple = (12, \"Toufik\", 3.14)\n",
        "for element in MixedTuple:  # for is used\n",
        "  print(element)"
      ],
      "metadata": {
        "colab": {
          "base_uri": "https://localhost:8080/"
        },
        "id": "qMa2KR6XIfKb",
        "outputId": "0922ee1e-71eb-49a4-d9a8-d22f67a91111"
      },
      "execution_count": 7,
      "outputs": [
        {
          "output_type": "stream",
          "name": "stdout",
          "text": [
            "12\n",
            "Toufik\n",
            "3.14\n"
          ]
        }
      ]
    },
    {
      "cell_type": "markdown",
      "source": [
        "3.\tWrite a program to swap two variables using tuple unpacking."
      ],
      "metadata": {
        "id": "X-Nk2GbyJKN5"
      }
    },
    {
      "cell_type": "code",
      "source": [
        "Swap_Variables = (3, 2)\n",
        "a, b = Swap_Variables\n",
        "print(f\"a = {a}, b = {b}\")  # a = 3, b = 2\n",
        "a, b = b, a\n",
        "print(f\"a = {a}, b = {b}\")  # a = 2, b = 3"
      ],
      "metadata": {
        "colab": {
          "base_uri": "https://localhost:8080/"
        },
        "id": "qTE6xiZmJFoa",
        "outputId": "2ec9821f-3deb-44d6-c9d9-9be08bf813a8"
      },
      "execution_count": null,
      "outputs": [
        {
          "output_type": "stream",
          "name": "stdout",
          "text": [
            "a = 3, b = 2\n",
            "a = 2, b = 3\n"
          ]
        }
      ]
    },
    {
      "cell_type": "markdown",
      "source": [
        "4.\tWrite a program that converts a list [1, 2, 3] into a tuple and prints it."
      ],
      "metadata": {
        "id": "13AkMIrPJ28D"
      }
    },
    {
      "cell_type": "code",
      "source": [
        "MyList = [12, \"Toufik\", 3.14]\n",
        "MyTuple = tuple(MyList) # Typecasting is used\n",
        "print(MyTuple)\n",
        "print(type(MyTuple))"
      ],
      "metadata": {
        "colab": {
          "base_uri": "https://localhost:8080/"
        },
        "id": "7scY9fCUJlDP",
        "outputId": "2cabb38f-0983-4c5b-e57c-7aa7e535002a"
      },
      "execution_count": 2,
      "outputs": [
        {
          "output_type": "stream",
          "name": "stdout",
          "text": [
            "(12, 'Toufik', 3.14)\n",
            "<class 'tuple'>\n"
          ]
        }
      ]
    },
    {
      "cell_type": "markdown",
      "source": [
        "5.\tWrite a program that counts how many times 10 appears in (10, 20, 10, 30, 10)."
      ],
      "metadata": {
        "id": "s4YR-yd-zv3l"
      }
    },
    {
      "cell_type": "code",
      "source": [
        "MyTuple = (10, 20, 10, 30, 10)\n",
        "print(MyTuple.count(10))  # Using count, we can count of element"
      ],
      "metadata": {
        "id": "pXaSvhVeKH3h",
        "colab": {
          "base_uri": "https://localhost:8080/"
        },
        "outputId": "29c466ce-c9a1-4c5d-ed97-130bf62207e3"
      },
      "execution_count": 3,
      "outputs": [
        {
          "output_type": "stream",
          "name": "stdout",
          "text": [
            "3\n"
          ]
        }
      ]
    },
    {
      "cell_type": "markdown",
      "source": [
        "6.\tWrite a program that finds the index of 30 in (10, 20, 30, 40)."
      ],
      "metadata": {
        "id": "7DgUdpO30MUe"
      }
    },
    {
      "cell_type": "code",
      "source": [
        "MyTuple = (10, 20, 30, 40)\n",
        "print(MyTuple.index(30))  # Using index, we can find index number of element"
      ],
      "metadata": {
        "colab": {
          "base_uri": "https://localhost:8080/"
        },
        "id": "Ns1uHh5H0FiR",
        "outputId": "fb5a89a1-e31a-458b-c6f5-4426ea7bf059"
      },
      "execution_count": 4,
      "outputs": [
        {
          "output_type": "stream",
          "name": "stdout",
          "text": [
            "2\n"
          ]
        }
      ]
    },
    {
      "cell_type": "markdown",
      "source": [
        "7.\tWrite a program that joins two tuples (1, 2, 3) and (4, 5, 6) into one."
      ],
      "metadata": {
        "id": "pxHHIbpv0c3M"
      }
    },
    {
      "cell_type": "code",
      "source": [
        "Tuple1 = (1, 2, 3)\n",
        "Tuple2 = (4, 5, 6)\n",
        "Tuple1 = Tuple1 + Tuple2 # Using concatenation 2 tuples are joined\n",
        "print(Tuple1)"
      ],
      "metadata": {
        "colab": {
          "base_uri": "https://localhost:8080/"
        },
        "id": "3U6Bp6xB0WOW",
        "outputId": "06b5aca7-85e0-4817-e1e9-a88389369931"
      },
      "execution_count": 6,
      "outputs": [
        {
          "output_type": "stream",
          "name": "stdout",
          "text": [
            "(1, 2, 3, 4, 5, 6)\n"
          ]
        }
      ]
    },
    {
      "cell_type": "markdown",
      "source": [
        "# 4️⃣ Mini Project / Task\n",
        "Mini Task:\n",
        "- Create a tuple of 5 student names, then print each name using a for loop.\n",
        "- Then, unpack the first three names into variables s1, s2, s3 and print them.\n"
      ],
      "metadata": {
        "id": "RJidRaZW5Zx-"
      }
    },
    {
      "cell_type": "code",
      "source": [
        "names = (\"Suresh\", \"Akash\", \"Vasim\", \"Ramchandra\", \"Vijay\")\n",
        "for name in names:\n",
        "  print(name)\n",
        "s1, s2, s3 = names[ : 3]\n",
        "print(s1, s2, s3)"
      ],
      "metadata": {
        "colab": {
          "base_uri": "https://localhost:8080/"
        },
        "id": "DrWp9-sE5faj",
        "outputId": "24023743-77aa-4c37-fafb-329560605803"
      },
      "execution_count": 14,
      "outputs": [
        {
          "output_type": "stream",
          "name": "stdout",
          "text": [
            "Suresh\n",
            "Akash\n",
            "Vasim\n",
            "Ramchandra\n",
            "Vijay\n",
            "Suresh Akash Vasim\n"
          ]
        }
      ]
    },
    {
      "cell_type": "markdown",
      "source": [
        "# 5️⃣ Topic-wise HackerRank Problems 🔥\n",
        "Task\n",
        "Given an integer, , and  space-separated integers as input, create a tuple, , of those  integers. Then compute and print the result of .\n",
        "\n",
        "Note: hash() is one of the functions in the __builtins__ module, so it need not be imported.\n",
        "\n",
        "Input Format\n",
        "\n",
        "The first line contains an integer, , denoting the number of elements in the tuple.\n",
        "The second line contains  space-separated integers describing the elements in tuple .\n",
        "\n",
        "Output Format\n",
        "\n",
        "Print the result of hash(t)."
      ],
      "metadata": {
        "id": "Hw_QumCF4YRZ"
      }
    },
    {
      "cell_type": "code",
      "source": [
        "n = int(input())\n",
        "\n",
        "numbers = map(int, input().split())\n",
        "\n",
        "t = tuple(numbers)\n",
        "\n",
        "print(hash(t))"
      ],
      "metadata": {
        "colab": {
          "base_uri": "https://localhost:8080/"
        },
        "id": "n14q1Ahm0wmc",
        "outputId": "8d523c75-230b-4225-8ccf-dc6956537203"
      },
      "execution_count": 12,
      "outputs": [
        {
          "output_type": "stream",
          "name": "stdout",
          "text": [
            "2\n",
            "1 2\n",
            "2\n",
            "-3550055125485641917\n"
          ]
        }
      ]
    },
    {
      "cell_type": "code",
      "source": [],
      "metadata": {
        "id": "3-bKf7ND4t4g"
      },
      "execution_count": 11,
      "outputs": []
    }
  ],
  "metadata": {
    "colab": {
      "provenance": [],
      "authorship_tag": "ABX9TyOBy1ueytZ8pP5Y/3S+KXu2",
      "include_colab_link": true
    },
    "kernelspec": {
      "display_name": "Python 3",
      "name": "python3"
    },
    "language_info": {
      "name": "python"
    }
  },
  "nbformat": 4,
  "nbformat_minor": 0
}
