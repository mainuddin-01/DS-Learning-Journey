{
  "nbformat": 4,
  "nbformat_minor": 0,
  "metadata": {
    "colab": {
      "provenance": []
    },
    "kernelspec": {
      "name": "python3",
      "display_name": "Python 3"
    },
    "language_info": {
      "name": "python"
    }
  },
  "cells": [
    {
      "cell_type": "markdown",
      "source": [
        "# 1️⃣ Topic of the Day — Python Dictionaries"
      ],
      "metadata": {
        "id": "vVZHHW4rsYn3"
      }
    },
    {
      "cell_type": "markdown",
      "source": [
        "# Keypoints:\n",
        "- A dictionary is an unordered, mutable, key-value pair collection.\n",
        "- Keys must be unique & immutable (string, number, tuple).\n",
        "- Values can be any type (even lists, other dicts).\n",
        "- Very useful for storing structured data (like JSON, configs, mappings).\n"
      ],
      "metadata": {
        "id": "-4X4CE5bwpHd"
      }
    },
    {
      "cell_type": "markdown",
      "source": [
        "# Syntax"
      ],
      "metadata": {
        "id": "_6kmzSYjxEpf"
      }
    },
    {
      "cell_type": "code",
      "execution_count": null,
      "metadata": {
        "colab": {
          "base_uri": "https://localhost:8080/"
        },
        "id": "S9TAdyF2sF0Y",
        "outputId": "025ffc50-5a71-4c1a-823a-557ebd94ff4f"
      },
      "outputs": [
        {
          "output_type": "stream",
          "name": "stdout",
          "text": [
            "{'name': 'Mainuddin', 'age': 23, 'marks': [82, 65, 72]}\n"
          ]
        }
      ],
      "source": [
        "# Create a dictionary\n",
        "student = {\n",
        "    \"name\": \"Mainuddin\",\n",
        "    \"age\": 23,\n",
        "    \"marks\": [82, 65, 72]\n",
        "}\n",
        "print(student)"
      ]
    },
    {
      "cell_type": "code",
      "source": [
        "# Access value by Key\n",
        "print(student[\"name\"])"
      ],
      "metadata": {
        "colab": {
          "base_uri": "https://localhost:8080/"
        },
        "id": "eEvsqDdNxfHr",
        "outputId": "3d76d16a-a8cc-4694-c031-154b2ca9fc12"
      },
      "execution_count": null,
      "outputs": [
        {
          "output_type": "stream",
          "name": "stdout",
          "text": [
            "Mainuddin\n"
          ]
        }
      ]
    },
    {
      "cell_type": "code",
      "source": [
        "# Update key - value pair\n",
        "student[\"grade\"] = \"A+\"\n",
        "print(student)"
      ],
      "metadata": {
        "colab": {
          "base_uri": "https://localhost:8080/"
        },
        "id": "-cAPbTQdxsXC",
        "outputId": "11646275-c263-42c9-daaf-a292c68c9ae8"
      },
      "execution_count": null,
      "outputs": [
        {
          "output_type": "stream",
          "name": "stdout",
          "text": [
            "{'name': 'Mainuddin', 'age': 23, 'marks': [82, 65, 72], 'grade': 'A+'}\n"
          ]
        }
      ]
    },
    {
      "cell_type": "code",
      "source": [
        "# Remove a key\n",
        "del student[\"age\"]\n",
        "print(student)"
      ],
      "metadata": {
        "colab": {
          "base_uri": "https://localhost:8080/"
        },
        "id": "BtM7zpzzx_EP",
        "outputId": "9071b7d9-2efc-423f-d269-3eb1d3326526"
      },
      "execution_count": null,
      "outputs": [
        {
          "output_type": "stream",
          "name": "stdout",
          "text": [
            "{'name': 'Mainuddin', 'marks': [82, 65, 72], 'grade': 'A+'}\n"
          ]
        }
      ]
    },
    {
      "cell_type": "markdown",
      "source": [
        "# When to use:\n",
        "- When you want to store data as key-value pairs (like a mini-database row).\n",
        "- When you need fast lookups by a unique identifier (name, ID, etc.).\n",
        "- When working with structured data (JSON, API responses, configs).\n"
      ],
      "metadata": {
        "id": "mXXFJAC8yT8e"
      }
    },
    {
      "cell_type": "markdown",
      "source": [
        "# 2️⃣ Code Examples (with explanations)"
      ],
      "metadata": {
        "id": "J7b_Qug4ym3c"
      }
    },
    {
      "cell_type": "markdown",
      "source": [
        "Example A — Creating and Accessing a Dictionary"
      ],
      "metadata": {
        "id": "FF_IVJ9VyxEk"
      }
    },
    {
      "cell_type": "code",
      "source": [
        "# Dictionary of student details\n",
        "Brothers = {\n",
        "    \"Mainuddin\": {\n",
        "        \"age\": 23,\n",
        "        \"Education\": \"BCS\",\n",
        "        \"Currently\": \"Course\"\n",
        "    },\n",
        "    \"Tajuddin\": {\n",
        "        \"NickName\": \"Taju\",\n",
        "        \"age\": 21,\n",
        "        \"Education\": \"ITI\",\n",
        "        \"Currently\": \"Waiting for Opportunities\"\n",
        "    },\n",
        "     \"Jainuddin\": {\n",
        "       \"age\": 19,\n",
        "        \"Education\": \"ITI\",\n",
        "        \"Currently\": \"Working in Tata\"\n",
        "    },\n",
        "}\n",
        "\n",
        "print(Brothers['Jainuddin'])\n",
        "print(Brothers[\"Mainuddin\"])  # Access value by key\n",
        "print(Brothers.get(\"Tajuddin\")) # # safely get value (returns None if missing)\n",
        "\n",
        "# Add a key value pair\n",
        "Brothers[\"Nisaruddin\"] = {\n",
        "    \"age\": 40,\n",
        "    \"Education\": \"10th\",\n",
        "    \"Currently\": \"Driving a Bus for School\"\n",
        "}\n",
        "print(Brothers)"
      ],
      "metadata": {
        "colab": {
          "base_uri": "https://localhost:8080/"
        },
        "id": "cd86quLSyOKl",
        "outputId": "ccf59b90-58cf-4f3d-ac5b-191e60366393"
      },
      "execution_count": null,
      "outputs": [
        {
          "output_type": "stream",
          "name": "stdout",
          "text": [
            "{'age': 19, 'Education': 'ITI', 'Currently': 'Working in Tata'}\n",
            "{'age': 23, 'Education': 'BCS', 'Currently': 'Course'}\n",
            "{'NickName': 'Taju', 'age': 21, 'Education': 'ITI', 'Currently': 'Waiting for Opportunities'}\n",
            "{'Mainuddin': {'age': 23, 'Education': 'BCS', 'Currently': 'Course'}, 'Tajuddin': {'NickName': 'Taju', 'age': 21, 'Education': 'ITI', 'Currently': 'Waiting for Opportunities'}, 'Jainuddin': {'age': 19, 'Education': 'ITI', 'Currently': 'Working in Tata'}, 'Nisaruddin': {'age': 40, 'Education': '10th', 'Currently': 'Driving a Bus for School'}}\n"
          ]
        }
      ]
    },
    {
      "cell_type": "code",
      "source": [
        "# Access value by key\n",
        "print(Brothers[\"Mainuddin\"])"
      ],
      "metadata": {
        "colab": {
          "base_uri": "https://localhost:8080/"
        },
        "id": "m-S3VG7H0O0C",
        "outputId": "49bff156-6805-453e-afa2-a7b6d3f8e46f"
      },
      "execution_count": null,
      "outputs": [
        {
          "output_type": "stream",
          "name": "stdout",
          "text": [
            "{'age': 23, 'Education': 'BCS', 'Currently': 'Course'}\n"
          ]
        }
      ]
    },
    {
      "cell_type": "markdown",
      "source": [
        "Example B — Looping Through a Dictionary"
      ],
      "metadata": {
        "id": "fM033kUZTqY0"
      }
    },
    {
      "cell_type": "code",
      "source": [
        "sister = {\"Name\": \"Almas\", \"Age\": 12, \"Stay\": \"Mohol\", \"Education\": \"10th\"}\n",
        "\n",
        "# For Keys\n",
        "for key in sister.keys():\n",
        "  print(key)"
      ],
      "metadata": {
        "id": "Keq8ucNu0hn6",
        "colab": {
          "base_uri": "https://localhost:8080/"
        },
        "outputId": "3f06e65d-c0bd-4429-a00a-146b948b6884"
      },
      "execution_count": null,
      "outputs": [
        {
          "output_type": "stream",
          "name": "stdout",
          "text": [
            "Name\n",
            "Age\n",
            "Stay\n",
            "Education\n"
          ]
        }
      ]
    },
    {
      "cell_type": "code",
      "source": [
        "# For values\n",
        "for value in sister.values(): # used to get values\n",
        "  print(value)"
      ],
      "metadata": {
        "colab": {
          "base_uri": "https://localhost:8080/"
        },
        "id": "yS3OaeUnVovF",
        "outputId": "c5852d25-27b3-4433-8bf7-3056bd1b146e"
      },
      "execution_count": null,
      "outputs": [
        {
          "output_type": "stream",
          "name": "stdout",
          "text": [
            "Almas\n",
            "12\n",
            "Mohol\n",
            "10th\n"
          ]
        }
      ]
    },
    {
      "cell_type": "code",
      "source": [
        "# For keys+values\n",
        "for key, values in sister.items():  # For pair of key and values pair\n",
        "  print(key,\"-->\", values)"
      ],
      "metadata": {
        "colab": {
          "base_uri": "https://localhost:8080/"
        },
        "id": "vB07e0TJV269",
        "outputId": "7f5d4bbb-bc45-4534-8834-bfc9e4583597"
      },
      "execution_count": null,
      "outputs": [
        {
          "output_type": "stream",
          "name": "stdout",
          "text": [
            "Name --> Almas\n",
            "Age --> 12\n",
            "Stay --> Mohol\n",
            "Education --> 10th\n"
          ]
        }
      ]
    },
    {
      "cell_type": "markdown",
      "source": [
        "Example C — Nested Dictionaries"
      ],
      "metadata": {
        "id": "o9ymxvvqWrmm"
      }
    },
    {
      "cell_type": "code",
      "source": [
        "students ={\n",
        "    \"01\" : {\"Name\": \"Mainuddin\", \"Age\": 23, \"Education\": \"BCS\"},\n",
        "    \"02\" : {\"Name\": \"Tajuddin\", \"Age\": 21, \"Education\": \"ITI\"},\n",
        "    \"03\" : {\"Name\": \"Jainuddin\", \"Age\": 19, \"Education\": \"ITI\"},\n",
        "}\n",
        "print(students[\"01\"][\"Name\"]) # Access nested values\n"
      ],
      "metadata": {
        "colab": {
          "base_uri": "https://localhost:8080/"
        },
        "id": "Z3XoLVkLWGHz",
        "outputId": "ed0c7014-3778-4db2-c4db-5bf496eba41b"
      },
      "execution_count": null,
      "outputs": [
        {
          "output_type": "stream",
          "name": "stdout",
          "text": [
            "Mainuddin\n"
          ]
        }
      ]
    },
    {
      "cell_type": "markdown",
      "source": [
        "# 3️⃣ Practice Exercises"
      ],
      "metadata": {
        "id": "7OtXiZIUdfXZ"
      }
    },
    {
      "cell_type": "markdown",
      "source": [
        "1.\tCreate a dictionary person = {\"name\":\"John\", \"age\":30, \"city\":\"Paris\"}\n",
        "- Print name & city.\n",
        "- Add a new key profession = \"Engineer\".\n",
        "- Delete age.\n"
      ],
      "metadata": {
        "id": "D-gPzS3ydjzH"
      }
    },
    {
      "cell_type": "code",
      "source": [
        "person = {\n",
        "    \"name\": \"John\",\n",
        "    \"age\" : 30,\n",
        "    \"city\": \"Paris\"\n",
        "}\n",
        "\n",
        "# 1. Print name and city\n",
        "print(person[\"name\"])\n",
        "print(person[\"city\"])\n",
        "\n",
        "# 2. Add a new key profession\n",
        "person[\"profeession\"] = \"Engineer\"\n",
        "print(person)\n",
        "\n",
        "# 3. Delete age\n",
        "del person[\"age\"]\n",
        "print(person)\n"
      ],
      "metadata": {
        "colab": {
          "base_uri": "https://localhost:8080/"
        },
        "id": "Nc7BxfmFXAAj",
        "outputId": "75f936d8-5716-401c-da7a-94b1ab9d7107"
      },
      "execution_count": null,
      "outputs": [
        {
          "output_type": "stream",
          "name": "stdout",
          "text": [
            "John\n",
            "Paris\n",
            "{'name': 'John', 'age': 30, 'city': 'Paris', 'profeession': 'Engineer'}\n",
            "{'name': 'John', 'city': 'Paris', 'profeession': 'Engineer'}\n"
          ]
        }
      ]
    },
    {
      "cell_type": "markdown",
      "source": [
        "2.\tWrite a program that counts the frequency of characters in a string\n",
        "- Example: \"hello\" → {'h':1,'e':1,'l':2,'o':1}\n"
      ],
      "metadata": {
        "id": "sYPY1mh-ei7K"
      }
    },
    {
      "cell_type": "code",
      "source": [
        "my_string = input(\"Enter a string: \")\n",
        "char_frequency = {}\n",
        "\n",
        "for char in my_string:\n",
        "  if char in char_frequency:  # Whether the character is present in the set\n",
        "    char_frequency[char] += 1\n",
        "  else:                        # If not present in the list\n",
        "    char_frequency[char] = 1\n",
        "\n",
        "print(char_frequency)"
      ],
      "metadata": {
        "colab": {
          "base_uri": "https://localhost:8080/"
        },
        "id": "X8mMOmqjd_hj",
        "outputId": "cd08372f-fb3d-4198-90aa-4255ad96af5c"
      },
      "execution_count": null,
      "outputs": [
        {
          "output_type": "stream",
          "name": "stdout",
          "text": [
            "Enter a string: Moin\n",
            "{'M': 1, 'o': 1, 'i': 1, 'n': 1}\n"
          ]
        }
      ]
    },
    {
      "cell_type": "markdown",
      "source": [
        "3.\tGiven prices = {\"apple\": 100, \"banana\": 50},\n",
        "- Increase price of banana by 20\n",
        "- Add a new key \"grapes\": 120\n",
        "- Print final dictionary\n"
      ],
      "metadata": {
        "id": "wEyBBh6biurZ"
      }
    },
    {
      "cell_type": "code",
      "source": [
        "prices = {\n",
        "    \"apple\" : 100,\n",
        "    \"banana\" : 50\n",
        "}\n",
        "\n",
        "# Increase the price of the banana by 20\n",
        "prices[\"banana\"] = 70\n",
        "print(prices)\n",
        "\n",
        "# Add a new key \"grapes\": 120\n",
        "prices[\"grapes\"] = 120\n",
        "print(prices)\n",
        "\n",
        "print(prices.keys())\n",
        "print(prices.values())"
      ],
      "metadata": {
        "colab": {
          "base_uri": "https://localhost:8080/"
        },
        "id": "_-KdgFU_gkWD",
        "outputId": "a26c5c30-0612-4f9a-9488-98629c1d570e"
      },
      "execution_count": null,
      "outputs": [
        {
          "output_type": "stream",
          "name": "stdout",
          "text": [
            "{'apple': 100, 'banana': 70}\n",
            "{'apple': 100, 'banana': 70, 'grapes': 120}\n",
            "dict_keys(['apple', 'banana', 'grapes'])\n",
            "dict_values([100, 70, 120])\n"
          ]
        }
      ]
    },
    {
      "cell_type": "markdown",
      "source": [
        "4.\tWrite a program that merges two dictionaries into one.\n",
        "- Example: {\"a\":1,\"b\":2} + {\"c\":3,\"d\":4} → {\"a\":1,\"b\":2,\"c\":3,\"d\":4}\n"
      ],
      "metadata": {
        "id": "iFvl3-HxkMvU"
      }
    },
    {
      "cell_type": "code",
      "source": [
        "dict_A = {\"a\":1,\"b\":2}\n",
        "dict_B = {\"c\":3,\"d\":4}\n",
        "\n",
        "# Two ways to merge\n",
        "dict_C = dict_A|dict_B\n",
        "print(dict_C)\n",
        "\n",
        "merged_dict = {**dict_A, **dict_B}\n",
        "print(merged_dict)"
      ],
      "metadata": {
        "colab": {
          "base_uri": "https://localhost:8080/"
        },
        "id": "AN_52wgGjYJ3",
        "outputId": "3ddfbc87-eccc-43b2-f8b2-33c27b20959a"
      },
      "execution_count": null,
      "outputs": [
        {
          "output_type": "stream",
          "name": "stdout",
          "text": [
            "{'a': 1, 'b': 2, 'c': 3, 'd': 4}\n",
            "{'a': 1, 'b': 2, 'c': 3, 'd': 4}\n"
          ]
        }
      ]
    },
    {
      "cell_type": "markdown",
      "source": [
        "5.\tLoop through a dictionary and print only the keys that have numeric values."
      ],
      "metadata": {
        "id": "z71RYKaa-sUX"
      }
    },
    {
      "cell_type": "code",
      "source": [
        "person = {\n",
        "    \"name\": \"John\",\n",
        "    \"age\" : 30,\n",
        "    \"city\": \"Paris\"\n",
        "}\n",
        "\n",
        "for key, value in person.items():\n",
        "  if isinstance(value, (int,float)):\n",
        "    print(key)\n",
        "    print(help(isinstance))"
      ],
      "metadata": {
        "colab": {
          "base_uri": "https://localhost:8080/"
        },
        "id": "EqprRQJWkemf",
        "outputId": "73bcb668-af2b-40d3-a9a1-df4c0dbbe9a4"
      },
      "execution_count": null,
      "outputs": [
        {
          "output_type": "stream",
          "name": "stdout",
          "text": [
            "age\n",
            "Help on built-in function isinstance in module builtins:\n",
            "\n",
            "isinstance(obj, class_or_tuple, /)\n",
            "    Return whether an object is an instance of a class or of a subclass thereof.\n",
            "\n",
            "    A tuple, as in ``isinstance(x, (A, B, ...))``, may be given as the target to\n",
            "    check against. This is equivalent to ``isinstance(x, A) or isinstance(x, B)\n",
            "    or ...`` etc.\n",
            "\n",
            "None\n"
          ]
        }
      ]
    },
    {
      "cell_type": "markdown",
      "source": [
        "---\n",
        "\n",
        "# 🔑 **Major Points for Python Dictionaries**\n",
        "\n",
        "### 1. **Dictionary Basics**\n",
        "\n",
        "* A dictionary is made of **key → value pairs**.\n",
        "* Keys must be **unique** and **immutable** (string, int, tuple).\n",
        "* Values can be of **any data type** (list, dict, string, int, etc.).\n",
        "\n",
        "```python\n",
        "student = {\"name\": \"Alice\", \"age\": 20, \"skills\": [\"Python\", \"SQL\"]}\n",
        "```\n",
        "\n",
        "---\n",
        "\n",
        "### 2. **Accessing Data**\n",
        "\n",
        "* Use `dict[key]` → raises error if key doesn’t exist.\n",
        "* Use `dict.get(key, default)` → safe way to access with a fallback.\n",
        "\n",
        "```python\n",
        "print(student[\"name\"])             # Alice\n",
        "print(student.get(\"grade\", \"N/A\")) # N/A\n",
        "```\n",
        "\n",
        "---\n",
        "\n",
        "### 3. **Adding / Updating**\n",
        "\n",
        "* Just assign: `dict[key] = value`.\n",
        "\n",
        "```python\n",
        "student[\"age\"] = 21     # update\n",
        "student[\"city\"] = \"NY\"  # add\n",
        "```\n",
        "\n",
        "---\n",
        "\n",
        "### 4. **Deleting**\n",
        "\n",
        "* `pop(key)` → removes & returns value.\n",
        "* `del dict[key]` → removes key only.\n",
        "* `clear()` → empty dictionary.\n",
        "\n",
        "```python\n",
        "student.pop(\"city\")\n",
        "del student[\"age\"]\n",
        "student.clear()\n",
        "```\n",
        "\n",
        "---\n",
        "\n",
        "### 5. **Looping**\n",
        "\n",
        "* Loop through **keys**: `for k in dict`\n",
        "* Loop through **values**: `for v in dict.values()`\n",
        "* Loop through **key-value pairs**: `for k,v in dict.items()`\n",
        "\n",
        "```python\n",
        "for k, v in student.items():\n",
        "    print(k, \":\", v)\n",
        "```\n",
        "\n",
        "---\n",
        "\n",
        "### 6. **Checking Membership**\n",
        "\n",
        "* `\"key\" in dict` → checks if key exists.\n",
        "* `\"value\" in dict.values()` → check in values.\n",
        "\n",
        "```python\n",
        "print(\"name\" in student)       # True\n",
        "print(\"Alice\" in student.values()) # True\n",
        "```\n",
        "\n",
        "---\n",
        "\n",
        "### 7. **Dictionary Methods (Must Know)**\n",
        "\n",
        "* `.keys()` → all keys\n",
        "* `.values()` → all values\n",
        "* `.items()` → key-value pairs\n",
        "* `.update()` → merge another dict\n",
        "* `.get(key, default)` → safe lookup\n",
        "\n",
        "---\n",
        "\n",
        "### 8. **Default Value Trick**\n",
        "\n",
        "* Use `dict.get()` or `collections.defaultdict` for counting.\n",
        "\n",
        "```python\n",
        "sentence = \"python is fun python is easy\"\n",
        "count = {}\n",
        "for word in sentence.split():\n",
        "    count[word] = count.get(word, 0) + 1\n",
        "print(count)  \n",
        "# {'python': 2, 'is': 2, 'fun': 1, 'easy': 1}\n",
        "```\n",
        "\n",
        "---\n",
        "\n",
        "### 9. **Merging Dictionaries**\n",
        "\n",
        "```python\n",
        "a = {\"x\": 1, \"y\": 2}\n",
        "b = {\"y\": 3, \"z\": 4}\n",
        "merged = {**a, **b}\n",
        "print(merged)  # {'x': 1, 'y': 3, 'z': 4}\n",
        "```\n",
        "\n",
        "---\n",
        "\n",
        "### 10. **Nested Dictionaries**\n",
        "\n",
        "* Dictionaries can contain dictionaries.\n",
        "\n",
        "```python\n",
        "students = {\n",
        "    1: {\"name\": \"Alice\", \"age\": 20},\n",
        "    2: {\"name\": \"Bob\", \"age\": 22}\n",
        "}\n",
        "print(students[1][\"name\"])  # Alice\n",
        "```\n",
        "\n",
        "---\n",
        "\n",
        "# ✅ Summary (What to Always Remember)\n",
        "\n",
        "* 📌 **Think key → value** (like a real dictionary).\n",
        "* 📌 Use `.get()` to avoid errors.\n",
        "* 📌 Use `.items()` for looping with key + value.\n",
        "* 📌 Use `dict.get(key, 0) + 1` trick for counting problems.\n",
        "* 📌 Use `{**dict1, **dict2}` or `.update()` for merging.\n",
        "* 📌 Nested dicts are just dicts inside dicts → access step by step.\n",
        "\n",
        "---\n",
        "\n",
        "⚡ If you keep these **10 points in mind**, you can solve **95% of dictionary-related coding problems**.\n"
      ],
      "metadata": {
        "id": "Xo0EeRLGp39m"
      }
    },
    {
      "cell_type": "code",
      "source": [],
      "metadata": {
        "id": "C9KTE8W2lewl"
      },
      "execution_count": null,
      "outputs": []
    }
  ]
}