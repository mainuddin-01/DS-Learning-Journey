{
  "nbformat": 4,
  "nbformat_minor": 0,
  "metadata": {
    "colab": {
      "provenance": [],
      "authorship_tag": "ABX9TyNZxpBUnEnUOo9iqWKO32mf",
      "include_colab_link": true
    },
    "kernelspec": {
      "name": "python3",
      "display_name": "Python 3"
    },
    "language_info": {
      "name": "python"
    }
  },
  "cells": [
    {
      "cell_type": "markdown",
      "metadata": {
        "id": "view-in-github",
        "colab_type": "text"
      },
      "source": [
        "<a href=\"https://colab.research.google.com/github/mainuddin-01/DS-Learning-Journey/blob/main/day3_ConditionalStat_Loop.ipynb\" target=\"_parent\"><img src=\"https://colab.research.google.com/assets/colab-badge.svg\" alt=\"Open In Colab\"/></a>"
      ]
    },
    {
      "cell_type": "markdown",
      "source": [
        "# Python Control Structures:\n",
        "In PYTHON Programming, Control Structures are classified into:\n",
        "1. Sequential Control Structures\n",
        "2. Selection Control Structures\n",
        "3. Iterative Control Structures"
      ],
      "metadata": {
        "id": "6I-fufoOUXak"
      }
    },
    {
      "cell_type": "markdown",
      "source": [
        "1. Sequential Control Structures:\n",
        "It executes the lines of code in sequential order.\n",
        "\n",
        "\n"
      ],
      "metadata": {
        "id": "2PdhEADYXy6F"
      }
    },
    {
      "cell_type": "code",
      "execution_count": null,
      "metadata": {
        "colab": {
          "base_uri": "https://localhost:8080/"
        },
        "id": "tZXm3nZ9UORV",
        "outputId": "81a70849-dd61-4df1-d50a-71c4ba10d5fb"
      },
      "outputs": [
        {
          "output_type": "stream",
          "name": "stdout",
          "text": [
            "First Line\n",
            "Second Line\n",
            "Third Line\n",
            "First Line\n",
            "Second Line\n",
            "Third Line\n"
          ]
        }
      ],
      "source": [
        "#Example:\n",
        "print(\"First Line\")\n",
        "print(\"Second Line\")\n",
        "print(\"Third Line\")\n",
        "\n",
        "#Example:\n",
        "print(\"First Line\");print(\"Second Line\");print(\"Third Line\")"
      ]
    },
    {
      "cell_type": "markdown",
      "source": [
        "end=\" \": Used to end with space or new line(\\n)"
      ],
      "metadata": {
        "id": "rHxGqe21o6KG"
      }
    },
    {
      "cell_type": "code",
      "source": [
        "print(\"First Line\", end=\" \")\n",
        "print(\"Second Line\", end=\"\\n \")\n",
        "print(\"Third Line\", end=\"\\n\")"
      ],
      "metadata": {
        "id": "Nav5F_2goq-1",
        "outputId": "96671e80-98f7-4fe4-c1f3-3a3ddf95331a",
        "colab": {
          "base_uri": "https://localhost:8080/"
        }
      },
      "execution_count": null,
      "outputs": [
        {
          "output_type": "stream",
          "name": "stdout",
          "text": [
            "First Line Second Line\n",
            " Third Line\n"
          ]
        }
      ]
    },
    {
      "cell_type": "markdown",
      "source": [
        "2. Selection Control Structures: (Conditional Control Statements)\n",
        "- 1 if statement (One-Way Decisions)\n",
        "- 2 if .. else statement (Two-Way Decisions)\n",
        "- 3 if .. elif .. else statement (Multi-Way Decisions)\n",
        "- 4 Nested if .. else (inner Decisions)\n",
        "- 5 Negative Conditions (Using Member-Ship Operators)"
      ],
      "metadata": {
        "id": "lhubbMPKX_Q4"
      }
    },
    {
      "cell_type": "markdown",
      "source": [
        "In Conditions, the following Comparison or Relational Operators Commonly Using:\n",
        "- 1 >   greater than\n",
        "- 2 >= greater than equalto\n",
        "- 3 <   less than\n",
        "- 4 <= less than equalto\n",
        "- 5 == equal\n",
        "- 6 !=  not equal\n"
      ],
      "metadata": {
        "id": "fjOy8RmvYNcd"
      }
    },
    {
      "cell_type": "markdown",
      "source": [
        "# Conditional Control Statements:"
      ],
      "metadata": {
        "id": "SUOUe61HpyUS"
      }
    },
    {
      "cell_type": "markdown",
      "source": [
        "# 1 if statement:\n",
        "- if runs a block when a condition is True.\n",
        "- Syntax: if condition: then an indented block."
      ],
      "metadata": {
        "id": "bwkkvZx2p-Aq"
      }
    },
    {
      "cell_type": "code",
      "source": [
        "myint = int(input(\"ENter a number: \"))\n",
        "if myint > 0:\n",
        "  print(f\"{myint} is Positive\")"
      ],
      "metadata": {
        "id": "SxmcajZlpuZW",
        "outputId": "4ae8e0a8-409e-4ba4-c3c8-af712387ae99",
        "colab": {
          "base_uri": "https://localhost:8080/"
        }
      },
      "execution_count": null,
      "outputs": [
        {
          "name": "stdout",
          "output_type": "stream",
          "text": [
            "ENter a number: -4\n"
          ]
        }
      ]
    },
    {
      "cell_type": "markdown",
      "source": [
        "# 2 if .. else Statement: else statement, only if condition is false\n",
        "- else runs when none of the previous conditions matched."
      ],
      "metadata": {
        "id": "Te3QuiNzqaiG"
      }
    },
    {
      "cell_type": "code",
      "source": [
        "number = int(input(\"Enter a number:  \"))\n",
        "if number % 2 == 0:\n",
        "  print(f\"{number} is Even\")\n",
        "else:\n",
        "  print(f\"{number} is Odd\")"
      ],
      "metadata": {
        "id": "_cCFEo-JqvUh",
        "outputId": "f12e3ad9-8e41-43fe-85ac-4c295cc6aeda",
        "colab": {
          "base_uri": "https://localhost:8080/"
        }
      },
      "execution_count": null,
      "outputs": [
        {
          "output_type": "stream",
          "name": "stdout",
          "text": [
            "Enter a number:  4\n",
            "4 is Even\n"
          ]
        }
      ]
    },
    {
      "cell_type": "markdown",
      "source": [
        "# 3 if .. elif .. else statement (Multi-Way Decisions):\n",
        "- •\telif (else if) checks another condition if the previous if was False.\n",
        "- It is use when we have multiple ways."
      ],
      "metadata": {
        "id": "N-SQLrc2q9hB"
      }
    },
    {
      "cell_type": "code",
      "source": [
        "number = int(input(\"Enter a number:  \"))\n",
        "if number > 0:\n",
        "  print(f\"{number} is Positive\")\n",
        "elif number < 0:\n",
        "  print(f\"{number} is Negative\")\n",
        "else:\n",
        "  print(f\"{number} is Zero\")"
      ],
      "metadata": {
        "id": "Uv0KR7HTrY48",
        "outputId": "3ee17ba7-84b0-43fb-8d41-aad86c088338",
        "colab": {
          "base_uri": "https://localhost:8080/"
        }
      },
      "execution_count": null,
      "outputs": [
        {
          "output_type": "stream",
          "name": "stdout",
          "text": [
            "Enter a number:  41\n",
            "41 is Positive\n"
          ]
        }
      ]
    },
    {
      "cell_type": "markdown",
      "source": [
        "# **•\tIndentation matters — Python uses indentation to group code.**"
      ],
      "metadata": {
        "id": "-DqYowpJuWDV"
      }
    },
    {
      "cell_type": "markdown",
      "source": [
        "# 4 Nested if .. else (inner Decisions):\n",
        "- Indentation plays major role"
      ],
      "metadata": {
        "id": "33NxlUIlrla1"
      }
    },
    {
      "cell_type": "code",
      "source": [
        "number = int(input(\"Enter a number:  \"))\n",
        "if number > 0:  # Outer COndition\n",
        "  if number % 2 == 0: # Inner Condition\n",
        "    print(f\"{number} is Even\")\n",
        "  else:\n",
        "    print(f\"{number} is Odd\")\n",
        "else:\n",
        "  print(f\"{number} is Negative\")"
      ],
      "metadata": {
        "id": "9DEFmgASsKAR",
        "outputId": "fafb6819-2765-4087-f63a-cb58e01ad0c3",
        "colab": {
          "base_uri": "https://localhost:8080/"
        }
      },
      "execution_count": null,
      "outputs": [
        {
          "output_type": "stream",
          "name": "stdout",
          "text": [
            "Enter a number:  -4\n",
            "-4 is Negative\n"
          ]
        }
      ]
    },
    {
      "cell_type": "markdown",
      "source": [
        "# 5 Negative Conditions (Using Member-Ship Operators):\n",
        "- If a condition is true the not operator is used to reverse the logical state, then logical not operator will make it false."
      ],
      "metadata": {
        "id": "z9ulCVL7sXzo"
      }
    },
    {
      "cell_type": "code",
      "source": [
        "number = int(input(\"Enter a number:  \"))\n",
        "if not number % 2 == 0:\n",
        "  print(f\"{number} is Odd\")\n",
        "else:\n",
        "  print(f\"{number} is Even\")"
      ],
      "metadata": {
        "id": "Tk6mScDYsx1j",
        "outputId": "910cf295-5ce1-4617-8775-2d34d4c4448f",
        "colab": {
          "base_uri": "https://localhost:8080/"
        }
      },
      "execution_count": null,
      "outputs": [
        {
          "output_type": "stream",
          "name": "stdout",
          "text": [
            "Enter a number:  4\n",
            "4 is Even\n"
          ]
        }
      ]
    },
    {
      "cell_type": "markdown",
      "source": [
        "- 'if' statement: Execute If condition is \"True\".\n",
        "- elif statement: Execute same as if, If previous condition is \"False\".\n",
        "- else statement: Execute if all previous conditions are \"False\"."
      ],
      "metadata": {
        "id": "tj90XtnhYnkv"
      }
    },
    {
      "cell_type": "markdown",
      "source": [
        "# •\tLogical operators\n",
        "- and → True if both sides True.\n",
        "- or → True if at least one side True.\n",
        "- not → negates a boolean.\n"
      ],
      "metadata": {
        "id": "HmKkcrPiutDy"
      }
    },
    {
      "cell_type": "markdown",
      "source": [
        "# 🧠 1. Understanding the Basic Concepts\n",
        "✅ if, if-else, if-elif-else"
      ],
      "metadata": {
        "id": "iL6NOS8dZ5uV"
      }
    },
    {
      "cell_type": "code",
      "source": [
        "# These control how your program behaves based on conditions:\n",
        "age = 18\n",
        "print(\" You can vote\") if age >= 18 else print(\"You cannot vote\")"
      ],
      "metadata": {
        "colab": {
          "base_uri": "https://localhost:8080/"
        },
        "id": "qG3iMyaiX8cN",
        "outputId": "6a8cfa80-0c5d-48f8-9533-f13cdfe8343d"
      },
      "execution_count": null,
      "outputs": [
        {
          "output_type": "stream",
          "name": "stdout",
          "text": [
            " You can vote\n"
          ]
        }
      ]
    },
    {
      "cell_type": "code",
      "source": [
        "first = 72\n",
        "second = 42\n",
        "third = 21\n",
        "\n",
        "if first > second and first > third:\n",
        "  print(\"First is greater\")\n",
        "elif second > first and second > third:\n",
        "  print(\"Second is greater\")\n",
        "else:\n",
        "  print(\"Third is greater\")"
      ],
      "metadata": {
        "colab": {
          "base_uri": "https://localhost:8080/"
        },
        "id": "uhRVZNI5brYZ",
        "outputId": "eb60255f-b196-4feb-fe36-a950890a42c5"
      },
      "execution_count": null,
      "outputs": [
        {
          "output_type": "stream",
          "name": "stdout",
          "text": [
            "First is greater\n"
          ]
        }
      ]
    },
    {
      "cell_type": "markdown",
      "source": [
        "# 🧩 2. Beginner-Level Problems"
      ],
      "metadata": {
        "id": "tJiGbgf8do_c"
      }
    },
    {
      "cell_type": "markdown",
      "source": [
        "🔹 Problem 1: Check if a number is positive"
      ],
      "metadata": {
        "id": "QXYN5CtFd7Ps"
      }
    },
    {
      "cell_type": "code",
      "source": [
        "num = int(input(\"Enter a number: \"))\n",
        "if num > 0:\n",
        "  print(f\"{num} is Positive\")\n",
        "else:\n",
        "  print(f\"{num} is Negative\")"
      ],
      "metadata": {
        "colab": {
          "base_uri": "https://localhost:8080/"
        },
        "id": "zHSDeZE1dgwj",
        "outputId": "d63b59e4-982e-4d23-ee9e-d07f6dc8df0e"
      },
      "execution_count": null,
      "outputs": [
        {
          "output_type": "stream",
          "name": "stdout",
          "text": [
            "Enter a number: 45\n",
            "45 is Positive\n"
          ]
        }
      ]
    },
    {
      "cell_type": "markdown",
      "source": [
        "🔹 Problem 2: Determine if a number is even or odd"
      ],
      "metadata": {
        "id": "cepq8fRCecbF"
      }
    },
    {
      "cell_type": "code",
      "source": [
        "number = int(input(\"Enter a number: \"))\n",
        "if number % 2 == 0:\n",
        "  print(f\"{number} is Even\")\n",
        "else:\n",
        "  print(f\"{number} is Odd\")"
      ],
      "metadata": {
        "colab": {
          "base_uri": "https://localhost:8080/"
        },
        "id": "ic_NPfBUeUfV",
        "outputId": "d921c002-0ef9-477a-9652-ddf58041173e"
      },
      "execution_count": null,
      "outputs": [
        {
          "output_type": "stream",
          "name": "stdout",
          "text": [
            "Enter a number: 45\n",
            "45 is Odd\n"
          ]
        }
      ]
    },
    {
      "cell_type": "markdown",
      "source": [
        "🔹 Problem 3: Check if a number is in range [10, 50]"
      ],
      "metadata": {
        "id": "8ZiBu5W9en5b"
      }
    },
    {
      "cell_type": "code",
      "source": [
        "num = int(input(\"Enter a number: \"))\n",
        "\n",
        "# and operator: Execute only if both the conditions are \"True\".\n",
        "if num >= 10 and num <= 50:\n",
        "  print(f\"{num} is in range [10, 50]\")\n",
        "else:\n",
        "  print(f\"{num} is not in range [10, 50]\")"
      ],
      "metadata": {
        "colab": {
          "base_uri": "https://localhost:8080/"
        },
        "id": "bFlgwmJBekYs",
        "outputId": "25b7fd96-9b58-40dd-b4b0-29152f77f466"
      },
      "execution_count": null,
      "outputs": [
        {
          "output_type": "stream",
          "name": "stdout",
          "text": [
            "Enter a number: 71\n",
            "71 is not in range [10, 50]\n"
          ]
        }
      ]
    },
    {
      "cell_type": "markdown",
      "source": [
        "🔹 Problem 4: Assign grade based on marks"
      ],
      "metadata": {
        "id": "TIzTN2C_fpQZ"
      }
    },
    {
      "cell_type": "code",
      "source": [
        "avg = float(input(\"Enter student's average score: \"))\n",
        "if avg >= 90:\n",
        "  print(\"Grade: A\")\n",
        "elif avg >= 80:\n",
        "  print(\"Grade: B\")\n",
        "elif avg >= 70:\n",
        "  print(\"Grade: C\")"
      ],
      "metadata": {
        "id": "q51MMASQe_jX"
      },
      "execution_count": null,
      "outputs": []
    },
    {
      "cell_type": "markdown",
      "source": [
        "🔹 Problem 5: Age category using if-elif-else"
      ],
      "metadata": {
        "id": "XNvc3mD-f6No"
      }
    },
    {
      "cell_type": "code",
      "source": [
        "age = int(input(\"Enter your age: \"))\n",
        "if age <= 13:\n",
        "  print(\"child\")\n",
        "elif age < 20:\n",
        "  print(\"Teen\")\n",
        "else:\n",
        "  print(\"Adult\")\n"
      ],
      "metadata": {
        "colab": {
          "base_uri": "https://localhost:8080/"
        },
        "id": "nS_-1TMuf64-",
        "outputId": "9913e671-905b-42f0-a85b-9922b7e8a04d"
      },
      "execution_count": null,
      "outputs": [
        {
          "output_type": "stream",
          "name": "stdout",
          "text": [
            "Enter your age: 23\n",
            "Adult\n"
          ]
        }
      ]
    },
    {
      "cell_type": "markdown",
      "source": [
        "🔹 Problem 6: Logical operators (scholarship eligibility)"
      ],
      "metadata": {
        "id": "gVwOtUkr7pua"
      }
    },
    {
      "cell_type": "code",
      "source": [
        "marks = float(input(\"Enter your percentage: \"))\n",
        "extra_curr = input(\"Any extra-curricular activities? (yes/no): \").strip().lower() == 'yes'\n",
        "if marks >= 70 and extra_curr:\n",
        "  print(\"You are eligible for a scholarship.\")\n",
        "elif marks >= 70 and not extra_curr:\n",
        "  print(\"High marks but add extra curriculars to qualify\")\n",
        "elif marks >=60 or extra_curr:\n",
        "  print(\"Considered for partial scholarship or support\")\n",
        "else:\n",
        "  print(\"You are not eligible for a scholarship.\")"
      ],
      "metadata": {
        "id": "N_-MUW0g70GQ",
        "outputId": "a2caeafc-1267-42d4-f3d0-9696592e7261",
        "colab": {
          "base_uri": "https://localhost:8080/"
        }
      },
      "execution_count": null,
      "outputs": [
        {
          "output_type": "stream",
          "name": "stdout",
          "text": [
            "Enter your percentage: 82\n",
            "Any extra-curricular activities? (yes/no): YES\n",
            "You are eligible for a scholarship.\n"
          ]
        }
      ]
    },
    {
      "cell_type": "markdown",
      "source": [
        "# 🔧 3. Intermediate-Level Problems(5 → 10 problems, easy → slightly challenging)"
      ],
      "metadata": {
        "id": "d7WxA9jUg2t5"
      }
    },
    {
      "cell_type": "markdown",
      "source": [
        "🔸 Problem 1:Divisible by 3 and/or 5 — Input a number and print:\n",
        "- \"Fizz\" if divisible by 3,\n",
        "- \"Buzz\" if divisible by 5,\n",
        "- \"FizzBuzz\" if both,\n",
        "- the number otherwise. (easy-medium)\n"
      ],
      "metadata": {
        "id": "HpLIrg9r-L6m"
      }
    },
    {
      "cell_type": "code",
      "source": [
        "number = int(input(\"Enter a number: \"))\n",
        "if number % 3 == 0:\n",
        "  print(\"Fizz\")\n",
        "elif number % 5 == 0:\n",
        "  print(\"Buzz\")\n",
        "elif number % 3 == 0 and number % 5 == 0:\n",
        "  print(\"FizzBuzz\")\n",
        "else:\n",
        "  print(\"number is easy-medium\")"
      ],
      "metadata": {
        "id": "a7-svd77-ohO",
        "outputId": "314e59b6-099c-4acf-9936-ffdcb096c939",
        "colab": {
          "base_uri": "https://localhost:8080/"
        }
      },
      "execution_count": null,
      "outputs": [
        {
          "output_type": "stream",
          "name": "stdout",
          "text": [
            "Enter a number: 5\n",
            "Buzz\n"
          ]
        }
      ]
    },
    {
      "cell_type": "markdown",
      "source": [
        "🔸 Problem 2: Largest of three numbers — Read 3 numbers and print the largest using if/elif/else. (medium)"
      ],
      "metadata": {
        "id": "dMXaquwT_CEG"
      }
    },
    {
      "cell_type": "code",
      "source": [
        "num1 = float(input(\"Enter first number: \"))\n",
        "num2 = float(input(\"Enter second number: \"))\n",
        "num3 = float(input(\"Enter third number: \"))\n",
        "if num1>num2 and num1>num3:\n",
        "  print(f\"{num1} is largest\")\n",
        "elif num2>num1 and num2>num3:\n",
        "  print(f\"{num2} is largest\")\n",
        "else:\n",
        "  print(f\"{num3} is largest\")"
      ],
      "metadata": {
        "id": "9dFsJksn_Ot3",
        "outputId": "f38d41ba-821a-4e25-f2d7-f8d7c4aa8343",
        "colab": {
          "base_uri": "https://localhost:8080/"
        }
      },
      "execution_count": null,
      "outputs": [
        {
          "output_type": "stream",
          "name": "stdout",
          "text": [
            "Enter first number: 54\n",
            "Enter second number: 56\n",
            "Enter third number: 85\n",
            "85.0 is largest\n"
          ]
        }
      ]
    },
    {
      "cell_type": "markdown",
      "source": [
        "🔸 Problem 3:Leap year check — Input a year, print whether it's a leap year. Rules:\n",
        "- divisible by 4 → leap,\n",
        "- but divisible by 100 → not leap,\n",
        "- unless divisible by 400 → leap. (medium — careful with order)\n",
        "\n"
      ],
      "metadata": {
        "id": "nQ5TSsm75qU9"
      }
    },
    {
      "cell_type": "code",
      "source": [
        "year = int(input(\"Enter a year: \"))\n",
        "if (year % 4 == 0 and year % 100 != 0) or (year % 400 == 0):\n",
        "  print(f\"{year} is leap year\")\n",
        "else:\n",
        "  print(f\"{year} is not leap year\")\n"
      ],
      "metadata": {
        "colab": {
          "base_uri": "https://localhost:8080/"
        },
        "id": "_Yl3WstK8Tg1",
        "outputId": "81e341a9-c67a-4d36-aec3-685f63d1535d"
      },
      "execution_count": null,
      "outputs": [
        {
          "output_type": "stream",
          "name": "stdout",
          "text": [
            "Enter a year: 2002\n",
            "2002 is not leap year\n"
          ]
        }
      ]
    },
    {
      "cell_type": "markdown",
      "source": [
        "🔸 Problem 4: Password basic checker — Take a password string; check:\n",
        "- length ≥ 8,\n",
        "- contains at least one digit,\n",
        "- contains at least one uppercase letter.\n",
        "- Print \"Strong\", \"Weak\", and suggestions for improvement. (medium)\n"
      ],
      "metadata": {
        "id": "pRcqe4gLAb9h"
      }
    },
    {
      "cell_type": "code",
      "source": [
        "password = input(\"Enter a password: \")\n",
        "if len(password) >= 8:\n",
        "  has_digit = 0\n",
        "  has_upper = 0\n",
        "  if has_digit >=1 and has_upper >= 1:\n",
        "    print(\" Strong Password\",password)\n",
        "  else:\n",
        "    print(\"Weak\")\n",
        "else:\n",
        "  print(\"Suggestions for improvement: Password size must be grater than 8 char\")\n"
      ],
      "metadata": {
        "id": "VTwKR8uZAvSh",
        "outputId": "f5856474-d46d-4d4f-de06-807341bfbb78",
        "colab": {
          "base_uri": "https://localhost:8080/"
        }
      },
      "execution_count": null,
      "outputs": [
        {
          "output_type": "stream",
          "name": "stdout",
          "text": [
            "Enter a password: cnja\n",
            "Suggestions for improvement: Password size must be grater than 8 char\n"
          ]
        }
      ]
    },
    {
      "cell_type": "markdown",
      "source": [
        "🔸 Problem 5: ATM simulation\n",
        "- Start with a balance (e.g., 5000).\n",
        "- Ask user for a PIN and a withdrawal amount.\n",
        "- If PIN correct and enough balance, deduct and show new balance; else show appropriate message. (medium)"
      ],
      "metadata": {
        "id": "tG6JQv0HFUQm"
      }
    },
    {
      "cell_type": "code",
      "source": [
        "# ATM Simulation\n",
        "\n",
        "#initial balance\n",
        "initial_balance = 5000\n",
        "\n",
        "#User Pin\n",
        "user_pin = \"Mmoin12\"\n",
        "\n",
        "# Ask user money to withdrawal\n",
        "withdraw_cash = float(input(\"Enter amount to withdraw: \"))\n",
        "pin = input(\"Enter your pin: \")\n",
        "\n",
        "# Checking\n",
        "if pin == user_pin:\n",
        "  if withdraw_cash <= initial_balance:\n",
        "    deduct = initial_balance - withdraw_cash\n",
        "    print(\"Wait to recieve money\")\n",
        "    print(f\"Available balance is {deduct}\")\n",
        "  else:\n",
        "    print(\"Insufficient balance\")\n",
        "else:\n",
        "  print(\"Invalid pin\")"
      ],
      "metadata": {
        "id": "pcvdYzDSGI6J"
      },
      "execution_count": null,
      "outputs": []
    },
    {
      "cell_type": "markdown",
      "source": [
        "🔸 Problem 6:\tStudent grade extension —\n",
        "- Given marks for 5 subjects, compute percentage and print detailed grade & pass/fail per subject (pass = >= 40).\n",
        "- Save logic so failing any subject marks the student as failed overall. (slightly challenging)"
      ],
      "metadata": {
        "id": "1tAoMbMuHD6e"
      }
    },
    {
      "cell_type": "code",
      "source": [
        "# Short Student Grade Program (Beginner-Friendly)\n",
        "\n",
        "print(\"Enter marks for 5 subjects (out of 100):\")\n",
        "math = int(input(\"Math: \"))\n",
        "science = int(input(\"Science: \"))\n",
        "english = int(input(\"English: \"))\n",
        "social = int(input(\"Social: \"))\n",
        "computer = int(input(\"Computer: \"))\n",
        "\n",
        "total = math + science + english + social + computer\n",
        "percentage = total / 5\n",
        "\n",
        "# Grade\n",
        "if percentage >= 90: grade = \"A+\"\n",
        "elif percentage >= 80: grade = \"A\"\n",
        "elif percentage >= 70: grade = \"B\"\n",
        "elif percentage >= 60: grade = \"C\"\n",
        "elif percentage >= 50: grade = \"D\"\n",
        "elif percentage >= 40: grade = \"E\"\n",
        "else: grade = \"F\"\n",
        "\n",
        "# Overall pass if all subjects >= 40\n",
        "if math>=40 and science>=40 and english>=40 and social>=40 and computer>=40:\n",
        "    overall = \"Pass\"\n",
        "else:\n",
        "    overall = \"Fail\"\n",
        "\n",
        "print(\"\\nTotal:\", total, \"/ 500\")\n",
        "print(\"Percentage:\", percentage, \"%\")\n",
        "print(\"Grade:\", grade)\n",
        "print(\"Overall Result:\", overall)\n"
      ],
      "metadata": {
        "id": "ZX3bNBxGHU4Q",
        "outputId": "77776b8d-e757-4424-f561-75d6f3cdba41",
        "colab": {
          "base_uri": "https://localhost:8080/"
        }
      },
      "execution_count": null,
      "outputs": [
        {
          "output_type": "stream",
          "name": "stdout",
          "text": [
            "Enter marks for 5 subjects (out of 100):\n",
            "Math: 45\n",
            "Science: 45\n",
            "English: 45\n",
            "Social: 45\n",
            "Computer: 44\n",
            "\n",
            "Total: 224 / 500\n",
            "Percentage: 44.8 %\n",
            "Grade: E\n",
            "Overall Result: Pass\n"
          ]
        }
      ]
    },
    {
      "cell_type": "markdown",
      "source": [
        "8.\tMenu-driven program (bonus) — Make a small menu:\n",
        "- 1.\tCheck even/odd\n",
        "- 2.\tCheck leap year\n",
        "- 3.\tExit\n",
        "Use if/elif/else to respond to the user's choice. (slightly challenging)\n",
        "- For each exercise, try multiple test values and add input validation where relevant.\n"
      ],
      "metadata": {
        "id": "jeGqYogcKVvC"
      }
    },
    {
      "cell_type": "code",
      "source": [
        "# Menu Driven Program: Even/Odd & Leap Year\n",
        "\n",
        "choice = 0\n",
        "\n",
        "while choice != 3:\n",
        "    print(\"\\n--- MENU ---\")\n",
        "    print(\"1. Check Even/Odd\")\n",
        "    print(\"2. Check Leap Year\")\n",
        "    print(\"3. Exit\")\n",
        "\n",
        "    choice = int(input(\"Enter your choice (1-3): \"))\n",
        "    # if choice > 3:\n",
        "    #   print(\"Invalid choice! Please select 1, 2, or 3.\")\n",
        "    #   break\n",
        "    if choice == 1:\n",
        "        num = int(input(\"Enter a number: \"))\n",
        "        if num % 2 == 0:\n",
        "            print(num, \"is Even\")\n",
        "        else:\n",
        "            print(num, \"is Odd\")\n",
        "\n",
        "    elif choice == 2:\n",
        "        year = int(input(\"Enter a year: \"))\n",
        "        if (year % 400 == 0) or (year % 4 == 0 and year % 100 != 0):\n",
        "            print(year, \"is a Leap Year\")\n",
        "        else:\n",
        "            print(year, \"is NOT a Leap Year\")\n",
        "\n",
        "    elif choice == 3:\n",
        "        print(\"Exiting program...\")\n",
        "\n",
        "    else:\n",
        "        print(\"Invalid choice! Please select 1, 2, or 3.\")"
      ],
      "metadata": {
        "id": "qCP19jwaK4xf",
        "colab": {
          "base_uri": "https://localhost:8080/"
        },
        "outputId": "1a1bc945-f40a-4d7c-d80f-e882e0a2ab66"
      },
      "execution_count": 2,
      "outputs": [
        {
          "output_type": "stream",
          "name": "stdout",
          "text": [
            "\n",
            "--- MENU ---\n",
            "1. Check Even/Odd\n",
            "2. Check Leap Year\n",
            "3. Exit\n",
            "Enter your choice (1-3): 4\n",
            "Invalid choice! Please select 1, 2, or 3.\n"
          ]
        }
      ]
    },
    {
      "cell_type": "markdown",
      "source": [
        "4) Mini Project / Task (real-world, uses today’s topic)\n",
        "Student Report Card CLI (progressive) — Extend your grade calculator into a CLI program that:\n",
        "- Reads student name and marks for 5 subjects.\n",
        "- Calculates total and percentage.\n",
        "- Assigns grade using if/elif/else (A+, A, B, C, F).\n",
        "- Marks student as Failed if any subject < 40.\n",
        "- Prints a neat report (name, marks, % , grade, pass/fail).\n",
        "- Save each report line into a CSV file (reports.csv) so you can open it later in Excel.\n",
        "\n",
        "Stretch goals:\n",
        "- Add menu options: Add student / View all reports / Search by name.\n",
        "- Add input validation (marks 0–100).\n",
        "- Add command-line argument support or simple file-based persistence.\n",
        "- Why this helps: uses arithmetic (from previous days), and conditionals for grade and failure logic. Later you’ll add loops to process many students.\n"
      ],
      "metadata": {
        "id": "L5G3WL9mLV9x"
      }
    },
    {
      "cell_type": "code",
      "source": [
        "# Student Report Card CLI (Basic Version)\n",
        "\n",
        "print(\"----- Student Report Card -----\")\n",
        "name = input(\"Enter Student Name: \")\n",
        "\n",
        "# Input marks\n",
        "print(\"Enter marks for 5 subjects (0-100):\")\n",
        "math = int(input(\"Math: \"))\n",
        "science = int(input(\"Science: \"))\n",
        "english = int(input(\"English: \"))\n",
        "social = int(input(\"Social: \"))\n",
        "computer = int(input(\"Computer: \"))\n",
        "\n",
        "# Total and percentage\n",
        "total = math + science + english + social + computer\n",
        "percentage = total / 5\n",
        "\n",
        "# Grade calculation\n",
        "if percentage >= 90:\n",
        "    grade = \"A+\"\n",
        "elif percentage >= 80:\n",
        "    grade = \"A\"\n",
        "elif percentage >= 70:\n",
        "    grade = \"B\"\n",
        "elif percentage >= 60:\n",
        "    grade = \"C\"\n",
        "else:\n",
        "    grade = \"F\"\n",
        "\n",
        "# Overall pass/fail\n",
        "if math >= 40 and science >= 40 and english >= 40 and social >= 40 and computer >= 40:\n",
        "    result = \"Pass\"\n",
        "else:\n",
        "    result = \"Fail\"\n",
        "\n",
        "# Print Report Card\n",
        "print(\"\\n----- Report Card -----\")\n",
        "print(\"Name:\", name)\n",
        "print(\"Math:\", math)\n",
        "print(\"Science:\", science)\n",
        "print(\"English:\", english)\n",
        "print(\"Social:\", social)\n",
        "print(\"Computer:\", computer)\n",
        "print(\"Total:\", total, \"/ 500\")\n",
        "print(\"Percentage:\", percentage, \"%\")\n",
        "print(\"Grade:\", grade)\n",
        "print(\"Overall Result:\", result)\n",
        "\n",
        "# Save to CSV (append mode)\n",
        "file = open(\"reports.csv\", \"a\")\n",
        "file.write(name + \",\" + str(math) + \",\" + str(science) + \",\" + str(english) + \",\" + str(social) + \",\" + str(computer) + \",\" + str(total) + \",\" + str(round(percentage, 2)) + \",\" + grade + \",\" + result + \"\\n\")\n",
        "file.close()\n",
        "\n",
        "print(\"\\nReport saved to reports.csv ✅\")\n"
      ],
      "metadata": {
        "id": "biBF0lR6LtYl",
        "outputId": "33182497-27ac-4778-e921-82973558cda1",
        "colab": {
          "base_uri": "https://localhost:8080/"
        }
      },
      "execution_count": 4,
      "outputs": [
        {
          "output_type": "stream",
          "name": "stdout",
          "text": [
            "----- Student Report Card -----\n",
            "Enter Student Name: Mainuddin\n",
            "Enter marks for 5 subjects (0-100):\n",
            "Math: 72\n",
            "Science: 72\n",
            "English: 72\n",
            "Social: 72\n",
            "Computer: 72\n",
            "\n",
            "----- Report Card -----\n",
            "Name: Mainuddin\n",
            "Math: 72\n",
            "Science: 72\n",
            "English: 72\n",
            "Social: 72\n",
            "Computer: 72\n",
            "Total: 360 / 500\n",
            "Percentage: 72.0 %\n",
            "Grade: B\n",
            "Overall Result: Pass\n",
            "\n",
            "Report saved to reports.csv ✅\n"
          ]
        }
      ]
    },
    {
      "cell_type": "markdown",
      "source": [
        "# ✅ 4. Best Practices for Clean Control Flow Code\n",
        "- Use meaningful variable names (e.g., marks instead of m)\n",
        "\n",
        "- Avoid deep nesting — refactor if you have too many if inside if\n",
        "\n",
        "- Use elif instead of multiple if when checking exclusive conditions\n",
        "\n",
        "- Use match-case for clear multi-condition checks (Python 3.10+)\n",
        "\n",
        "- Always use an else to catch unexpected cases"
      ],
      "metadata": {
        "id": "9vkjjOdW_Kom"
      }
    }
  ]
}
