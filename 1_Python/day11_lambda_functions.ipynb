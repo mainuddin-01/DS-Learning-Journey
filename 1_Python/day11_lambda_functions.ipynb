{
  "nbformat": 4,
  "nbformat_minor": 0,
  "metadata": {
    "colab": {
      "provenance": []
    },
    "kernelspec": {
      "name": "python3",
      "display_name": "Python 3"
    },
    "language_info": {
      "name": "python"
    }
  },
  "cells": [
    {
      "cell_type": "markdown",
      "source": [
        "# Day 11 — Lambda functions (anonymous functions)"
      ],
      "metadata": {
        "id": "6X3f6svaFrMH"
      }
    },
    {
      "cell_type": "markdown",
      "source": [
        "•\tWhat:\n",
        "- A lambda is a tiny, anonymous (no-name) function you write inline for short, single-expression tasks.\n",
        "\n",
        "•\tSyntax:\n",
        "- lambda arguments: expression\n",
        "\n",
        "Example:\n",
        "- lambda x, y: x + y (returns x + y)\n",
        "\n",
        "•\tWhen to use:\n",
        "- quick one-off functions passed to other functions (map, filter, sorted(..., key=...), etc.),\n",
        "or\n",
        "\n",
        "- when you don’t want to write a full def for a tiny operation. Use sparingly — if logic gets complex, prefer a named def.\n",
        "\n",
        "•\tKey notes:\n",
        "- single expression only (no statements), can take any number of args, returns the expression value automatically. (Python documentation)\n"
      ],
      "metadata": {
        "id": "te8PpwVNF5H2"
      }
    },
    {
      "cell_type": "markdown",
      "source": [
        "Example:\n",
        "n=lambda x:2*x\n",
        "- n ==> It is a variable or identifier\n",
        "-\tlambda ==> It is a keyword\n",
        "-\tx ==> Argument\n",
        "-\t: ==> Delimiter\n",
        "-\t2*x ==> It is an Expression\n"
      ],
      "metadata": {
        "id": "lQG-K6EEHSHD"
      }
    },
    {
      "cell_type": "code",
      "execution_count": null,
      "metadata": {
        "id": "-JKaQ5eRYTwb",
        "colab": {
          "base_uri": "https://localhost:8080/"
        },
        "outputId": "b7cd8e57-4e2f-4f7b-b9e6-0f95d0a34906"
      },
      "outputs": [
        {
          "output_type": "stream",
          "name": "stdout",
          "text": [
            "6\n"
          ]
        }
      ],
      "source": [
        "# Example: Using def\n",
        "def add(x, y):\n",
        "  return (x+y)\n",
        "\n",
        "print(add(2, 4))\n"
      ]
    },
    {
      "cell_type": "code",
      "source": [
        "# Example: Using lambda\n",
        "add = lambda x, y: (x+y)\n",
        "print(add(2, 4))"
      ],
      "metadata": {
        "colab": {
          "base_uri": "https://localhost:8080/"
        },
        "id": "MsVVhtXwHk6-",
        "outputId": "1ac3889d-8777-4d1d-f66d-ef6cc2d66387"
      },
      "execution_count": null,
      "outputs": [
        {
          "output_type": "stream",
          "name": "stdout",
          "text": [
            "6\n"
          ]
        }
      ]
    },
    {
      "cell_type": "code",
      "source": [
        "# Shortcut form using lambda\n",
        "print((lambda x, y: (x - y))(2, 4))"
      ],
      "metadata": {
        "colab": {
          "base_uri": "https://localhost:8080/"
        },
        "id": "WVm4GJEQH23x",
        "outputId": "c3440cd1-3994-453a-dbc1-5d5f9369e2d7"
      },
      "execution_count": null,
      "outputs": [
        {
          "output_type": "stream",
          "name": "stdout",
          "text": [
            "-2\n"
          ]
        }
      ]
    },
    {
      "cell_type": "code",
      "source": [
        "# Find average using def keyword\n",
        "def avg(a, b):\n",
        "  \"\"\"Returning average\"\"\"\n",
        "  return (a+b)/2\n",
        "print(avg(32, 42))"
      ],
      "metadata": {
        "colab": {
          "base_uri": "https://localhost:8080/"
        },
        "id": "yW-LvD6IIH3E",
        "outputId": "0364eed4-9097-44d1-99c2-fbd0ef6ac588"
      },
      "execution_count": null,
      "outputs": [
        {
          "output_type": "stream",
          "name": "stdout",
          "text": [
            "37.0\n"
          ]
        }
      ]
    },
    {
      "cell_type": "code",
      "source": [
        "# Find average using lambda keyword\n",
        "avg = lambda a, b: ((a+b)/2)\n",
        "print(avg(32, 42))"
      ],
      "metadata": {
        "colab": {
          "base_uri": "https://localhost:8080/"
        },
        "id": "EK7zUoJkJI8U",
        "outputId": "22401806-b96d-42f5-9e1d-024e6c4d518f"
      },
      "execution_count": null,
      "outputs": [
        {
          "output_type": "stream",
          "name": "stdout",
          "text": [
            "37.0\n"
          ]
        }
      ]
    },
    {
      "cell_type": "markdown",
      "source": [
        "# Lambda functions:\n",
        "- We can pass a function as an argument to another function\n",
        "\n",
        "These are as follows:\n",
        "- 1 map()\tfn:\n",
        "  - Apply the same function to each element of a sequence and return the modified list.\n",
        "  - Syntax:\n",
        "  - list=[m,n,p]\n",
        "  - function(),f      ==> MAP  ==> New list,[f(m),f(n),f(p)]\n",
        "\n",
        "\n",
        "- 2 filter() fn:\n",
        "  - filter items out of a sequence, return filtered list\n",
        "  - Syntax:\n",
        "    - list,[m,n,p]\n",
        "    - condition,c() ==> filter ==> New list [m,n] if(m==condition)\n",
        "\n",
        "- 3 reduce() fn:\n",
        "  - 1. Applies same operation to items of a sequence\n",
        "  - 2. Uses result of operation as first param of next operation\n",
        "  - 3. Returns an item, not a list, This function is defined in  functools  module.\n",
        "  - Syntax:\n",
        "    - list,[m,n,p]\n",
        "    - function f() ==> reduce() ==> f(f(m,n),p)\n",
        "\n",
        "\n",
        "Example:\n",
        "- map(function,sequence)\n",
        "- filter(function,sequence)\n",
        "- reduce(function,sequence)\n"
      ],
      "metadata": {
        "id": "3j0KYMvtJsbY"
      }
    },
    {
      "cell_type": "markdown",
      "source": [
        "map() function:"
      ],
      "metadata": {
        "id": "FIEVdG6kMFYM"
      }
    },
    {
      "cell_type": "code",
      "source": [
        "list(map(lambda x: (x*2),[2, 3, 4, 4]))"
      ],
      "metadata": {
        "colab": {
          "base_uri": "https://localhost:8080/"
        },
        "id": "Eytk30nvJXij",
        "outputId": "9c5a97f6-acaf-419b-a0fe-b15159e97db0"
      },
      "execution_count": null,
      "outputs": [
        {
          "output_type": "execute_result",
          "data": {
            "text/plain": [
              "[4, 6, 8, 8]"
            ]
          },
          "metadata": {},
          "execution_count": 10
        }
      ]
    },
    {
      "cell_type": "code",
      "source": [
        "(map(lambda x: (x*2),[2, 3, 4, 4])) # Returns memory location"
      ],
      "metadata": {
        "colab": {
          "base_uri": "https://localhost:8080/"
        },
        "id": "RAJTKfUGMmyu",
        "outputId": "8c35c4f9-38da-4d68-91a8-1348597effd6"
      },
      "execution_count": null,
      "outputs": [
        {
          "output_type": "execute_result",
          "data": {
            "text/plain": [
              "<map at 0x7e333949b610>"
            ]
          },
          "metadata": {},
          "execution_count": 11
        }
      ]
    },
    {
      "cell_type": "markdown",
      "source": [
        "filter() function:"
      ],
      "metadata": {
        "id": "EukoRrLmNOnu"
      }
    },
    {
      "cell_type": "code",
      "source": [
        "list(filter(lambda x: (x<=2),(2, 4, 5, 6)))"
      ],
      "metadata": {
        "colab": {
          "base_uri": "https://localhost:8080/"
        },
        "id": "u0tctZktMwiA",
        "outputId": "709d1235-99a8-418c-ebb3-a0c873bdab90"
      },
      "execution_count": null,
      "outputs": [
        {
          "output_type": "execute_result",
          "data": {
            "text/plain": [
              "[2]"
            ]
          },
          "metadata": {},
          "execution_count": 16
        }
      ]
    },
    {
      "cell_type": "code",
      "source": [
        "my_list = [1, 2, 3, 5, 6, 8,10, 12,15]\n",
        "Even_list = list(filter(lambda x: (x%2 == 0),my_list))\n",
        "print(Even_list)\n",
        "Odd_list = list(filter(lambda x: (x%2 != 0),my_list))\n",
        "print(Odd_list)\n"
      ],
      "metadata": {
        "colab": {
          "base_uri": "https://localhost:8080/"
        },
        "id": "MnYoNLx9NaPK",
        "outputId": "e6fa27c3-6308-4f42-b5f4-2dd803f7d24c"
      },
      "execution_count": null,
      "outputs": [
        {
          "output_type": "stream",
          "name": "stdout",
          "text": [
            "[2, 6, 8, 10, 12]\n",
            "[1, 3, 5, 15]\n"
          ]
        }
      ]
    },
    {
      "cell_type": "code",
      "metadata": {
        "id": "9b54f247"
      },
      "source": [
        "big = lambda x, y: x if x > y else y\n",
        "print(big(2, 4))"
      ],
      "execution_count": null,
      "outputs": []
    },
    {
      "cell_type": "code",
      "source": [
        "d  = list(filter(lambda x : x % 2 == 0, [2, 3, 4, 5, 6]))\n",
        "print(d)"
      ],
      "metadata": {
        "colab": {
          "base_uri": "https://localhost:8080/"
        },
        "id": "cVe53-z4R_m1",
        "outputId": "f7c4f8d5-ae3e-422c-ca56-860bcc0c148d"
      },
      "execution_count": null,
      "outputs": [
        {
          "output_type": "stream",
          "name": "stdout",
          "text": [
            "[2, 4, 6]\n"
          ]
        }
      ]
    },
    {
      "cell_type": "markdown",
      "source": [
        "reduce() function:"
      ],
      "metadata": {
        "id": "sMU9UeeDQzrq"
      }
    },
    {
      "cell_type": "code",
      "source": [
        "import functools as ft\n",
        "a = ft.reduce(lambda x, y: x*y,[2, 3, 4, 5])\n",
        "print(a)"
      ],
      "metadata": {
        "colab": {
          "base_uri": "https://localhost:8080/"
        },
        "id": "vqY24X8oOGFe",
        "outputId": "869e5bad-a613-478e-ee32-36bf43513021"
      },
      "execution_count": null,
      "outputs": [
        {
          "output_type": "stream",
          "name": "stdout",
          "text": [
            "120\n"
          ]
        }
      ]
    },
    {
      "cell_type": "code",
      "source": [
        "\n"
      ],
      "metadata": {
        "colab": {
          "base_uri": "https://localhost:8080/"
        },
        "id": "DNpaJpreRRLO",
        "outputId": "cfb5aa79-9259-4cdc-e44e-20f26a0c0166"
      },
      "execution_count": null,
      "outputs": [
        {
          "output_type": "stream",
          "name": "stdout",
          "text": [
            "[2, 4, 6]\n"
          ]
        }
      ]
    },
    {
      "cell_type": "markdown",
      "source": [
        "# 2️⃣ Code Examples (2–3 practical cases — each line commented)"
      ],
      "metadata": {
        "id": "s65LCQbQanpK"
      }
    },
    {
      "cell_type": "markdown",
      "source": [
        "Example A — simple lambda vs def"
      ],
      "metadata": {
        "id": "eWeAA2faat-v"
      }
    },
    {
      "cell_type": "code",
      "source": [
        "# lambda that add two numbers\n",
        "a = lambda x, y: x + y\n",
        "print(a(2, 4))\n",
        "\n",
        "# add two numbers using def\n",
        "def add(x, y):\n",
        "  return (x+y)\n",
        "print(add(2, 4))\n",
        "\n",
        "# When: use lambda for tiny throwaway functions; def for anything you reuse or want to document."
      ],
      "metadata": {
        "colab": {
          "base_uri": "https://localhost:8080/"
        },
        "id": "AGEexbAORr8k",
        "outputId": "fba3fc37-fc83-43b9-cc63-c38e6a0e5747"
      },
      "execution_count": null,
      "outputs": [
        {
          "output_type": "stream",
          "name": "stdout",
          "text": [
            "6\n"
          ]
        }
      ]
    },
    {
      "cell_type": "markdown",
      "source": [
        "Example B — sorted with key=lambda (real use: sort by second item)"
      ],
      "metadata": {
        "id": "7fuN9uVrbkV7"
      }
    },
    {
      "cell_type": "code",
      "source": [
        "rows = [( \"alice\", 25 ), ( \"bob\", 20 ), ( \"carol\", 23 )]\n",
        "# sort rows by age (second element)\n",
        "\n",
        "sorted_by_age = sorted(rows, key=lambda item: item[1])\n",
        "print(sorted_by_age)  # [('bob', 20), ('carol', 23), ('alice', 25)]\n",
        "\n",
        "# When: key=lambda is great to extract the sorting key without writing a named function."
      ],
      "metadata": {
        "colab": {
          "base_uri": "https://localhost:8080/"
        },
        "id": "0Sv49QfBbC5E",
        "outputId": "d002f66f-3b08-4b23-8656-58e1d6f3e94c"
      },
      "execution_count": null,
      "outputs": [
        {
          "output_type": "stream",
          "name": "stdout",
          "text": [
            "[('bob', 20), ('carol', 23), ('alice', 25)]\n"
          ]
        }
      ]
    },
    {
      "cell_type": "markdown",
      "source": [
        "Example C — map and filter with lambda"
      ],
      "metadata": {
        "id": "osSJf9lgdsxJ"
      }
    },
    {
      "cell_type": "code",
      "source": [
        "nums = [1, 2, 3, 4, 5]\n",
        "squares = list(map(lambda x: x*x, nums))        # apply function to every item\n",
        "evens = list(filter(lambda x: x % 2 == 0, nums))# keep only items where lambda returns True\n",
        "print(squares)  # [1, 4, 9, 16, 25]\n",
        "print(evens)    # [2, 4]\n",
        "\n",
        "# When: functional-style transformations / filtering of sequences. (W3Schools)\n"
      ],
      "metadata": {
        "id": "-htj-wfNcY2U"
      },
      "execution_count": null,
      "outputs": []
    },
    {
      "cell_type": "markdown",
      "source": [
        "# 3️⃣ Practice Exercises (start easy → slightly harder)\n",
        "- Try to write and run each (include multiple test cases).\n"
      ],
      "metadata": {
        "id": "ggPgqiqOd4hX"
      }
    },
    {
      "cell_type": "markdown",
      "source": [
        "1.\t(Very easy) Write a lambda that triples a number. Test for 0, 5, -2."
      ],
      "metadata": {
        "id": "XLgPqXQld-mo"
      }
    },
    {
      "cell_type": "code",
      "source": [
        "triple_num = lambda x: x*3\n",
        "print(triple_num(0))\n",
        "print(triple_num(5))\n",
        "print(triple_num(-2))"
      ],
      "metadata": {
        "colab": {
          "base_uri": "https://localhost:8080/"
        },
        "id": "Cu9jYlv_d7tl",
        "outputId": "1edaf13f-883c-47a1-9b1d-42902fe99e4d"
      },
      "execution_count": null,
      "outputs": [
        {
          "output_type": "stream",
          "name": "stdout",
          "text": [
            "0\n",
            "15\n",
            "-6\n"
          ]
        }
      ]
    },
    {
      "cell_type": "markdown",
      "source": [
        "2.\t(Easy) Use map + lambda to convert [0,10,20] Celsius → Fahrenheit (formula: F = C*9/5 + 32)."
      ],
      "metadata": {
        "id": "cxvNGtEgehsg"
      }
    },
    {
      "cell_type": "code",
      "source": [
        "faherenheit_num = list(map(lambda x: x*9/5 + 32,[0,10,20]))\n",
        "print(faherenheit_num)"
      ],
      "metadata": {
        "colab": {
          "base_uri": "https://localhost:8080/"
        },
        "id": "DT6qNmWheVIt",
        "outputId": "8b5ac89e-997d-4c3a-8e9b-a1511c0fe42a"
      },
      "execution_count": null,
      "outputs": [
        {
          "output_type": "stream",
          "name": "stdout",
          "text": [
            "[32.0, 50.0, 68.0]\n"
          ]
        }
      ]
    },
    {
      "cell_type": "markdown",
      "source": [
        "3.\t(Easy) Given names = [\"Tim\", \"amy\", \"Bob\"], sort case-insensitively using sorted(..., key=lambda x: x.lower())."
      ],
      "metadata": {
        "id": "j4triDPMgBGg"
      }
    },
    {
      "cell_type": "code",
      "source": [
        "names = [\"Tim\", \"amy\", \"Bob\"]\n",
        "sorted_names = sorted(names, key=lambda x: x.lower())\n",
        "print(sorted_names)"
      ],
      "metadata": {
        "colab": {
          "base_uri": "https://localhost:8080/"
        },
        "id": "24yBAbADf847",
        "outputId": "a9359a1b-9409-48bf-c7de-7da6d5d413ea"
      },
      "execution_count": null,
      "outputs": [
        {
          "output_type": "stream",
          "name": "stdout",
          "text": [
            "['amy', 'Bob', 'Tim']\n"
          ]
        }
      ]
    },
    {
      "cell_type": "markdown",
      "source": [
        "4.\t(Medium) Given pairs = [(1, 'a'), (3, 'c'), (2, 'b')], sort by first element descending using lambda."
      ],
      "metadata": {
        "id": "g_NbX5MRg9mo"
      }
    },
    {
      "cell_type": "code",
      "source": [
        "pairs = [(1, 'a'), (3, 'c'), (2, 'b')]\n",
        "desc_pairs = sorted(pairs, key=lambda x: x[0], reverse=True)\n",
        "print(desc_pairs)"
      ],
      "metadata": {
        "colab": {
          "base_uri": "https://localhost:8080/"
        },
        "id": "pQa47Emcgb_d",
        "outputId": "614cc360-9519-45e9-d696-93146ec03535"
      },
      "execution_count": null,
      "outputs": [
        {
          "output_type": "stream",
          "name": "stdout",
          "text": [
            "[(3, 'c'), (2, 'b'), (1, 'a')]\n"
          ]
        }
      ]
    },
    {
      "cell_type": "markdown",
      "source": [
        "5.\t(Medium) Use filter + lambda to remove empty/blank strings from a list."
      ],
      "metadata": {
        "id": "6FRNEF4xiAcp"
      }
    },
    {
      "cell_type": "code",
      "source": [
        "remove_strings = list(filter(lambda x: x != '', [\"hello\", \"\", \"world\"]))\n",
        "print(remove_strings)"
      ],
      "metadata": {
        "colab": {
          "base_uri": "https://localhost:8080/"
        },
        "id": "ZbAes3SWhnZJ",
        "outputId": "b5ec140c-fe7d-4467-974f-4507007fb38a"
      },
      "execution_count": null,
      "outputs": [
        {
          "output_type": "stream",
          "name": "stdout",
          "text": [
            "['hello', 'world']\n"
          ]
        }
      ]
    },
    {
      "cell_type": "markdown",
      "source": [
        "6.\t(Medium) Compute product of a list using functools.reduce with a lambda. Test on [1,2,3,4]."
      ],
      "metadata": {
        "id": "wvmytGs8iTl4"
      }
    },
    {
      "cell_type": "code",
      "source": [
        "import functools as ft\n",
        "product = ft.reduce(lambda x, y: x*y, [1,2,3,4])\n",
        "print(product)"
      ],
      "metadata": {
        "colab": {
          "base_uri": "https://localhost:8080/"
        },
        "id": "tXEhpm0yiMwb",
        "outputId": "e1c9cc72-6adb-45cd-fe10-3ca0a9586b30"
      },
      "execution_count": null,
      "outputs": [
        {
          "output_type": "stream",
          "name": "stdout",
          "text": [
            "24\n"
          ]
        }
      ]
    },
    {
      "cell_type": "markdown",
      "source": [
        "7.\t(Challenging) Create a list of 5 lambda functions in a loop that return i*i for each i = 0..4. (Hint: watch out for late-binding — use default args: lambda i=i: i*i)."
      ],
      "metadata": {
        "id": "5kk3L2GIip_z"
      }
    },
    {
      "cell_type": "code",
      "source": [],
      "metadata": {
        "id": "_4c-bRSEiaGU"
      },
      "execution_count": null,
      "outputs": []
    },
    {
      "cell_type": "markdown",
      "source": [
        "8.\t(Challenge) Given [\"a2\", \"b10\", \"a1\"], sort so items are ordered by letter, then numeric value (use sorted(..., key=lambda s: (s[0], int(s[1:]))))."
      ],
      "metadata": {
        "id": "8o5p6ok6jGhG"
      }
    },
    {
      "cell_type": "code",
      "source": [],
      "metadata": {
        "id": "hFbUr_RpjHGO"
      },
      "execution_count": null,
      "outputs": []
    },
    {
      "cell_type": "markdown",
      "source": [
        "# 4️⃣ Mini Project / Task (small → progressively bigger)\n",
        "\n",
        "Expense Summary CLI (start small)\n",
        "\n",
        "•\tDay 1 (lambda focus): Read a list of expense amounts (numbers), print total using sum(map(lambda x: float(x), expenses)).\n",
        "\n",
        "•\tDay 2 (add features): Tag expenses with category strings; use filter + lambda to show only a single category total.\n",
        "\n",
        "•\tDay 3 (add files): Save/load expenses to a CSV file (learn file I/O).\n",
        "\n",
        "•\tDay 4 (expand): Display category-wise totals using map/filter/sum or collections.defaultdict.\n",
        "\n",
        "This mini-project nicely grows as you learn loops, functions, lists, and files.\n"
      ],
      "metadata": {
        "id": "uH3ZpwHdjQgo"
      }
    },
    {
      "cell_type": "code",
      "source": [],
      "metadata": {
        "id": "K5pjWONzjW9R"
      },
      "execution_count": null,
      "outputs": []
    },
    {
      "cell_type": "markdown",
      "source": [
        "# 5️⃣ Topic-wise HackerRank problems (practice these — direct links)\n",
        "\n",
        "1.\tMap and Lambda Function — Easy — practice map + lambda basics. (hackerrank.com)\n",
        "🔗 https://www.hackerrank.com/challenges/map-and-lambda-expression/problem\n",
        "\n",
        "2.\tValidating Email Addresses With a Filter — Medium — uses filter (and sometimes lambda) to select valid emails. Good to practice predicate lambdas. (hackerrank.com)\n",
        "🔗 https://www.hackerrank.com/challenges/validate-list-of-email-address-with-filter/problem\n",
        "\n",
        "3.\tAthlete Sort (python-sort-sort) — Medium — uses sorted(..., key=lambda ...) to sort rows by a chosen attribute. Great for key=lambda practice. (hackerrank.com)\n",
        "🔗 https://www.hackerrank.com/challenges/python-sort-sort/problem\n",
        "\n",
        "(Tip: do the Easy one first, then Medium. After solving, re-implement without lambda to compare readability.)\n"
      ],
      "metadata": {
        "id": "s5DHsHBejcZJ"
      }
    },
    {
      "cell_type": "code",
      "source": [],
      "metadata": {
        "id": "QI_nNrh2jhX1"
      },
      "execution_count": null,
      "outputs": []
    },
    {
      "cell_type": "markdown",
      "source": [
        "# 6️⃣ Resources (best 1–2 free picks)\n",
        "\n",
        "•\tPython official tutorial — Lambda expressions / functions (read short explanation & examples). (Python documentation)\n",
        "\n",
        "•\tQuick video: “Learn Python LAMBDA in 6 minutes!” — a short, beginner-friendly walkthrough (good for a quick revision). (YouTube)\n",
        "\n",
        "(If you prefer text-first: W3Schools has a tidy intro with examples.) (W3Schools)\n"
      ],
      "metadata": {
        "id": "DCeZgRZTjks6"
      }
    },
    {
      "cell_type": "code",
      "source": [],
      "metadata": {
        "id": "w-caIy8PjnqN"
      },
      "execution_count": null,
      "outputs": []
    },
    {
      "cell_type": "markdown",
      "source": [
        "# 7️⃣ LinkedIn post idea (short & beginner-friendly)"
      ],
      "metadata": {
        "id": "lOQk5wtvjsse"
      }
    },
    {
      "cell_type": "markdown",
      "source": [
        "“Day X of my Python journey: Today I learned lambda functions — tiny anonymous functions great for quick tasks. Built small examples with map, filter, and sorted(..., key=...). Solved HackerRank’s Map & Lambda problem. #100DaysOfCode #Python”"
      ],
      "metadata": {
        "id": "1UMexPPyjxjx"
      }
    },
    {
      "cell_type": "code",
      "source": [],
      "metadata": {
        "id": "MsczuN6pjuKk"
      },
      "execution_count": null,
      "outputs": []
    }
  ]
}