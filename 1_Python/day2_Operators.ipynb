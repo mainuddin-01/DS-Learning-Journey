{
  "nbformat": 4,
  "nbformat_minor": 0,
  "metadata": {
    "colab": {
      "provenance": [],
      "include_colab_link": true
    },
    "kernelspec": {
      "name": "python3",
      "display_name": "Python 3"
    },
    "language_info": {
      "name": "python"
    }
  },
  "cells": [
    {
      "cell_type": "markdown",
      "metadata": {
        "id": "view-in-github",
        "colab_type": "text"
      },
      "source": [
        "<a href=\"https://colab.research.google.com/github/mainuddin-01/Python-Learning-Journey/blob/main/day2_Operators.ipynb\" target=\"_parent\"><img src=\"https://colab.research.google.com/assets/colab-badge.svg\" alt=\"Open In Colab\"/></a>"
      ]
    },
    {
      "cell_type": "markdown",
      "source": [
        "# Operators in Python"
      ],
      "metadata": {
        "id": "0ia6uC_tO-Mw"
      }
    },
    {
      "cell_type": "markdown",
      "source": [
        "# ✅ 1. What are Operators?\n",
        "🔍 What:\n",
        "- Operators are special symbols used to perform operations on variables and values.\n",
        "- Special symbols or keywords that tell Python to do something with values (e.g., +, -, *, /, ==, and, or)."
      ],
      "metadata": {
        "id": "bKTmNkQSPdKS"
      }
    },
    {
      "cell_type": "markdown",
      "source": [
        "# 🎯 Why:\n",
        "- They help in performing arithmetic, comparison, logic, assignment, and more in your code."
      ],
      "metadata": {
        "id": "Xos4lQ7xP0l2"
      }
    },
    {
      "cell_type": "markdown",
      "source": [
        "Arithmetic Operators ➝ Used in calculations.\n",
        "- + - * / % ** //\n",
        "- Example: x + y adds two numbers.\n",
        "\n",
        "Comparison (Relational) Operators ➝ Used in decision-making (if statements).\n",
        "- == != > < >= <=\n",
        "- Example: if age >= 18: → checks if age is 18 or more.\n",
        "\n",
        "Assignment Operators ➝ Used to assign or update variables.\n",
        "- = += -= *= /= %= //= **=\n",
        "- Example: x += 5 → increases x by 5.\n",
        "\n",
        "Logical Operators ➝ Used to combine conditions.\n",
        "- and or not\n",
        "- Example: if age > 18 and country == \"India\":\n",
        "\n",
        "Membership Operators ➝ Used to check if a value exists in a sequence (list, tuple, string).\n",
        "- in not in\n",
        "- Example: \"apple\" in fruits\n",
        "\n",
        "Identity Operators ➝ Used to compare memory location (object identity).\n",
        "- is is not\n",
        "- Example: a is b → True if both point to same object.\n",
        "\n",
        "Bitwise Operators ➝ Work at the binary level (used for low-level programming, masks, flags).\n",
        "- & | ^ ~ << >>\n",
        "- Example: 5 & 3 → Performs bitwise AND (binary 0101 & 0011 = 0001 → 1).\n",
        "\n",
        "Ternary Operator (Conditional Expression) ➝ One-line if-else.\n",
        "- Syntax: value_if_true if condition else value_if_false\n",
        "- status = \"Adult\" if age >= 18 else \"Minor\"\n",
        "\n",
        "\n"
      ],
      "metadata": {
        "id": "G-BMR_IhQbGD"
      }
    },
    {
      "cell_type": "markdown",
      "source": [
        "# Python Arithmetical Operators:\n",
        "- Arithmetic operators are used to perform various arithmetic / mathematical operations\n",
        "Operator\tName\n",
        "- +\tAddition Operator\n",
        "- -\tSubtraction Operator\n",
        "- *\tMultiplication Operator\n",
        "- **\tPower Operator\n",
        "- /\tDivision Operator\n",
        "- %\tModulus Operator\n",
        "- //\tFloor Division Operator"
      ],
      "metadata": {
        "id": "QOD2XwgIXvaK"
      }
    },
    {
      "cell_type": "code",
      "source": [
        "# #Syntax:\n",
        "# exp1  +  exp2\n",
        "# exp1  -  exp2\n",
        "# exp1  *  exp2\n",
        "# exp1 **  exp2\n",
        "# exp1  /  exp2\n",
        "# exp1 //  exp2\n",
        "# exp1  %  exp2"
      ],
      "metadata": {
        "id": "2hvP-Y4dYIus"
      },
      "execution_count": null,
      "outputs": []
    },
    {
      "cell_type": "code",
      "source": [
        "x = 15\n",
        "y = 4\n",
        "print('x + y =',x+y)\n",
        "print('x - y =',x-y)\n",
        "print('x * y =',x*y)\n",
        "print('x / y =',x/y)\n",
        "print('x // y =',x//y)\n",
        "print('x ** y =',x**y)\n"
      ],
      "metadata": {
        "collapsed": true,
        "id": "eRLYIDd5YaUQ",
        "outputId": "9e98ba6e-1fc3-4764-82a4-775bedecf4cc",
        "colab": {
          "base_uri": "https://localhost:8080/"
        }
      },
      "execution_count": null,
      "outputs": [
        {
          "output_type": "stream",
          "name": "stdout",
          "text": [
            "x + y = 19\n",
            "x - y = 11\n",
            "x * y = 60\n",
            "x / y = 3.75\n",
            "x // y = 3\n",
            "x ** y = 50625\n"
          ]
        }
      ]
    },
    {
      "cell_type": "code",
      "source": [
        "x=int(input(\"Enter Any Number: \"))\n",
        "y=int(input(\"Enter Any Number: \"))\n",
        "z=x+y\n",
        "print(\"Sum is: \",z)\n",
        "z=x-y\n",
        "print(\"Diff is: \",z)\n",
        "z=x*y\n",
        "print(\"Product is: \",z)\n",
        "z=x/y\n",
        "print(\"Div is: \",z)\n",
        "z=x%y\n",
        "print(\"Mod is: \",z)\n",
        "z=x**y\n",
        "print(\"Expo is: \",z)\n",
        "z=x//y\n",
        "print(\"Fdiv is: \",z)\n"
      ],
      "metadata": {
        "id": "eXvUHMQiYkuM",
        "outputId": "137a852c-571e-4880-ba04-d2ff42529bdd",
        "colab": {
          "base_uri": "https://localhost:8080/"
        }
      },
      "execution_count": null,
      "outputs": [
        {
          "output_type": "stream",
          "name": "stdout",
          "text": [
            "Enter Any Number: 4\n",
            "Enter Any Number: 5\n",
            "Sum is:  9\n",
            "Diff is:  -1\n",
            "Product is:  20\n",
            "Div is:  0.8\n",
            "Mod is:  4\n",
            "Expo is:  1024\n",
            "Fdiv is:  0\n"
          ]
        }
      ]
    },
    {
      "cell_type": "markdown",
      "source": [
        "Example A — Arithmetic & ** (power)"
      ],
      "metadata": {
        "id": "x1lMb9KgZTNJ"
      }
    },
    {
      "cell_type": "code",
      "source": [
        "# Example A — Arithmetic & ** (power)\n",
        "weight_kg = 70\n",
        "height_m = 1.75\n",
        "bmi = weight_kg / (height_m ** 2)\n",
        "print(bmi)\n",
        "\n",
        "# Explanation: height_m ** 2 is 1.75 * 1.75 = 3.0625. Then 70 / 3.0625 ≈ 22.857142857 → rounded to 22.86."
      ],
      "metadata": {
        "id": "jivq5iDTY6JT",
        "outputId": "a6037b1c-1ab1-49c6-acc7-a690ffba2f86",
        "colab": {
          "base_uri": "https://localhost:8080/"
        }
      },
      "execution_count": null,
      "outputs": [
        {
          "output_type": "stream",
          "name": "stdout",
          "text": [
            "23.510204081632654\n"
          ]
        }
      ]
    },
    {
      "cell_type": "markdown",
      "source": [
        "# Python Comparison Operators\n",
        "- These operators are used to compare values. They are also called Relational operators.\n",
        "\n",
        "Operator --> Meaning --> Example\n",
        "- Greater than  '>':  True if left operand is greater than the right:  x > y\n",
        "- Less than '< ': True if left operand is less than the right: x < y\n",
        "- Equal to'==':  True if both operands are equal: x == y\n",
        "- Not equal to'!=': True if operands are not equal: x != y\n",
        "- Greater than equal to'>=': True if the left operand is greater than or equal to the right: x >= y\n",
        "- Less than equal to' <=': True if left operand is less than or equal to the right: x <= y\n"
      ],
      "metadata": {
        "id": "Qo2jjuyVZt_u"
      }
    },
    {
      "cell_type": "code",
      "source": [
        "A=1;B=2\n",
        "print(A==B)#False\n",
        "print(A!=B)#True\n",
        "print(A<B)#True\n",
        "print(A>B)#False\n",
        "print(A<=B)#True\n",
        "print(A>=B)#False"
      ],
      "metadata": {
        "collapsed": true,
        "id": "lKJbOFvtccfh",
        "outputId": "daf5c335-6e70-4a9d-aac1-2003cfb3ca77",
        "colab": {
          "base_uri": "https://localhost:8080/"
        }
      },
      "execution_count": null,
      "outputs": [
        {
          "output_type": "stream",
          "name": "stdout",
          "text": [
            "False\n",
            "True\n",
            "True\n",
            "False\n",
            "True\n",
            "False\n"
          ]
        }
      ]
    },
    {
      "cell_type": "code",
      "source": [
        "x = 10\n",
        "y = 12\n",
        "# Output: x > y is False\n",
        "print('x > y  is',x>y)\n",
        "\n",
        "# Output: x < y is True\n",
        "print('x < y  is',x<y)\n",
        "\n",
        "# Output: x == y is False\n",
        "print('x == y is',x==y)\n",
        "\n",
        "# Output: x != y is True\n",
        "print('x != y is',x!=y)\n",
        "\n",
        "# Output: x >= y is False\n",
        "print('x >= y is',x>=y)\n",
        "\n",
        "# Output: x <= y is True\n",
        "print('x <= y is',x<=y)"
      ],
      "metadata": {
        "collapsed": true,
        "id": "3E_ON1Q7cfUp",
        "outputId": "4083c43f-89ce-4861-b4c7-16532eeac413",
        "colab": {
          "base_uri": "https://localhost:8080/"
        }
      },
      "execution_count": null,
      "outputs": [
        {
          "output_type": "stream",
          "name": "stdout",
          "text": [
            "x > y  is False\n",
            "x < y  is True\n",
            "x == y is False\n",
            "x != y is True\n",
            "x >= y is False\n",
            "x <= y is True\n"
          ]
        }
      ]
    },
    {
      "cell_type": "markdown",
      "source": [
        "Example B — Comparison + Logical (and)"
      ],
      "metadata": {
        "id": "3Lx6MgkViIb5"
      }
    },
    {
      "cell_type": "code",
      "source": [
        "age = int(input(\"Enter your age: \"))\n",
        "if age >= 18 and age <= 60:\n",
        "  print(\"You are adult(Working age)\")\n",
        "else:\n",
        "  print(\"Minor or Senior Citizen\")\n",
        "\n",
        "  # Explanation: age >= 18 and age < 60 are two comparisons combined by the logical operator and. Both must be true to enter the if block."
      ],
      "metadata": {
        "id": "H55Zo1aqiMoa",
        "outputId": "169824f0-4df1-4f4f-d8a6-897c8d184b36",
        "colab": {
          "base_uri": "https://localhost:8080/"
        }
      },
      "execution_count": null,
      "outputs": [
        {
          "output_type": "stream",
          "name": "stdout",
          "text": [
            "Enter your age: 23\n",
            "You are adult(Working age)\n"
          ]
        }
      ]
    },
    {
      "cell_type": "markdown",
      "source": [
        "# Python Assignment Operators\n",
        "Operator :--> Description :--> Example\n",
        "- = :--> Assigns values from right side operands to left side operand :--> c = a + b assigns value of a + b into c\n",
        "- += :--> Add AND It adds right operand to the left operand and assign the result to left operand :--> c += a is equivalent to c = c + a\n",
        "- -= :-->\t\tSubtract AND It subtracts right operand from the left operand and assign the result to left operand :--> c -= a is equivalent to c = c - a\n",
        "- *= :--> Multiply AND It multiplies right operand with the left operand and assign the result to left operand :--> c = a is equivalent to c = c a\n",
        "- /= :--> Divide AND It divides left operand with the right operand and assign the result to left operand :--> c /= a is equivalent to c = c / a\n",
        "- %= :--> Modulus AND It takes modulus using two operands and assign the result to left operand :--> c %= a is equivalent to c = c % a\n",
        "- ** :--> Exponent AND Performs exponential (power) calculation on operators and assign value to the left operand :--> c = a is equivalent to c = c a\n",
        "- //= :--> Floor Division It performs floor division on operators and assign value to the left operand :--> c //= a is equivalent to c = c // a\n"
      ],
      "metadata": {
        "id": "5Qi5Iylyc2ss"
      }
    },
    {
      "cell_type": "code",
      "source": [
        "a = 21\n",
        "b = 10\n",
        "c = 0\n",
        "\n",
        "c = a + b\n",
        "print (\"Line 1 - Value of c is \", c)\n",
        "\n",
        "c += a\n",
        "print (\"Line 2 - Value of c is \", c )\n",
        "\n",
        "c *= a\n",
        "print (\"Line 3 - Value of c is \", c )\n",
        "\n",
        "c /= a\n",
        "print (\"Line 4 - Value of c is \", c )\n",
        "\n",
        "c  = 2\n",
        "c %= a\n",
        "print (\"Line 5 - Value of c is \", c)\n",
        "\n",
        "c **= a\n",
        "print (\"Line 6 - Value of c is \", c)\n",
        "\n",
        "c //= a\n",
        "print (\"Line 7 - Value of c is \", c)"
      ],
      "metadata": {
        "id": "WRbKV9-McyAX",
        "outputId": "eaefad25-1f50-42b9-9a5b-7f9c0ab79af7",
        "colab": {
          "base_uri": "https://localhost:8080/"
        }
      },
      "execution_count": null,
      "outputs": [
        {
          "output_type": "stream",
          "name": "stdout",
          "text": [
            "Line 1 - Value of c is  31\n",
            "Line 2 - Value of c is  52\n",
            "Line 3 - Value of c is  1092\n",
            "Line 4 - Value of c is  52.0\n",
            "Line 5 - Value of c is  2\n",
            "Line 6 - Value of c is  2097152\n",
            "Line 7 - Value of c is  99864\n"
          ]
        }
      ]
    },
    {
      "cell_type": "markdown",
      "source": [
        "Example C — Augmented assignment & precedence"
      ],
      "metadata": {
        "id": "2uR2NSXLjNsR"
      }
    },
    {
      "cell_type": "code",
      "source": [
        "x = 5\n",
        "x += 3        # x becomes 8\n",
        "y = 2 * x + 1 # multiplication happens before addition: y = (2*8) + 1 = 17\n",
        "print(x, y)   # prints: 8 17\n",
        "# Explanation: x += 3 is shorthand for x = x + 3. Operator precedence: * before +.\n"
      ],
      "metadata": {
        "id": "8c4xpCW8jLgy",
        "outputId": "9749d7bd-701f-4d5c-bcc8-7a38a8814079",
        "colab": {
          "base_uri": "https://localhost:8080/"
        }
      },
      "execution_count": null,
      "outputs": [
        {
          "output_type": "stream",
          "name": "stdout",
          "text": [
            "8 17\n"
          ]
        }
      ]
    },
    {
      "cell_type": "markdown",
      "source": [
        "# Python Logical(Boolean) Operators:\n",
        "- Python supports the following list of logical Operators:\n",
        "\n",
        "- Operator :--> Meaning :--> Example\n",
        "- and :--> True if both the operands are true :--> x and y\n",
        "- or :--> True if either of the operands is true :--> x or y\n",
        "- not :--> True if operand is false (complements the operand) :--> not x"
      ],
      "metadata": {
        "id": "RUeoUePxeh5i"
      }
    },
    {
      "cell_type": "code",
      "source": [
        "x = True; y = False\n",
        "# Output: x and y is False\n",
        "print('x and y is',x and y)\n",
        "\n",
        "# Output: x or y is True\n",
        "print('x or y is',x or y)\n",
        "\n",
        "# Output: not x is False\n",
        "print('not x is',not x)\n"
      ],
      "metadata": {
        "collapsed": true,
        "id": "QDoSxS2qfGU0",
        "outputId": "2be5b8fa-26c7-4dc2-a66d-1fa7bf4e7740",
        "colab": {
          "base_uri": "https://localhost:8080/"
        }
      },
      "execution_count": null,
      "outputs": [
        {
          "output_type": "stream",
          "name": "stdout",
          "text": [
            "x and y is False\n",
            "x or y is True\n",
            "not x is False\n"
          ]
        }
      ]
    },
    {
      "cell_type": "code",
      "source": [
        "# Example: With strings,\n",
        "# For \"and\" operator: If the first operand is True, it checks the second operand and returns the second operand.\n",
        "# For \"or\" operator: If the first operand is False, it checks the second operand and returns the second operand.\n",
        "# For \"and\" operator: If the operand is an empty string, it returns True; False, otherwise."
      ],
      "metadata": {
        "id": "n8i_Y7GdfRrB"
      },
      "execution_count": null,
      "outputs": []
    },
    {
      "cell_type": "code",
      "source": [
        "PyStr1 = \"Hello\"; PyStr2 = \"World\"\n",
        "\n",
        "# and operator on string\n",
        "print(\"PyStr1 and PyStr2: \", PyStr1 and PyStr2)\n",
        "print(\"PyStr2 and PyStr1: \", PyStr2 and PyStr1)\n",
        "print()\n",
        "\n",
        "# or operator on string\n",
        "print(\"PyStr1 or PyStr2: \", PyStr1 or PyStr2)\n",
        "print(\"PyStr2 or PyStr1: \", PyStr2 or PyStr1)\n",
        "print()\n",
        "\n",
        "# not operator on string\n",
        "print(\"not PyStr1: \", not PyStr1)\n",
        "print(\"not PyStr2: \", not PyStr2)\n",
        "print()\n"
      ],
      "metadata": {
        "collapsed": true,
        "id": "VSeQTyLjfdhJ",
        "outputId": "6db364b2-3d03-4b23-fa03-fa45635062f6",
        "colab": {
          "base_uri": "https://localhost:8080/"
        }
      },
      "execution_count": null,
      "outputs": [
        {
          "output_type": "stream",
          "name": "stdout",
          "text": [
            "PyStr1 and PyStr2:  World\n",
            "PyStr2 and PyStr1:  Hello\n",
            "\n",
            "PyStr1 or PyStr2:  Hello\n",
            "PyStr2 or PyStr1:  World\n",
            "\n",
            "not PyStr1:  False\n",
            "not PyStr2:  False\n",
            "\n"
          ]
        }
      ]
    },
    {
      "cell_type": "markdown",
      "source": [
        "# Python repr()\n",
        "- It returns a printable representation of the given object.\n",
        "\n",
        "Syntax:\n",
        "repr(obj)\n"
      ],
      "metadata": {
        "id": "bYutIca_f9uD"
      }
    },
    {
      "cell_type": "code",
      "source": [
        "PyStr = 'Hello Python'\n",
        "print (repr(PyStr))"
      ],
      "metadata": {
        "id": "jAxMq4cHf4X6",
        "outputId": "9605bdb1-cac2-402c-d987-3b0d6ff896b0",
        "colab": {
          "base_uri": "https://localhost:8080/"
        }
      },
      "execution_count": null,
      "outputs": [
        {
          "output_type": "stream",
          "name": "stdout",
          "text": [
            "'Hello Python'\n"
          ]
        }
      ]
    },
    {
      "cell_type": "code",
      "source": [
        "PyStr1 = \"\" # empty string\n",
        "PyStr2 = \"World\" # non-empty string\n",
        "\n",
        "# and operator on string\n",
        "print(\"PyStr1 and PyStr2: \", repr(PyStr1 and PyStr2))\n",
        "print(\"PyStr2 and PyStr1: \", repr(PyStr2 and PyStr1))\n",
        "print()\n",
        "\n",
        "# or operator on string\n",
        "print(\"PyStr1 or PyStr2: \", repr(PyStr1 or PyStr2))\n",
        "print(\"PyStr2 or PyStr1: \", repr(PyStr2 or PyStr1))\n",
        "print()\n",
        "\n",
        "# not operator on string\n",
        "print(\"not PyStr1: \", not PyStr1)\n",
        "print(\"not PyStr2: \", not PyStr2)\n",
        "print()\n"
      ],
      "metadata": {
        "id": "REsjl1hzoMGv",
        "outputId": "829fbb11-fb21-48b9-d8a4-034abce03860",
        "colab": {
          "base_uri": "https://localhost:8080/"
        }
      },
      "execution_count": null,
      "outputs": [
        {
          "output_type": "stream",
          "name": "stdout",
          "text": [
            "PyStr1 and PyStr2:  ''\n",
            "PyStr2 and PyStr1:  ''\n",
            "\n",
            "PyStr1 or PyStr2:  'World'\n",
            "PyStr2 or PyStr1:  'World'\n",
            "\n",
            "not PyStr1:  True\n",
            "not PyStr2:  False\n",
            "\n"
          ]
        }
      ]
    },
    {
      "cell_type": "markdown",
      "source": [
        "# Python Special Operators:\n",
        "- Python Scripting Language offers two types of Special Operators:\n",
        "  - 1. Membership Operators\n",
        "  - 2. Identity Operators\n",
        "\n",
        "- 1. Python Membership Operators:\n",
        "  - They are used to test whether a value or variable is found in a sequence (string, list, tuple, set, or dictionary).\n",
        "\n",
        "**NOTE**: In a dictionary, we can only test for the presence of a key, not the value.\n"
      ],
      "metadata": {
        "id": "e8gF7a6Doe-i"
      }
    },
    {
      "cell_type": "markdown",
      "source": [
        "Operator :--> Meaning\n",
        "- in :--> True if the value/variable is found in the sequence\n",
        "- not in :--> True if the value/variable is not found in the sequence"
      ],
      "metadata": {
        "id": "Pzwbpc-JpCkr"
      }
    },
    {
      "cell_type": "code",
      "source": [
        "PyStr=\"PYTHON\"\n",
        "print('P' in PyStr)\n",
        "print('P' not in PyStr)\n",
        "print('p' not in PyStr)\n",
        "print('N' not in PyStr)\n"
      ],
      "metadata": {
        "id": "N-wncdcDo451",
        "outputId": "bf2555c1-d40a-45f2-956f-1b4bd46cb678",
        "colab": {
          "base_uri": "https://localhost:8080/"
        }
      },
      "execution_count": null,
      "outputs": [
        {
          "output_type": "stream",
          "name": "stdout",
          "text": [
            "True\n",
            "False\n",
            "True\n",
            "False\n"
          ]
        }
      ]
    },
    {
      "cell_type": "markdown",
      "source": [
        "- 2.Python Identity Operators\n",
        "  - They are used to check if two values (or variables) are located on the same part of the memory.\n",
        "  - Identity operators compare the memory locations of two objects.\n"
      ],
      "metadata": {
        "id": "6d3ITtd0pdcz"
      }
    },
    {
      "cell_type": "markdown",
      "source": [
        "Operator :--> Meaning\n",
        "- is :--> True if the operands are identical\n",
        "- is not :--> True if the operands are not idenical\n",
        "\n",
        "\n",
        "Syntax:\n",
        "- operand1 is operand2\n",
        "- operand1 is not operand2\n"
      ],
      "metadata": {
        "id": "vBxJp0QYpzIS"
      }
    },
    {
      "cell_type": "markdown",
      "source": [
        "# Difference between \"is\" vs \"==\"\n",
        "- The 'is' operator may seem like the same as the equality operator, but they are not the same.\n",
        "- The 'is' checks if both variables point to the same object.\n",
        "- The '==' sign checks if the values for the two variables are the same.\n"
      ],
      "metadata": {
        "id": "WQX2eitqpyw4"
      }
    },
    {
      "cell_type": "code",
      "source": [
        "a=[1,2,3];  b=a;\n",
        "print(b)\n",
        "print(a is b);  print(a == b)\n",
        "c=list(a);\n",
        "print(c)\n",
        "print(a is c);  print(a == c)"
      ],
      "metadata": {
        "id": "a1AA3LBrqti2",
        "outputId": "3b568154-0fbc-4e20-e8b9-0ae34c8425f4",
        "colab": {
          "base_uri": "https://localhost:8080/"
        }
      },
      "execution_count": null,
      "outputs": [
        {
          "output_type": "stream",
          "name": "stdout",
          "text": [
            "[1, 2, 3]\n",
            "True\n",
            "True\n",
            "[1, 2, 3]\n",
            "False\n",
            "True\n"
          ]
        }
      ]
    },
    {
      "cell_type": "markdown",
      "source": [
        "# id() function:\n",
        "- It is used to return the identity of an object\n",
        "\n",
        "Syntax:\n",
        "**id(object)**\n"
      ],
      "metadata": {
        "id": "VgRauU3_rFYj"
      }
    },
    {
      "cell_type": "code",
      "source": [
        "a=[1,2,3]\n",
        "print(id(a))#72563690248\n",
        "b=a\n",
        "print(id(b))#72563690248\n",
        "print(b)#[1,2,3]\n",
        "print(a is b)#True\n",
        "print(a==b)#True"
      ],
      "metadata": {
        "id": "Z5svyI9FrMbU",
        "outputId": "0584ebe3-f680-4106-fdda-4d0fa507a1c5",
        "colab": {
          "base_uri": "https://localhost:8080/"
        }
      },
      "execution_count": null,
      "outputs": [
        {
          "output_type": "stream",
          "name": "stdout",
          "text": [
            "136429730800448\n",
            "136429730800448\n",
            "[1, 2, 3]\n",
            "True\n",
            "True\n"
          ]
        }
      ]
    },
    {
      "cell_type": "markdown",
      "source": [
        "**NOTE:\n",
        "Avoid using 'is' operator for immutable types such as strings and numbers, the result is unpredictable**"
      ],
      "metadata": {
        "id": "PZt_6t1erwx9"
      }
    },
    {
      "cell_type": "markdown",
      "source": [
        "# Python Bitwise Operators   \n",
        "- These are used to perform bit operations.\n",
        "- All the decimal values will be converted into binary values and bitwise operators will work on these bits.\n",
        "\n",
        "OPERATOR\tMEANING\n",
        "- & :--> Bitwise AND :--> Both are True the result will be True..!!\n",
        "- | :--> Bitwise OR :--> Any '1' the result is 1.\n",
        "- ^ :--> Bitwise exclusive OR :--> Identical is 0\n",
        "- ~ :--> Bitwise complement\n",
        "- << :--> Shift left\n",
        "- Shift right :--> >>"
      ],
      "metadata": {
        "id": "U84OpZBbr9bf"
      }
    },
    {
      "cell_type": "markdown",
      "source": [
        "# bitwise AND (&)\n",
        "- It compares each bit of the first operand to the corresponding bit of the second operand.\n",
        "- If both bits are 1, the corresponding result bit is set to 1.\n",
        "\n",
        "Truth Table for Bitwise AND (&)\n",
        "- A\tB :--> &(Result)\n",
        "- 0\t1 :--> 0\n",
        "- 1\t0 :--> 0\n",
        "- 1\t1 :--> 1\n",
        "- 0\t0 :--> 0"
      ],
      "metadata": {
        "id": "_PMTGmAgsxu5"
      }
    },
    {
      "cell_type": "markdown",
      "source": [
        "**NOTE: Both are True the result will be True..!!**"
      ],
      "metadata": {
        "id": "lteQARiwtawR"
      }
    },
    {
      "cell_type": "code",
      "source": [
        "a=10;b=20\n",
        "\n",
        "# ANALYSIS\n",
        "# We declared 2 integers a and b, The binary form of\n",
        "# 10 = 00001010 ==> for 1 Byte ==> 8 bits\n",
        "# 20 = 00010100 ==> for 1 Byte ==> 8 bits\n",
        "# 0000 1010 & 0001 0100 ==> 0000 0000=> Result is 0\n",
        "\n",
        "a=10;b=20\n",
        "print(a&b)#0\n"
      ],
      "metadata": {
        "id": "WB7BkGkPtkG4",
        "outputId": "9fe4eb6d-da3e-45f2-d841-c5cb75a14a65",
        "colab": {
          "base_uri": "https://localhost:8080/"
        }
      },
      "execution_count": null,
      "outputs": [
        {
          "output_type": "stream",
          "name": "stdout",
          "text": [
            "0\n"
          ]
        }
      ]
    },
    {
      "cell_type": "code",
      "source": [
        "# Example:\n",
        "a=10;b=20\n",
        "print(bin(a))#0b1010\n",
        "print(bin(b))#0b10100\n",
        "#0000 1010 & 0001 0100\n",
        "print(0b00000000)#0\n",
        "print(a&b)#0\n",
        "\n"
      ],
      "metadata": {
        "id": "-4I15aW2tyZv",
        "outputId": "4146c4b2-4004-44e2-b320-ae5a4428ffd5",
        "colab": {
          "base_uri": "https://localhost:8080/"
        }
      },
      "execution_count": null,
      "outputs": [
        {
          "output_type": "stream",
          "name": "stdout",
          "text": [
            "0b1010\n",
            "0b10100\n",
            "0\n",
            "0\n"
          ]
        }
      ]
    },
    {
      "cell_type": "code",
      "source": [
        "# Example:\n",
        "a=9;b=65\n",
        "print(bin(a))#0b1001\n",
        "print(bin(b))#0b1000001\n",
        "#0000 1001 & 0100 0001\n",
        "print(0b00000001)#1\n",
        "print(a&b)#1"
      ],
      "metadata": {
        "id": "tUuIGYqft7xr",
        "outputId": "36526a31-4190-4b8b-8585-4a3ef88d33a9",
        "colab": {
          "base_uri": "https://localhost:8080/"
        }
      },
      "execution_count": null,
      "outputs": [
        {
          "output_type": "stream",
          "name": "stdout",
          "text": [
            "0b1001\n",
            "0b1000001\n",
            "1\n",
            "1\n"
          ]
        }
      ]
    },
    {
      "cell_type": "markdown",
      "source": [
        "# bitwise OR\n",
        "- It takes two bit patterns of equal length.\n",
        "- The result in each position is 0 if both bits are 0, while otherwise the result is 1 (Any One 1 the Result is 1)\n",
        "\n",
        "Syntax:\n",
        "**Bitwise OR Operation = a | b**\n",
        "\n",
        "Truth Table for Bitwise OR\n",
        "- A\tB :--> |(Result)\n",
        "- 0\t1 :--> 1\n",
        "- 1\t0 :--> 1\n",
        "- 1\t1 :--> 1\n",
        "- 0\t0 :--> 0\n",
        "\n",
        "**NOTE:Any '1' the result is 1. Both are False, then False.**\n"
      ],
      "metadata": {
        "id": "Qdpa4vUluCok"
      }
    },
    {
      "cell_type": "code",
      "source": [
        "# # We declared 2 integers a and b, The binary form of\n",
        "# 10 = 00001010 ==> for 1 Byte ==> 8 bits\n",
        "# 20 = 00010100 ==> for 1 Byte ==> 8 bits\n",
        "# 0000 1010 | 0001 0100 ==> 0001 1110=> Result is 30\n",
        "\n",
        "# Example:\n",
        "a=9;b=65\n",
        "print(a|b)#30\n"
      ],
      "metadata": {
        "id": "U_EuFjQ-uqK1",
        "outputId": "739c634e-ff16-4773-8a15-51436de1fdd0",
        "colab": {
          "base_uri": "https://localhost:8080/"
        }
      },
      "execution_count": 1,
      "outputs": [
        {
          "output_type": "stream",
          "name": "stdout",
          "text": [
            "73\n"
          ]
        }
      ]
    },
    {
      "cell_type": "code",
      "source": [
        "# Example:\n",
        "a=9;b=65\n",
        "print(bin(a))#0b1001\n",
        "print(bin(b))#0b1000001\n",
        "#0000 1001 | 0100 0001\n",
        "#01001001\n",
        "print(a|b)#73\n",
        "print(0b1001001)#73"
      ],
      "metadata": {
        "id": "hckjxxmbuxgg",
        "outputId": "2b24e10c-7403-46e9-89ca-e1e6b478134d",
        "colab": {
          "base_uri": "https://localhost:8080/"
        }
      },
      "execution_count": null,
      "outputs": [
        {
          "output_type": "stream",
          "name": "stdout",
          "text": [
            "0b1001\n",
            "0b1000001\n",
            "73\n",
            "73\n"
          ]
        }
      ]
    },
    {
      "cell_type": "markdown",
      "source": [
        "# The bitwise exclusive OR operator (^) :\n",
        "- It compares each bit of its first operand to the corresponding bit of its second operand.\n",
        "- If one bit is 0 and the other bit is 1, the corresponding result bit is set to 1.\n",
        "- Otherwise, the corresponding result bit is set to 0. (Identical is 0)\n",
        "\n",
        "Syntax:\n",
        "**Bitwise Exclusive OR Operation = a ^ b**\n",
        "\n",
        "Truth Table for Bitwise exclusive OR(^)\n",
        "- A\tB :--> ^(Result)\n",
        "- 0\t1 :--> 1\n",
        "- 1\t0 :--> 1\n",
        "- 1\t1 :--> 0\n",
        "- 0\t0 :--> 0\n",
        "\n",
        "**NOTE: Both are Identical, then 0**\n"
      ],
      "metadata": {
        "id": "PAwvBvXcu4O1"
      }
    },
    {
      "cell_type": "code",
      "source": [
        "# ANALYSIS\n",
        "# We declared 2 integers a and b, The binary form of\n",
        "# 10 = 00001010 ==> for 1 Byte ==> 8 bits\n",
        "# 20 = 00010100 ==> for 1 Byte ==> 8 bits\n",
        "# 0000 1010 ^ 0001 0100 ==> 0001 1110=> Result is 30\n",
        "\n",
        "# Example:\n",
        "a=10;b=20\n",
        "print(a^b)"
      ],
      "metadata": {
        "id": "cYHJvg0mvc1h",
        "outputId": "5d76b048-dc59-4f12-dc40-14127b414029",
        "colab": {
          "base_uri": "https://localhost:8080/"
        }
      },
      "execution_count": null,
      "outputs": [
        {
          "output_type": "stream",
          "name": "stdout",
          "text": [
            "30\n"
          ]
        }
      ]
    },
    {
      "cell_type": "code",
      "source": [
        "# EXAMPLE:\n",
        "a=9;b=65\n",
        "print(bin(a))#0b0000 1001\n",
        "print(bin(b))#0b0100 0001\n",
        "#0000 1001 ^ 0100 0001\n",
        "#0100 1000\n",
        "print(0b01001000)#72\n",
        "print(a^b)#72"
      ],
      "metadata": {
        "id": "Pc4VaT-ZvjP1",
        "outputId": "a850f8f9-f7ea-4dee-dbb6-5115028b2b0d",
        "colab": {
          "base_uri": "https://localhost:8080/"
        }
      },
      "execution_count": null,
      "outputs": [
        {
          "output_type": "stream",
          "name": "stdout",
          "text": [
            "0b1001\n",
            "0b1000001\n",
            "72\n",
            "72\n"
          ]
        }
      ]
    },
    {
      "cell_type": "code",
      "source": [
        "# EXAMPLE:\n",
        "print(True & False)#1\n",
        "print(True | False)#1\n",
        "print(True ^ False)#1"
      ],
      "metadata": {
        "id": "cv39Y86gvn0t",
        "outputId": "82de8964-ed5a-49d6-947d-236138b8d0fc",
        "colab": {
          "base_uri": "https://localhost:8080/"
        }
      },
      "execution_count": null,
      "outputs": [
        {
          "output_type": "stream",
          "name": "stdout",
          "text": [
            "False\n",
            "True\n",
            "True\n"
          ]
        }
      ]
    },
    {
      "cell_type": "markdown",
      "source": [
        "# Bitwise Complement:(~)\n",
        "- It is popularly known as the bitwise not operator.\n",
        "- It is a unary operator.\n",
        "- It is flipping bits.\n",
        "- Input Output\n",
        " - 0\t1\n",
        " - 1 \t0\n",
        "\n",
        "- The formula is: ~x = -x-1\n",
        "\n"
      ],
      "metadata": {
        "id": "B_pZrZjUu6jX"
      }
    },
    {
      "cell_type": "code",
      "source": [
        "a=20\n",
        "print(~a)\n",
        "# ~20=-20-1=-21\n",
        "# ~30=-30-1=-31"
      ],
      "metadata": {
        "id": "Ctg7-4JwvJjv",
        "outputId": "a469ff4e-4f33-428f-842b-1d2084d85b34",
        "colab": {
          "base_uri": "https://localhost:8080/"
        }
      },
      "execution_count": 2,
      "outputs": [
        {
          "output_type": "stream",
          "name": "stdout",
          "text": [
            "-21\n"
          ]
        }
      ]
    },
    {
      "cell_type": "markdown",
      "source": [
        "# Binary Ones Complement (Mathematically)\n",
        "- It is unary and has the effect of 'flipping' bits.\n",
        "- Given number should be convert into binary number.\n",
        "- That binary number converting '0' to '1' and '1' to '0' is called Binary Ones Complement.\n",
        "\n",
        "#In Mathematical Approach:\n",
        "- x=10 ==> 0000 1010 (is Binary Number)\n",
        "- Binary One's Complement is ==> 1111 0101\n",
        "\n",
        "# Binary Two's Complement:\n",
        "- Add '1' to Binary Ones Complement is called Binary Twos Complement.\n",
        "   1111 0101\n",
        "  +0000 0001\n",
        "---\n",
        "  1111 0110\n",
        "---\n",
        "- NOTE: Binary Addition computations are the following:\n",
        "  - 1+1+1=11\n",
        "  - 1+1=10,\n",
        "  - 1+0=1,\n",
        "  - 0+1=1,\n",
        "  - 0+0=0\n"
      ],
      "metadata": {
        "id": "FLnPLcRkuCmd"
      }
    },
    {
      "cell_type": "markdown",
      "source": [
        "# Binary Left Shift (<<):\n",
        "- The left operands value is moved left by the number of bits specified by the right operand.\n",
        "- a = 10         # 10=1010\n",
        "- a << 2;       # 40=1010'00'==>Add Two digits right side\n",
        "                     **or**\n",
        "\n",
        "- **the multiplying x=10 by 2^n=2^2=2*2=4 :10*4=40**\n",
        "\n",
        "# Binary Right Shift (>>):\n",
        "- The left operands value is moved right by the number of bits specified by the right operand.\n",
        "- a = 10       #10=1010\n",
        "- a >> 2;     #2=10==>Remove two digits right side\n",
        "\n",
        "**the dividing x=10 by 2^n=2^2=2*2=4 :10/4=2**"
      ],
      "metadata": {
        "id": "mDnn9dJ4vvxG"
      }
    },
    {
      "cell_type": "code",
      "source": [
        "a=10\n",
        "print(a<<2)#40\n",
        "print(a>>2)#2\n"
      ],
      "metadata": {
        "id": "Y3OlrVwb4aT0",
        "outputId": "d73cefe2-fb1b-474b-e465-321e03a2e2b5",
        "colab": {
          "base_uri": "https://localhost:8080/"
        }
      },
      "execution_count": 3,
      "outputs": [
        {
          "output_type": "stream",
          "name": "stdout",
          "text": [
            "40\n",
            "2\n"
          ]
        }
      ]
    },
    {
      "cell_type": "markdown",
      "source": [
        "# Difference between  Logical Operators &  Bitwise operators.\n",
        " Logical operators:(and, or, not)\n",
        " - Compare bits of the given object and always return a Boolean result.\n",
        "\n",
        "\n",
        "Bitwise operators: (&, |, ^)\n",
        " - Perform operations on individual bits, and the result is also always a bit.\n",
        "\n"
      ],
      "metadata": {
        "id": "Z9NJPlpC4cIH"
      }
    },
    {
      "cell_type": "markdown",
      "source": [
        "# Ternary Operator in Python\n",
        "- Ternary operators also known as conditional expressions. It was added to Python in version 2.5. It allows to test a condition in a single line.\n",
        "\n",
        "Syntax:\n",
        "**[on_true] if [expression] else [on_false]**"
      ],
      "metadata": {
        "id": "JwpI2W-W5JPc"
      }
    },
    {
      "cell_type": "code",
      "source": [
        "a,b =10,20\n",
        "Min = a if a < b else b\n",
        "print(Min)\n",
        "Max = a if a > b else b\n",
        "print(Max)"
      ],
      "metadata": {
        "id": "8OS6LYWf5zzo",
        "outputId": "7f813ad7-62a8-4a1e-b1de-5c819b1d24c8",
        "colab": {
          "base_uri": "https://localhost:8080/"
        }
      },
      "execution_count": 4,
      "outputs": [
        {
          "output_type": "stream",
          "name": "stdout",
          "text": [
            "10\n",
            "20\n"
          ]
        }
      ]
    },
    {
      "cell_type": "code",
      "source": [
        "a=int(input(\"Enter Any Number:\"))\n",
        "b=int(input(\"Enter Any Number:\"))\n",
        "Max=a if a>b else b\n",
        "print(\"Max Value is:\",Max)"
      ],
      "metadata": {
        "id": "kTNUCaG559nv",
        "outputId": "3ad760ff-22c9-49a0-a225-73e7f56221bb",
        "colab": {
          "base_uri": "https://localhost:8080/"
        }
      },
      "execution_count": 5,
      "outputs": [
        {
          "output_type": "stream",
          "name": "stdout",
          "text": [
            "Enter Any Number:21\n",
            "Enter Any Number:45\n",
            "Max Value is: 45\n"
          ]
        }
      ]
    },
    {
      "cell_type": "markdown",
      "source": [
        "**NOTE:\n",
        "Nesting of ternary operator is possible.**"
      ],
      "metadata": {
        "id": "9-cuNrdk6MKU"
      }
    },
    {
      "cell_type": "code",
      "source": [
        "x=int(input(\"Enter First Number:\"))\n",
        "y=int(input(\"Enter Second Number:\"))\n",
        "z=int(input(\"Enter Third Number:\"))\n",
        "Min=x if x<y and x<z else y if y<z else z\n",
        "print(\"Minimum Value:\",Min)"
      ],
      "metadata": {
        "id": "3sYLt14O6RyQ",
        "outputId": "952bbe06-0ff1-48b6-a2a7-2cddac8b7d2b",
        "colab": {
          "base_uri": "https://localhost:8080/"
        }
      },
      "execution_count": 6,
      "outputs": [
        {
          "output_type": "stream",
          "name": "stdout",
          "text": [
            "Enter First Number:21\n",
            "Enter Second Number:23\n",
            "Enter Third Number:24\n",
            "Minimum Value: 21\n"
          ]
        }
      ]
    },
    {
      "cell_type": "markdown",
      "source": [
        "# Python Operators Precedence (PEMDAS)\n",
        "- 1 Parentheses are always respected\n",
        "- 2 Exponentiation (raise to a power)\n",
        "- 3 Multiplication, Division, and Remainder\n",
        "- 4 Addition & Subtraction\n",
        "- 5 Left to right\n"
      ],
      "metadata": {
        "id": "Aq0uwq5j6mQ1"
      }
    },
    {
      "cell_type": "code",
      "source": [
        "a = 20; b = 10; c = 15; d = 5; e = 0\n",
        "e = (a + b) * c / d       #( 30 * 15 ) / 5\n",
        "print(\"Value of (a + b) * c / d is \",  e)\n",
        "\n",
        "e = ((a + b) * c) / d     # (30 * 15 ) / 5\n",
        "print( \"Value of ((a + b) * c) / d is \",  e)\n",
        "\n",
        "e = (a + b) * (c / d);    # (30) * (15/5)\n",
        "print( \"Value of (a + b) * (c / d) is \",  e)\n",
        "\n",
        "e = a + (b * c) / d;      #  20 + (150/5)\n",
        "print (\"Value of a + (b * c) / d is \",  e)"
      ],
      "metadata": {
        "id": "fW1Pj_1F8H2s",
        "outputId": "7c9971fb-ca06-4cc0-f3f8-f46ff42f4b0f",
        "colab": {
          "base_uri": "https://localhost:8080/"
        }
      },
      "execution_count": 7,
      "outputs": [
        {
          "output_type": "stream",
          "name": "stdout",
          "text": [
            "Value of (a + b) * c / d is  90.0\n",
            "Value of ((a + b) * c) / d is  90.0\n",
            "Value of (a + b) * (c / d) is  90.0\n",
            "Value of a + (b * c) / d is  50.0\n"
          ]
        }
      ]
    },
    {
      "cell_type": "markdown",
      "source": [
        "# 🧪 3. Beginner-Level Problems\n",
        "# 3) Practice Exercises (start very easy → slightly challenging)\n"
      ],
      "metadata": {
        "id": "bUlvDCJvS_6P"
      }
    },
    {
      "cell_type": "markdown",
      "source": [
        "**Try these in order. Aim to type them yourself and run them.**"
      ],
      "metadata": {
        "id": "ofvtTRdyv-dg"
      }
    },
    {
      "cell_type": "markdown",
      "source": [
        "**🔹 Problem 1: Basic Arithmetic**"
      ],
      "metadata": {
        "id": "TrOzVGLvwYjQ"
      }
    },
    {
      "cell_type": "code",
      "source": [
        "# 🔹 Problem 1: Basic Arithmetic\n",
        "\n",
        "x = 15\n",
        "y = 4\n",
        "\n",
        "print('x + y =',x+y)  # Addition Operator--> +\n",
        "\n",
        "print('x - y =',x-y)  # Subtraction Operator--> -\n",
        "\n",
        "print('x * y =',x*y)  # Multiplication Operator--> *\n",
        "\n",
        "print('x / y =',x/y)  # Division Operator--> /\n",
        "\n",
        "print('x % y =',x%y)  # Modulus Operator--> %\n",
        "\n",
        "print('x // y =',x//y)  # Floor Division Operator--> //\n",
        "\n",
        "print('x ** y =',x**y)  # Exponent Operator--> **\n"
      ],
      "metadata": {
        "colab": {
          "base_uri": "https://localhost:8080/"
        },
        "id": "-_WnaqsWPLiC",
        "outputId": "0b4a9bd8-3f7c-42de-ce47-0a044128426e"
      },
      "execution_count": null,
      "outputs": [
        {
          "output_type": "stream",
          "name": "stdout",
          "text": [
            "x + y = 19\n",
            "x - y = 11\n",
            "x * y = 60\n",
            "x / y = 3.75\n",
            "x % y = 3\n",
            "x // y = 3\n",
            "x ** y = 50625\n"
          ]
        }
      ]
    },
    {
      "cell_type": "code",
      "source": [
        "# Take input from user:\n",
        "x = int(input('Enter the value of x: '))\n",
        "y = int(input('Enter the value of y: '))\n",
        "\n",
        "#✅ Explanation: Shows usage of all arithmetic operators\n",
        "z = x + y\n",
        "print(\"Sum is: \", z)\n",
        "\n",
        "z = x - y\n",
        "print(\"Difference is: \", z)\n",
        "\n",
        "z = x * y\n",
        "print(\"Product is: \", z)\n",
        "\n",
        "z = x / y\n",
        "print(\"Quotient is: \", z)\n",
        "\n",
        "z = x % y\n",
        "print(\"Remainder is: \", z)\n",
        "\n",
        "z = x // y\n",
        "print(\"Floor Division is: \", z)\n",
        "\n",
        "z = x ** y\n",
        "print(\"Exponent is: \", z)\n"
      ],
      "metadata": {
        "colab": {
          "base_uri": "https://localhost:8080/"
        },
        "id": "I-DnVH0CRwzz",
        "outputId": "8b9c68b0-df98-4d7e-ed71-5e8f4dd665b5"
      },
      "execution_count": null,
      "outputs": [
        {
          "output_type": "stream",
          "name": "stdout",
          "text": [
            "Enter the value of x: 15\n",
            "Enter the value of y: 4\n",
            "Sum is:  19\n",
            "Difference is:  11\n",
            "Product is:  60\n",
            "Quotient is:  3.75\n",
            "Remainder is:  3\n",
            "Floor Division is:  3\n",
            "Exponent is:  50625\n"
          ]
        }
      ]
    },
    {
      "cell_type": "markdown",
      "source": [
        "🔹 Problem 2: Comparison Of values."
      ],
      "metadata": {
        "id": "wdP9OAHKSehj"
      }
    },
    {
      "cell_type": "code",
      "source": [
        "# Example:\n",
        "A = 1\n",
        "B = 2\n",
        "\n",
        "#✅ Explanation: Shows usage of all comparison operators\n",
        "\n",
        "# == \t\tEqual to - True if both operands are equal \t\t\tA == B\n",
        "print(A == B)\n",
        "\n",
        "# != \t\tNot equal to - True if operands are not equal \t\t\t\t\tx != y\n",
        "print(A != B)\n",
        "\n",
        "# > \t\tGreater that - True if left operand is greater than the right x > y\n",
        "print(A > B)\n",
        "\n",
        "# < \t\tLess that - True if left operand is less than the right \t\t\tx < y\n",
        "print(A < B)\n",
        "\n",
        "# >= \t\tTrue if left operand is greater than or equal to the right \t\tx >= y\n",
        "print(A >= B)\n",
        "\n",
        "# <= \t\tTrue if left operand is less than or equal to the right \t\t\tx <= y\n",
        "print(A <= B)"
      ],
      "metadata": {
        "colab": {
          "base_uri": "https://localhost:8080/"
        },
        "id": "27VkgaPFSYf4",
        "outputId": "37a7897a-bd83-4618-dafe-09a9d42d4ed7"
      },
      "execution_count": null,
      "outputs": [
        {
          "output_type": "stream",
          "name": "stdout",
          "text": [
            "False\n",
            "True\n",
            "False\n",
            "True\n",
            "False\n",
            "True\n"
          ]
        }
      ]
    },
    {
      "cell_type": "markdown",
      "source": [
        "Problem 3: Python Assignment Problem.\n"
      ],
      "metadata": {
        "id": "mAauVhspVg6x"
      }
    },
    {
      "cell_type": "code",
      "source": [
        "a = 21\n",
        "b = 10\n",
        "c = 0\n",
        "\n",
        "#✅ Explanation: Shows usage of all assignment operators\n",
        "c = a + b\n",
        "print(f\"c = {a} + {b} is\", c)\n",
        "\n",
        "c += a\n",
        "print(f\"c = {a}+={b} is\", c)\n",
        "\n",
        "c *= a\n",
        "print(f\"c = {a} *= {b} is\", c)\n",
        "\n",
        "c /= a\n",
        "print(f\"c = {a} /= {b} is\", c)\n",
        "\n",
        "c  = 2\n",
        "c %= a\n",
        "print(f\"c = {c}  %= {a} is\", c)\n",
        "\n",
        "c **= a\n",
        "print(f\"c = {c} **= {a} is\", c)\n",
        "\n",
        "c //= a\n",
        "print(f\"c = {c} //=  {a} is\", c)\n"
      ],
      "metadata": {
        "colab": {
          "base_uri": "https://localhost:8080/"
        },
        "id": "z0xuZSKkUOeW",
        "outputId": "df46a49b-d61c-498d-f4e3-0069af95b253"
      },
      "execution_count": null,
      "outputs": [
        {
          "output_type": "stream",
          "name": "stdout",
          "text": [
            "c = 21 + 10 is 31\n",
            "c = 21+=10 is 52\n",
            "c = 21 *= 10 is 1092\n",
            "c = 21 /= 10 is 52.0\n",
            "c = 2  %= 21 is 2\n",
            "c = 2097152 **= 21 is 2097152\n",
            "c = 99864 //=  21 is 99864\n"
          ]
        }
      ]
    },
    {
      "cell_type": "markdown",
      "source": [
        "🔹 Problem 4: Even or Odd"
      ],
      "metadata": {
        "id": "j8SkbVKKpXOG"
      }
    },
    {
      "cell_type": "code",
      "source": [
        "number= int(input(\"Enter any number: \"))\n",
        "\n",
        "#✅ Uses modulus operator % to check if a number is divisible by 2\n",
        "if number % 2 == 0:\n",
        "  print(f\"{number} is even\")\n",
        "else:\n",
        "  print(f\"{number} is odd\")"
      ],
      "metadata": {
        "id": "RX0otLMEVvCT",
        "colab": {
          "base_uri": "https://localhost:8080/"
        },
        "outputId": "fe9356b3-0e57-4916-9b08-6791302a35db"
      },
      "execution_count": null,
      "outputs": [
        {
          "output_type": "stream",
          "name": "stdout",
          "text": [
            "Enter any number: 21\n",
            "21 is odd\n"
          ]
        }
      ]
    },
    {
      "cell_type": "markdown",
      "source": [
        "🔹 Problem 5: Compare Two Numbers\n",
        "\n",
        "\n",
        "\n"
      ],
      "metadata": {
        "id": "2ucFD7IMqT3B"
      }
    },
    {
      "cell_type": "code",
      "source": [
        "#✅ Demonstrates comparison operators: >, <, ==\n",
        "aslam = (int(input(\"Enter age of aslam: \")))\n",
        "ali = (int(input(\"Enter age of ali: \")))\n",
        "\n",
        "if aslam > ali:\n",
        "  print(\"Aslam is elder\")\n",
        "elif ali > aslam:\n",
        "  print(\"Ali is elder\")\n",
        "else:\n",
        "  print(\"They are of same age \")"
      ],
      "metadata": {
        "colab": {
          "base_uri": "https://localhost:8080/"
        },
        "id": "QsCvrxXSpvUA",
        "outputId": "61793d42-9820-4935-ac5c-4ea184f1c4e4"
      },
      "execution_count": null,
      "outputs": [
        {
          "output_type": "stream",
          "name": "stdout",
          "text": [
            "Enter age of aslam: 21\n",
            "Enter age of ali: 20\n",
            "Aslam is elder\n"
          ]
        }
      ]
    },
    {
      "cell_type": "markdown",
      "source": [
        "🔹 Problem 6: Check Age Group"
      ],
      "metadata": {
        "id": "uOEnZWM4rSVJ"
      }
    },
    {
      "cell_type": "code",
      "source": [
        "#✅ Combines conditions using logical operator and.\n",
        "age = int(input(\"Enter your age: \"))\n",
        "\n",
        "if age >= 18 and age <= 60:\n",
        "  print(\"You are Adult\")\n",
        "else:\n",
        "  print(\"You are not Adult\")"
      ],
      "metadata": {
        "colab": {
          "base_uri": "https://localhost:8080/"
        },
        "id": "9L65pTLsrCc2",
        "outputId": "0008c42c-47db-46d2-d6b4-d5ba3db2c380"
      },
      "execution_count": null,
      "outputs": [
        {
          "output_type": "stream",
          "name": "stdout",
          "text": [
            "Enter your age: 23\n",
            "You are Adult\n"
          ]
        }
      ]
    },
    {
      "cell_type": "markdown",
      "source": [
        "🔹 Problem 7: Check if a Character is in a String"
      ],
      "metadata": {
        "id": "7ACVmZQwsGyx"
      }
    },
    {
      "cell_type": "code",
      "source": [
        "text = \"Python\"\n",
        "char = input(\"Enter a character: \")\n",
        "\n",
        "if char in text:\n",
        "  print(f\"{char} is in the word\")\n",
        "else:\n",
        "  print(f\"{char} is not in the word\")\n",
        "\n",
        "#✅ Shows use of in operator (membership operator)."
      ],
      "metadata": {
        "colab": {
          "base_uri": "https://localhost:8080/"
        },
        "id": "G1ww3KTDr0zh",
        "outputId": "ff1b4578-db8b-42ee-cc67-3282b13271e1"
      },
      "execution_count": null,
      "outputs": [
        {
          "output_type": "stream",
          "name": "stdout",
          "text": [
            "Enter a character: y\n",
            "y is in the word\n"
          ]
        }
      ]
    },
    {
      "cell_type": "markdown",
      "source": [
        "**1.\t(Very Easy) Write a program to compute the area of a rectangle (area = width * height).**"
      ],
      "metadata": {
        "id": "wRTAj8sXw5dm"
      }
    },
    {
      "cell_type": "code",
      "source": [
        "width_rectangle = float(input(\"Enter width of rectangle: \"))\n",
        "height_rectangle = float(input(\"Enter height of rectangle: \"))\n",
        "area_rectangle = width_rectangle * height_rectangle\n",
        "print(f\"Area of rectangle is {area_rectangle}\")"
      ],
      "metadata": {
        "id": "TV9_57DlxJZK",
        "outputId": "b46be478-bf24-4de9-a8cb-ad1fc0a93c50",
        "colab": {
          "base_uri": "https://localhost:8080/"
        }
      },
      "execution_count": null,
      "outputs": [
        {
          "output_type": "stream",
          "name": "stdout",
          "text": [
            "Enter width of rectangle: 12.0\n",
            "Enter height of rectangle: 10.0\n",
            "Area of rectangle is 120.0\n"
          ]
        }
      ]
    },
    {
      "cell_type": "markdown",
      "source": [
        "**2.\t(Very Easy) Read an integer and print whether it is even or odd using %.**"
      ],
      "metadata": {
        "id": "8tlT-dd2xmek"
      }
    },
    {
      "cell_type": "code",
      "source": [
        "number = int(input(\"Enter a number: \"))\n",
        "if number % 2 == 0:\n",
        "  print(f\"{number} is even\")\n",
        "else:\n",
        "  print(f\"{number} is odd\")"
      ],
      "metadata": {
        "id": "OAqj-QHSxqyK",
        "outputId": "d6b88d74-1968-426a-9bbe-546ed02259dc",
        "colab": {
          "base_uri": "https://localhost:8080/"
        }
      },
      "execution_count": null,
      "outputs": [
        {
          "output_type": "stream",
          "name": "stdout",
          "text": [
            "Enter a number: 41\n",
            "41 is odd\n"
          ]
        }
      ]
    },
    {
      "cell_type": "markdown",
      "source": [
        "**3.\t(Easy) Read three numbers, compute the average, and print it rounded to 2 decimals.**"
      ],
      "metadata": {
        "id": "anE5FDOFx4NO"
      }
    },
    {
      "cell_type": "code",
      "source": [
        "num_1 = int(input(\"Enter a first number: \"))\n",
        "num_2 = int(input(\"Enter a second number: \"))\n",
        "num_3 = int(input(\"Enter a third number: \"))\n",
        "average = (num_1 + num_2 + num_3) / 3\n",
        "print(f\"Average of three numbers is {round(average, 2)}\")"
      ],
      "metadata": {
        "id": "qt0oWBugx9ey",
        "outputId": "7c89dec8-3614-4675-c0fa-06c20e6bdc64",
        "colab": {
          "base_uri": "https://localhost:8080/"
        }
      },
      "execution_count": null,
      "outputs": [
        {
          "output_type": "stream",
          "name": "stdout",
          "text": [
            "Enter a first number: 12\n",
            "Enter a second number: 13\n",
            "Enter a third number: 14\n",
            "Average of three numbers is 13.0\n"
          ]
        }
      ]
    },
    {
      "cell_type": "markdown",
      "source": [
        "**4.\t(Easy) Given price and qty, compute total cost after 18% tax (total = price * qty * 1.18). Use parentheses to be explicit.**"
      ],
      "metadata": {
        "id": "0xSjTmr7ylt9"
      }
    },
    {
      "cell_type": "code",
      "source": [
        "price_ = float(input(\"Enter a price: \"))\n",
        "qty_ = float(input(\"Enter a quantity: \"))\n",
        "total_cost = price_ * qty_ * 1.18\n",
        "print(f\"Total cost is {round(total_cost, 2)}\")"
      ],
      "metadata": {
        "id": "twqhYebvyoFa",
        "outputId": "05560b60-47a2-433e-ee5f-c65d043ae263",
        "colab": {
          "base_uri": "https://localhost:8080/"
        }
      },
      "execution_count": null,
      "outputs": [
        {
          "output_type": "stream",
          "name": "stdout",
          "text": [
            "Enter a price: 54\n",
            "Enter a quantity: 10\n",
            "Total cost is 637.2\n"
          ]
        }
      ]
    },
    {
      "cell_type": "markdown",
      "source": [
        "**5.\t(Easy → Medium) Ask user for two strings and check if they are equal ignoring case (use .lower() + ==).**"
      ],
      "metadata": {
        "id": "nmIpo24zzIMb"
      }
    },
    {
      "cell_type": "code",
      "source": [
        "str_1 = int(input(\"Enter a string1: \"))\n",
        "str_2 = int(input(\"Enter a string2: \"))\n",
        "if str_1.lower() == str_2.lower():\n",
        "  print(\"Strings are equal\")\n",
        "else:\n",
        "  print(\"Strings are not equal\")"
      ],
      "metadata": {
        "id": "QaYSXdphzLuM"
      },
      "execution_count": null,
      "outputs": []
    },
    {
      "cell_type": "markdown",
      "source": [
        "**6.\t(Medium) Read an integer and check: is it between 10 and 20 (inclusive) and not equal to 13? (use and, or, not)**"
      ],
      "metadata": {
        "id": "8wuw972H0eh_"
      }
    },
    {
      "cell_type": "code",
      "source": [
        "myint = int(input(\"Enter a number: \"))\n",
        "if myint >= 10 and myint <= 20 and myint != 13:\n",
        "  print(f\"{myint} is between 10 and 20 and not equal to 13\")\n",
        "elif myint >= 10 and myint <= 20 and myint == 13:\n",
        "  print(f\"{myint} is between 10 and 20 and equal to 13\")\n",
        "else:\n",
        "  print(f\"{myint} is not between 10 and 20\")"
      ],
      "metadata": {
        "id": "8wQ0wABj0gz_",
        "outputId": "83390905-a5b3-48a3-c763-c2e326e37e82",
        "colab": {
          "base_uri": "https://localhost:8080/"
        }
      },
      "execution_count": null,
      "outputs": [
        {
          "output_type": "stream",
          "name": "stdout",
          "text": [
            "Enter a number: 54\n",
            "54 is not between 10 and 20\n"
          ]
        }
      ]
    },
    {
      "cell_type": "markdown",
      "source": [
        "**7.\t(Medium) Given three exam marks (0–100), print PASS if average ≥ 40 and no single mark < 33; otherwise print FAIL.**"
      ],
      "metadata": {
        "id": "K5VfysNp1KB3"
      }
    },
    {
      "cell_type": "code",
      "source": [
        "Exam_1 = int(input(\"Enter marks of first exam: \"))\n",
        "Exam_2 = int(input(\"Enter marks of second exam: \"))\n",
        "Exam_3 = int(input(\"Enter marks of third exam: \"))\n",
        "\n",
        "if Exam_1 >= 33 and Exam_2 >= 33 and Exam_3 >= 33 and (Exam_1 + Exam_2 + Exam_3) / 3 >= 40:\n",
        "  print(\"PASS\")\n",
        "else:\n",
        "  print(\"FAIL\")"
      ],
      "metadata": {
        "id": "xFXI_yLw1O0n",
        "outputId": "ae2db4a9-0cbc-4c41-9fb0-f0e5aa5ae502",
        "colab": {
          "base_uri": "https://localhost:8080/"
        }
      },
      "execution_count": null,
      "outputs": [
        {
          "output_type": "stream",
          "name": "stdout",
          "text": [
            "Enter marks of first exam: 72\n",
            "Enter marks of second exam: 80\n",
            "Enter marks of third exam: 65\n",
            "PASS\n"
          ]
        }
      ]
    },
    {
      "cell_type": "markdown",
      "source": [
        "**8.\t(Stretch) Ask user for x and compute y = (x**3 - 2*x + 5) // 3 and explain the difference between / and // by trying both.**"
      ],
      "metadata": {
        "id": "fRtWVWN91n5P"
      }
    },
    {
      "cell_type": "code",
      "source": [
        "\"\"\"\n",
        "🧠 Problem\n",
        "\n",
        "Ask the user for a number x, compute:\n",
        "\n",
        "𝑦=(𝑥**3)−2𝑥+5/3\n",
        "y=(𝑥**3)−2𝑥+5//3\n",
        "\n",
        "Try with / and // and observe the difference.\n",
        "\"\"\"\n",
        "\n",
        "\n",
        "\n",
        "# Ask user for input\n",
        "x = int(input(\"Enter a number for x: \"))\n",
        "\n",
        "# Compute using true division (/)\n",
        "y_true_div = (x**3 - 2*x + 5) / 3\n",
        "\n",
        "# Compute using floor division (//)\n",
        "y_floor_div = (x**3 - 2*x + 5) // 3\n",
        "\n",
        "# Display results\n",
        "print(\"Using /  (True Division):\", y_true_div)\n",
        "print(\"Using // (Floor Division):\", y_floor_div)\n"
      ],
      "metadata": {
        "id": "JdC_F90F16Bm",
        "outputId": "3b588f78-2ed4-4537-b918-5ece55e4666a",
        "colab": {
          "base_uri": "https://localhost:8080/"
        }
      },
      "execution_count": null,
      "outputs": [
        {
          "output_type": "stream",
          "name": "stdout",
          "text": [
            "Enter a number for x: 12\n",
            "Using /  (True Division): 569.6666666666666\n",
            "Using // (Floor Division): 569\n"
          ]
        }
      ]
    },
    {
      "cell_type": "markdown",
      "source": [
        "**Hints: test with small numbers and print intermediate values to see how Python evaluates expressions.**"
      ],
      "metadata": {
        "id": "oMSFht1w4tk9"
      }
    },
    {
      "cell_type": "markdown",
      "source": [
        "# 🔁 4. Intermediate-Level Problems\n"
      ],
      "metadata": {
        "id": "Ot96BRO_swP3"
      }
    },
    {
      "cell_type": "markdown",
      "source": [
        "# 🔸 Problem 1: Create a Calculator Using Operators\n",
        "- Qn. Create a calculator capable of performing addition, substraction, multiplication, and division operation of two numbers. Your program should format the output in a readable format."
      ],
      "metadata": {
        "id": "1L6GlBlBtI42"
      }
    },
    {
      "cell_type": "code",
      "source": [
        "a = float(input(\"Enter first number: \"))\n",
        "b = float(input(\"Enter second number: \"))\n",
        "operator = input(\"Enter operator between (+, -, *, /, %, ** ): \")\n",
        "\n",
        "if operator == '+':\n",
        "  print(f\"{a} + {b} = {a+b}\")\n",
        "elif operator == '-':\n",
        "  print(f\"{a} - {b} = {a-b}\")\n",
        "elif operator == '*':\n",
        "  print(f\"{a} * {b} = {a*b}\")\n",
        "elif operator == '/':\n",
        "  print(f\"{a} / {b} = {a/b}\")\n",
        "elif operator == '%':\n",
        "  print(f\"{a} % {b} = {a%b}\")\n",
        "elif operator == '**':\n",
        "  print(f\"{a} ** {b} = {a**b}\")\n",
        "else:\n",
        "  print(\"Invalid operator\")\n",
        "\n",
        "#🧠 Combines user input with arithmetic and conditional logic"
      ],
      "metadata": {
        "colab": {
          "base_uri": "https://localhost:8080/"
        },
        "id": "NrdvtXI7sepL",
        "outputId": "c70a3838-7048-4d64-d428-6c5797f0c56b"
      },
      "execution_count": null,
      "outputs": [
        {
          "output_type": "stream",
          "name": "stdout",
          "text": [
            "Enter first number: 2\n",
            "Enter second number: 5\n",
            "Enter operator between (+, -, *, /, %, ** ): /\n",
            "2.0 / 5.0 = 0.4\n"
          ]
        }
      ]
    },
    {
      "cell_type": "markdown",
      "source": [
        "🔸 Problem 2: Check if a Number Lies Within a Range"
      ],
      "metadata": {
        "id": "NN35N-ZmyJq1"
      }
    },
    {
      "cell_type": "code",
      "source": [
        "number = int(input(\"Enter a number: \"))\n",
        "\n",
        "if number >= 10 and number <= 20:\n",
        "  print(f\"{number} lies between 10 and 20\")\n",
        "else:\n",
        "  print(f\"{number} not lies between 10 and 20\")\n",
        "\n",
        "  #✅ Uses logical operators (and) and comparison"
      ],
      "metadata": {
        "colab": {
          "base_uri": "https://localhost:8080/"
        },
        "id": "J9ua3tlnuAQ4",
        "outputId": "814e6c24-92ff-4dda-bae1-c1783cb3677f"
      },
      "execution_count": null,
      "outputs": [
        {
          "output_type": "stream",
          "name": "stdout",
          "text": [
            "Enter a number: 10\n",
            "10 lies between 10 and 20\n"
          ]
        }
      ]
    },
    {
      "cell_type": "markdown",
      "source": [
        "🔸 Problem 3: Identity Operator Practice"
      ],
      "metadata": {
        "id": "6vnmD5EvzNIV"
      }
    },
    {
      "cell_type": "code",
      "source": [
        "a=[1, 2, 3]\n",
        "b=a\n",
        "c=[1, 2, 3]\n",
        "\n",
        "print(a is b)\n",
        "print(a is c)\n",
        "#the 'is' operator checks if two variables refer to the exact same object in memory.\n",
        "\n",
        "print(a == b)\n",
        "#The == operator, It checks if the values of two objects are equal\n",
        "print(a == c)"
      ],
      "metadata": {
        "colab": {
          "base_uri": "https://localhost:8080/"
        },
        "id": "KL0aDCKgytfd",
        "outputId": "6d513282-3098-4fb6-f690-e658e1cca922"
      },
      "execution_count": null,
      "outputs": [
        {
          "output_type": "stream",
          "name": "stdout",
          "text": [
            "True\n",
            "False\n",
            "True\n",
            "True\n"
          ]
        }
      ]
    },
    {
      "cell_type": "markdown",
      "source": [
        "# 4.1) Mini Project / Task (real-world, uses today's topic)\n",
        "\n",
        "Simple Grade Calculator\n",
        "- •\tGoal: Input student name and three marks. Compute total, average, and final grade (A/B/C/F) using comparison operators and arithmetic.\n",
        "- •\tRequirements:\n",
        "  - o\tPrint total and average (rounded).\n",
        "  - o\tGrade rules (example): average ≥ 85 → A, ≥70 → B, ≥50 → C, else F.\n",
        "  - o\tShow message: \"Alice — Total: 250, Average: 83.33, Grade: B\".\n",
        "- •\tStretch additions: flag if any subject < 33 (show “Re-exam required”), or compute pass/fail using logic from exercises.\n",
        "- •\tWhy: uses arithmetic, comparisons, and assignments — all today’s core ideas.\n"
      ],
      "metadata": {
        "id": "Zhrzt9aJ42dQ"
      }
    },
    {
      "cell_type": "code",
      "source": [
        "# Step 1: Take inputs\n",
        "name = input(\"Enter student name: \")\n",
        "m1 = float(input(\"Enter marks for Subject 1: \"))\n",
        "m2 = float(input(\"Enter marks for Subject 2: \"))\n",
        "m3 = float(input(\"Enter marks for Subject 3: \"))\n",
        "\n",
        "# Step 2: Compute total and average\n",
        "total = m1 + m2 + m3\n",
        "average = total / 3  # True division\n",
        "average_rounded = round(average, 2)  # Rounded to 2 decimals\n",
        "\n",
        "# Step 3: Determine Grade (Comparison operators)\n",
        "if average >= 85:\n",
        "    grade = \"A\"\n",
        "elif average >= 70:\n",
        "    grade = \"B\"\n",
        "elif average >= 50:\n",
        "    grade = \"C\"\n",
        "else:\n",
        "    grade = \"F\"\n",
        "\n",
        "# Step 4: Extra check – re-exam flag if any subject < 33\n",
        "if m1 < 33 or m2 < 33 or m3 < 33:\n",
        "    remark = \"Re-exam required ❌\"\n",
        "else:\n",
        "    remark = \"Pass ✅\"\n",
        "\n",
        "# Step 5: Final Output\n",
        "print(f\"{name} — Total: {total}, Average: {average_rounded}, Grade: {grade}, Status: {remark}\")\n"
      ],
      "metadata": {
        "id": "eDTzYN9X5YMi",
        "outputId": "7ee9b261-7cc3-4be6-fcf3-24df0747ddf1",
        "colab": {
          "base_uri": "https://localhost:8080/"
        }
      },
      "execution_count": null,
      "outputs": [
        {
          "output_type": "stream",
          "name": "stdout",
          "text": [
            "Enter student name: Mainuddin\n",
            "Enter marks for Subject 1: 82\n",
            "Enter marks for Subject 2: 65\n",
            "Enter marks for Subject 3: 72\n",
            "Mainuddin — Total: 219.0, Average: 73.0, Grade: B, Status: Pass ✅\n"
          ]
        }
      ]
    },
    {
      "cell_type": "markdown",
      "source": [
        "# 💡 5. Best Practices\n"
      ],
      "metadata": {
        "id": "iPfYQSnx0cF9"
      }
    },
    {
      "cell_type": "markdown",
      "source": [
        "✅ Use Descriptive Variable Names:"
      ],
      "metadata": {
        "id": "PukyM4_v0fqt"
      }
    },
    {
      "cell_type": "code",
      "source": [
        "age = 25  # ✅ Good\n",
        "a = 25    # ❌ Avoid if possible"
      ],
      "metadata": {
        "id": "c9YtIOHhzi7K"
      },
      "execution_count": null,
      "outputs": []
    },
    {
      "cell_type": "markdown",
      "source": [
        "✅ Comment Your Code:"
      ],
      "metadata": {
        "id": "_7bdcvmY0mIX"
      }
    },
    {
      "cell_type": "code",
      "source": [
        "# Check if number is even\n",
        "if number % 2 == 0:\n",
        "    print(\"Even\")"
      ],
      "metadata": {
        "colab": {
          "base_uri": "https://localhost:8080/"
        },
        "id": "zdm-tnMz0jHO",
        "outputId": "177a6321-1f8e-41b8-8f03-1a8b775f428d"
      },
      "execution_count": null,
      "outputs": [
        {
          "output_type": "stream",
          "name": "stdout",
          "text": [
            "Even\n"
          ]
        }
      ]
    },
    {
      "cell_type": "markdown",
      "source": [
        "✅ Group Conditions Logically:"
      ],
      "metadata": {
        "id": "kVyVEKv30sew"
      }
    },
    {
      "cell_type": "code",
      "source": [
        "#Use parentheses to make complex logic clear.\n",
        "if (age >= 18 and age <= 60) or is_student:\n",
        "    print(\"Valid\")"
      ],
      "metadata": {
        "colab": {
          "base_uri": "https://localhost:8080/"
        },
        "id": "9UjHs8-S0pzh",
        "outputId": "a77e6b3e-6d9d-4fa5-9dcf-be39bf5c813f"
      },
      "execution_count": null,
      "outputs": [
        {
          "output_type": "stream",
          "name": "stdout",
          "text": [
            "Valid\n"
          ]
        }
      ]
    },
    {
      "cell_type": "markdown",
      "source": [
        "✅ Avoid Magic Numbers:\n",
        "Use constants or variables for better readability."
      ],
      "metadata": {
        "id": "cvF97Xrb049X"
      }
    },
    {
      "cell_type": "markdown",
      "source": [
        "# HackerRank:\n",
        "✅Day 2: Operators of 30Days."
      ],
      "metadata": {
        "id": "mM1zgJNW2IZZ"
      }
    },
    {
      "cell_type": "code",
      "source": [
        "#!/bin/python3\n",
        "\n",
        "import math\n",
        "import os\n",
        "import random\n",
        "import re\n",
        "import sys\n",
        "\n",
        "#\n",
        "# Complete the 'solve' function below.\n",
        "#\n",
        "# The function accepts following parameters:\n",
        "#  1. DOUBLE meal_cost\n",
        "#  2. INTEGER tip_percent\n",
        "#  3. INTEGER tax_percent\n",
        "#\n",
        "\n",
        "def solve(meal_cost, tip_percent, tax_percent):\n",
        "    # Write your code here\n",
        "    tip = meal_cost * tip_percent / 100\n",
        "    tax = meal_cost * tax_percent / 100\n",
        "    total_cost = meal_cost + tip + tax\n",
        "    print(round(total_cost))  # ✅ Print instead of return\n",
        "\n",
        "if __name__ == '__main__':\n",
        "    meal_cost = float(input().strip())\n",
        "    tip_percent = int(input().strip())\n",
        "    tax_percent = int(input().strip())\n",
        "    solve(meal_cost, tip_percent, tax_percent)\n"
      ],
      "metadata": {
        "id": "5POAL9Pr02xm"
      },
      "execution_count": null,
      "outputs": []
    },
    {
      "cell_type": "markdown",
      "source": [
        "# 5) Resources (free, beginner-friendly)\n",
        "\n",
        "Try these short videos/articles to reinforce the examples above:\n",
        "- •\tReal Python — Operators and Expressions in Python (clear explanations + cheat sheet). (Real Python)\n",
        "- •\tProgramiz — Python Operators (with examples) (simple, beginner examples). (Programiz)\n",
        "- •\tfreeCodeCamp — Python for Beginners (full course / practice videos) — great for following along with code. (FreeCodeCamp)\n",
        "- •\tCorey Schafer — Python tutorial playlist (short focused videos on basics & operators). (YouTube)\n",
        "- •\tW3Schools — quick reference: Python Operators (handy cheat-sheet). (W3Schools)\n",
        "**(Watch 1–2 short clips first — then code along. These are reliable beginner resources.)**\n"
      ],
      "metadata": {
        "id": "FvZOBTwCLcJw"
      }
    },
    {
      "cell_type": "markdown",
      "source": [
        "# 6) LinkedIn Post Idea (1 short post)\n",
        "- “Day 2 of my Python journey: learned how to use operators — arithmetic, comparison, and logical operators — to make my programs do things. Built a small BMI calculator and a simple grade calculator. Small steps every day! #Python #100DaysOfCode #Learning”\n",
        "- (Attach a screenshot of your code/output.)\n"
      ],
      "metadata": {
        "id": "6UOuBffIL5PO"
      }
    },
    {
      "cell_type": "code",
      "source": [],
      "metadata": {
        "id": "edIkA0bqLmjL"
      },
      "execution_count": null,
      "outputs": []
    }
  ]
}
