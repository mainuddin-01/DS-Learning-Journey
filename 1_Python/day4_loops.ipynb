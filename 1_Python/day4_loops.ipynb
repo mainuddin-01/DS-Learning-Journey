{
  "nbformat": 4,
  "nbformat_minor": 0,
  "metadata": {
    "colab": {
      "provenance": [],
      "authorship_tag": "ABX9TyNq4/zq/41BeTSQKTcZ8Nmv",
      "include_colab_link": true
    },
    "kernelspec": {
      "name": "python3",
      "display_name": "Python 3"
    },
    "language_info": {
      "name": "python"
    }
  },
  "cells": [
    {
      "cell_type": "markdown",
      "metadata": {
        "id": "view-in-github",
        "colab_type": "text"
      },
      "source": [
        "<a href=\"https://colab.research.google.com/github/mainuddin-01/DS-Learning-Journey/blob/main/day4_loops.ipynb\" target=\"_parent\"><img src=\"https://colab.research.google.com/assets/colab-badge.svg\" alt=\"Open In Colab\"/></a>"
      ]
    },
    {
      "cell_type": "markdown",
      "source": [
        "# Day 04: Loops"
      ],
      "metadata": {
        "id": "ibYLb3UR0n1k"
      }
    },
    {
      "cell_type": "markdown",
      "source": [
        "Loop:\n",
        "- Loops let you repeat a block of code multiple times until a certain condition is reached.\n",
        "- TYPES OF LOOPS in PYTHON:\n",
        "  - 1. for\n",
        "  - 2. while\n",
        "  - 3. nested loops\n",
        "  - 4. break and continue (Loop Control Statements)"
      ],
      "metadata": {
        "id": "XzZ9abfE003W"
      }
    },
    {
      "cell_type": "markdown",
      "source": [
        "- •\tfor loop → used when you know how many times to repeat\n",
        "- •\twhile loop → used when you repeat until a condition is false\n",
        "- •\tbreak → Stop the iteration, exit the loop\n",
        "- • continue → Continue the iteration, but the iteration is skipped\n"
      ],
      "metadata": {
        "id": "Y2rYqx8J1WIr"
      }
    },
    {
      "cell_type": "markdown",
      "source": [
        "# When to use loops:\n",
        "- When you need to do something repeatedly (e.g., process multiple students).\n",
        "- When working with lists, strings, or user input multiple times.\n"
      ],
      "metadata": {
        "id": "c5zaAnDSDyL_"
      }
    },
    {
      "cell_type": "markdown",
      "source": [
        "# for loop:\n",
        "- Runs a block of code for each item in a sequence (range, list, string).\n",
        "\n",
        "Syntax:\n",
        "- for variable in sequence:\n",
        "  -   code block\n"
      ],
      "metadata": {
        "id": "FVBqbo7S2c6A"
      }
    },
    {
      "cell_type": "code",
      "source": [
        "for i in range(5):\n",
        "  print(i)"
      ],
      "metadata": {
        "colab": {
          "base_uri": "https://localhost:8080/"
        },
        "id": "2ELbQ9d25cXJ",
        "outputId": "44ee8a9e-4d60-4ee8-8147-e8cdbde7ae0e"
      },
      "execution_count": null,
      "outputs": [
        {
          "output_type": "stream",
          "name": "stdout",
          "text": [
            "0\n",
            "1\n",
            "2\n",
            "3\n",
            "4\n"
          ]
        }
      ]
    },
    {
      "cell_type": "code",
      "source": [
        "count = 0\n",
        "while count <= 4:\n",
        "  print(count)\n",
        "  count += 1"
      ],
      "metadata": {
        "colab": {
          "base_uri": "https://localhost:8080/"
        },
        "id": "uhe9Hc_85oFz",
        "outputId": "ff67c233-7007-4eb2-f275-b9fdc1c5cb8e"
      },
      "execution_count": null,
      "outputs": [
        {
          "output_type": "stream",
          "name": "stdout",
          "text": [
            "0\n",
            "1\n",
            "2\n",
            "3\n",
            "4\n"
          ]
        }
      ]
    },
    {
      "cell_type": "markdown",
      "source": [
        "When to use:\n",
        "- •\tfor loop → iterating over lists, strings, ranges\n",
        "- •\twhile loop → repeating until a condition is met (e.g., wait until user enters correct password)\n"
      ],
      "metadata": {
        "id": "lOYKSixn5_sd"
      }
    },
    {
      "cell_type": "code",
      "execution_count": null,
      "metadata": {
        "colab": {
          "base_uri": "https://localhost:8080/"
        },
        "id": "x0-UoPsrt5s0",
        "outputId": "484c374b-d5e1-4bd8-dd09-1c0a370ef41b"
      },
      "outputs": [
        {
          "output_type": "stream",
          "name": "stdout",
          "text": [
            "The Character is:  P\n",
            "The Character is:  Y\n",
            "The Character is:  T\n",
            "The Character is:  H\n",
            "The Character is:  O\n",
            "The Character is:  N\n"
          ]
        }
      ],
      "source": [
        "for char in \"PYTHON\":\n",
        "    print(\"The Character is: \",char)\n"
      ]
    },
    {
      "cell_type": "markdown",
      "source": [
        "- for ==> Keyword or Iterator\n",
        "- char ==> Variable\n",
        "- in ==> Operator\n",
        "- \"PYTHON\" ==> String or Iterable\n",
        "- for char in \"PYTHON\": ==> Iteration(s)\n"
      ],
      "metadata": {
        "id": "V7y9ye7O3N5L"
      }
    },
    {
      "cell_type": "code",
      "source": [
        "course_list = [\"Big Data\", \"Hadoop\", \"Spark\", \"Scalar\"]\n",
        "for mylist in course_list:\n",
        "  print(f\"mylist: {mylist}\")  # Indentation matters"
      ],
      "metadata": {
        "colab": {
          "base_uri": "https://localhost:8080/"
        },
        "id": "KKNpWp8y3Kzu",
        "outputId": "ca93f94c-74e9-4653-c097-eb710355d24a"
      },
      "execution_count": null,
      "outputs": [
        {
          "output_type": "stream",
          "name": "stdout",
          "text": [
            "mylist: Big Data\n",
            "mylist: Hadoop\n",
            "mylist: Spark\n",
            "mylist: Scalar\n"
          ]
        }
      ]
    },
    {
      "cell_type": "code",
      "source": [
        "numbers = [6, 5, 3, 8, 4, 2, 5, 4, 11]\n",
        "Sum = 0\n",
        "for mysum in numbers:\n",
        "  Sum += mysum\n",
        "  print(f\"Sum: {Sum}\") # It will print for each iteration\n",
        "print(f\"Total Sum: {Sum}\")# Print at the last"
      ],
      "metadata": {
        "colab": {
          "base_uri": "https://localhost:8080/"
        },
        "id": "hOOUDVAW39Vp",
        "outputId": "2f3087a4-035c-431b-df3d-e6ddeeaab757"
      },
      "execution_count": null,
      "outputs": [
        {
          "output_type": "stream",
          "name": "stdout",
          "text": [
            "Sum: 6\n",
            "Sum: 11\n",
            "Sum: 14\n",
            "Sum: 22\n",
            "Sum: 26\n",
            "Sum: 28\n",
            "Sum: 33\n",
            "Sum: 37\n",
            "Sum: 48\n",
            "Total Sum: 48\n"
          ]
        }
      ]
    },
    {
      "cell_type": "code",
      "source": [
        "for num in [10,20,30,40,50]:\n",
        "    if num >=40:\n",
        "        print(\"Greater Than equal 40 is: \",num)\n",
        "    else:\n",
        "        print(\"Lesser Than 40 is: \",num)\n"
      ],
      "metadata": {
        "colab": {
          "base_uri": "https://localhost:8080/"
        },
        "id": "LnagcYS64hQv",
        "outputId": "b2003b99-57e2-45b4-b8a5-959e9e9633f9"
      },
      "execution_count": null,
      "outputs": [
        {
          "output_type": "stream",
          "name": "stdout",
          "text": [
            "Lesser Than 40 is:  10\n",
            "Lesser Than 40 is:  20\n",
            "Lesser Than 40 is:  30\n",
            "Greater Than equal 40 is:  40\n",
            "Greater Than equal 40 is:  50\n"
          ]
        }
      ]
    },
    {
      "cell_type": "code",
      "source": [
        "dataset = ['BigData', 'python', 'Deep Learning']\n",
        "for data in dataset:\n",
        "    print(data.upper())\n"
      ],
      "metadata": {
        "colab": {
          "base_uri": "https://localhost:8080/"
        },
        "id": "X6JelyWE40wV",
        "outputId": "91fdd157-f192-46e3-b3f6-2154e7196c42"
      },
      "execution_count": null,
      "outputs": [
        {
          "output_type": "stream",
          "name": "stdout",
          "text": [
            "BIGDATA\n",
            "PYTHON\n",
            "DEEP LEARNING\n"
          ]
        }
      ]
    },
    {
      "cell_type": "markdown",
      "source": [
        "\n",
        "# Range Controlled Loops:\n",
        "- Range Function\n",
        "  - It generates lists containing arithmetic  progression.\n",
        "  - It returns a list of consecutive integers.\n",
        "  - The function has one, two or three parameters where last two parameters are optional.\n",
        "  - It is widely used in for loops.\n"
      ],
      "metadata": {
        "id": "3HhXISzf6YlC"
      }
    },
    {
      "cell_type": "markdown",
      "source": [
        "3 variations of range() function:\n",
        "- range(stop)  - Starts from  O  till  (stop) - 1)\n",
        "- range(start,stop) - Ends at (stop) - 1)\n",
        "- range(start,stop,step) - Step can not be 0, default is  1\n",
        "\n",
        "Syntax:\n",
        "- range(a)\t\trange(a,b)\t\trange(a,b,c)\n",
        "\n",
        "range(a) :\n",
        "- Generates a sequence of numbers from 0 to a, excluding a, incrementing by 1.\n",
        "\n",
        "Syntax\n",
        "- for <variable> in range(<number>):"
      ],
      "metadata": {
        "id": "ilrGrx5t6lRc"
      }
    },
    {
      "cell_type": "code",
      "source": [
        "mylist = [1, 2, 3, 4]\n",
        "for i in range(len(mylist)):  # len(mylist)= 4\n",
        "  print(mylist[i])"
      ],
      "metadata": {
        "colab": {
          "base_uri": "https://localhost:8080/"
        },
        "id": "Tx4eCy7e45FG",
        "outputId": "64e3e602-c4eb-45d0-dbb0-2f6fd57736bd"
      },
      "execution_count": null,
      "outputs": [
        {
          "output_type": "stream",
          "name": "stdout",
          "text": [
            "1\n",
            "2\n",
            "3\n",
            "4\n"
          ]
        }
      ]
    },
    {
      "cell_type": "code",
      "source": [
        "print(range(10))#range(0, 10)\n",
        "print(list(range(10)))#[0, 1, 2, 3, 4, 5, 6, 7, 8, 9]\n",
        "print(tuple(range(10)))#(0, 1, 2, 3, 4, 5, 6, 7, 8, 9)\n",
        "print(set(range(10)))#{0, 1, 2, 3, 4, 5, 6, 7, 8, 9}\n",
        "print(frozenset(range(10)))#frozenset({0, 1, 2, 3, 4,5, 6, 7, 8, 9})"
      ],
      "metadata": {
        "colab": {
          "base_uri": "https://localhost:8080/"
        },
        "id": "nmmhvVVq7dgC",
        "outputId": "769c0efb-5800-4fcf-83f2-39225ad2c2d7"
      },
      "execution_count": null,
      "outputs": [
        {
          "output_type": "stream",
          "name": "stdout",
          "text": [
            "range(0, 10)\n",
            "[0, 1, 2, 3, 4, 5, 6, 7, 8, 9]\n",
            "(0, 1, 2, 3, 4, 5, 6, 7, 8, 9)\n",
            "{0, 1, 2, 3, 4, 5, 6, 7, 8, 9}\n",
            "frozenset({0, 1, 2, 3, 4, 5, 6, 7, 8, 9})\n"
          ]
        }
      ]
    },
    {
      "cell_type": "markdown",
      "source": [
        "# for loop with else clause\n",
        "- A for loop can have an optional else block as well.\n",
        "- he else part is executed if the items in the sequence used in for loop exhausts.\n",
        "- The break statement can be used to stop a for loop.\n",
        "- In such case, the else part is ignored."
      ],
      "metadata": {
        "id": "mPdGMBOM8TtO"
      }
    },
    {
      "cell_type": "code",
      "source": [
        "digits = [0, 1, 5, 7]\n",
        "for i in digits:\n",
        "    print(i)\n",
        "else:\n",
        "    print(\"No items left.\")"
      ],
      "metadata": {
        "colab": {
          "base_uri": "https://localhost:8080/"
        },
        "id": "wgQHea4j7sd8",
        "outputId": "e101f685-885a-4ef0-e803-a505c787a8a6"
      },
      "execution_count": null,
      "outputs": [
        {
          "output_type": "stream",
          "name": "stdout",
          "text": [
            "0\n",
            "1\n",
            "5\n",
            "7\n",
            "No items left.\n"
          ]
        }
      ]
    },
    {
      "cell_type": "markdown",
      "source": [
        "# while loop\n",
        "- Runs as long as a condition is True.\n",
        "\n",
        "Syntax:\n",
        "- while condition: # code block\n"
      ],
      "metadata": {
        "id": "_XWyJMjZDEI6"
      }
    },
    {
      "cell_type": "markdown",
      "source": [
        "# break\n",
        "- break → Immediately stops the loop.\n",
        "- To break out from a loop, you can use the keyword \"break\".\n"
      ],
      "metadata": {
        "id": "PfnzBweu82Pt"
      }
    },
    {
      "cell_type": "code",
      "source": [
        "for i in range(5):\n",
        "    if i==2:\n",
        "        break\n",
        "    print(i)\n",
        "else:\n",
        "    print('Iterated over everything :)')"
      ],
      "metadata": {
        "colab": {
          "base_uri": "https://localhost:8080/"
        },
        "id": "xxn2db1m9YNu",
        "outputId": "e156876f-6b08-42de-88d7-bb72496b2bf4"
      },
      "execution_count": null,
      "outputs": [
        {
          "output_type": "stream",
          "name": "stdout",
          "text": [
            "0\n",
            "1\n"
          ]
        }
      ]
    },
    {
      "cell_type": "markdown",
      "source": [
        "# Continue\n",
        "- Skips the current iteration and moves to the next.\n",
        "- The continue statement is used to tell Python to skip the rest of the statements in the current loop block and to continue to the next iteration of the loop."
      ],
      "metadata": {
        "id": "QCtQ7rus9NwZ"
      }
    },
    {
      "cell_type": "code",
      "source": [
        "for i in range(5):\n",
        "    if i==2:  # This iteration will not display\n",
        "        continue\n",
        "    print(i)\n",
        "else:\n",
        "    print('Iterated over everything :)')"
      ],
      "metadata": {
        "colab": {
          "base_uri": "https://localhost:8080/"
        },
        "id": "q0eaM2bJ8qJp",
        "outputId": "5f49c7b7-868f-4a03-ac43-0e8aaf900b56"
      },
      "execution_count": null,
      "outputs": [
        {
          "output_type": "stream",
          "name": "stdout",
          "text": [
            "0\n",
            "1\n",
            "3\n",
            "4\n",
            "Iterated over everything :)\n"
          ]
        }
      ]
    },
    {
      "cell_type": "markdown",
      "source": [
        "# Python while Loop Statements:\n",
        "- while Loop is used to execute number of statements or body till the condition passed in while is true.\n",
        "- Once the condition is false, the control will come out of the loop."
      ],
      "metadata": {
        "id": "XGNUkoHt9twt"
      }
    },
    {
      "cell_type": "code",
      "source": [
        "x=1\n",
        "while x<=5:\n",
        "    print(x)\n",
        "    x=x+1\n",
        "print(\"loop Finished\")"
      ],
      "metadata": {
        "colab": {
          "base_uri": "https://localhost:8080/"
        },
        "id": "2DqwpC1n9eFX",
        "outputId": "6812d1be-0195-4660-a76c-c34816a3f2a3"
      },
      "execution_count": null,
      "outputs": [
        {
          "output_type": "stream",
          "name": "stdout",
          "text": [
            "1\n",
            "2\n",
            "3\n",
            "4\n",
            "5\n",
            "loop Finished\n"
          ]
        }
      ]
    },
    {
      "cell_type": "markdown",
      "source": [
        "# 2️⃣ Code Examples"
      ],
      "metadata": {
        "id": "cVh_RNniEBeW"
      }
    },
    {
      "cell_type": "markdown",
      "source": [
        "Example A — Print 1 to 5 using for loop"
      ],
      "metadata": {
        "id": "PVxEMC5nEHaV"
      }
    },
    {
      "cell_type": "code",
      "source": [
        "for i in range(1, 6):\n",
        "  print(i)\n",
        "\n",
        "# Explanation: range(1, 6) generates numbers 1 to 5.\n",
        "# Loop prints each number one by one.\n"
      ],
      "metadata": {
        "colab": {
          "base_uri": "https://localhost:8080/"
        },
        "id": "uoVUu4tu97V-",
        "outputId": "4d2dd963-a1d4-45d7-837a-110963466c60"
      },
      "execution_count": null,
      "outputs": [
        {
          "output_type": "stream",
          "name": "stdout",
          "text": [
            "1\n",
            "2\n",
            "3\n",
            "4\n",
            "5\n"
          ]
        }
      ]
    },
    {
      "cell_type": "markdown",
      "source": [
        "Example B — Sum of first N numbers using while loop"
      ],
      "metadata": {
        "id": "GZj-Ts4MEj51"
      }
    },
    {
      "cell_type": "code",
      "source": [
        "n = int(input(\"Enter a number: \"))\n",
        "total = 0\n",
        "i = 1\n",
        "\n",
        "while i <= n:\n",
        "    total += i\n",
        "    i += 1  # increment to avoid infinite loop\n",
        "\n",
        "print(\"Sum of numbers from 1 to\", n, \"is\", total)\n",
        "\n",
        "# Explanation: While loop continues until i becomes greater than n.\n",
        "# We manually increase i each time to avoid infinite looping.\n"
      ],
      "metadata": {
        "colab": {
          "base_uri": "https://localhost:8080/"
        },
        "id": "FTaGVkdkEPI6",
        "outputId": "ed8b9bd9-0c85-4d93-e092-c61728b58ea8"
      },
      "execution_count": null,
      "outputs": [
        {
          "output_type": "stream",
          "name": "stdout",
          "text": [
            "Enter a number: 7\n",
            "Sum of numbers from 1 to 7 is 28\n"
          ]
        }
      ]
    },
    {
      "cell_type": "markdown",
      "source": [
        "Example C — break and continue"
      ],
      "metadata": {
        "id": "sa7WLRCXFnfb"
      }
    },
    {
      "cell_type": "code",
      "source": [
        "for num in range(1, 11):\n",
        "    if num == 5:\n",
        "        print(\"Skipping 5\")\n",
        "        continue  # skip printing 5\n",
        "    if num == 8:\n",
        "        print(\"Breaking at 8\")\n",
        "        break     # stop loop completely\n",
        "    print(num)\n",
        "# Explanation:\n",
        "# •\tcontinue skips iteration when num==5.\n",
        "# •\tbreak stops loop entirely when num==8."
      ],
      "metadata": {
        "colab": {
          "base_uri": "https://localhost:8080/"
        },
        "id": "1ecmSEiUFGdp",
        "outputId": "e86269fd-21b8-4b46-ba03-401213d2b57e"
      },
      "execution_count": null,
      "outputs": [
        {
          "output_type": "stream",
          "name": "stdout",
          "text": [
            "1\n",
            "2\n",
            "3\n",
            "4\n",
            "Skipping 5\n",
            "6\n",
            "7\n",
            "Breaking at 8\n"
          ]
        }
      ]
    },
    {
      "cell_type": "markdown",
      "source": [
        "# 3️⃣ Practice Exercises"
      ],
      "metadata": {
        "id": "1_Jl2BUQG9yw"
      }
    },
    {
      "cell_type": "markdown",
      "source": [
        "1.\tCount Down — Input a number N, print numbers from N to 1 using a while loop."
      ],
      "metadata": {
        "id": "sggU-RbXHDMv"
      }
    },
    {
      "cell_type": "code",
      "source": [
        "# Count Down using while loop\n",
        "\n",
        "N = int(input(\"Enter a number: \"))\n",
        "while N >= 1:\n",
        "  print(N)\n",
        "  N -= 1\n",
        "print(\"Program Successfully\")\n",
        "\n"
      ],
      "metadata": {
        "id": "YzC1KgPJGjY-",
        "colab": {
          "base_uri": "https://localhost:8080/"
        },
        "outputId": "e4d215f9-260e-4687-abd0-32794ca813a1"
      },
      "execution_count": 1,
      "outputs": [
        {
          "output_type": "stream",
          "name": "stdout",
          "text": [
            "Enter a number: 5\n",
            "5\n",
            "4\n",
            "3\n",
            "2\n",
            "1\n",
            "Program Successfully\n"
          ]
        }
      ]
    },
    {
      "cell_type": "markdown",
      "source": [
        "2.\tMultiplication Table — Print multiplication table of any number (1 to 10)."
      ],
      "metadata": {
        "id": "m8-dsYWORRDp"
      }
    },
    {
      "cell_type": "code",
      "source": [
        "table = int(input(\"Enter any number: \"))\n",
        "for i in range(1, 11):\n",
        "  print(f\"{table} * {i} = {table * i}\")\n",
        "print(\"Table Completed\")"
      ],
      "metadata": {
        "colab": {
          "base_uri": "https://localhost:8080/"
        },
        "id": "Ju7YRxq0P332",
        "outputId": "032290d1-fc6b-4ec0-9f58-153fda6a42e2"
      },
      "execution_count": null,
      "outputs": [
        {
          "output_type": "stream",
          "name": "stdout",
          "text": [
            "Enter any number: 12\n",
            "12 * 1 = 12\n",
            "12 * 2 = 24\n",
            "12 * 3 = 36\n",
            "12 * 4 = 48\n",
            "12 * 5 = 60\n",
            "12 * 6 = 72\n",
            "12 * 7 = 84\n",
            "12 * 8 = 96\n",
            "12 * 9 = 108\n",
            "12 * 10 = 120\n",
            "Table Completed\n"
          ]
        }
      ]
    },
    {
      "cell_type": "markdown",
      "source": [
        "3.\tFactorial Calculator — Input number, calculate factorial using for loop."
      ],
      "metadata": {
        "id": "fDtrJCduRxFd"
      }
    },
    {
      "cell_type": "code",
      "source": [
        "num = int(input(\"Enter a number: \"))\n",
        "factorial = 1\n",
        "for i in range(1, num + 1):\n",
        "  factorial *= i  # 5! = 5 * 4 * 3 * 2 * 1\n",
        "  print(f\"factorial: {factorial}\")\n",
        "print(f\"factorial of {num} is {factorial}\")"
      ],
      "metadata": {
        "colab": {
          "base_uri": "https://localhost:8080/"
        },
        "id": "jaRohBaFRp7v",
        "outputId": "bd11cd34-2615-4222-bb3d-db96964dc712"
      },
      "execution_count": null,
      "outputs": [
        {
          "output_type": "stream",
          "name": "stdout",
          "text": [
            "Enter a number: 4\n",
            "factorial: 1\n",
            "factorial: 2\n",
            "factorial: 6\n",
            "factorial: 24\n",
            "factorial of 4 is 24\n"
          ]
        }
      ]
    },
    {
      "cell_type": "markdown",
      "source": [
        "4.\tSum of Even Numbers — Between 1 and N."
      ],
      "metadata": {
        "id": "UdrsbScWUfGr"
      }
    },
    {
      "cell_type": "code",
      "source": [
        "num = int(input(\"Enter a number: \"))\n",
        "sum = 0\n",
        "for i in range(1, num+1):\n",
        "  if i % 2 == 0: # Detect even numbers\n",
        "    sum += i\n",
        "    print(sum, end=\" \")\n",
        "print(f\"\\nSum of even numbers is: {sum}\")"
      ],
      "metadata": {
        "colab": {
          "base_uri": "https://localhost:8080/"
        },
        "id": "Vmbi2xv3SPAl",
        "outputId": "f29970cc-a203-430e-ffcb-834c1d11fbe6"
      },
      "execution_count": null,
      "outputs": [
        {
          "output_type": "stream",
          "name": "stdout",
          "text": [
            "Enter a number: 10\n",
            "2 6 12 20 30 \n",
            "Sum of even numbers is: 30\n"
          ]
        }
      ]
    },
    {
      "cell_type": "markdown",
      "source": [
        "5.\tReverse a String — Input string, print reversed string using a loop."
      ],
      "metadata": {
        "id": "Y1BLFzpiXgYf"
      }
    },
    {
      "cell_type": "code",
      "source": [
        "# input from user\n",
        "mystr = input(\"Enter a string: \")\n",
        "reversed_str =\"\"\n",
        "for char in mystr:\n",
        "  reversed_str = char + reversed_str\n",
        "print(reversed_str)"
      ],
      "metadata": {
        "colab": {
          "base_uri": "https://localhost:8080/"
        },
        "id": "1uwkcFSQVmzQ",
        "outputId": "9b49060e-e949-4c9d-9cd4-4a0399656b94"
      },
      "execution_count": null,
      "outputs": [
        {
          "output_type": "stream",
          "name": "stdout",
          "text": [
            "Enter a string: moin\n",
            "niom\n"
          ]
        }
      ]
    },
    {
      "cell_type": "markdown",
      "source": [
        "6.\tPrime Number Check — Determine if a number is prime using a loop."
      ],
      "metadata": {
        "id": "kLI4zowkdYyH"
      }
    },
    {
      "cell_type": "code",
      "source": [
        "# Prime Number Check\n",
        "\n",
        "# Input number from user\n",
        "num = int(input(\"Enter a number: \"))\n",
        "\n",
        "# Assume number is prime initially\n",
        "is_prime = True\n",
        "\n",
        "# Prime numbers are greater than 1\n",
        "if num <= 1:\n",
        "    is_prime = False\n",
        "else:\n",
        "    # Loop from 2 to num-1\n",
        "    for i in range(2, num):\n",
        "        if num % i == 0:\n",
        "            is_prime = False\n",
        "            print(\"Not Prime\")\n",
        "            break  # No need to check further if a divisor is found\n",
        "\n",
        "# Print result\n",
        "if is_prime:\n",
        "    print(f\"{num} is a Prime Number\")\n",
        "else:\n",
        "    print(f\"{num} is NOT a Prime Number\")\n"
      ],
      "metadata": {
        "colab": {
          "base_uri": "https://localhost:8080/"
        },
        "id": "HwAY00GHYbZp",
        "outputId": "d0117db2-ae4b-4a17-c40a-7535e90b5899"
      },
      "execution_count": 2,
      "outputs": [
        {
          "output_type": "stream",
          "name": "stdout",
          "text": [
            "Enter a number: 4\n",
            "Not Prime\n",
            "4 is NOT a Prime Number\n"
          ]
        }
      ]
    },
    {
      "cell_type": "markdown",
      "source": [
        "7.\tNumber Guessing Game — Program randomly selects a number 1–50, user guesses until correct (hint: use while + break)."
      ],
      "metadata": {
        "id": "wf6vBHYufKVz"
      }
    },
    {
      "cell_type": "code",
      "source": [
        "guess_number = int(input(\"Enter a number(1-50): \"))\n",
        "correct_number = 42\n",
        "while guess_number <= 50:\n",
        "  if guess_number == correct_number:\n",
        "    print(\"Guess is correct\")\n",
        "    break\n",
        "  else:\n",
        "    print(\"Guess is not correct\")\n",
        "    break\n",
        "else:\n",
        "  print(\"Guess is out of range\")"
      ],
      "metadata": {
        "colab": {
          "base_uri": "https://localhost:8080/"
        },
        "id": "F4_JWhyvetwG",
        "outputId": "eca3d22b-e341-4099-9b0a-d985867b49df"
      },
      "execution_count": null,
      "outputs": [
        {
          "output_type": "stream",
          "name": "stdout",
          "text": [
            "Enter a number(1-50): 42\n",
            "Guess is correct\n"
          ]
        }
      ]
    },
    {
      "cell_type": "markdown",
      "source": [
        "8.\tList Processor (Bonus) — Take a list of numbers, print only positive numbers using a loop."
      ],
      "metadata": {
        "id": "tMdgDia1hT0A"
      }
    },
    {
      "cell_type": "code",
      "source": [
        "# List Processor - Print Only Positive Numbers\n",
        "\n",
        "# Take input numbers one by one\n",
        "n = int(input(\"How many numbers you want to enter? \"))\n",
        "\n",
        "print(\"Enter\", n, \"numbers:\")\n",
        "positives = []\n",
        "\n",
        "for i in range(n):\n",
        "    num = int(input())\n",
        "    if num > 0:\n",
        "        print(num)        # Print if positive\n",
        "        positives.append(num)  # (Optional) store positive numbers\n",
        "\n",
        "print(\"Done!\")\n"
      ],
      "metadata": {
        "id": "xW8UvjjOgVWh"
      },
      "execution_count": null,
      "outputs": []
    },
    {
      "cell_type": "markdown",
      "source": [
        "# 4️⃣ Mini Project / Task — Student Report Card CLI (Loop Upgrade)"
      ],
      "metadata": {
        "id": "vFfU6oEWBs_s"
      }
    },
    {
      "cell_type": "markdown",
      "source": [
        "Extend your Student Report Card CLI (from Day 5):\n",
        "- Use a for loop to process multiple students.\n",
        "- Ask user how many students to enter.\n",
        "- Store each student’s result in a CSV file (reports.csv).\n",
        "- After entering data for all students, print a summary:\n",
        "  - Total students\n",
        "  - Number passed\n",
        "  - Number failed\n",
        "- (Optional) Add menu:\n",
        "  - 1. Add Students\n",
        "  - 2. View Reports\n",
        "  - 3. Exit\n",
        "- Why this helps:\n",
        "  - Removes repetitive code by looping through multiple students.\n",
        "  - Introduces basic data collection (foundation for file handling & lists later).\n"
      ],
      "metadata": {
        "id": "kBuImY7TBy79"
      }
    },
    {
      "cell_type": "markdown",
      "source": [
        "🔧 Updated Student Report Card CLI (Loops Version)\n",
        "\n",
        "✅ Changes to include (without going beyond loops):\n",
        "\n",
        "- Use a for loop to process multiple students.\n",
        "\n",
        "- Ask user: \"How many students?\"\n",
        "\n",
        "- Store each student's data in a list (not CSV yet — because file handling comes later).\n",
        "\n",
        "- After loop ends, use counters to print:\n",
        "\n",
        "  - Total students\n",
        "\n",
        "  - Number passed\n",
        "\n",
        "  - Number failed\n",
        "\n",
        "\n",
        "⚠️ Skip for now:\n",
        "\n",
        "- Writing to CSV file\n",
        "\n",
        "- Menu system with “View Reports”\n",
        "\n",
        "\n",
        "These will come when you learn:\n",
        "\n",
        "- File Handling → then we add CSV writing/reading.\n",
        "\n",
        "- Functions → then we add menu-driven program"
      ],
      "metadata": {
        "id": "EQmoscTZbPum"
      }
    },
    {
      "cell_type": "code",
      "source": [
        "print(\"----- Student Report Card -----\")\n",
        "students = []  # list to store all students' data\n",
        "\n",
        "# Ask how many students\n",
        "n = int(input(\"Enter number of students: \"))\n",
        "\n",
        "passed_count = 0\n",
        "failed_count = 0\n",
        "\n",
        "for i in range(n):\n",
        "    print(f\"\\nEntering data for Student {i+1}:\")\n",
        "    name = input(\"Enter Student Name: \")\n",
        "\n",
        "    # Input marks for 5 subjects\n",
        "    print(\"Enter marks for 5 subjects (0-100):\")\n",
        "    math = int(input(\"Math: \"))\n",
        "    science = int(input(\"Science: \"))\n",
        "    english = int(input(\"English: \"))\n",
        "    social = int(input(\"Social: \"))\n",
        "    computer = int(input(\"Computer: \"))\n",
        "\n",
        "    total = math + science + english + social + computer\n",
        "    percentage = total / 5\n",
        "\n",
        "    # Grade calculation using if-elif-else\n",
        "    if percentage >= 90:\n",
        "        grade = \"A+\"\n",
        "    elif percentage >= 75:\n",
        "        grade = \"A\"\n",
        "    elif percentage >= 60:\n",
        "        grade = \"B\"\n",
        "    elif percentage >= 40:\n",
        "        grade = \"C\"\n",
        "    else:\n",
        "        grade = \"F\"\n",
        "\n",
        "    # Check pass/fail\n",
        "    if math < 40 or science < 40 or english < 40 or social < 40 or computer < 40:\n",
        "        result = \"Fail\"\n",
        "        failed_count += 1\n",
        "    else:\n",
        "        result = \"Pass\"\n",
        "        passed_count += 1\n",
        "\n",
        "    students.append([name, total, percentage, grade, result])\n",
        "\n",
        "# Print summary\n",
        "print(\"\\n----- Summary -----\")\n",
        "print(\"Total Students:\", n)\n",
        "print(\"Passed:\", passed_count)\n",
        "print(\"Failed:\", failed_count)\n",
        "\n",
        "# Print all students data\n",
        "print(\"\\n----- All Students Report -----\")\n",
        "for student in students:\n",
        "    print(f\"Name: {student[0]}, Total: {student[1]}, %: {student[2]:.2f}, Grade: {student[3]}, Result: {student[4]}\")\n"
      ],
      "metadata": {
        "colab": {
          "base_uri": "https://localhost:8080/"
        },
        "id": "Jnk2_RSXBvgH",
        "outputId": "d76a652b-ece4-4935-87ae-0c901e06094c"
      },
      "execution_count": 1,
      "outputs": [
        {
          "output_type": "stream",
          "name": "stdout",
          "text": [
            "----- Student Report Card -----\n",
            "Enter number of students: 1\n",
            "\n",
            "Entering data for Student 1:\n",
            "Enter Student Name: Moin\n",
            "Enter marks for 5 subjects (0-100):\n",
            "Math: 45\n",
            "Science: 87\n",
            "English: 78\n",
            "Social: 98\n",
            "Computer: 78\n",
            "\n",
            "----- Summary -----\n",
            "Total Students: 1\n",
            "Passed: 1\n",
            "Failed: 0\n",
            "\n",
            "----- All Students Report -----\n",
            "Name: Moin, Total: 386, %: 77.20, Grade: A, Result: Pass\n"
          ]
        }
      ]
    }
  ]
}
