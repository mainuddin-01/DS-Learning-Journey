{
  "nbformat": 4,
  "nbformat_minor": 0,
  "metadata": {
    "colab": {
      "provenance": [],
      "authorship_tag": "ABX9TyNiA8vTw0rvJtM0bcWYbx9S",
      "include_colab_link": true
    },
    "kernelspec": {
      "name": "python3",
      "display_name": "Python 3"
    },
    "language_info": {
      "name": "python"
    }
  },
  "cells": [
    {
      "cell_type": "markdown",
      "metadata": {
        "id": "view-in-github",
        "colab_type": "text"
      },
      "source": [
        "<a href=\"https://colab.research.google.com/github/mainuddin-01/DS-Learning-Journey/blob/main/day5_list.ipynb\" target=\"_parent\"><img src=\"https://colab.research.google.com/assets/colab-badge.svg\" alt=\"Open In Colab\"/></a>"
      ]
    },
    {
      "cell_type": "markdown",
      "source": [
        "\n",
        "\n",
        "```\n",
        "# This is formatted as code\n",
        "```\n",
        "\n",
        "# 📅 Day 5 — Lists & Basic List Operations\n",
        "Lists:\n",
        "- collection\n",
        "- ordered and changeable\n",
        "- allowed duplicate members\n",
        "- enclosed in []\n",
        "- List --> Unhashable --> Mutable --> Read and Write\n",
        "- A list is an ordered, mutable collection of items in Python.\n",
        "- You can store numbers, strings, or even a mix of data types.\n"
      ],
      "metadata": {
        "id": "SJeRi6c3l8N4"
      }
    },
    {
      "cell_type": "markdown",
      "source": [
        "Syntax:\n",
        "- my_list = [1, 2, 3, 4]  # list of numbers\n",
        "- names = [\"Alice\", \"Bob\", \"Charlie\"]  # list of strings"
      ],
      "metadata": {
        "id": "GgQ4yWJ_nAHu"
      }
    },
    {
      "cell_type": "markdown",
      "source": [
        "# ✅ Key Operations:\n",
        "- Access Element: my_list[0] # (First Element)\n",
        "- Append --> my_list.append[5] # (add at end)\n",
        "- Insert --> my_list.insert(2, 99) # (adds at position 2)\n",
        "- Remove --> my_list.remove(3) # (Remove the first occurrance of 3)\n",
        "- Pop   ---> my_list.pop() # Remove ast item, return it)\n",
        "- Indexing & Slicing → my_list[1:3] # (gives sublist from index 1 to 2)\n",
        "- Length → len(my_list)\n"
      ],
      "metadata": {
        "id": "1ebyAxM4nwUQ"
      }
    },
    {
      "cell_type": "markdown",
      "source": [
        "# When to use?\n",
        "- To store multiple related values together.\n",
        "- When you need to dynamically add/remove elements during program execution.\n"
      ],
      "metadata": {
        "id": "zlw-7UjlnuU6"
      }
    },
    {
      "cell_type": "markdown",
      "source": [
        "# 🔑 Most Commonly Used List Operations in Python\n"
      ],
      "metadata": {
        "id": "CkLQtAX-rwv8"
      }
    },
    {
      "cell_type": "markdown",
      "source": [
        "1️⃣ Creating a List"
      ],
      "metadata": {
        "id": "SDKjDe7br09B"
      }
    },
    {
      "cell_type": "code",
      "source": [
        "my_list = [\"apple\", \"banana\", \"cherry\"]\n",
        "numbers = [1, 2, 3, 4]\n",
        "mixed = [1, \"hello\", 3.14]\n",
        "print(my_list)\n",
        "print(numbers)\n",
        "print(mixed)"
      ],
      "metadata": {
        "colab": {
          "base_uri": "https://localhost:8080/"
        },
        "id": "1fk3swsGr50w",
        "outputId": "cf1d46d3-a3b8-4eff-cdb2-e5310247a110"
      },
      "execution_count": null,
      "outputs": [
        {
          "output_type": "stream",
          "name": "stdout",
          "text": [
            "['apple', 'banana', 'cherry']\n",
            "[1, 2, 3, 4]\n",
            "[1, 'hello', 3.14]\n"
          ]
        }
      ]
    },
    {
      "cell_type": "markdown",
      "source": [
        "2️⃣ Accessing Elements"
      ],
      "metadata": {
        "id": "3wHZMhp2sJut"
      }
    },
    {
      "cell_type": "code",
      "source": [
        "print(my_list[0])\n",
        "print(numbers[1])\n",
        "print(mixed[-1])"
      ],
      "metadata": {
        "colab": {
          "base_uri": "https://localhost:8080/"
        },
        "id": "JCkS6QI3sNc3",
        "outputId": "88b55cbf-addf-4365-fa29-3b44ef805aec"
      },
      "execution_count": null,
      "outputs": [
        {
          "output_type": "stream",
          "name": "stdout",
          "text": [
            "apple\n",
            "2\n",
            "3.14\n"
          ]
        }
      ]
    },
    {
      "cell_type": "markdown",
      "source": [
        "3️⃣ Adding Elements"
      ],
      "metadata": {
        "id": "1Wi7fKhAsdLr"
      }
    },
    {
      "cell_type": "code",
      "source": [
        "my_list.append('Dates') # Add element to last\n",
        "numbers.insert(2, 5)  # Add elemnet to the specific index\n",
        "print(my_list)\n",
        "print(numbers)\n",
        "numbers.extend(my_list)# Add multiple elements\n"
      ],
      "metadata": {
        "colab": {
          "base_uri": "https://localhost:8080/"
        },
        "id": "hlXYKEFxshQU",
        "outputId": "015fec58-2aef-4889-d9c7-4f1a1e6007f2"
      },
      "execution_count": null,
      "outputs": [
        {
          "output_type": "stream",
          "name": "stdout",
          "text": [
            "['apple', 'banana', 'cherry', 'Dates', 1, 2, 5, 3, 4, 'Dates', 1, 2, 5, 5, 3, 4, 'Dates', 'Dates', 'Dates', 'Dates']\n",
            "[1, 2, 5, 5, 5, 5, 5, 5, 3, 4, 'apple', 'banana', 'cherry', 'Dates', 1, 2, 5, 3, 4, 'Dates', 1, 2, 5, 5, 3, 4, 'Dates', 'Dates', 'Dates']\n"
          ]
        }
      ]
    },
    {
      "cell_type": "markdown",
      "source": [
        "4️⃣ Removing Elements"
      ],
      "metadata": {
        "id": "-EM9yallttcR"
      }
    },
    {
      "cell_type": "code",
      "source": [
        "numbers.remove(3)   # Removes first occurrence of 99\n",
        "numbers.pop()        # Removes last element\n",
        "numbers.pop(1)       # Removes element at index 1\n",
        "numbers.clear()      # Removes all elements (makes list empty)\n",
        "print(my_list)\n",
        "print(numbers)"
      ],
      "metadata": {
        "colab": {
          "base_uri": "https://localhost:8080/"
        },
        "id": "owhLCvL7tzyx",
        "outputId": "0d172e26-b163-40fc-bebf-8fe8b2b29457"
      },
      "execution_count": null,
      "outputs": [
        {
          "output_type": "stream",
          "name": "stdout",
          "text": [
            "[]\n",
            "[]\n"
          ]
        }
      ]
    },
    {
      "cell_type": "markdown",
      "source": [
        "5️⃣ Updating Elements"
      ],
      "metadata": {
        "id": "LAKZDbyMvq2x"
      }
    },
    {
      "cell_type": "code",
      "source": [
        "numbers = [1, 2, 3, 4]\n",
        "numbers[1] = 99\n",
        "print(numbers)"
      ],
      "metadata": {
        "colab": {
          "base_uri": "https://localhost:8080/"
        },
        "id": "by053yxHxnG5",
        "outputId": "512f5b07-cdb5-4d86-8719-e65f843b01dd"
      },
      "execution_count": null,
      "outputs": [
        {
          "output_type": "stream",
          "name": "stdout",
          "text": [
            "[1, 99, 3, 4]\n"
          ]
        }
      ]
    },
    {
      "cell_type": "markdown",
      "source": [
        "6️⃣ Searching / Checking"
      ],
      "metadata": {
        "id": "d3GOWU0gx3HX"
      }
    },
    {
      "cell_type": "code",
      "source": [
        "numbers = [1, 2, 3, 4, 5]\n",
        "print(3 in numbers)     # True (checks if element exists)\n",
        "print(numbers.index(4)) # Returns index of first 4\n",
        "print(numbers.count(2)) # Counts how many times 2 appears\n"
      ],
      "metadata": {
        "colab": {
          "base_uri": "https://localhost:8080/"
        },
        "id": "AmuP9clfyAOU",
        "outputId": "e19891a7-2d04-4d80-e0b3-2d63bcb9fbee"
      },
      "execution_count": null,
      "outputs": [
        {
          "output_type": "stream",
          "name": "stdout",
          "text": [
            "True\n",
            "3\n",
            "1\n"
          ]
        }
      ]
    },
    {
      "cell_type": "markdown",
      "source": [
        "7️⃣ Sorting & Reversing"
      ],
      "metadata": {
        "id": "_ADTJs94yHXy"
      }
    },
    {
      "cell_type": "code",
      "source": [
        "numbers = [4, 2, 9, 1, 7]\n",
        "numbers.sort()          # Sorts in ascending order\n",
        "numbers.sort(reverse=True) # Sorts in descending order\n",
        "numbers.reverse()       # Reverses the list order\n",
        "print(numbers)"
      ],
      "metadata": {
        "colab": {
          "base_uri": "https://localhost:8080/"
        },
        "id": "_5mWDKqLyRBz",
        "outputId": "3bd0e45f-9431-4246-a12d-bdf76b79e51d"
      },
      "execution_count": null,
      "outputs": [
        {
          "output_type": "stream",
          "name": "stdout",
          "text": [
            "[1, 2, 4, 7, 9]\n"
          ]
        }
      ]
    },
    {
      "cell_type": "markdown",
      "source": [
        "8️⃣ Slicing"
      ],
      "metadata": {
        "id": "VK8WBHbpyaaD"
      }
    },
    {
      "cell_type": "code",
      "source": [
        "numbers = [10, 20, 30, 40, 50]\n",
        "print(numbers[1:4])   # [20, 30, 40]\n",
        "print(numbers[:3])    # [10, 20, 30] (from start)\n",
        "print(numbers[2:])    # [30, 40, 50] (till end)\n",
        "print(numbers[::-1])  # Reverse list\n"
      ],
      "metadata": {
        "colab": {
          "base_uri": "https://localhost:8080/"
        },
        "id": "_BIkmN6UyeiB",
        "outputId": "59a07e50-b258-4d8c-9202-bd76b6c0074f"
      },
      "execution_count": null,
      "outputs": [
        {
          "output_type": "stream",
          "name": "stdout",
          "text": [
            "[20, 30, 40]\n",
            "[10, 20, 30]\n",
            "[30, 40, 50]\n",
            "[50, 40, 30, 20, 10]\n"
          ]
        }
      ]
    },
    {
      "cell_type": "markdown",
      "source": [
        "9️⃣ Copying"
      ],
      "metadata": {
        "id": "yFLjSivEymKr"
      }
    },
    {
      "cell_type": "code",
      "source": [
        "new_list = numbers.copy()  # Creates a copy (safe way)\n",
        "print(new_list)"
      ],
      "metadata": {
        "colab": {
          "base_uri": "https://localhost:8080/"
        },
        "id": "nPuD25sFypWd",
        "outputId": "4584be3f-0b6a-4280-e96e-d863561832df"
      },
      "execution_count": null,
      "outputs": [
        {
          "output_type": "stream",
          "name": "stdout",
          "text": [
            "[10, 20, 30, 40, 50]\n"
          ]
        }
      ]
    },
    {
      "cell_type": "markdown",
      "source": [
        "🔟 Useful Built-in Functions"
      ],
      "metadata": {
        "id": "1OMdDuOTyxcw"
      }
    },
    {
      "cell_type": "code",
      "source": [
        "numbers = [10, 20, 5, 30]\n",
        "print(len(numbers))   # 4 (length)\n",
        "print(max(numbers))   # 30 (largest)\n",
        "print(min(numbers))   # 5 (smallest)\n",
        "print(sum(numbers))   # 65 (total sum)\n"
      ],
      "metadata": {
        "colab": {
          "base_uri": "https://localhost:8080/"
        },
        "id": "BeE_PvKDy1xq",
        "outputId": "262339a8-fe97-4d34-e946-9b91e79d18e4"
      },
      "execution_count": null,
      "outputs": [
        {
          "output_type": "stream",
          "name": "stdout",
          "text": [
            "4\n",
            "30\n",
            "5\n",
            "65\n"
          ]
        }
      ]
    },
    {
      "cell_type": "markdown",
      "source": [
        "- # 2️⃣ Code Examples\n"
      ],
      "metadata": {
        "id": "amBW2TVaE3G0"
      }
    },
    {
      "cell_type": "markdown",
      "source": [
        "Example A — Creating & Accessing Lists\n"
      ],
      "metadata": {
        "id": "n6JeWzmHE7ct"
      }
    },
    {
      "cell_type": "code",
      "execution_count": null,
      "metadata": {
        "id": "EXjvkPgrlZZu",
        "colab": {
          "base_uri": "https://localhost:8080/"
        },
        "outputId": "d4167919-cc8e-489c-b363-2eb2e7231d25"
      },
      "outputs": [
        {
          "output_type": "stream",
          "name": "stdout",
          "text": [
            "apple\n",
            "cherry\n"
          ]
        }
      ],
      "source": [
        "fruits = [\"apple\", \"banana\", \"cherry\"]\n",
        "print(fruits[0])   # apple\n",
        "print(fruits[-1])  # cherry (negative index = from end)\n"
      ]
    },
    {
      "cell_type": "markdown",
      "source": [
        "Example B — Adding & Removing Elements"
      ],
      "metadata": {
        "id": "kKzIqi1oFbvs"
      }
    },
    {
      "cell_type": "code",
      "source": [
        "numbers = [10, 20, 30]\n",
        "numbers.append(40)  # Used to add elemenrts\n",
        "numbers.insert(1,0.10)  # Used to insert an element at a specific index number\n",
        "numbers.remove(20)  # Used to remove element of first occurrance\n",
        "print(numbers)"
      ],
      "metadata": {
        "colab": {
          "base_uri": "https://localhost:8080/"
        },
        "id": "vUg-tLfkFHVq",
        "outputId": "4b6eaa00-367e-4a98-d5b3-8a2858d12c18"
      },
      "execution_count": null,
      "outputs": [
        {
          "output_type": "stream",
          "name": "stdout",
          "text": [
            "[10, 0.1, 30, 40]\n"
          ]
        }
      ]
    },
    {
      "cell_type": "markdown",
      "source": [
        "Example C — Looping Through Lists"
      ],
      "metadata": {
        "id": "QqsbPBtxGVwq"
      }
    },
    {
      "cell_type": "code",
      "source": [
        "friends = [\"Akash\", 'Bhuvnesh', 'Chetan', \"Dhavesh\"]\n",
        "for name in friends: # Used to do looping through list\n",
        "  print(\"Hello\", name)"
      ],
      "metadata": {
        "colab": {
          "base_uri": "https://localhost:8080/"
        },
        "id": "0thOf60XFss_",
        "outputId": "7b1256dd-d0a6-4a41-82e7-17f0cd5bdd16"
      },
      "execution_count": null,
      "outputs": [
        {
          "output_type": "stream",
          "name": "stdout",
          "text": [
            "Hello Akash\n",
            "Hello Bhuvnesh\n",
            "Hello Chetan\n",
            "Hello Dhavesh\n"
          ]
        }
      ]
    },
    {
      "cell_type": "markdown",
      "source": [
        "# 3️⃣ Practice Exercises\n",
        "- 1.\tCreate a list of 5 subjects, print them one by one using a for loop.\n",
        "\n"
      ],
      "metadata": {
        "id": "UL492MkpG04M"
      }
    },
    {
      "cell_type": "code",
      "source": [
        "subjects = [\"Algebra\", \"Geometry\", 'Calculus', 'Statistics', \"Probability\"]\n",
        "for subject in subjects:\n",
        "  print(subject)"
      ],
      "metadata": {
        "colab": {
          "base_uri": "https://localhost:8080/"
        },
        "id": "UOQhwB1tGpt4",
        "outputId": "a13aef65-f741-40c2-9f75-9332a43d6d75"
      },
      "execution_count": null,
      "outputs": [
        {
          "output_type": "stream",
          "name": "stdout",
          "text": [
            "Algebra\n",
            "Geometry\n",
            "Calculus\n",
            "Statistics\n",
            "Probability\n"
          ]
        }
      ]
    },
    {
      "cell_type": "markdown",
      "source": [
        "- 2.\tTake 5 numbers as input, store them in a list, print sum and average."
      ],
      "metadata": {
        "id": "HucnIWAPHZNK"
      }
    },
    {
      "cell_type": "code",
      "source": [
        "print(\"Take 5 numbers as a input: \")\n",
        "number = [] # Empty list to store numbers\n",
        "total_sum = 0 # Initialize to calculate the sum\n",
        "\n",
        "for i in range(5):\n",
        "  my_numbers = int(input(\"Enter 5 numbers: \")) # Take input from user\n",
        "  number.append(my_numbers)\n",
        "  total_sum += numbers #Add numbers\n",
        "  avg = total_sum / 5 # Calculate avera\n",
        "\n",
        "print(\"Sum: \", total_sum)\n",
        "print(\"Average: \", avg)\n",
        "print(\"Total numbers: \", number)"
      ],
      "metadata": {
        "colab": {
          "base_uri": "https://localhost:8080/"
        },
        "id": "XsAxXk3nJD93",
        "outputId": "f60e36c2-73be-408b-a89a-14b21bcb9cd6"
      },
      "execution_count": null,
      "outputs": [
        {
          "output_type": "stream",
          "name": "stdout",
          "text": [
            "Take 5 numbers as a input: \n",
            "Enter 5 numbers: 45\n",
            "Enter 5 numbers: 54\n",
            "Enter 5 numbers: 64\n",
            "Enter 5 numbers: 24\n",
            "Enter 5 numbers: 46\n",
            "Sum:  225\n",
            "Average:  45.0\n",
            "Total numbers:  [45, 54, 64, 24, 46]\n"
          ]
        }
      ]
    },
    {
      "cell_type": "markdown",
      "source": [
        "- 3.\tWrite a program to remove all negative numbers from a list."
      ],
      "metadata": {
        "id": "1owahJ6bLk3o"
      }
    },
    {
      "cell_type": "code",
      "source": [
        "# original list\n",
        "my_list = [1, -4, -7, 6, 86, -1]\n",
        "\n",
        "positives_list = [] # Positive list\n",
        "for num in my_list:\n",
        "  if num >= 0:\n",
        "    positives_list.append(num)\n",
        "print(\"Original list: \", my_list)\n",
        "print(\"Positive list: \", positives_list)"
      ],
      "metadata": {
        "colab": {
          "base_uri": "https://localhost:8080/"
        },
        "id": "GviVIKQXK9ph",
        "outputId": "f84f3b5d-6975-41ff-dd48-36dba356422c"
      },
      "execution_count": null,
      "outputs": [
        {
          "output_type": "stream",
          "name": "stdout",
          "text": [
            "Original list:  [1, -4, -7, 6, 86, -1]\n",
            "Positive list:  [1, 6, 86]\n"
          ]
        }
      ]
    },
    {
      "cell_type": "markdown",
      "source": [
        "- 4.\tFind the largest and smallest number in a list."
      ],
      "metadata": {
        "id": "LpqiQtXRN8gs"
      }
    },
    {
      "cell_type": "code",
      "source": [
        "# Program to find largest and smallest number in a list\n",
        "\n",
        "numbers = [12, 45, 7, 89, 34, 2, 67]\n",
        "\n",
        "#Assumption\n",
        "largest =numbers[0]\n",
        "smallest =numbers[0]\n",
        "\n",
        "for num in numbers:\n",
        "  if num > largest:\n",
        "    largest = num\n",
        "  elif num < smallest:\n",
        "    smallest = num\n",
        "\n",
        "print(\"Largest Number in List: \", largest)\n",
        "print(\"Smallest Number in List: \", smallest)"
      ],
      "metadata": {
        "colab": {
          "base_uri": "https://localhost:8080/"
        },
        "id": "SzZcNUkDMdD8",
        "outputId": "549864e3-04dd-460f-c61c-73409cc1bbba"
      },
      "execution_count": null,
      "outputs": [
        {
          "output_type": "stream",
          "name": "stdout",
          "text": [
            "Largest Number in List:  89\n",
            "Smallest Number in List:  2\n"
          ]
        }
      ]
    },
    {
      "cell_type": "code",
      "source": [
        "numbers = [12, 45, 7, 89, 34, 2, 67]\n",
        "print(\"Largest:\", max(numbers))\n",
        "print(\"Smallest:\", min(numbers))\n"
      ],
      "metadata": {
        "colab": {
          "base_uri": "https://localhost:8080/"
        },
        "id": "rR5NyHSzPEmk",
        "outputId": "3f6b20f1-750e-4057-a480-3bfb825c9cf7"
      },
      "execution_count": null,
      "outputs": [
        {
          "output_type": "stream",
          "name": "stdout",
          "text": [
            "Largest: 89\n",
            "Smallest: 2\n"
          ]
        }
      ]
    },
    {
      "cell_type": "markdown",
      "source": [
        "- 5.\tReverse a list without using reverse() (use slicing)."
      ],
      "metadata": {
        "id": "1XF7AFEnO2gw"
      }
    },
    {
      "cell_type": "code",
      "source": [
        "# Program to reverse a list without using reverse()\n",
        "\n",
        "numbers = [1, 2, 3, 4, 5]\n",
        "\n",
        "reversed_list = numbers[ : : -1]  #Slicing\n",
        "\n",
        "print(\"Original List: \", numbers)\n",
        "print(\"Reversed List: \", reversed_list)"
      ],
      "metadata": {
        "colab": {
          "base_uri": "https://localhost:8080/"
        },
        "id": "6XI7AiynOvt8",
        "outputId": "ce6402d8-a713-4a41-f038-ba220857bfe4"
      },
      "execution_count": null,
      "outputs": [
        {
          "output_type": "stream",
          "name": "stdout",
          "text": [
            "Original List:  [1, 2, 3, 4, 5]\n",
            "Reversed List:  [5, 4, 3, 2, 1]\n"
          ]
        }
      ]
    },
    {
      "cell_type": "markdown",
      "source": [
        "# 4️⃣ Mini Project — Student Report Card (List Upgrade)\n",
        "Extend your Student Report Card CLI from Day 6:\n",
        "- Store each student’s record as a list: [name, marks, total, percentage, grade].\n",
        "- Keep a master list of all students.\n",
        "- At the end, loop through this list to print a summary report (students passed/failed, highest scorer, etc.).\n"
      ],
      "metadata": {
        "id": "6MAPC3lLQLsB"
      }
    },
    {
      "cell_type": "code",
      "source": [
        "import csv\n",
        "\n",
        "print(\"----- Student Report Card (List Upgrade) -----\")\n",
        "\n",
        "# Master list to store all student records\n",
        "students = []\n",
        "\n",
        "# Ask how many students to enter\n",
        "num_students = int(input(\"Enter number of students: \"))\n",
        "\n",
        "for i in range(num_students):\n",
        "    print(f\"\\n--- Enter details for Student {i+1} ---\")\n",
        "    name = input(\"Enter Student Name: \")\n",
        "\n",
        "    # Input marks\n",
        "    marks = []\n",
        "    subjects = [\"Math\", \"Science\", \"English\", \"Social\", \"Computer\"]\n",
        "\n",
        "    for subject in subjects:\n",
        "        score = int(input(f\"{subject}: \"))\n",
        "        marks.append(score)\n",
        "\n",
        "    total = sum(marks)\n",
        "    percentage = total / len(marks)\n",
        "\n",
        "    # Grade Calculation\n",
        "    if any(m < 40 for m in marks):\n",
        "        grade = \"F\"\n",
        "    elif percentage >= 90:\n",
        "        grade = \"A+\"\n",
        "    elif percentage >= 75:\n",
        "        grade = \"A\"\n",
        "    elif percentage >= 60:\n",
        "        grade = \"B\"\n",
        "    elif percentage >= 40:\n",
        "        grade = \"C\"\n",
        "    else:\n",
        "        grade = \"F\"\n",
        "\n",
        "    # Store student record as a list\n",
        "    student_record = [name, marks, total, round(percentage, 2), grade]\n",
        "    students.append(student_record)\n",
        "\n",
        "# Write all student data to CSV\n",
        "with open(\"reports.csv\", \"w\", newline=\"\") as file:\n",
        "    writer = csv.writer(file)\n",
        "    writer.writerow([\"Name\", \"Marks\", \"Total\", \"Percentage\", \"Grade\"])\n",
        "    writer.writerows(students)\n",
        "\n",
        "# Summary Report\n",
        "print(\"\\n----- Summary Report -----\")\n",
        "print(f\"Total Students: {len(students)}\")\n",
        "\n",
        "passed = sum(1 for s in students if s[-1] != \"F\")\n",
        "failed = len(students) - passed\n",
        "print(f\"Passed: {passed}\")\n",
        "print(f\"Failed: {failed}\")\n",
        "\n",
        "# Highest scorer\n",
        "highest = max(students, key=lambda x: x[2])\n",
        "print(f\"Topper: {highest[0]} with {highest[2]} marks ({highest[-1]})\")\n",
        "\n",
        "print(\"\\nAll records saved to reports.csv ✅\")\n"
      ],
      "metadata": {
        "colab": {
          "base_uri": "https://localhost:8080/"
        },
        "id": "PrBlhhDYSYkz",
        "outputId": "50dfd2b9-4e83-48f3-ba28-93de649813e7"
      },
      "execution_count": null,
      "outputs": [
        {
          "output_type": "stream",
          "name": "stdout",
          "text": [
            "----- Student Report Card (List Upgrade) -----\n",
            "Enter number of students: 2\n",
            "\n",
            "--- Enter details for Student 1 ---\n",
            "Enter Student Name: Mainuddin\n",
            "Math: 54\n",
            "Science: 78\n",
            "English: 97\n",
            "Social: 567\n",
            "Computer: 78\n",
            "\n",
            "--- Enter details for Student 2 ---\n",
            "Enter Student Name: 78\n",
            "Math: 54\n",
            "Science: 45\n",
            "English: 45\n",
            "Social: 75\n",
            "Computer: 75\n",
            "\n",
            "----- Summary Report -----\n",
            "Total Students: 2\n",
            "Passed: 2\n",
            "Failed: 0\n",
            "Topper: Mainuddin with 874 marks (A+)\n",
            "\n",
            "All records saved to reports.csv ✅\n"
          ]
        }
      ]
    }
  ]
}